{
 "cells": [
  {
   "cell_type": "code",
   "execution_count": null,
   "id": "06a0cacf",
   "metadata": {},
   "outputs": [],
   "source": [
    "import os\n",
    "import sys\n",
    "import pandas as pd\n",
    "from pts_merge import merge_csv_files, merge_csv_files_from_multiple_folders"
   ]
  },
  {
   "cell_type": "code",
   "execution_count": null,
   "id": "cf1df642",
   "metadata": {},
   "outputs": [],
   "source": [
    "mergables_df = pd.DataFrame(columns=[\"year\", \"path\"])\n",
    "\n",
    "for year in range(2019, 2025):\n",
    "    yr = []\n",
    "\n",
    "    for i in range(1, 7):\n",
    "\n",
    "        yr.append(f\"E:/GoogleDrive/Samarra_reduced_{year}_chunk_{i}\")\n",
    "\n",
    "        # FIXES \n",
    "        if year == 2022 and i == 4:\n",
    "            yr.append(f\"E:/GoogleDrive/Samarra_reduced_2022_chunk_2022_fixed_asset104\")\n",
    "\n",
    "        if year == 2022 and i == 2:\n",
    "            yr.append(f\"E:/GoogleDrive/Samarra_reduced_2022_chunk_2024_fixed_asset102\")\n",
    "\n",
    "    mergables_df = pd.concat(\n",
    "        [mergables_df, pd.DataFrame({\"year\": [year], \"path\": [yr]})],\n",
    "        ignore_index=True,\n",
    "    )\n",
    "\n",
    "mergables_df"
   ]
  },
  {
   "cell_type": "code",
   "execution_count": null,
   "id": "302c8914",
   "metadata": {},
   "outputs": [],
   "source": [
    "# mergables_df = mergables_df[mergables_df[\"year\"] == 2022] # set year specifically (if needed to recalculate)\n",
    "\n",
    "for i in range(len(mergables_df)):\n",
    "    year = mergables_df.iloc[i][\"year\"]\n",
    "    paths = mergables_df.iloc[i][\"path\"]\n",
    "\n",
    "    print(f\"Processing year {year}...\")\n",
    "    print(f\"Paths: {paths}\")\n",
    "    merge_csv_files_from_multiple_folders(paths, f\"data/{year}.csv\", flag_mean_nan=True)\n",
    "\n",
    "# mergables_df[\"yaer\"] == 2022"
   ]
  }
 ],
 "metadata": {
  "kernelspec": {
   "display_name": "gee",
   "language": "python",
   "name": "python3"
  },
  "language_info": {
   "codemirror_mode": {
    "name": "ipython",
    "version": 3
   },
   "file_extension": ".py",
   "mimetype": "text/x-python",
   "name": "python",
   "nbconvert_exporter": "python",
   "pygments_lexer": "ipython3",
   "version": "3.8.20"
  }
 },
 "nbformat": 4,
 "nbformat_minor": 5
}
