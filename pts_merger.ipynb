{
 "cells": [
  {
   "cell_type": "code",
   "execution_count": 1,
   "id": "06a0cacf",
   "metadata": {},
   "outputs": [],
   "source": [
    "import os\n",
    "import sys\n",
    "import pandas as pd\n",
    "from pts_merge import merge_csv_files, merge_csv_files_from_multiple_folders"
   ]
  },
  {
   "cell_type": "code",
   "execution_count": 10,
   "id": "cf1df642",
   "metadata": {},
   "outputs": [
    {
     "data": {
      "text/html": [
       "<div>\n",
       "<style scoped>\n",
       "    .dataframe tbody tr th:only-of-type {\n",
       "        vertical-align: middle;\n",
       "    }\n",
       "\n",
       "    .dataframe tbody tr th {\n",
       "        vertical-align: top;\n",
       "    }\n",
       "\n",
       "    .dataframe thead th {\n",
       "        text-align: right;\n",
       "    }\n",
       "</style>\n",
       "<table border=\"1\" class=\"dataframe\">\n",
       "  <thead>\n",
       "    <tr style=\"text-align: right;\">\n",
       "      <th></th>\n",
       "      <th>year</th>\n",
       "      <th>path</th>\n",
       "    </tr>\n",
       "  </thead>\n",
       "  <tbody>\n",
       "    <tr>\n",
       "      <th>0</th>\n",
       "      <td>2024</td>\n",
       "      <td>[E:/GoogleDrive/Samarra_reduced_2024_chunk_1, ...</td>\n",
       "    </tr>\n",
       "  </tbody>\n",
       "</table>\n",
       "</div>"
      ],
      "text/plain": [
       "   year                                               path\n",
       "0  2024  [E:/GoogleDrive/Samarra_reduced_2024_chunk_1, ..."
      ]
     },
     "execution_count": 10,
     "metadata": {},
     "output_type": "execute_result"
    }
   ],
   "source": [
    "mergables_df = pd.DataFrame(columns=[\"year\", \"path\"])\n",
    "\n",
    "for year in range(2024, 2025):\n",
    "    yr = []\n",
    "\n",
    "    for i in range(1, 7):\n",
    "\n",
    "        # TODO: i <= 3 regenerate only for 2024 \n",
    "        # TODO: regenerate 2022 tile 4 \n",
    "        # if year == 2024 and i <= 3:\n",
    "        #     continue\n",
    "        yr.append(f\"E:/GoogleDrive/Samarra_reduced_{year}_chunk_{i}\")\n",
    "\n",
    "    mergables_df = pd.concat(\n",
    "        [mergables_df, pd.DataFrame({\"year\": [year], \"path\": [yr]})],\n",
    "        ignore_index=True,\n",
    "    )\n",
    "\n",
    "mergables_df"
   ]
  },
  {
   "cell_type": "code",
   "execution_count": 11,
   "id": "62177d51",
   "metadata": {},
   "outputs": [
    {
     "data": {
      "text/plain": [
       "6"
      ]
     },
     "execution_count": 11,
     "metadata": {},
     "output_type": "execute_result"
    }
   ],
   "source": [
    "len(mergables_df['path'][0])\n"
   ]
  },
  {
   "cell_type": "code",
   "execution_count": 12,
   "id": "302c8914",
   "metadata": {},
   "outputs": [
    {
     "name": "stdout",
     "output_type": "stream",
     "text": [
      "Processing year 2024...\n"
     ]
    }
   ],
   "source": [
    "mergables_df = mergables_df[mergables_df[\"year\"] >= 2024]\n",
    "\n",
    "for i in range(len(mergables_df)):\n",
    "    year = mergables_df.iloc[i][\"year\"]\n",
    "    paths = mergables_df.iloc[i][\"path\"]\n",
    "\n",
    "    print(f\"Processing year {year}...\")\n",
    "    merge_csv_files_from_multiple_folders(paths, f\"data/{year}.csv\")\n",
    "\n",
    "# mergables_df[\"yaer\"] == 2022"
   ]
  }
 ],
 "metadata": {
  "kernelspec": {
   "display_name": "gee",
   "language": "python",
   "name": "python3"
  },
  "language_info": {
   "codemirror_mode": {
    "name": "ipython",
    "version": 3
   },
   "file_extension": ".py",
   "mimetype": "text/x-python",
   "name": "python",
   "nbconvert_exporter": "python",
   "pygments_lexer": "ipython3",
   "version": "3.8.20"
  }
 },
 "nbformat": 4,
 "nbformat_minor": 5
}
