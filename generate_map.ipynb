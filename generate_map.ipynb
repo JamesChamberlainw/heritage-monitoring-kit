{
 "cells": [
  {
   "cell_type": "code",
   "execution_count": 1,
   "id": "55fa7315",
   "metadata": {},
   "outputs": [],
   "source": [
    "import os\n",
    "import json\n",
    "import fiona\n",
    "import geemap\n",
    "import numpy as np\n",
    "import pandas as pd\n",
    "import geopandas as gpd\n",
    "import xml.etree.ElementTree as ET\n",
    "\n",
    "from collections import Counter\n",
    "\n",
    "from shapely.geometry import shape\n",
    "from shapely.geometry import Point\n",
    "\n",
    "# Gee and EE \n",
    "import ee\n",
    "\n",
    "# Clustering (best for testing** due to speed)\n",
    "from sklearn.cluster import KMeans\n",
    "\n",
    "# tif file creation\n",
    "import rasterio\n",
    "from rasterio.transform import from_origin\n",
    "from rasterio.features import rasterize\n",
    "\n",
    "# Plotting and Vis \n",
    "import seaborn as sns\n",
    "import matplotlib.pyplot as plt\n",
    "from mpl_toolkits.mplot3d import Axes3D\n",
    "from matplotlib import cm\n",
    "\n",
    "import re"
   ]
  },
  {
   "cell_type": "code",
   "execution_count": 2,
   "id": "6937ae28",
   "metadata": {},
   "outputs": [
    {
     "data": {
      "text/html": [
       "\n",
       "            <style>\n",
       "                .geemap-dark {\n",
       "                    --jp-widgets-color: white;\n",
       "                    --jp-widgets-label-color: white;\n",
       "                    --jp-ui-font-color1: white;\n",
       "                    --jp-layout-color2: #454545;\n",
       "                    background-color: #383838;\n",
       "                }\n",
       "\n",
       "                .geemap-dark .jupyter-button {\n",
       "                    --jp-layout-color3: #383838;\n",
       "                }\n",
       "\n",
       "                .geemap-colab {\n",
       "                    background-color: var(--colab-primary-surface-color, white);\n",
       "                }\n",
       "\n",
       "                .geemap-colab .jupyter-button {\n",
       "                    --jp-layout-color3: var(--colab-primary-surface-color, white);\n",
       "                }\n",
       "            </style>\n",
       "            "
      ],
      "text/plain": [
       "<IPython.core.display.HTML object>"
      ]
     },
     "metadata": {},
     "output_type": "display_data"
    }
   ],
   "source": [
    "# Initialise\n",
    "ee.Authenticate()\n",
    "ee.Initialize(project=\"jameswilliamchamberlain\")"
   ]
  },
  {
   "cell_type": "code",
   "execution_count": 3,
   "id": "b6c51023",
   "metadata": {},
   "outputs": [
    {
     "data": {
      "text/html": [
       "\n",
       "            <style>\n",
       "                .geemap-dark {\n",
       "                    --jp-widgets-color: white;\n",
       "                    --jp-widgets-label-color: white;\n",
       "                    --jp-ui-font-color1: white;\n",
       "                    --jp-layout-color2: #454545;\n",
       "                    background-color: #383838;\n",
       "                }\n",
       "\n",
       "                .geemap-dark .jupyter-button {\n",
       "                    --jp-layout-color3: #383838;\n",
       "                }\n",
       "\n",
       "                .geemap-colab {\n",
       "                    background-color: var(--colab-primary-surface-color, white);\n",
       "                }\n",
       "\n",
       "                .geemap-colab .jupyter-button {\n",
       "                    --jp-layout-color3: var(--colab-primary-surface-color, white);\n",
       "                }\n",
       "            </style>\n",
       "            "
      ],
      "text/plain": [
       "<IPython.core.display.HTML object>"
      ]
     },
     "metadata": {},
     "output_type": "display_data"
    }
   ],
   "source": [
    "# basemap \n",
    "basemap_url = 'https://mt1.google.com/vt/lyrs=y&x={x}&y={y}&z={z}'\n",
    "\n",
    "# centeral point of Samarra \n",
    "df_sites = pd.DataFrame({\n",
    "    \"longitude\": [43.823543],\n",
    "    \"latitude\": [34.340989],\n",
    "    \"name\": [\"Samarra Archaeological City\"],\n",
    "    \"category\": [\"Cultural\"],\n",
    "    \"date inscribed\": [\"2007\"],\n",
    "    \"region\": [\"Arab States\"],\n",
    "    \"url\": [\"https://whc.unesco.org/en/list/276\"],\n",
    "    \"iso\": [[\"IQ\"]]\n",
    "})\n",
    "\n",
    "# Chunks of Samarra Archaeological City \n",
    "with fiona.open(\"chunks_new.shp\") as src:\n",
    "    chunks = gpd.GeoDataFrame.from_features(src, crs=src.crs)"
   ]
  },
  {
   "cell_type": "code",
   "execution_count": null,
   "id": "8c65ec00",
   "metadata": {},
   "outputs": [],
   "source": []
  },
  {
   "cell_type": "code",
   "execution_count": 4,
   "id": "8732864f",
   "metadata": {},
   "outputs": [
    {
     "data": {
      "text/html": [
       "\n",
       "            <style>\n",
       "                .geemap-dark {\n",
       "                    --jp-widgets-color: white;\n",
       "                    --jp-widgets-label-color: white;\n",
       "                    --jp-ui-font-color1: white;\n",
       "                    --jp-layout-color2: #454545;\n",
       "                    background-color: #383838;\n",
       "                }\n",
       "\n",
       "                .geemap-dark .jupyter-button {\n",
       "                    --jp-layout-color3: #383838;\n",
       "                }\n",
       "\n",
       "                .geemap-colab {\n",
       "                    background-color: var(--colab-primary-surface-color, white);\n",
       "                }\n",
       "\n",
       "                .geemap-colab .jupyter-button {\n",
       "                    --jp-layout-color3: var(--colab-primary-surface-color, white);\n",
       "                }\n",
       "            </style>\n",
       "            "
      ],
      "text/plain": [
       "<IPython.core.display.HTML object>"
      ]
     },
     "metadata": {},
     "output_type": "display_data"
    }
   ],
   "source": [
    "## TEMP REMOVE ADDITIONAL STUFF FOR QUICKER TESTING \n",
    "# tile_43641125_34108721_43915744_34336837 only \n",
    "\n",
    "chunks = chunks[chunks['file_name'] == 'tile_43641125_34108721_43915744_34336837']"
   ]
  },
  {
   "cell_type": "code",
   "execution_count": 5,
   "id": "7a2d815c",
   "metadata": {},
   "outputs": [
    {
     "data": {
      "text/html": [
       "\n",
       "            <style>\n",
       "                .geemap-dark {\n",
       "                    --jp-widgets-color: white;\n",
       "                    --jp-widgets-label-color: white;\n",
       "                    --jp-ui-font-color1: white;\n",
       "                    --jp-layout-color2: #454545;\n",
       "                    background-color: #383838;\n",
       "                }\n",
       "\n",
       "                .geemap-dark .jupyter-button {\n",
       "                    --jp-layout-color3: #383838;\n",
       "                }\n",
       "\n",
       "                .geemap-colab {\n",
       "                    background-color: var(--colab-primary-surface-color, white);\n",
       "                }\n",
       "\n",
       "                .geemap-colab .jupyter-button {\n",
       "                    --jp-layout-color3: var(--colab-primary-surface-color, white);\n",
       "                }\n",
       "            </style>\n",
       "            "
      ],
      "text/plain": [
       "<IPython.core.display.HTML object>"
      ]
     },
     "metadata": {},
     "output_type": "display_data"
    },
    {
     "data": {
      "application/vnd.jupyter.widget-view+json": {
       "model_id": "a7cd4024fea24fef8298b64b9bf0d122",
       "version_major": 2,
       "version_minor": 0
      },
      "text/plain": [
       "Map(center=[34.340989, 43.823543], controls=(WidgetControl(options=['position', 'transparent_bg'], widget=Sear…"
      ]
     },
     "execution_count": 5,
     "metadata": {},
     "output_type": "execute_result"
    }
   ],
   "source": [
    "m = geemap.Map()\n",
    "\n",
    "if df_sites.empty:\n",
    "    print(\"No sites found for the specified URL.\")\n",
    "else:\n",
    "    m.add_points_from_xy(df_sites, x=\"longitude\", y=\"latitude\", layer_name=\"Sites\")\n",
    "    center_points = df_sites[['longitude', 'latitude']].mean().values\n",
    "    m.setCenter(center_points[0], center_points[1], 10)\n",
    "\n",
    "m.add_basemap(basemap_url, name=\"Google Satellite\", attribution=\"Google\")\n",
    "\n",
    "# add chunks from aoi \n",
    "m.add_gdf(chunks, layer_name=\"AOI\", style={\"color\": \"red\", \"fillColor\": \"red\", \"fillOpacity\": 0.1})\n",
    "\n",
    "m"
   ]
  },
  {
   "cell_type": "code",
   "execution_count": 6,
   "id": "13096b35",
   "metadata": {},
   "outputs": [
    {
     "data": {
      "text/html": [
       "\n",
       "            <style>\n",
       "                .geemap-dark {\n",
       "                    --jp-widgets-color: white;\n",
       "                    --jp-widgets-label-color: white;\n",
       "                    --jp-ui-font-color1: white;\n",
       "                    --jp-layout-color2: #454545;\n",
       "                    background-color: #383838;\n",
       "                }\n",
       "\n",
       "                .geemap-dark .jupyter-button {\n",
       "                    --jp-layout-color3: #383838;\n",
       "                }\n",
       "\n",
       "                .geemap-colab {\n",
       "                    background-color: var(--colab-primary-surface-color, white);\n",
       "                }\n",
       "\n",
       "                .geemap-colab .jupyter-button {\n",
       "                    --jp-layout-color3: var(--colab-primary-surface-color, white);\n",
       "                }\n",
       "            </style>\n",
       "            "
      ],
      "text/plain": [
       "<IPython.core.display.HTML object>"
      ]
     },
     "metadata": {},
     "output_type": "display_data"
    }
   ],
   "source": [
    "def create_subregions(chunks, sift_percentage_lon=0.5, sift_percentage_lat=0.415):\n",
    "    \"\"\"\n",
    "        Shifts all polygons to 8 positions based on half the length in longitude and latitude, to create subregions - one for each direction from the center.\n",
    "\n",
    "        Assumes aoi contains all similar polygons, and are similar to a square.\n",
    "\n",
    "        Parameters:\n",
    "            aoi (GeoDataFrame): The area of interest containing geometries.\n",
    "            sift_percentage (float): Percentage of the length to shift the center point. Default is 0.5 (50%) for half the length.\n",
    "    \"\"\"\n",
    "\n",
    "    if chunks.empty:\n",
    "        return {}\n",
    "    \n",
    "    first_polygon = chunks.geometry.iloc[0]\n",
    "\n",
    "    # take top two points of the polygon and get the length between them\n",
    "    top_points = first_polygon.exterior.coords[:2]\n",
    "    length_lon = abs(top_points[0][0] - top_points[1][0])\n",
    "\n",
    "    # calculate the shift amount\n",
    "    shift_amount_lon = length_lon * sift_percentage_lon \n",
    "    shift_amount_lat = length_lon * sift_percentage_lat\n",
    "\n",
    "    shift_directions = {\n",
    "        \"left\": (-shift_amount_lon, 0),\n",
    "        \"right\": (shift_amount_lon, 0),\n",
    "        \"up\": (0, shift_amount_lat),\n",
    "        \"down\": (0, -shift_amount_lat),\n",
    "        \"top_left\": (-shift_amount_lon, shift_amount_lat),\n",
    "        \"top_right\": (shift_amount_lon, shift_amount_lat),\n",
    "        \"bottom_left\": (-shift_amount_lon, -shift_amount_lat),\n",
    "        \"bottom_right\": (shift_amount_lon, -shift_amount_lat),\n",
    "    }\n",
    "\n",
    "    subregions = []\n",
    "        \n",
    "    # Create subregions by shifting the geometries in all directions\n",
    "    for _, (dx, dy) in shift_directions.items():\n",
    "        gdf_shifted = chunks.copy()\n",
    "        gdf_shifted[\"geometry\"] = gdf_shifted[\"geometry\"].translate(dx, dy)\n",
    "        subregions.append(gdf_shifted)\n",
    "\n",
    "    # Combine all into one GeoDataFrame\n",
    "    subregions = pd.concat(subregions, ignore_index=True)\n",
    "    return gpd.GeoDataFrame(subregions, crs=chunks.crs)\n",
    "\n",
    "def clip(chunks, aoi):\n",
    "    \"\"\"\n",
    "        Clips the chunks or subregions to the area of interest (aoi).\n",
    "\n",
    "        Parameters:\n",
    "            chunks (GeoDataFrame):      The chunks or subregions to be clipped.\n",
    "            aoi (GeoDataFrame):         The area of interest (aoi) to clip the chunks against.\n",
    "    \"\"\"\n",
    "\n",
    "    # clip to aoi \n",
    "    if chunks.empty or aoi.empty:\n",
    "        return gpd.GeoDataFrame(columns=chunks.columns.tolist(), crs=chunks.crs)\n",
    "    clipped = gpd.clip(chunks, aoi)\n",
    "    clipped = clipped[clipped.geometry.notnull()]  # Remove any null geometries\n",
    "\n",
    "    return clipped.reset_index(drop=True)\n",
    "\n",
    "subregions = create_subregions(chunks)\n",
    "subregions = clip(subregions, aoi=chunks.dissolve())\n",
    "\n",
    "# plot as one \n",
    "m.add_gdf(subregions, layer_name=\"Subregions\", style={\"color\": \"blue\", \"fillColor\": \"blue\", \"fillOpacity\": 0.1})"
   ]
  },
  {
   "cell_type": "markdown",
   "id": "1721056f",
   "metadata": {},
   "source": [
    "# Reference Points"
   ]
  },
  {
   "cell_type": "code",
   "execution_count": 7,
   "id": "c7d2ba52",
   "metadata": {},
   "outputs": [
    {
     "data": {
      "text/html": [
       "\n",
       "            <style>\n",
       "                .geemap-dark {\n",
       "                    --jp-widgets-color: white;\n",
       "                    --jp-widgets-label-color: white;\n",
       "                    --jp-ui-font-color1: white;\n",
       "                    --jp-layout-color2: #454545;\n",
       "                    background-color: #383838;\n",
       "                }\n",
       "\n",
       "                .geemap-dark .jupyter-button {\n",
       "                    --jp-layout-color3: #383838;\n",
       "                }\n",
       "\n",
       "                .geemap-colab {\n",
       "                    background-color: var(--colab-primary-surface-color, white);\n",
       "                }\n",
       "\n",
       "                .geemap-colab .jupyter-button {\n",
       "                    --jp-layout-color3: var(--colab-primary-surface-color, white);\n",
       "                }\n",
       "            </style>\n",
       "            "
      ],
      "text/plain": [
       "<IPython.core.display.HTML object>"
      ]
     },
     "metadata": {},
     "output_type": "display_data"
    }
   ],
   "source": [
    "def collect_points_from_geemap(map_obj, label):\n",
    "    \"\"\"\n",
    "    Collect all drawn point features from a geemap.Map that uses ee.Feature objects,\n",
    "    and return them as a GeoDataFrame with a label.\n",
    "\n",
    "    Parameters:\n",
    "        map_obj (geemap.Map): The interactive map.\n",
    "        label (str): Label to assign to all collected points.\n",
    "\n",
    "    Returns:\n",
    "        GeoDataFrame: With geometry and 'label' columns.\n",
    "    \"\"\"\n",
    "\n",
    "    features = map_obj.draw_features\n",
    "\n",
    "    if not features:\n",
    "        return gpd.GeoDataFrame(columns=[\"geometry\", \"label\"], geometry=\"geometry\")\n",
    "\n",
    "    points = []\n",
    "    for f in features:\n",
    "        try:\n",
    "            geom = f.geometry()  # call the method\n",
    "            if geom.getInfo()[\"type\"] == \"Point\":\n",
    "                coords = geom.coordinates().getInfo()  # [lon, lat]\n",
    "                points.append(Point(coords))\n",
    "        except Exception as e:\n",
    "            print(\"Skipping feature due to error:\", e)\n",
    "\n",
    "    if not points:\n",
    "        return gpd.GeoDataFrame(columns=[\"geometry\", \"label\"], geometry=\"geometry\")\n",
    "\n",
    "    gdf = gpd.GeoDataFrame(geometry=points)\n",
    "    gdf[\"label\"] = label\n",
    "    gdf.set_crs(\"EPSG:4326\", inplace=True)\n",
    "    return gdf\n",
    "\n",
    "def gen_basemap(basemap_url=None, aoi=gpd.GeoDataFrame(), polygons=None):\n",
    "    \"\"\"\n",
    "        Generates a basemap with the specified URL and adds polygons if provided.\n",
    "\n",
    "        Parameters:\n",
    "            basemap_url (str): The URL of the basemap to be used.\n",
    "            polygons (GeoDataFrame, optional): Polygons to be added to the map. Defaults to None.\n",
    "            aoi (GeoDataFrame): The area of interest to be displayed on the map. (can be a set of polygons or a single polygon)\n",
    "        \n",
    "        Returns:\n",
    "            geemap.Map: A geemap map object with the specified basemap and polygons.\n",
    "    \"\"\"\n",
    "    m = geemap.Map()\n",
    "\n",
    "    if not basemap_url:\n",
    "        basemap_url = 'https://mt1.google.com/vt/lyrs=y&x={x}&y={y}&z={z}'\n",
    "        \n",
    "    m.add_basemap(basemap_url, name=\"Google Satellite\", attribution=\"Google\")\n",
    "\n",
    "    # center on aoi\n",
    "    if not aoi.empty:\n",
    "        m.add_gdf(aoi, layer_name=\"AOI\", style={\"color\": \"red\", \"fillColor\": \"red\", \"fillOpacity\": 0.1})\n",
    "        center_points = aoi.geometry.unary_union.centroid.coords[0]\n",
    "        m.setCenter(center_points[0], center_points[1], 10)\n",
    "    \n",
    "    if polygons is not None:\n",
    "        m.add_gdf(polygons, layer_name=\"Polygons\", style={\"color\": \"red\", \"fillColor\": \"red\", \"fillOpacity\": 0.1})\n",
    "    \n",
    "    return m"
   ]
  },
  {
   "cell_type": "code",
   "execution_count": 8,
   "id": "879236a7",
   "metadata": {},
   "outputs": [
    {
     "data": {
      "text/html": [
       "\n",
       "            <style>\n",
       "                .geemap-dark {\n",
       "                    --jp-widgets-color: white;\n",
       "                    --jp-widgets-label-color: white;\n",
       "                    --jp-ui-font-color1: white;\n",
       "                    --jp-layout-color2: #454545;\n",
       "                    background-color: #383838;\n",
       "                }\n",
       "\n",
       "                .geemap-dark .jupyter-button {\n",
       "                    --jp-layout-color3: #383838;\n",
       "                }\n",
       "\n",
       "                .geemap-colab {\n",
       "                    background-color: var(--colab-primary-surface-color, white);\n",
       "                }\n",
       "\n",
       "                .geemap-colab .jupyter-button {\n",
       "                    --jp-layout-color3: var(--colab-primary-surface-color, white);\n",
       "                }\n",
       "            </style>\n",
       "            "
      ],
      "text/plain": [
       "<IPython.core.display.HTML object>"
      ]
     },
     "metadata": {},
     "output_type": "display_data"
    }
   ],
   "source": [
    "# Example of 3 maps for urban, agricultrual, water and waste\n",
    "urban_map = gen_basemap(basemap_url, aoi=chunks)\n",
    "agricultural_map = gen_basemap(basemap_url, aoi=chunks)\n",
    "water_map = gen_basemap(basemap_url, aoi=chunks)\n",
    "wasteland_map = gen_basemap(basemap_url, aoi=chunks)\n",
    "# wasteland_map = geemap.Map()"
   ]
  },
  {
   "cell_type": "code",
   "execution_count": 9,
   "id": "fa3c916a",
   "metadata": {},
   "outputs": [
    {
     "data": {
      "text/html": [
       "\n",
       "            <style>\n",
       "                .geemap-dark {\n",
       "                    --jp-widgets-color: white;\n",
       "                    --jp-widgets-label-color: white;\n",
       "                    --jp-ui-font-color1: white;\n",
       "                    --jp-layout-color2: #454545;\n",
       "                    background-color: #383838;\n",
       "                }\n",
       "\n",
       "                .geemap-dark .jupyter-button {\n",
       "                    --jp-layout-color3: #383838;\n",
       "                }\n",
       "\n",
       "                .geemap-colab {\n",
       "                    background-color: var(--colab-primary-surface-color, white);\n",
       "                }\n",
       "\n",
       "                .geemap-colab .jupyter-button {\n",
       "                    --jp-layout-color3: var(--colab-primary-surface-color, white);\n",
       "                }\n",
       "            </style>\n",
       "            "
      ],
      "text/plain": [
       "<IPython.core.display.HTML object>"
      ]
     },
     "metadata": {},
     "output_type": "display_data"
    },
    {
     "data": {
      "application/vnd.jupyter.widget-view+json": {
       "model_id": "cd17b0d59c3a444fb60b005914723422",
       "version_major": 2,
       "version_minor": 0
      },
      "text/plain": [
       "Map(center=[34.22277923307027, 43.77843455433748], controls=(WidgetControl(options=['position', 'transparent_b…"
      ]
     },
     "execution_count": 9,
     "metadata": {},
     "output_type": "execute_result"
    }
   ],
   "source": [
    "urban_map"
   ]
  },
  {
   "cell_type": "code",
   "execution_count": 10,
   "id": "5ddb6019",
   "metadata": {},
   "outputs": [
    {
     "data": {
      "text/html": [
       "\n",
       "            <style>\n",
       "                .geemap-dark {\n",
       "                    --jp-widgets-color: white;\n",
       "                    --jp-widgets-label-color: white;\n",
       "                    --jp-ui-font-color1: white;\n",
       "                    --jp-layout-color2: #454545;\n",
       "                    background-color: #383838;\n",
       "                }\n",
       "\n",
       "                .geemap-dark .jupyter-button {\n",
       "                    --jp-layout-color3: #383838;\n",
       "                }\n",
       "\n",
       "                .geemap-colab {\n",
       "                    background-color: var(--colab-primary-surface-color, white);\n",
       "                }\n",
       "\n",
       "                .geemap-colab .jupyter-button {\n",
       "                    --jp-layout-color3: var(--colab-primary-surface-color, white);\n",
       "                }\n",
       "            </style>\n",
       "            "
      ],
      "text/plain": [
       "<IPython.core.display.HTML object>"
      ]
     },
     "metadata": {},
     "output_type": "display_data"
    },
    {
     "data": {
      "application/vnd.jupyter.widget-view+json": {
       "model_id": "49d0d9d7296d49b4a8650e97a9c88022",
       "version_major": 2,
       "version_minor": 0
      },
      "text/plain": [
       "Map(center=[34.22277923307027, 43.77843455433748], controls=(WidgetControl(options=['position', 'transparent_b…"
      ]
     },
     "execution_count": 10,
     "metadata": {},
     "output_type": "execute_result"
    }
   ],
   "source": [
    "agricultural_map"
   ]
  },
  {
   "cell_type": "code",
   "execution_count": 11,
   "id": "c1fa3497",
   "metadata": {},
   "outputs": [
    {
     "data": {
      "text/html": [
       "\n",
       "            <style>\n",
       "                .geemap-dark {\n",
       "                    --jp-widgets-color: white;\n",
       "                    --jp-widgets-label-color: white;\n",
       "                    --jp-ui-font-color1: white;\n",
       "                    --jp-layout-color2: #454545;\n",
       "                    background-color: #383838;\n",
       "                }\n",
       "\n",
       "                .geemap-dark .jupyter-button {\n",
       "                    --jp-layout-color3: #383838;\n",
       "                }\n",
       "\n",
       "                .geemap-colab {\n",
       "                    background-color: var(--colab-primary-surface-color, white);\n",
       "                }\n",
       "\n",
       "                .geemap-colab .jupyter-button {\n",
       "                    --jp-layout-color3: var(--colab-primary-surface-color, white);\n",
       "                }\n",
       "            </style>\n",
       "            "
      ],
      "text/plain": [
       "<IPython.core.display.HTML object>"
      ]
     },
     "metadata": {},
     "output_type": "display_data"
    },
    {
     "data": {
      "application/vnd.jupyter.widget-view+json": {
       "model_id": "424e5c7a2c9d4cf3b6006126afc8f8e1",
       "version_major": 2,
       "version_minor": 0
      },
      "text/plain": [
       "Map(center=[34.22277923307027, 43.77843455433748], controls=(WidgetControl(options=['position', 'transparent_b…"
      ]
     },
     "execution_count": 11,
     "metadata": {},
     "output_type": "execute_result"
    }
   ],
   "source": [
    "# water_map = water_waste_map\n",
    "water_map"
   ]
  },
  {
   "cell_type": "code",
   "execution_count": 12,
   "id": "17cc6e1c",
   "metadata": {},
   "outputs": [
    {
     "data": {
      "text/html": [
       "\n",
       "            <style>\n",
       "                .geemap-dark {\n",
       "                    --jp-widgets-color: white;\n",
       "                    --jp-widgets-label-color: white;\n",
       "                    --jp-ui-font-color1: white;\n",
       "                    --jp-layout-color2: #454545;\n",
       "                    background-color: #383838;\n",
       "                }\n",
       "\n",
       "                .geemap-dark .jupyter-button {\n",
       "                    --jp-layout-color3: #383838;\n",
       "                }\n",
       "\n",
       "                .geemap-colab {\n",
       "                    background-color: var(--colab-primary-surface-color, white);\n",
       "                }\n",
       "\n",
       "                .geemap-colab .jupyter-button {\n",
       "                    --jp-layout-color3: var(--colab-primary-surface-color, white);\n",
       "                }\n",
       "            </style>\n",
       "            "
      ],
      "text/plain": [
       "<IPython.core.display.HTML object>"
      ]
     },
     "metadata": {},
     "output_type": "display_data"
    },
    {
     "data": {
      "application/vnd.jupyter.widget-view+json": {
       "model_id": "aec1b1d583004b8b9857e5436c8bdcfc",
       "version_major": 2,
       "version_minor": 0
      },
      "text/plain": [
       "Map(center=[34.22277923307027, 43.77843455433748], controls=(WidgetControl(options=['position', 'transparent_b…"
      ]
     },
     "execution_count": 12,
     "metadata": {},
     "output_type": "execute_result"
    }
   ],
   "source": [
    "wasteland_map"
   ]
  },
  {
   "cell_type": "code",
   "execution_count": 13,
   "id": "e410f94a",
   "metadata": {},
   "outputs": [
    {
     "data": {
      "text/html": [
       "\n",
       "            <style>\n",
       "                .geemap-dark {\n",
       "                    --jp-widgets-color: white;\n",
       "                    --jp-widgets-label-color: white;\n",
       "                    --jp-ui-font-color1: white;\n",
       "                    --jp-layout-color2: #454545;\n",
       "                    background-color: #383838;\n",
       "                }\n",
       "\n",
       "                .geemap-dark .jupyter-button {\n",
       "                    --jp-layout-color3: #383838;\n",
       "                }\n",
       "\n",
       "                .geemap-colab {\n",
       "                    background-color: var(--colab-primary-surface-color, white);\n",
       "                }\n",
       "\n",
       "                .geemap-colab .jupyter-button {\n",
       "                    --jp-layout-color3: var(--colab-primary-surface-color, white);\n",
       "                }\n",
       "            </style>\n",
       "            "
      ],
      "text/plain": [
       "<IPython.core.display.HTML object>"
      ]
     },
     "metadata": {},
     "output_type": "display_data"
    },
    {
     "data": {
      "application/vnd.jupyter.widget-view+json": {
       "model_id": "2292715cd870458eb41be33324133a21",
       "version_major": 2,
       "version_minor": 0
      },
      "text/plain": [
       "Map(center=[34.22282359393232, 43.778616017576226], controls=(WidgetControl(options=['position', 'transparent_…"
      ]
     },
     "execution_count": 13,
     "metadata": {},
     "output_type": "execute_result"
    }
   ],
   "source": [
    "additional_map = gen_basemap(basemap_url, aoi=chunks)\n",
    "additional_map\n"
   ]
  },
  {
   "cell_type": "code",
   "execution_count": 14,
   "id": "72279f21",
   "metadata": {},
   "outputs": [
    {
     "data": {
      "text/html": [
       "\n",
       "            <style>\n",
       "                .geemap-dark {\n",
       "                    --jp-widgets-color: white;\n",
       "                    --jp-widgets-label-color: white;\n",
       "                    --jp-ui-font-color1: white;\n",
       "                    --jp-layout-color2: #454545;\n",
       "                    background-color: #383838;\n",
       "                }\n",
       "\n",
       "                .geemap-dark .jupyter-button {\n",
       "                    --jp-layout-color3: #383838;\n",
       "                }\n",
       "\n",
       "                .geemap-colab {\n",
       "                    background-color: var(--colab-primary-surface-color, white);\n",
       "                }\n",
       "\n",
       "                .geemap-colab .jupyter-button {\n",
       "                    --jp-layout-color3: var(--colab-primary-surface-color, white);\n",
       "                }\n",
       "            </style>\n",
       "            "
      ],
      "text/plain": [
       "<IPython.core.display.HTML object>"
      ]
     },
     "metadata": {},
     "output_type": "display_data"
    },
    {
     "data": {
      "text/html": [
       "<div>\n",
       "<style scoped>\n",
       "    .dataframe tbody tr th:only-of-type {\n",
       "        vertical-align: middle;\n",
       "    }\n",
       "\n",
       "    .dataframe tbody tr th {\n",
       "        vertical-align: top;\n",
       "    }\n",
       "\n",
       "    .dataframe thead th {\n",
       "        text-align: right;\n",
       "    }\n",
       "</style>\n",
       "<table border=\"1\" class=\"dataframe\">\n",
       "  <thead>\n",
       "    <tr style=\"text-align: right;\">\n",
       "      <th></th>\n",
       "      <th>geometry</th>\n",
       "      <th>label</th>\n",
       "    </tr>\n",
       "  </thead>\n",
       "  <tbody>\n",
       "  </tbody>\n",
       "</table>\n",
       "</div>"
      ],
      "text/plain": [
       "Empty GeoDataFrame\n",
       "Columns: [geometry, label]\n",
       "Index: []"
      ]
     },
     "execution_count": 14,
     "metadata": {},
     "output_type": "execute_result"
    }
   ],
   "source": [
    "additional_points = collect_points_from_geemap(additional_map, label=\"Urban\")\n",
    "additional_points"
   ]
  },
  {
   "cell_type": "code",
   "execution_count": 15,
   "id": "09657f66",
   "metadata": {},
   "outputs": [
    {
     "data": {
      "text/html": [
       "\n",
       "            <style>\n",
       "                .geemap-dark {\n",
       "                    --jp-widgets-color: white;\n",
       "                    --jp-widgets-label-color: white;\n",
       "                    --jp-ui-font-color1: white;\n",
       "                    --jp-layout-color2: #454545;\n",
       "                    background-color: #383838;\n",
       "                }\n",
       "\n",
       "                .geemap-dark .jupyter-button {\n",
       "                    --jp-layout-color3: #383838;\n",
       "                }\n",
       "\n",
       "                .geemap-colab {\n",
       "                    background-color: var(--colab-primary-surface-color, white);\n",
       "                }\n",
       "\n",
       "                .geemap-colab .jupyter-button {\n",
       "                    --jp-layout-color3: var(--colab-primary-surface-color, white);\n",
       "                }\n",
       "            </style>\n",
       "            "
      ],
      "text/plain": [
       "<IPython.core.display.HTML object>"
      ]
     },
     "metadata": {},
     "output_type": "display_data"
    }
   ],
   "source": [
    "# convert to labelled points in GeoDataFrame\n",
    "water_points = collect_points_from_geemap(water_map, label=\"Water\")\n",
    "agricultural_points = collect_points_from_geemap(agricultural_map, label=\"Agricultural\")\n",
    "urban_points = collect_points_from_geemap(urban_map, label=\"Urban\")\n",
    "wasteland_map = collect_points_from_geemap(wasteland_map, label=\"Wasteland\")\n",
    "\n",
    "# merge into one GeoDataFrame\n",
    "points_list = [water_points, agricultural_points, urban_points, wasteland_map]\n",
    "labels = pd.concat(points_list, ignore_index=True)\n"
   ]
  },
  {
   "cell_type": "markdown",
   "id": "d4e15ae6",
   "metadata": {},
   "source": [
    "# Clustering\n",
    "Here we create a Sparse matrix\n",
    "\n",
    "then with the sparse matrix compare and label based on that"
   ]
  },
  {
   "cell_type": "code",
   "execution_count": 16,
   "id": "3bb927e7",
   "metadata": {},
   "outputs": [
    {
     "data": {
      "text/html": [
       "\n",
       "            <style>\n",
       "                .geemap-dark {\n",
       "                    --jp-widgets-color: white;\n",
       "                    --jp-widgets-label-color: white;\n",
       "                    --jp-ui-font-color1: white;\n",
       "                    --jp-layout-color2: #454545;\n",
       "                    background-color: #383838;\n",
       "                }\n",
       "\n",
       "                .geemap-dark .jupyter-button {\n",
       "                    --jp-layout-color3: #383838;\n",
       "                }\n",
       "\n",
       "                .geemap-colab {\n",
       "                    background-color: var(--colab-primary-surface-color, white);\n",
       "                }\n",
       "\n",
       "                .geemap-colab .jupyter-button {\n",
       "                    --jp-layout-color3: var(--colab-primary-surface-color, white);\n",
       "                }\n",
       "            </style>\n",
       "            "
      ],
      "text/plain": [
       "<IPython.core.display.HTML object>"
      ]
     },
     "metadata": {},
     "output_type": "display_data"
    },
    {
     "name": "stdout",
     "output_type": "stream",
     "text": [
      "Found 6 CSV files.\n"
     ]
    },
    {
     "data": {
      "text/plain": [
       "['data/2019.csv']"
      ]
     },
     "execution_count": 16,
     "metadata": {},
     "output_type": "execute_result"
    }
   ],
   "source": [
    "pth = \"data/\"\n",
    "\n",
    "# collect paths for all csv files in the folder\n",
    "paths = []\n",
    "\n",
    "for root, dirs, files in os.walk(pth):\n",
    "    for file in files:\n",
    "        if file.endswith(\".csv\"):\n",
    "            paths.append(os.path.join(root, file))\n",
    "\n",
    "print(f\"Found {len(paths)} CSV files.\")\n",
    "\n",
    "# select 2024 \n",
    "path = [p for p in paths if \"2019\" in p]\n",
    "path\n"
   ]
  },
  {
   "cell_type": "code",
   "execution_count": 17,
   "id": "35a6bd81",
   "metadata": {},
   "outputs": [
    {
     "data": {
      "text/html": [
       "\n",
       "            <style>\n",
       "                .geemap-dark {\n",
       "                    --jp-widgets-color: white;\n",
       "                    --jp-widgets-label-color: white;\n",
       "                    --jp-ui-font-color1: white;\n",
       "                    --jp-layout-color2: #454545;\n",
       "                    background-color: #383838;\n",
       "                }\n",
       "\n",
       "                .geemap-dark .jupyter-button {\n",
       "                    --jp-layout-color3: #383838;\n",
       "                }\n",
       "\n",
       "                .geemap-colab {\n",
       "                    background-color: var(--colab-primary-surface-color, white);\n",
       "                }\n",
       "\n",
       "                .geemap-colab .jupyter-button {\n",
       "                    --jp-layout-color3: var(--colab-primary-surface-color, white);\n",
       "                }\n",
       "            </style>\n",
       "            "
      ],
      "text/plain": [
       "<IPython.core.display.HTML object>"
      ]
     },
     "metadata": {},
     "output_type": "display_data"
    }
   ],
   "source": [
    "def prep_data(dir):\n",
    "    \"\"\"Creates two dataframes from a CSV file, one ready for clustering with additional columns removed and the other with all columns left intact.\"\"\"\n",
    "    df1 = pd.read_csv(dir)\n",
    "    df1 = df1.dropna()\n",
    "    df2_clear = df1.copy()\n",
    "    df2_clear = df2_clear.drop(columns=[\"system:index\", \".geo\"])\n",
    "    df2_clear = df2_clear.set_index(\"file_name\")\n",
    "    df1 = df1.set_index(\"file_name\")\n",
    "    df2_clear = df2_clear.apply(pd.to_numeric, errors='coerce')\n",
    "\n",
    "    return df1, df2_clear\n",
    "\n",
    "df1, df2_clear = prep_data(path[0])\n",
    "\n",
    "mapping = {\n",
    "            None: 0,\n",
    "            np.NaN: 0,\n",
    "            \"NaN\": 0,\n",
    "            \"None\": 0,\n",
    "            \"Water\": 1,\n",
    "            \"Agricultural\": 2,\n",
    "            \"Urban\": 3,\n",
    "            \"Wasteland\": 4,\n",
    "        }"
   ]
  },
  {
   "cell_type": "code",
   "execution_count": 18,
   "id": "535a9636",
   "metadata": {},
   "outputs": [
    {
     "data": {
      "text/html": [
       "\n",
       "            <style>\n",
       "                .geemap-dark {\n",
       "                    --jp-widgets-color: white;\n",
       "                    --jp-widgets-label-color: white;\n",
       "                    --jp-ui-font-color1: white;\n",
       "                    --jp-layout-color2: #454545;\n",
       "                    background-color: #383838;\n",
       "                }\n",
       "\n",
       "                .geemap-dark .jupyter-button {\n",
       "                    --jp-layout-color3: #383838;\n",
       "                }\n",
       "\n",
       "                .geemap-colab {\n",
       "                    background-color: var(--colab-primary-surface-color, white);\n",
       "                }\n",
       "\n",
       "                .geemap-colab .jupyter-button {\n",
       "                    --jp-layout-color3: var(--colab-primary-surface-color, white);\n",
       "                }\n",
       "            </style>\n",
       "            "
      ],
      "text/plain": [
       "<IPython.core.display.HTML object>"
      ]
     },
     "metadata": {},
     "output_type": "display_data"
    }
   ],
   "source": [
    "import cluster as cl \n",
    "from cluster import kmeans_clustering"
   ]
  },
  {
   "cell_type": "code",
   "execution_count": 19,
   "id": "6bf5374a",
   "metadata": {},
   "outputs": [
    {
     "data": {
      "text/html": [
       "\n",
       "            <style>\n",
       "                .geemap-dark {\n",
       "                    --jp-widgets-color: white;\n",
       "                    --jp-widgets-label-color: white;\n",
       "                    --jp-ui-font-color1: white;\n",
       "                    --jp-layout-color2: #454545;\n",
       "                    background-color: #383838;\n",
       "                }\n",
       "\n",
       "                .geemap-dark .jupyter-button {\n",
       "                    --jp-layout-color3: #383838;\n",
       "                }\n",
       "\n",
       "                .geemap-colab {\n",
       "                    background-color: var(--colab-primary-surface-color, white);\n",
       "                }\n",
       "\n",
       "                .geemap-colab .jupyter-button {\n",
       "                    --jp-layout-color3: var(--colab-primary-surface-color, white);\n",
       "                }\n",
       "            </style>\n",
       "            "
      ],
      "text/plain": [
       "<IPython.core.display.HTML object>"
      ]
     },
     "metadata": {},
     "output_type": "display_data"
    }
   ],
   "source": [
    "cluster = cl.Cluster(chunks, df1, points=labels, mapping=mapping, passes=6)\n",
    "cluster.reload_state(filname_prefix=\"temp_test/test3\", filename_postfix=\"_state\")"
   ]
  },
  {
   "cell_type": "code",
   "execution_count": 20,
   "id": "416caf62",
   "metadata": {},
   "outputs": [
    {
     "data": {
      "text/html": [
       "\n",
       "            <style>\n",
       "                .geemap-dark {\n",
       "                    --jp-widgets-color: white;\n",
       "                    --jp-widgets-label-color: white;\n",
       "                    --jp-ui-font-color1: white;\n",
       "                    --jp-layout-color2: #454545;\n",
       "                    background-color: #383838;\n",
       "                }\n",
       "\n",
       "                .geemap-dark .jupyter-button {\n",
       "                    --jp-layout-color3: #383838;\n",
       "                }\n",
       "\n",
       "                .geemap-colab {\n",
       "                    background-color: var(--colab-primary-surface-color, white);\n",
       "                }\n",
       "\n",
       "                .geemap-colab .jupyter-button {\n",
       "                    --jp-layout-color3: var(--colab-primary-surface-color, white);\n",
       "                }\n",
       "            </style>\n",
       "            "
      ],
      "text/plain": [
       "<IPython.core.display.HTML object>"
      ]
     },
     "metadata": {},
     "output_type": "display_data"
    }
   ],
   "source": [
    "import ee\n",
    "import geemap\n",
    "from ipyleaflet import CircleMarker\n",
    "import ipywidgets as widgets\n",
    "import pandas as pd "
   ]
  },
  {
   "cell_type": "code",
   "execution_count": 21,
   "id": "cf6e5a25",
   "metadata": {},
   "outputs": [
    {
     "data": {
      "text/html": [
       "\n",
       "            <style>\n",
       "                .geemap-dark {\n",
       "                    --jp-widgets-color: white;\n",
       "                    --jp-widgets-label-color: white;\n",
       "                    --jp-ui-font-color1: white;\n",
       "                    --jp-layout-color2: #454545;\n",
       "                    background-color: #383838;\n",
       "                }\n",
       "\n",
       "                .geemap-dark .jupyter-button {\n",
       "                    --jp-layout-color3: #383838;\n",
       "                }\n",
       "\n",
       "                .geemap-colab {\n",
       "                    background-color: var(--colab-primary-surface-color, white);\n",
       "                }\n",
       "\n",
       "                .geemap-colab .jupyter-button {\n",
       "                    --jp-layout-color3: var(--colab-primary-surface-color, white);\n",
       "                }\n",
       "            </style>\n",
       "            "
      ],
      "text/plain": [
       "<IPython.core.display.HTML object>"
      ]
     },
     "metadata": {},
     "output_type": "display_data"
    }
   ],
   "source": [
    "label_list = ['Urban', 'Agricultural', 'Water', 'Wasteland', 'Wetland', 'Other']\n",
    "date_range = [i for i in range(2019, 2025)] \n",
    "\n",
    "collection_name = \"COPERNICUS/S2_SR_HARMONIZED\"\n",
    "\n",
    "with fiona.open(\"aoi.geojson\") as src:\n",
    "    aoi = gpd.GeoDataFrame.from_features(src, crs=src.crs)\n",
    " "
   ]
  },
  {
   "cell_type": "code",
   "execution_count": 22,
   "id": "cbd160c5",
   "metadata": {},
   "outputs": [
    {
     "data": {
      "text/html": [
       "\n",
       "            <style>\n",
       "                .geemap-dark {\n",
       "                    --jp-widgets-color: white;\n",
       "                    --jp-widgets-label-color: white;\n",
       "                    --jp-ui-font-color1: white;\n",
       "                    --jp-layout-color2: #454545;\n",
       "                    background-color: #383838;\n",
       "                }\n",
       "\n",
       "                .geemap-dark .jupyter-button {\n",
       "                    --jp-layout-color3: #383838;\n",
       "                }\n",
       "\n",
       "                .geemap-colab {\n",
       "                    background-color: var(--colab-primary-surface-color, white);\n",
       "                }\n",
       "\n",
       "                .geemap-colab .jupyter-button {\n",
       "                    --jp-layout-color3: var(--colab-primary-surface-color, white);\n",
       "                }\n",
       "            </style>\n",
       "            "
      ],
      "text/plain": [
       "<IPython.core.display.HTML object>"
      ]
     },
     "metadata": {},
     "output_type": "display_data"
    }
   ],
   "source": [
    "# empty label list \n",
    "labels = gpd.GeoDataFrame(columns=[\"label\", \"geometry\", \"start_year\", \"end_year\"], geometry=\"geometry\")"
   ]
  },
  {
   "cell_type": "code",
   "execution_count": 23,
   "id": "7e247923",
   "metadata": {},
   "outputs": [
    {
     "data": {
      "text/html": [
       "\n",
       "            <style>\n",
       "                .geemap-dark {\n",
       "                    --jp-widgets-color: white;\n",
       "                    --jp-widgets-label-color: white;\n",
       "                    --jp-ui-font-color1: white;\n",
       "                    --jp-layout-color2: #454545;\n",
       "                    background-color: #383838;\n",
       "                }\n",
       "\n",
       "                .geemap-dark .jupyter-button {\n",
       "                    --jp-layout-color3: #383838;\n",
       "                }\n",
       "\n",
       "                .geemap-colab {\n",
       "                    background-color: var(--colab-primary-surface-color, white);\n",
       "                }\n",
       "\n",
       "                .geemap-colab .jupyter-button {\n",
       "                    --jp-layout-color3: var(--colab-primary-surface-color, white);\n",
       "                }\n",
       "            </style>\n",
       "            "
      ],
      "text/plain": [
       "<IPython.core.display.HTML object>"
      ]
     },
     "metadata": {},
     "output_type": "display_data"
    },
    {
     "data": {
      "application/vnd.jupyter.widget-view+json": {
       "model_id": "e2d6ed69d6d14396ba485e9f228ba387",
       "version_major": 2,
       "version_minor": 0
      },
      "text/plain": [
       "VBox(children=(HBox(children=(SelectionSlider(continuous_update=False, description='Date:', options=('2019', '…"
      ]
     },
     "metadata": {},
     "output_type": "display_data"
    },
    {
     "data": {
      "application/vnd.jupyter.widget-view+json": {
       "model_id": "20204778a4824e41b77c527a3474a27c",
       "version_major": 2,
       "version_minor": 0
      },
      "text/plain": [
       "Map(center=[34.22411402596497, 43.91430818231603], controls=(WidgetControl(options=['position', 'transparent_b…"
      ]
     },
     "execution_count": 23,
     "metadata": {},
     "output_type": "execute_result"
    }
   ],
   "source": [
    "m = geemap.Map()\n",
    "\n",
    "def map_polygon(polygon, collection_name, layer_name, yyyymmdd1=\"2024-01-01\", yyyymmdd2=\"2024-12-29\", num_tasks=10):\n",
    "\n",
    "    # Load in Year Data to Aid in Label Creation\n",
    "    collection = ee.ImageCollection(collection_name) \\\n",
    "        .filterDate(yyyymmdd1, yyyymmdd2) \\\n",
    "        .filterBounds(polygon) \\\n",
    "        .filter(ee.Filter.lt(\"CLOUDY_PIXEL_PERCENTAGE\", 20)) \\\n",
    "        .median() \\\n",
    "        .clip(polygon)\n",
    "    \n",
    "    vis = {'min': 0, 'max': 3000, 'bands': ['B4', 'B3', 'B2']}\n",
    "\n",
    "    m.addLayer(collection, vis, layer_name)\n",
    "\n",
    "    # center map on the polygon\n",
    "    coords = polygon.geometry().centroid().coordinates().getInfo()\n",
    "    m.setCenter(coords[0], coords[1], 10)\n",
    "\n",
    "label_dropdown = widgets.Dropdown(\n",
    "    options=label_list,\n",
    "    description='Label:',\n",
    "    value=label_list[0],\n",
    ")\n",
    "\n",
    "# Plots Each Year\n",
    "for year in date_range:\n",
    "    map_polygon(geemap.geopandas_to_ee(aoi), collection_name, f\"Year {year}\", yyyymmdd1=f\"{year}-01-01\", yyyymmdd2=f\"{year}-12-29\")\n",
    "\n",
    "date_slider = widgets.SelectionSlider(\n",
    "    options=[str(year) for year in range(2019, 2025)], # 2019 to 2024 for full years\n",
    "    value='2019',\n",
    "    description='Date:',\n",
    "    disabled=False,\n",
    "    continuous_update=False,\n",
    "    orientation='horizontal',\n",
    "    readout=True\n",
    ")\n",
    "\n",
    "time_frame_slider = widgets.SelectionSlider(\n",
    "    options=[str(month) for month in range(1, 13)], # default 12 as its the full year \n",
    "    value='3',\n",
    "    description='timeframe:',\n",
    "    disabled=False,\n",
    "    continuous_update=False,\n",
    "    orientation='horizontal',\n",
    "    readout=True\n",
    ")\n",
    "\n",
    "colour_dict = {\n",
    "    \"Urban\": \"blue\",\n",
    "    \"Agricultural\": \"green\",\n",
    "    \"Water\": \"cyan\",\n",
    "    \"Wasteland\": \"brown\",\n",
    "    \"Wetland\": \"lightblue\", \n",
    "} # other is grey by default\n",
    "\n",
    "def append_label_to_points(b):\n",
    "    \"\"\"Appends the selected label to the points in the labels GeoDataFrame.\"\"\"\n",
    "\n",
    "    global labels\n",
    "\n",
    "    selected_label = label_dropdown.value\n",
    "    start_year = int(date_slider.value)\n",
    "    span = int(time_frame_slider.value)\n",
    "    end_year = start_year + span - 1\n",
    "\n",
    "    # Extract drawn features (assumed to be Points)\n",
    "    all_drawn_features = m.draw_features\n",
    "    if not all_drawn_features:\n",
    "        print(\"No features drawn.\")\n",
    "        return\n",
    "    \n",
    "    points = []\n",
    "    for feature in all_drawn_features:\n",
    "        try:\n",
    "            coords = feature.geometry().coordinates().getInfo()  # [lon, lat]\n",
    "            point = Point(coords)\n",
    "            points.append(point)\n",
    "        except Exception as e:\n",
    "            print(\"Skipping feature due to error:\", e)\n",
    "\n",
    "    # create dataframe from points\n",
    "    new_labels = gpd.GeoDataFrame({\n",
    "        'label': [selected_label] * len(points),\n",
    "        'start_year': [start_year] * len(points),\n",
    "        'end_year': [end_year] * len(points),\n",
    "        'geometry': points\n",
    "    }, crs=\"EPSG:4326\")\n",
    "\n",
    "    # Clear All Drawn Features\n",
    "    m.draw_control.clear()\n",
    "\n",
    "\n",
    "    # Append to the existing labels GeoDataFrame\n",
    "    labels = pd.concat([labels, new_labels], ignore_index=True)\n",
    "    \n",
    "\n",
    "# Label Range  \n",
    "label_output = widgets.Label()\n",
    "def update_label(*args):\n",
    "    start_year = int(date_slider.value)\n",
    "    span = int(time_frame_slider.value)\n",
    "    end_year = start_year + span - 1\n",
    "    label_output.value = f\"Selected range: {start_year} to {end_year}\"\n",
    "\n",
    "date_slider.observe(update_label, names='value')\n",
    "time_frame_slider.observe(update_label, names='value')\n",
    "\n",
    "update_label() \n",
    "\n",
    "# render_btn = widgets.Button(description=\"Draw Selected Date Layer\", position=\"bottomright\") \n",
    "# widget_draw = widgets.VBox([render_btn])\n",
    "# m.add_widget(widget_draw, position=\"bottomright\")\n",
    "\n",
    "append_btn = widgets.Button(description=\"Append Label to Points\")\n",
    "append_btn.on_click(append_label_to_points)\n",
    "\n",
    "# display(widgets.HBox([date_slider, month_slider, time_frame_slider, render_btn]))\n",
    "display(widgets.VBox([\n",
    "    widgets.HBox([date_slider, time_frame_slider]),\n",
    "    widgets.HBox([label_dropdown, label_output, append_btn]),\n",
    "]))\n",
    "\n",
    "m"
   ]
  },
  {
   "cell_type": "code",
   "execution_count": 28,
   "id": "34bc63d0",
   "metadata": {},
   "outputs": [
    {
     "data": {
      "text/html": [
       "\n",
       "            <style>\n",
       "                .geemap-dark {\n",
       "                    --jp-widgets-color: white;\n",
       "                    --jp-widgets-label-color: white;\n",
       "                    --jp-ui-font-color1: white;\n",
       "                    --jp-layout-color2: #454545;\n",
       "                    background-color: #383838;\n",
       "                }\n",
       "\n",
       "                .geemap-dark .jupyter-button {\n",
       "                    --jp-layout-color3: #383838;\n",
       "                }\n",
       "\n",
       "                .geemap-colab {\n",
       "                    background-color: var(--colab-primary-surface-color, white);\n",
       "                }\n",
       "\n",
       "                .geemap-colab .jupyter-button {\n",
       "                    --jp-layout-color3: var(--colab-primary-surface-color, white);\n",
       "                }\n",
       "            </style>\n",
       "            "
      ],
      "text/plain": [
       "<IPython.core.display.HTML object>"
      ]
     },
     "metadata": {},
     "output_type": "display_data"
    },
    {
     "data": {
      "text/html": [
       "<div>\n",
       "<style scoped>\n",
       "    .dataframe tbody tr th:only-of-type {\n",
       "        vertical-align: middle;\n",
       "    }\n",
       "\n",
       "    .dataframe tbody tr th {\n",
       "        vertical-align: top;\n",
       "    }\n",
       "\n",
       "    .dataframe thead th {\n",
       "        text-align: right;\n",
       "    }\n",
       "</style>\n",
       "<table border=\"1\" class=\"dataframe\">\n",
       "  <thead>\n",
       "    <tr style=\"text-align: right;\">\n",
       "      <th></th>\n",
       "      <th>label</th>\n",
       "      <th>geometry</th>\n",
       "      <th>start_year</th>\n",
       "      <th>end_year</th>\n",
       "    </tr>\n",
       "  </thead>\n",
       "  <tbody>\n",
       "    <tr>\n",
       "      <th>0</th>\n",
       "      <td>Urban</td>\n",
       "      <td>POINT (43.88006 34.20145)</td>\n",
       "      <td>2019</td>\n",
       "      <td>2024</td>\n",
       "    </tr>\n",
       "    <tr>\n",
       "      <th>1</th>\n",
       "      <td>Urban</td>\n",
       "      <td>POINT (43.88761 34.20457)</td>\n",
       "      <td>2019</td>\n",
       "      <td>2024</td>\n",
       "    </tr>\n",
       "    <tr>\n",
       "      <th>2</th>\n",
       "      <td>Urban</td>\n",
       "      <td>POINT (43.85432 34.18292)</td>\n",
       "      <td>2019</td>\n",
       "      <td>2024</td>\n",
       "    </tr>\n",
       "    <tr>\n",
       "      <th>3</th>\n",
       "      <td>Urban</td>\n",
       "      <td>POINT (43.90458 34.19124)</td>\n",
       "      <td>2019</td>\n",
       "      <td>2024</td>\n",
       "    </tr>\n",
       "  </tbody>\n",
       "</table>\n",
       "</div>"
      ],
      "text/plain": [
       "   label                   geometry start_year end_year\n",
       "0  Urban  POINT (43.88006 34.20145)       2019     2024\n",
       "1  Urban  POINT (43.88761 34.20457)       2019     2024\n",
       "2  Urban  POINT (43.85432 34.18292)       2019     2024\n",
       "3  Urban  POINT (43.90458 34.19124)       2019     2024"
      ]
     },
     "execution_count": 28,
     "metadata": {},
     "output_type": "execute_result"
    }
   ],
   "source": [
    "labels.head()"
   ]
  },
  {
   "cell_type": "code",
   "execution_count": 29,
   "id": "0e1f3019",
   "metadata": {},
   "outputs": [
    {
     "data": {
      "text/html": [
       "\n",
       "            <style>\n",
       "                .geemap-dark {\n",
       "                    --jp-widgets-color: white;\n",
       "                    --jp-widgets-label-color: white;\n",
       "                    --jp-ui-font-color1: white;\n",
       "                    --jp-layout-color2: #454545;\n",
       "                    background-color: #383838;\n",
       "                }\n",
       "\n",
       "                .geemap-dark .jupyter-button {\n",
       "                    --jp-layout-color3: #383838;\n",
       "                }\n",
       "\n",
       "                .geemap-colab {\n",
       "                    background-color: var(--colab-primary-surface-color, white);\n",
       "                }\n",
       "\n",
       "                .geemap-colab .jupyter-button {\n",
       "                    --jp-layout-color3: var(--colab-primary-surface-color, white);\n",
       "                }\n",
       "            </style>\n",
       "            "
      ],
      "text/plain": [
       "<IPython.core.display.HTML object>"
      ]
     },
     "metadata": {},
     "output_type": "display_data"
    }
   ],
   "source": [
    "data_dir = pd.DataFrame({\n",
    "    \"dir\": [f\"data/{year}.csv\" for year in range(2019, 2025)],\n",
    "    \"year\": [year for year in range(2019, 2025)]\n",
    "})"
   ]
  },
  {
   "cell_type": "code",
   "execution_count": 30,
   "id": "d450cafe",
   "metadata": {},
   "outputs": [
    {
     "data": {
      "text/html": [
       "\n",
       "            <style>\n",
       "                .geemap-dark {\n",
       "                    --jp-widgets-color: white;\n",
       "                    --jp-widgets-label-color: white;\n",
       "                    --jp-ui-font-color1: white;\n",
       "                    --jp-layout-color2: #454545;\n",
       "                    background-color: #383838;\n",
       "                }\n",
       "\n",
       "                .geemap-dark .jupyter-button {\n",
       "                    --jp-layout-color3: #383838;\n",
       "                }\n",
       "\n",
       "                .geemap-colab {\n",
       "                    background-color: var(--colab-primary-surface-color, white);\n",
       "                }\n",
       "\n",
       "                .geemap-colab .jupyter-button {\n",
       "                    --jp-layout-color3: var(--colab-primary-surface-color, white);\n",
       "                }\n",
       "            </style>\n",
       "            "
      ],
      "text/plain": [
       "<IPython.core.display.HTML object>"
      ]
     },
     "metadata": {},
     "output_type": "display_data"
    }
   ],
   "source": [
    "class ts_cluster():\n",
    "\n",
    "    cluster_list = []\n",
    "\n",
    "    yearly_labels_dict = []\n",
    "    common_labels = pd.DataFrame(columns=[\"year_start\", \"year_end\", \"label\", \"geometry\"])\n",
    "    \n",
    "    data_dir = pd.DataFrame(columns=[\"dir\", \"year\"])\n",
    "\n",
    "    start_year = 2019\n",
    "    end_year = 2024\n",
    "\n",
    "    def __init__(self, ts_point_labels, data_dir, mapping, start_year, end_year, passes=6, full_data=True):\n",
    "        \"\"\"\n",
    "            Initializes the ts_cluster object with time-series point labels, data directory, mapping, and number of passes.\n",
    "        \"\"\"\n",
    "        \n",
    "        self.start_year = int(start_year)\n",
    "        self.end_year = int(end_year)\n",
    "        self.full_data = full_data\n",
    "\n",
    "        self.data_dir = data_dir\n",
    "\n",
    "        if start_year > end_year:\n",
    "            raise ValueError(\"start_year must be less than or equal to end_year\")\n",
    "        \n",
    "        common_labels, uncommon_labels = self.__reduce_to_common__(ts_point_labels)\n",
    "        self.common_labels = common_labels\n",
    "        self.yearly_labels_dict = {\n",
    "            year: self.__split_year__(year, uncommon_labels)\n",
    "            for year in range(start_year, end_year + 1)\n",
    "        }\n",
    "\n",
    "        # runtime vars \n",
    "        self.mapping = mapping\n",
    "        self.passes = passes\n",
    "\n",
    "    def __reduce_to_year__(year, label_df):\n",
    "        \"\"\"\n",
    "            Returns a DataFrame with only entries that overlap with the specified year.\n",
    "\n",
    "        Args:\n",
    "            year (int):                The year to filter the labels DataFrame.\n",
    "            label_df (GeoDataFrame):   The labels DataFrame to filter.\n",
    "\n",
    "        Returns:\n",
    "            GeoDataFrame:              A DataFrame containing only the labels that overlap with the specified year.\n",
    "        \"\"\"\n",
    "\n",
    "        year_df = label_df[(label_df['start_year'] <= year) & (label_df['end_year'] >= year)]\n",
    "        return year_df.reset_index(drop=True)\n",
    "\n",
    "\n",
    "    def __reduce_to_common__(self, labels_df):\n",
    "        \"\"\"\n",
    "        Splits the labels DataFrame into two parts:\n",
    "        1. Common labels that fall within the specified start and end years.\n",
    "        2. Uncommon labels that do not fall within the specified range, and may be year specific.\n",
    "        \n",
    "        Args:\n",
    "            labels_df (GeoDataFrame):   The labels DataFrame to reduce.\n",
    "            start_year (int):           The starting year for the reduction.\n",
    "            end_year (int):             The ending year for the reduction.\n",
    "        \n",
    "        Returns:\n",
    "            GeoDataFrame:               The Reduced labels DataFrame.\n",
    "        \"\"\"\n",
    "        common_df = labels_df[(labels_df['start_year'] <= self.start_year) & (labels_df['end_year'] >= self.end_year)]\n",
    "        uncommon_df = labels_df[(labels_df['start_year'] > self.start_year) | (labels_df['end_year'] < self.end_year)]\n",
    "        return common_df.reset_index(drop=True), uncommon_df.reset_index(drop=True)  \n",
    "\n",
    "\n",
    "    @staticmethod\n",
    "    def __split_year__(year, label_df):\n",
    "        \"\"\"\n",
    "            Returns a DataFrame of where any label that overlaps a given year is returned.\n",
    "        \"\"\"\n",
    "\n",
    "        year_df = label_df[(label_df['start_year'] <= year) & (label_df['end_year'] >= year)]\n",
    "        # year_df['year'] = year\n",
    "        return year_df.reset_index(drop=True)\n",
    "\n",
    "    def __build_all_geometries__(self):\n",
    "        \"\"\"\n",
    "            Builds a all Geometries DataFrame from the data labels\n",
    "        \"\"\"\n",
    "        uniques = pd.DataFrame(columns=['file_name', '.geo'])\n",
    "        for i in self.data_dir.index:\n",
    "            df_dir = self.data_dir.loc[i, 'dir']\n",
    "            # print(f\"Loading Geometries {df_dir}...\")\n",
    "\n",
    "            df = pd.read_csv(df_dir)\n",
    "            df = df[['file_name', '.geo']]\n",
    "            print(f\"Loaded {len(df)} geometries from {df_dir}.\")\n",
    "\n",
    "            df = df.dropna(subset=['file_name', '.geo'])\n",
    "            df = df.reset_index(drop=True)\n",
    "            \n",
    "            uniques = pd.concat([uniques, df], ignore_index=True)\n",
    "            uniques = uniques.drop_duplicates(subset=['file_name'])\n",
    "\n",
    "            # no need to check all if we know the data IS FULL!\n",
    "            if self.full_data:\n",
    "                return uniques\n",
    "            \n",
    "        return uniques\n",
    "\n",
    "    def __build_common_labels__(self):\n",
    "        \"\"\"\n",
    "            Builds a common cluster from the common labels DataFrame. That ALL years share to avoid redundant processing.\n",
    "        \"\"\"\n",
    "\n",
    "\n",
    "        uniuqes_gdf = self.__build_all_geometries__()\n",
    "        uniuqes_gdf['geometry']  = uniuqes_gdf['.geo'].apply(lambda x: shape(json.loads(x)))\n",
    "        uniuqes_gdf = gpd.GeoDataFrame(uniuqes_gdf, geometry='geometry', crs=\"EPSG:4326\")\n",
    "\n",
    "        cl_cluster = cl.Cluster(subregions, None, None, 1)\n",
    "        cl_cluster.data = uniuqes_gdf.set_index(\"file_name\")\n",
    "        # cl_cluster.points = common_df.drop(columns=['start_year', 'end_year'])    \n",
    "        cl_cluster.points = self.common_labels.drop(columns=['start_year', 'end_year'])\n",
    "\n",
    "        cl_cluster.build_row_labels()\n",
    "\n",
    "        # self.base_labels = cl_cluster.labels['file_name', 'label']\n",
    "        self.base_labels = cl_cluster.labels\n",
    "        return self.base_labels\n",
    "\n",
    "    def instansiate_clusters(self, cluster_class, subregions, aoi=None, index_column=\"file_name\"):\n",
    "        \"\"\"\n",
    "            Instantiates clusters for each year in the data directory.\n",
    "        \"\"\"\n",
    "        \n",
    "        base_labelles = self.__build_common_labels__()\n",
    "        \n",
    "        cluster_list = []\n",
    "\n",
    "        for year in self.data_dir['year']:\n",
    "            data = pd.read_csv(self.data_dir.loc[data_dir['year'] == 2019, 'dir'].values[0])\n",
    "\n",
    "            # (self, subregions, df_data, mapping, passes=6, aoi=None, index_column=\"file_name\", points=gpd.GeoDataFrame()):\n",
    "            cl_cluster = cluster_class(subregions=subregions, \n",
    "                                          df_data=data, \n",
    "                                          mapping=self.mapping, \n",
    "                                          points=self.common_labels,\n",
    "                                          aoi=aoi,\n",
    "                                          index_column=index_column,\n",
    "                                          passes=self.passes)\n",
    "            \n",
    "            df_copy = base_labelles.copy()\n",
    "            df_copy = df_copy.reset_index(drop=False)\n",
    "            df_copy = df_copy[['file_name', 'label']]\n",
    "            cl_cluster.load_labels_df(df=df_copy)\n",
    "            \n",
    "            cl_cluster.build_row_labels(additional_labels=self.yearly_labels_dict[year], update=True)\n",
    "\n",
    "            cluster_list.append(cl_cluster)\n",
    "\n",
    "        self.cluster_list = cluster_list\n",
    "\n",
    "    def fit(self, save_state=\"\"):\n",
    "        \"\"\"\n",
    "            Fits all clusters in the cluster list.\n",
    "\n",
    "            Args:\n",
    "                save_state (str):         The prefix for the filename to save the state of the clusters. If empty, no state is saved.\n",
    "        \"\"\"\n",
    "\n",
    "        for i, cl_cluster in enumerate(self.cluster_list):\n",
    "            print(f\"Fitted cluster for year {self.start_year + i} with {len(cl_cluster.labels)} labels.\")\n",
    "\n",
    "            cl_cluster.fit()\n",
    "\n",
    "            if save_state is not \"\":\n",
    "                cl_cluster.save_state(filname_prefix=save_state, filename_postfix=f\"{self.start_year + i}_state\")\n",
    "        \n",
    "        print(f\"Fitted {len(self.cluster_list)} clusters.\")"
   ]
  },
  {
   "cell_type": "code",
   "execution_count": 31,
   "id": "df56b4e0",
   "metadata": {},
   "outputs": [
    {
     "data": {
      "text/html": [
       "\n",
       "            <style>\n",
       "                .geemap-dark {\n",
       "                    --jp-widgets-color: white;\n",
       "                    --jp-widgets-label-color: white;\n",
       "                    --jp-ui-font-color1: white;\n",
       "                    --jp-layout-color2: #454545;\n",
       "                    background-color: #383838;\n",
       "                }\n",
       "\n",
       "                .geemap-dark .jupyter-button {\n",
       "                    --jp-layout-color3: #383838;\n",
       "                }\n",
       "\n",
       "                .geemap-colab {\n",
       "                    background-color: var(--colab-primary-surface-color, white);\n",
       "                }\n",
       "\n",
       "                .geemap-colab .jupyter-button {\n",
       "                    --jp-layout-color3: var(--colab-primary-surface-color, white);\n",
       "                }\n",
       "            </style>\n",
       "            "
      ],
      "text/plain": [
       "<IPython.core.display.HTML object>"
      ]
     },
     "metadata": {},
     "output_type": "display_data"
    },
    {
     "name": "stdout",
     "output_type": "stream",
     "text": [
      "Loaded 375600 geometries from data/2019.csv.\n",
      "progress: 1/4 labels processed.\n",
      "progress: 2/4 labels processed.\n",
      "progress: 3/4 labels processed.\n",
      "progress: 4/4 labels processed.\n"
     ]
    }
   ],
   "source": [
    "cluster_ts = ts_cluster(ts_point_labels=labels, data_dir=data_dir, mapping=mapping, start_year=2019, end_year=2024, passes=6)\n",
    "\n",
    "cluster_ts.instansiate_clusters(cluster_class=cl.Cluster, subregions=subregions)"
   ]
  },
  {
   "cell_type": "code",
   "execution_count": null,
   "id": "fc980329",
   "metadata": {},
   "outputs": [
    {
     "data": {
      "text/html": [
       "\n",
       "            <style>\n",
       "                .geemap-dark {\n",
       "                    --jp-widgets-color: white;\n",
       "                    --jp-widgets-label-color: white;\n",
       "                    --jp-ui-font-color1: white;\n",
       "                    --jp-layout-color2: #454545;\n",
       "                    background-color: #383838;\n",
       "                }\n",
       "\n",
       "                .geemap-dark .jupyter-button {\n",
       "                    --jp-layout-color3: #383838;\n",
       "                }\n",
       "\n",
       "                .geemap-colab {\n",
       "                    background-color: var(--colab-primary-surface-color, white);\n",
       "                }\n",
       "\n",
       "                .geemap-colab .jupyter-button {\n",
       "                    --jp-layout-color3: var(--colab-primary-surface-color, white);\n",
       "                }\n",
       "            </style>\n",
       "            "
      ],
      "text/plain": [
       "<IPython.core.display.HTML object>"
      ]
     },
     "metadata": {},
     "output_type": "display_data"
    },
    {
     "data": {
      "text/html": [
       "<div>\n",
       "<style scoped>\n",
       "    .dataframe tbody tr th:only-of-type {\n",
       "        vertical-align: middle;\n",
       "    }\n",
       "\n",
       "    .dataframe tbody tr th {\n",
       "        vertical-align: top;\n",
       "    }\n",
       "\n",
       "    .dataframe thead th {\n",
       "        text-align: right;\n",
       "    }\n",
       "</style>\n",
       "<table border=\"1\" class=\"dataframe\">\n",
       "  <thead>\n",
       "    <tr style=\"text-align: right;\">\n",
       "      <th></th>\n",
       "      <th>.geo</th>\n",
       "      <th>geometry</th>\n",
       "      <th>label</th>\n",
       "    </tr>\n",
       "    <tr>\n",
       "      <th>file_name</th>\n",
       "      <th></th>\n",
       "      <th></th>\n",
       "      <th></th>\n",
       "    </tr>\n",
       "  </thead>\n",
       "  <tbody>\n",
       "    <tr>\n",
       "      <th>tile_43997486_34112017_43998137_34112113</th>\n",
       "      <td>{\"type\":\"Polygon\",\"coordinates\":[[[43.99813739...</td>\n",
       "      <td>POLYGON ((43.99814 34.11211, 43.99749 34.11211...</td>\n",
       "      <td>None</td>\n",
       "    </tr>\n",
       "    <tr>\n",
       "      <th>tile_44104382_34112843_44105034_34112938</th>\n",
       "      <td>{\"type\":\"Polygon\",\"coordinates\":[[[44.10438435...</td>\n",
       "      <td>POLYGON ((44.10438 34.11293, 44.10438 34.11285...</td>\n",
       "      <td>None</td>\n",
       "    </tr>\n",
       "    <tr>\n",
       "      <th>tile_43998136_34112022_43999221_34112122</th>\n",
       "      <td>{\"type\":\"Polygon\",\"coordinates\":[[[43.99813739...</td>\n",
       "      <td>POLYGON ((43.99814 34.11211, 43.99814 34.11202...</td>\n",
       "      <td>None</td>\n",
       "    </tr>\n",
       "    <tr>\n",
       "      <th>tile_43999220_34112031_44000305_34112130</th>\n",
       "      <td>{\"type\":\"Polygon\",\"coordinates\":[[[43.99922097...</td>\n",
       "      <td>POLYGON ((43.99922 34.11212, 43.99922 34.11203...</td>\n",
       "      <td>None</td>\n",
       "    </tr>\n",
       "    <tr>\n",
       "      <th>tile_44000304_34112040_44001389_34112139</th>\n",
       "      <td>{\"type\":\"Polygon\",\"coordinates\":[[[44.00030452...</td>\n",
       "      <td>POLYGON ((44.00030 34.11213, 44.00030 34.11204...</td>\n",
       "      <td>None</td>\n",
       "    </tr>\n",
       "    <tr>\n",
       "      <th>...</th>\n",
       "      <td>...</td>\n",
       "      <td>...</td>\n",
       "      <td>...</td>\n",
       "    </tr>\n",
       "    <tr>\n",
       "      <th>tile_43910796_34410765_43911896_34411676</th>\n",
       "      <td>{\"type\":\"Polygon\",\"coordinates\":[[[43.91080588...</td>\n",
       "      <td>POLYGON ((43.91081 34.41077, 43.91189 34.41078...</td>\n",
       "      <td>None</td>\n",
       "    </tr>\n",
       "    <tr>\n",
       "      <th>tile_43910784_34411666_43911884_34412578</th>\n",
       "      <td>{\"type\":\"Polygon\",\"coordinates\":[[[43.91079693...</td>\n",
       "      <td>POLYGON ((43.91080 34.41167, 43.91189 34.41168...</td>\n",
       "      <td>None</td>\n",
       "    </tr>\n",
       "    <tr>\n",
       "      <th>tile_43910773_34412568_43911872_34413479</th>\n",
       "      <td>{\"type\":\"Polygon\",\"coordinates\":[[[43.91078360...</td>\n",
       "      <td>POLYGON ((43.91078 34.41257, 43.91187 34.41258...</td>\n",
       "      <td>None</td>\n",
       "    </tr>\n",
       "    <tr>\n",
       "      <th>tile_43910761_34413470_43911861_34414381</th>\n",
       "      <td>{\"type\":\"Polygon\",\"coordinates\":[[[43.91077465...</td>\n",
       "      <td>POLYGON ((43.91077 34.41347, 43.91186 34.41348...</td>\n",
       "      <td>None</td>\n",
       "    </tr>\n",
       "    <tr>\n",
       "      <th>tile_43911648_34344943_43912747_34345854</th>\n",
       "      <td>{\"type\":\"Polygon\",\"coordinates\":[[[43.91164867...</td>\n",
       "      <td>POLYGON ((43.91165 34.34584, 43.91166 34.34494...</td>\n",
       "      <td>None</td>\n",
       "    </tr>\n",
       "  </tbody>\n",
       "</table>\n",
       "<p>375600 rows × 3 columns</p>\n",
       "</div>"
      ],
      "text/plain": [
       "                                                                                       .geo  \\\n",
       "file_name                                                                                     \n",
       "tile_43997486_34112017_43998137_34112113  {\"type\":\"Polygon\",\"coordinates\":[[[43.99813739...   \n",
       "tile_44104382_34112843_44105034_34112938  {\"type\":\"Polygon\",\"coordinates\":[[[44.10438435...   \n",
       "tile_43998136_34112022_43999221_34112122  {\"type\":\"Polygon\",\"coordinates\":[[[43.99813739...   \n",
       "tile_43999220_34112031_44000305_34112130  {\"type\":\"Polygon\",\"coordinates\":[[[43.99922097...   \n",
       "tile_44000304_34112040_44001389_34112139  {\"type\":\"Polygon\",\"coordinates\":[[[44.00030452...   \n",
       "...                                                                                     ...   \n",
       "tile_43910796_34410765_43911896_34411676  {\"type\":\"Polygon\",\"coordinates\":[[[43.91080588...   \n",
       "tile_43910784_34411666_43911884_34412578  {\"type\":\"Polygon\",\"coordinates\":[[[43.91079693...   \n",
       "tile_43910773_34412568_43911872_34413479  {\"type\":\"Polygon\",\"coordinates\":[[[43.91078360...   \n",
       "tile_43910761_34413470_43911861_34414381  {\"type\":\"Polygon\",\"coordinates\":[[[43.91077465...   \n",
       "tile_43911648_34344943_43912747_34345854  {\"type\":\"Polygon\",\"coordinates\":[[[43.91164867...   \n",
       "\n",
       "                                                                                   geometry  \\\n",
       "file_name                                                                                     \n",
       "tile_43997486_34112017_43998137_34112113  POLYGON ((43.99814 34.11211, 43.99749 34.11211...   \n",
       "tile_44104382_34112843_44105034_34112938  POLYGON ((44.10438 34.11293, 44.10438 34.11285...   \n",
       "tile_43998136_34112022_43999221_34112122  POLYGON ((43.99814 34.11211, 43.99814 34.11202...   \n",
       "tile_43999220_34112031_44000305_34112130  POLYGON ((43.99922 34.11212, 43.99922 34.11203...   \n",
       "tile_44000304_34112040_44001389_34112139  POLYGON ((44.00030 34.11213, 44.00030 34.11204...   \n",
       "...                                                                                     ...   \n",
       "tile_43910796_34410765_43911896_34411676  POLYGON ((43.91081 34.41077, 43.91189 34.41078...   \n",
       "tile_43910784_34411666_43911884_34412578  POLYGON ((43.91080 34.41167, 43.91189 34.41168...   \n",
       "tile_43910773_34412568_43911872_34413479  POLYGON ((43.91078 34.41257, 43.91187 34.41258...   \n",
       "tile_43910761_34413470_43911861_34414381  POLYGON ((43.91077 34.41347, 43.91186 34.41348...   \n",
       "tile_43911648_34344943_43912747_34345854  POLYGON ((43.91165 34.34584, 43.91166 34.34494...   \n",
       "\n",
       "                                         label  \n",
       "file_name                                       \n",
       "tile_43997486_34112017_43998137_34112113  None  \n",
       "tile_44104382_34112843_44105034_34112938  None  \n",
       "tile_43998136_34112022_43999221_34112122  None  \n",
       "tile_43999220_34112031_44000305_34112130  None  \n",
       "tile_44000304_34112040_44001389_34112139  None  \n",
       "...                                        ...  \n",
       "tile_43910796_34410765_43911896_34411676  None  \n",
       "tile_43910784_34411666_43911884_34412578  None  \n",
       "tile_43910773_34412568_43911872_34413479  None  \n",
       "tile_43910761_34413470_43911861_34414381  None  \n",
       "tile_43911648_34344943_43912747_34345854  None  \n",
       "\n",
       "[375600 rows x 3 columns]"
      ]
     },
     "execution_count": 32,
     "metadata": {},
     "output_type": "execute_result"
    }
   ],
   "source": [
    "cluster_ts.base_labels"
   ]
  },
  {
   "cell_type": "code",
   "execution_count": 33,
   "id": "c3d0b77f",
   "metadata": {},
   "outputs": [
    {
     "data": {
      "text/html": [
       "\n",
       "            <style>\n",
       "                .geemap-dark {\n",
       "                    --jp-widgets-color: white;\n",
       "                    --jp-widgets-label-color: white;\n",
       "                    --jp-ui-font-color1: white;\n",
       "                    --jp-layout-color2: #454545;\n",
       "                    background-color: #383838;\n",
       "                }\n",
       "\n",
       "                .geemap-dark .jupyter-button {\n",
       "                    --jp-layout-color3: #383838;\n",
       "                }\n",
       "\n",
       "                .geemap-colab {\n",
       "                    background-color: var(--colab-primary-surface-color, white);\n",
       "                }\n",
       "\n",
       "                .geemap-colab .jupyter-button {\n",
       "                    --jp-layout-color3: var(--colab-primary-surface-color, white);\n",
       "                }\n",
       "            </style>\n",
       "            "
      ],
      "text/plain": [
       "<IPython.core.display.HTML object>"
      ]
     },
     "metadata": {},
     "output_type": "display_data"
    },
    {
     "data": {
      "text/html": [
       "<div>\n",
       "<style scoped>\n",
       "    .dataframe tbody tr th:only-of-type {\n",
       "        vertical-align: middle;\n",
       "    }\n",
       "\n",
       "    .dataframe tbody tr th {\n",
       "        vertical-align: top;\n",
       "    }\n",
       "\n",
       "    .dataframe thead th {\n",
       "        text-align: right;\n",
       "    }\n",
       "</style>\n",
       "<table border=\"1\" class=\"dataframe\">\n",
       "  <thead>\n",
       "    <tr style=\"text-align: right;\">\n",
       "      <th></th>\n",
       "      <th>system:index</th>\n",
       "      <th>0_B1</th>\n",
       "      <th>0_B11</th>\n",
       "      <th>0_B12</th>\n",
       "      <th>0_B2</th>\n",
       "      <th>0_B3</th>\n",
       "      <th>0_B4</th>\n",
       "      <th>0_B5</th>\n",
       "      <th>0_B6</th>\n",
       "      <th>0_B7</th>\n",
       "      <th>...</th>\n",
       "      <th>9_B3</th>\n",
       "      <th>9_B4</th>\n",
       "      <th>9_B5</th>\n",
       "      <th>9_B6</th>\n",
       "      <th>9_B7</th>\n",
       "      <th>9_B8</th>\n",
       "      <th>9_B8A</th>\n",
       "      <th>9_B9</th>\n",
       "      <th>file_name</th>\n",
       "      <th>.geo</th>\n",
       "    </tr>\n",
       "  </thead>\n",
       "  <tbody>\n",
       "    <tr>\n",
       "      <th>0</th>\n",
       "      <td>1_1_1_1_1_1_1_1_1_1_1_1_1_1_1_1_1_1_1_1_1_1_1_...</td>\n",
       "      <td>769.925866</td>\n",
       "      <td>3322.198887</td>\n",
       "      <td>2644.624125</td>\n",
       "      <td>1128.620894</td>\n",
       "      <td>1753.336923</td>\n",
       "      <td>2010.568300</td>\n",
       "      <td>2634.353258</td>\n",
       "      <td>3302.266379</td>\n",
       "      <td>3455.818704</td>\n",
       "      <td>...</td>\n",
       "      <td>2541.523502</td>\n",
       "      <td>3334.350796</td>\n",
       "      <td>3648.235249</td>\n",
       "      <td>3713.545965</td>\n",
       "      <td>3826.787522</td>\n",
       "      <td>3871.171013</td>\n",
       "      <td>3920.213786</td>\n",
       "      <td>3837.507039</td>\n",
       "      <td>tile_43997486_34112017_43998137_34112113</td>\n",
       "      <td>{\"type\":\"Polygon\",\"coordinates\":[[[43.99813739...</td>\n",
       "    </tr>\n",
       "    <tr>\n",
       "      <th>1</th>\n",
       "      <td>1_1_1_1_1_1_1_1_1_1_1_1_1_1_1_1_1_1_1_1_1_1_1_...</td>\n",
       "      <td>298.404905</td>\n",
       "      <td>2157.473569</td>\n",
       "      <td>1582.494005</td>\n",
       "      <td>528.488556</td>\n",
       "      <td>831.356676</td>\n",
       "      <td>934.839237</td>\n",
       "      <td>1352.791826</td>\n",
       "      <td>1881.520708</td>\n",
       "      <td>2069.254223</td>\n",
       "      <td>...</td>\n",
       "      <td>801.668174</td>\n",
       "      <td>662.603379</td>\n",
       "      <td>1236.062398</td>\n",
       "      <td>2438.234332</td>\n",
       "      <td>2861.378801</td>\n",
       "      <td>3031.939292</td>\n",
       "      <td>3114.423978</td>\n",
       "      <td>2432.149682</td>\n",
       "      <td>tile_44104382_34112843_44105034_34112938</td>\n",
       "      <td>{\"type\":\"Polygon\",\"coordinates\":[[[44.10438435...</td>\n",
       "    </tr>\n",
       "    <tr>\n",
       "      <th>2</th>\n",
       "      <td>1_1_1_1_1_1_1_1_1_1_1_1_1_1_1_1_1_1_1_1_1_1_1_...</td>\n",
       "      <td>528.454970</td>\n",
       "      <td>2495.875662</td>\n",
       "      <td>1713.649631</td>\n",
       "      <td>640.474810</td>\n",
       "      <td>1152.119767</td>\n",
       "      <td>1171.487171</td>\n",
       "      <td>1786.087047</td>\n",
       "      <td>3059.746338</td>\n",
       "      <td>3359.432014</td>\n",
       "      <td>...</td>\n",
       "      <td>1593.018742</td>\n",
       "      <td>2124.370565</td>\n",
       "      <td>2445.911989</td>\n",
       "      <td>2515.677113</td>\n",
       "      <td>2636.289053</td>\n",
       "      <td>2605.584472</td>\n",
       "      <td>2756.973423</td>\n",
       "      <td>3091.114321</td>\n",
       "      <td>tile_43998136_34112022_43999221_34112122</td>\n",
       "      <td>{\"type\":\"Polygon\",\"coordinates\":[[[43.99813739...</td>\n",
       "    </tr>\n",
       "    <tr>\n",
       "      <th>3</th>\n",
       "      <td>1_1_1_1_1_1_1_1_1_1_1_1_1_1_1_1_1_1_1_1_1_1_1_...</td>\n",
       "      <td>335.551290</td>\n",
       "      <td>2071.815893</td>\n",
       "      <td>1344.805779</td>\n",
       "      <td>429.478019</td>\n",
       "      <td>894.811249</td>\n",
       "      <td>770.613622</td>\n",
       "      <td>1463.251290</td>\n",
       "      <td>2839.394324</td>\n",
       "      <td>3180.367699</td>\n",
       "      <td>...</td>\n",
       "      <td>1394.102079</td>\n",
       "      <td>1854.067183</td>\n",
       "      <td>2060.790668</td>\n",
       "      <td>2105.297921</td>\n",
       "      <td>2202.409155</td>\n",
       "      <td>2225.273773</td>\n",
       "      <td>2299.559797</td>\n",
       "      <td>2382.651482</td>\n",
       "      <td>tile_43999220_34112031_44000305_34112130</td>\n",
       "      <td>{\"type\":\"Polygon\",\"coordinates\":[[[43.99922097...</td>\n",
       "    </tr>\n",
       "    <tr>\n",
       "      <th>4</th>\n",
       "      <td>1_1_1_1_1_1_1_1_1_1_1_1_1_1_1_1_1_1_1_1_1_1_1_...</td>\n",
       "      <td>285.086948</td>\n",
       "      <td>1878.116894</td>\n",
       "      <td>1177.896530</td>\n",
       "      <td>406.417493</td>\n",
       "      <td>840.937113</td>\n",
       "      <td>721.051941</td>\n",
       "      <td>1302.629802</td>\n",
       "      <td>2778.296159</td>\n",
       "      <td>3145.126910</td>\n",
       "      <td>...</td>\n",
       "      <td>1386.387060</td>\n",
       "      <td>1850.829881</td>\n",
       "      <td>2059.086564</td>\n",
       "      <td>2108.126792</td>\n",
       "      <td>2208.764339</td>\n",
       "      <td>2278.053815</td>\n",
       "      <td>2330.043238</td>\n",
       "      <td>2451.489202</td>\n",
       "      <td>tile_44000304_34112040_44001389_34112139</td>\n",
       "      <td>{\"type\":\"Polygon\",\"coordinates\":[[[44.00030452...</td>\n",
       "    </tr>\n",
       "  </tbody>\n",
       "</table>\n",
       "<p>5 rows × 147 columns</p>\n",
       "</div>"
      ],
      "text/plain": [
       "                                        system:index        0_B1        0_B11  \\\n",
       "0  1_1_1_1_1_1_1_1_1_1_1_1_1_1_1_1_1_1_1_1_1_1_1_...  769.925866  3322.198887   \n",
       "1  1_1_1_1_1_1_1_1_1_1_1_1_1_1_1_1_1_1_1_1_1_1_1_...  298.404905  2157.473569   \n",
       "2  1_1_1_1_1_1_1_1_1_1_1_1_1_1_1_1_1_1_1_1_1_1_1_...  528.454970  2495.875662   \n",
       "3  1_1_1_1_1_1_1_1_1_1_1_1_1_1_1_1_1_1_1_1_1_1_1_...  335.551290  2071.815893   \n",
       "4  1_1_1_1_1_1_1_1_1_1_1_1_1_1_1_1_1_1_1_1_1_1_1_...  285.086948  1878.116894   \n",
       "\n",
       "         0_B12         0_B2         0_B3         0_B4         0_B5  \\\n",
       "0  2644.624125  1128.620894  1753.336923  2010.568300  2634.353258   \n",
       "1  1582.494005   528.488556   831.356676   934.839237  1352.791826   \n",
       "2  1713.649631   640.474810  1152.119767  1171.487171  1786.087047   \n",
       "3  1344.805779   429.478019   894.811249   770.613622  1463.251290   \n",
       "4  1177.896530   406.417493   840.937113   721.051941  1302.629802   \n",
       "\n",
       "          0_B6         0_B7  ...         9_B3         9_B4         9_B5  \\\n",
       "0  3302.266379  3455.818704  ...  2541.523502  3334.350796  3648.235249   \n",
       "1  1881.520708  2069.254223  ...   801.668174   662.603379  1236.062398   \n",
       "2  3059.746338  3359.432014  ...  1593.018742  2124.370565  2445.911989   \n",
       "3  2839.394324  3180.367699  ...  1394.102079  1854.067183  2060.790668   \n",
       "4  2778.296159  3145.126910  ...  1386.387060  1850.829881  2059.086564   \n",
       "\n",
       "          9_B6         9_B7         9_B8        9_B8A         9_B9  \\\n",
       "0  3713.545965  3826.787522  3871.171013  3920.213786  3837.507039   \n",
       "1  2438.234332  2861.378801  3031.939292  3114.423978  2432.149682   \n",
       "2  2515.677113  2636.289053  2605.584472  2756.973423  3091.114321   \n",
       "3  2105.297921  2202.409155  2225.273773  2299.559797  2382.651482   \n",
       "4  2108.126792  2208.764339  2278.053815  2330.043238  2451.489202   \n",
       "\n",
       "                                  file_name  \\\n",
       "0  tile_43997486_34112017_43998137_34112113   \n",
       "1  tile_44104382_34112843_44105034_34112938   \n",
       "2  tile_43998136_34112022_43999221_34112122   \n",
       "3  tile_43999220_34112031_44000305_34112130   \n",
       "4  tile_44000304_34112040_44001389_34112139   \n",
       "\n",
       "                                                .geo  \n",
       "0  {\"type\":\"Polygon\",\"coordinates\":[[[43.99813739...  \n",
       "1  {\"type\":\"Polygon\",\"coordinates\":[[[44.10438435...  \n",
       "2  {\"type\":\"Polygon\",\"coordinates\":[[[43.99813739...  \n",
       "3  {\"type\":\"Polygon\",\"coordinates\":[[[43.99922097...  \n",
       "4  {\"type\":\"Polygon\",\"coordinates\":[[[44.00030452...  \n",
       "\n",
       "[5 rows x 147 columns]"
      ]
     },
     "execution_count": 33,
     "metadata": {},
     "output_type": "execute_result"
    }
   ],
   "source": [
    "cluster_ts.cluster_list[1].labels.head()"
   ]
  },
  {
   "cell_type": "code",
   "execution_count": null,
   "id": "7fa642f3",
   "metadata": {},
   "outputs": [],
   "source": [
    "cluster_ts.fit(save_state=\"temp_test_fit/test3\")"
   ]
  },
  {
   "cell_type": "code",
   "execution_count": null,
   "id": "2c724371",
   "metadata": {},
   "outputs": [],
   "source": [
    "# get data_dir 2019\n",
    "data_dir.loc[data_dir['year'] == 2019, 'dir'].values[0]"
   ]
  },
  {
   "cell_type": "code",
   "execution_count": 34,
   "id": "fddc08b6",
   "metadata": {},
   "outputs": [
    {
     "data": {
      "text/html": [
       "\n",
       "            <style>\n",
       "                .geemap-dark {\n",
       "                    --jp-widgets-color: white;\n",
       "                    --jp-widgets-label-color: white;\n",
       "                    --jp-ui-font-color1: white;\n",
       "                    --jp-layout-color2: #454545;\n",
       "                    background-color: #383838;\n",
       "                }\n",
       "\n",
       "                .geemap-dark .jupyter-button {\n",
       "                    --jp-layout-color3: #383838;\n",
       "                }\n",
       "\n",
       "                .geemap-colab {\n",
       "                    background-color: var(--colab-primary-surface-color, white);\n",
       "                }\n",
       "\n",
       "                .geemap-colab .jupyter-button {\n",
       "                    --jp-layout-color3: var(--colab-primary-surface-color, white);\n",
       "                }\n",
       "            </style>\n",
       "            "
      ],
      "text/plain": [
       "<IPython.core.display.HTML object>"
      ]
     },
     "metadata": {},
     "output_type": "display_data"
    },
    {
     "data": {
      "text/html": [
       "<div>\n",
       "<style scoped>\n",
       "    .dataframe tbody tr th:only-of-type {\n",
       "        vertical-align: middle;\n",
       "    }\n",
       "\n",
       "    .dataframe tbody tr th {\n",
       "        vertical-align: top;\n",
       "    }\n",
       "\n",
       "    .dataframe thead th {\n",
       "        text-align: right;\n",
       "    }\n",
       "</style>\n",
       "<table border=\"1\" class=\"dataframe\">\n",
       "  <thead>\n",
       "    <tr style=\"text-align: right;\">\n",
       "      <th></th>\n",
       "      <th>label</th>\n",
       "      <th>geometry</th>\n",
       "      <th>start_year</th>\n",
       "      <th>end_year</th>\n",
       "    </tr>\n",
       "  </thead>\n",
       "  <tbody>\n",
       "    <tr>\n",
       "      <th>0</th>\n",
       "      <td>Urban</td>\n",
       "      <td>POINT (43.88006 34.20145)</td>\n",
       "      <td>2019</td>\n",
       "      <td>2024</td>\n",
       "    </tr>\n",
       "    <tr>\n",
       "      <th>1</th>\n",
       "      <td>Urban</td>\n",
       "      <td>POINT (43.88761 34.20457)</td>\n",
       "      <td>2019</td>\n",
       "      <td>2024</td>\n",
       "    </tr>\n",
       "    <tr>\n",
       "      <th>2</th>\n",
       "      <td>Urban</td>\n",
       "      <td>POINT (43.85432 34.18292)</td>\n",
       "      <td>2019</td>\n",
       "      <td>2024</td>\n",
       "    </tr>\n",
       "    <tr>\n",
       "      <th>3</th>\n",
       "      <td>Urban</td>\n",
       "      <td>POINT (43.90458 34.19124)</td>\n",
       "      <td>2019</td>\n",
       "      <td>2024</td>\n",
       "    </tr>\n",
       "  </tbody>\n",
       "</table>\n",
       "</div>"
      ],
      "text/plain": [
       "   label                   geometry start_year end_year\n",
       "0  Urban  POINT (43.88006 34.20145)       2019     2024\n",
       "1  Urban  POINT (43.88761 34.20457)       2019     2024\n",
       "2  Urban  POINT (43.85432 34.18292)       2019     2024\n",
       "3  Urban  POINT (43.90458 34.19124)       2019     2024"
      ]
     },
     "execution_count": 34,
     "metadata": {},
     "output_type": "execute_result"
    }
   ],
   "source": [
    "cluster_ts.common_labels"
   ]
  },
  {
   "cell_type": "code",
   "execution_count": null,
   "id": "e0f6ca46",
   "metadata": {},
   "outputs": [],
   "source": [
    "cluster_ts.cluster_list[0].labels.head()"
   ]
  },
  {
   "cell_type": "code",
   "execution_count": null,
   "id": "a80f008d",
   "metadata": {},
   "outputs": [],
   "source": [
    "cluster = cl.Cluster(subregions=subregions, df_data=pd.read_csv(data_dir.loc[data_dir['year'] == 2019, 'dir'].values[0]), mapping=mapping, points=cluster_ts.common_labels, passes=6)\n",
    "cluster.reload_state(filname_prefix=\"temp_test/test3\", filename_postfix=\"_state\")\n",
    "\n",
    "cluster.labels.head()"
   ]
  }
 ],
 "metadata": {
  "kernelspec": {
   "display_name": "gee",
   "language": "python",
   "name": "python3"
  },
  "language_info": {
   "codemirror_mode": {
    "name": "ipython",
    "version": 3
   },
   "file_extension": ".py",
   "mimetype": "text/x-python",
   "name": "python",
   "nbconvert_exporter": "python",
   "pygments_lexer": "ipython3",
   "version": "3.8.20"
  }
 },
 "nbformat": 4,
 "nbformat_minor": 5
}
