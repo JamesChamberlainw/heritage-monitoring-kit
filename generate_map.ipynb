{
 "cells": [
  {
   "cell_type": "code",
   "execution_count": 1,
   "id": "55fa7315",
   "metadata": {},
   "outputs": [],
   "source": [
    "import os\n",
    "import json\n",
    "import fiona\n",
    "import geemap\n",
    "import numpy as np\n",
    "import pandas as pd\n",
    "import geopandas as gpd\n",
    "import xml.etree.ElementTree as ET\n",
    "\n",
    "from collections import Counter\n",
    "\n",
    "from shapely.geometry import shape\n",
    "from shapely.geometry import Point\n",
    "\n",
    "# Gee and EE \n",
    "import ee\n",
    "\n",
    "# Clustering (best for testing** due to speed)\n",
    "from sklearn.cluster import KMeans\n",
    "\n",
    "# tif file creation\n",
    "import rasterio\n",
    "from rasterio.transform import from_origin\n",
    "from rasterio.features import rasterize\n",
    "\n",
    "# Plotting and Vis \n",
    "import seaborn as sns\n",
    "import matplotlib.pyplot as plt\n",
    "from mpl_toolkits.mplot3d import Axes3D\n",
    "from matplotlib import cm\n",
    "\n",
    "import re"
   ]
  },
  {
   "cell_type": "code",
   "execution_count": 2,
   "id": "6937ae28",
   "metadata": {},
   "outputs": [
    {
     "data": {
      "text/html": [
       "\n",
       "            <style>\n",
       "                .geemap-dark {\n",
       "                    --jp-widgets-color: white;\n",
       "                    --jp-widgets-label-color: white;\n",
       "                    --jp-ui-font-color1: white;\n",
       "                    --jp-layout-color2: #454545;\n",
       "                    background-color: #383838;\n",
       "                }\n",
       "\n",
       "                .geemap-dark .jupyter-button {\n",
       "                    --jp-layout-color3: #383838;\n",
       "                }\n",
       "\n",
       "                .geemap-colab {\n",
       "                    background-color: var(--colab-primary-surface-color, white);\n",
       "                }\n",
       "\n",
       "                .geemap-colab .jupyter-button {\n",
       "                    --jp-layout-color3: var(--colab-primary-surface-color, white);\n",
       "                }\n",
       "            </style>\n",
       "            "
      ],
      "text/plain": [
       "<IPython.core.display.HTML object>"
      ]
     },
     "metadata": {},
     "output_type": "display_data"
    }
   ],
   "source": [
    "# Initialise\n",
    "ee.Authenticate()\n",
    "ee.Initialize(project=\"jameswilliamchamberlain\")"
   ]
  },
  {
   "cell_type": "code",
   "execution_count": 3,
   "id": "b6c51023",
   "metadata": {},
   "outputs": [
    {
     "data": {
      "text/html": [
       "\n",
       "            <style>\n",
       "                .geemap-dark {\n",
       "                    --jp-widgets-color: white;\n",
       "                    --jp-widgets-label-color: white;\n",
       "                    --jp-ui-font-color1: white;\n",
       "                    --jp-layout-color2: #454545;\n",
       "                    background-color: #383838;\n",
       "                }\n",
       "\n",
       "                .geemap-dark .jupyter-button {\n",
       "                    --jp-layout-color3: #383838;\n",
       "                }\n",
       "\n",
       "                .geemap-colab {\n",
       "                    background-color: var(--colab-primary-surface-color, white);\n",
       "                }\n",
       "\n",
       "                .geemap-colab .jupyter-button {\n",
       "                    --jp-layout-color3: var(--colab-primary-surface-color, white);\n",
       "                }\n",
       "            </style>\n",
       "            "
      ],
      "text/plain": [
       "<IPython.core.display.HTML object>"
      ]
     },
     "metadata": {},
     "output_type": "display_data"
    }
   ],
   "source": [
    "# basemap \n",
    "basemap_url = 'https://mt1.google.com/vt/lyrs=y&x={x}&y={y}&z={z}'\n",
    "\n",
    "# centeral point of Samarra \n",
    "df_sites = pd.DataFrame({\n",
    "    \"longitude\": [43.823543],\n",
    "    \"latitude\": [34.340989],\n",
    "    \"name\": [\"Samarra Archaeological City\"],\n",
    "    \"category\": [\"Cultural\"],\n",
    "    \"date inscribed\": [\"2007\"],\n",
    "    \"region\": [\"Arab States\"],\n",
    "    \"url\": [\"https://whc.unesco.org/en/list/276\"],\n",
    "    \"iso\": [[\"IQ\"]]\n",
    "})\n",
    "\n",
    "# Chunks of Samarra Archaeological City \n",
    "with fiona.open(\"chunks_new.shp\") as src:\n",
    "    chunks = gpd.GeoDataFrame.from_features(src, crs=src.crs)"
   ]
  },
  {
   "cell_type": "code",
   "execution_count": null,
   "id": "8c65ec00",
   "metadata": {},
   "outputs": [],
   "source": []
  },
  {
   "cell_type": "code",
   "execution_count": 4,
   "id": "8732864f",
   "metadata": {},
   "outputs": [
    {
     "data": {
      "text/html": [
       "\n",
       "            <style>\n",
       "                .geemap-dark {\n",
       "                    --jp-widgets-color: white;\n",
       "                    --jp-widgets-label-color: white;\n",
       "                    --jp-ui-font-color1: white;\n",
       "                    --jp-layout-color2: #454545;\n",
       "                    background-color: #383838;\n",
       "                }\n",
       "\n",
       "                .geemap-dark .jupyter-button {\n",
       "                    --jp-layout-color3: #383838;\n",
       "                }\n",
       "\n",
       "                .geemap-colab {\n",
       "                    background-color: var(--colab-primary-surface-color, white);\n",
       "                }\n",
       "\n",
       "                .geemap-colab .jupyter-button {\n",
       "                    --jp-layout-color3: var(--colab-primary-surface-color, white);\n",
       "                }\n",
       "            </style>\n",
       "            "
      ],
      "text/plain": [
       "<IPython.core.display.HTML object>"
      ]
     },
     "metadata": {},
     "output_type": "display_data"
    }
   ],
   "source": [
    "## TEMP REMOVE ADDITIONAL STUFF FOR QUICKER TESTING \n",
    "# tile_43641125_34108721_43915744_34336837 only \n",
    "\n",
    "chunks = chunks[chunks['file_name'] == 'tile_43641125_34108721_43915744_34336837']"
   ]
  },
  {
   "cell_type": "code",
   "execution_count": 5,
   "id": "7a2d815c",
   "metadata": {},
   "outputs": [
    {
     "data": {
      "text/html": [
       "\n",
       "            <style>\n",
       "                .geemap-dark {\n",
       "                    --jp-widgets-color: white;\n",
       "                    --jp-widgets-label-color: white;\n",
       "                    --jp-ui-font-color1: white;\n",
       "                    --jp-layout-color2: #454545;\n",
       "                    background-color: #383838;\n",
       "                }\n",
       "\n",
       "                .geemap-dark .jupyter-button {\n",
       "                    --jp-layout-color3: #383838;\n",
       "                }\n",
       "\n",
       "                .geemap-colab {\n",
       "                    background-color: var(--colab-primary-surface-color, white);\n",
       "                }\n",
       "\n",
       "                .geemap-colab .jupyter-button {\n",
       "                    --jp-layout-color3: var(--colab-primary-surface-color, white);\n",
       "                }\n",
       "            </style>\n",
       "            "
      ],
      "text/plain": [
       "<IPython.core.display.HTML object>"
      ]
     },
     "metadata": {},
     "output_type": "display_data"
    },
    {
     "data": {
      "application/vnd.jupyter.widget-view+json": {
       "model_id": "8ef2677377b74baf9066a68ebb026875",
       "version_major": 2,
       "version_minor": 0
      },
      "text/plain": [
       "Map(center=[34.340989, 43.823543], controls=(WidgetControl(options=['position', 'transparent_bg'], widget=Sear…"
      ]
     },
     "execution_count": 5,
     "metadata": {},
     "output_type": "execute_result"
    }
   ],
   "source": [
    "m = geemap.Map()\n",
    "\n",
    "if df_sites.empty:\n",
    "    print(\"No sites found for the specified URL.\")\n",
    "else:\n",
    "    m.add_points_from_xy(df_sites, x=\"longitude\", y=\"latitude\", layer_name=\"Sites\")\n",
    "    center_points = df_sites[['longitude', 'latitude']].mean().values\n",
    "    m.setCenter(center_points[0], center_points[1], 10)\n",
    "\n",
    "m.add_basemap(basemap_url, name=\"Google Satellite\", attribution=\"Google\")\n",
    "\n",
    "# add chunks from aoi \n",
    "m.add_gdf(chunks, layer_name=\"AOI\", style={\"color\": \"red\", \"fillColor\": \"red\", \"fillOpacity\": 0.1})\n",
    "\n",
    "m"
   ]
  },
  {
   "cell_type": "code",
   "execution_count": 6,
   "id": "13096b35",
   "metadata": {},
   "outputs": [
    {
     "data": {
      "text/html": [
       "\n",
       "            <style>\n",
       "                .geemap-dark {\n",
       "                    --jp-widgets-color: white;\n",
       "                    --jp-widgets-label-color: white;\n",
       "                    --jp-ui-font-color1: white;\n",
       "                    --jp-layout-color2: #454545;\n",
       "                    background-color: #383838;\n",
       "                }\n",
       "\n",
       "                .geemap-dark .jupyter-button {\n",
       "                    --jp-layout-color3: #383838;\n",
       "                }\n",
       "\n",
       "                .geemap-colab {\n",
       "                    background-color: var(--colab-primary-surface-color, white);\n",
       "                }\n",
       "\n",
       "                .geemap-colab .jupyter-button {\n",
       "                    --jp-layout-color3: var(--colab-primary-surface-color, white);\n",
       "                }\n",
       "            </style>\n",
       "            "
      ],
      "text/plain": [
       "<IPython.core.display.HTML object>"
      ]
     },
     "metadata": {},
     "output_type": "display_data"
    }
   ],
   "source": [
    "def create_subregions(chunks, sift_percentage_lon=0.5, sift_percentage_lat=0.415):\n",
    "    \"\"\"\n",
    "        Shifts all polygons to 8 positions based on half the length in longitude and latitude, to create subregions - one for each direction from the center.\n",
    "\n",
    "        Assumes aoi contains all similar polygons, and are similar to a square.\n",
    "\n",
    "        Parameters:\n",
    "            aoi (GeoDataFrame): The area of interest containing geometries.\n",
    "            sift_percentage (float): Percentage of the length to shift the center point. Default is 0.5 (50%) for half the length.\n",
    "    \"\"\"\n",
    "\n",
    "    if chunks.empty:\n",
    "        return {}\n",
    "    \n",
    "    first_polygon = chunks.geometry.iloc[0]\n",
    "\n",
    "    # take top two points of the polygon and get the length between them\n",
    "    top_points = first_polygon.exterior.coords[:2]\n",
    "    length_lon = abs(top_points[0][0] - top_points[1][0])\n",
    "\n",
    "    # calculate the shift amount\n",
    "    shift_amount_lon = length_lon * sift_percentage_lon \n",
    "    shift_amount_lat = length_lon * sift_percentage_lat\n",
    "\n",
    "    shift_directions = {\n",
    "        \"left\": (-shift_amount_lon, 0),\n",
    "        \"right\": (shift_amount_lon, 0),\n",
    "        \"up\": (0, shift_amount_lat),\n",
    "        \"down\": (0, -shift_amount_lat),\n",
    "        \"top_left\": (-shift_amount_lon, shift_amount_lat),\n",
    "        \"top_right\": (shift_amount_lon, shift_amount_lat),\n",
    "        \"bottom_left\": (-shift_amount_lon, -shift_amount_lat),\n",
    "        \"bottom_right\": (shift_amount_lon, -shift_amount_lat),\n",
    "    }\n",
    "\n",
    "    subregions = []\n",
    "        \n",
    "    # Create subregions by shifting the geometries in all directions\n",
    "    for _, (dx, dy) in shift_directions.items():\n",
    "        gdf_shifted = chunks.copy()\n",
    "        gdf_shifted[\"geometry\"] = gdf_shifted[\"geometry\"].translate(dx, dy)\n",
    "        subregions.append(gdf_shifted)\n",
    "\n",
    "    # Combine all into one GeoDataFrame\n",
    "    subregions = pd.concat(subregions, ignore_index=True)\n",
    "    return gpd.GeoDataFrame(subregions, crs=chunks.crs)\n",
    "\n",
    "def clip(chunks, aoi):\n",
    "    \"\"\"\n",
    "        Clips the chunks or subregions to the area of interest (aoi).\n",
    "\n",
    "        Parameters:\n",
    "            chunks (GeoDataFrame):      The chunks or subregions to be clipped.\n",
    "            aoi (GeoDataFrame):         The area of interest (aoi) to clip the chunks against.\n",
    "    \"\"\"\n",
    "\n",
    "    # clip to aoi \n",
    "    if chunks.empty or aoi.empty:\n",
    "        return gpd.GeoDataFrame(columns=chunks.columns.tolist(), crs=chunks.crs)\n",
    "    clipped = gpd.clip(chunks, aoi)\n",
    "    clipped = clipped[clipped.geometry.notnull()]  # Remove any null geometries\n",
    "\n",
    "    return clipped.reset_index(drop=True)\n",
    "\n",
    "subregions = create_subregions(chunks)\n",
    "subregions = clip(subregions, aoi=chunks.dissolve())\n",
    "\n",
    "# plot as one \n",
    "m.add_gdf(subregions, layer_name=\"Subregions\", style={\"color\": \"blue\", \"fillColor\": \"blue\", \"fillOpacity\": 0.1})"
   ]
  },
  {
   "cell_type": "markdown",
   "id": "1721056f",
   "metadata": {},
   "source": [
    "# Reference Points"
   ]
  },
  {
   "cell_type": "code",
   "execution_count": 7,
   "id": "c7d2ba52",
   "metadata": {},
   "outputs": [
    {
     "data": {
      "text/html": [
       "\n",
       "            <style>\n",
       "                .geemap-dark {\n",
       "                    --jp-widgets-color: white;\n",
       "                    --jp-widgets-label-color: white;\n",
       "                    --jp-ui-font-color1: white;\n",
       "                    --jp-layout-color2: #454545;\n",
       "                    background-color: #383838;\n",
       "                }\n",
       "\n",
       "                .geemap-dark .jupyter-button {\n",
       "                    --jp-layout-color3: #383838;\n",
       "                }\n",
       "\n",
       "                .geemap-colab {\n",
       "                    background-color: var(--colab-primary-surface-color, white);\n",
       "                }\n",
       "\n",
       "                .geemap-colab .jupyter-button {\n",
       "                    --jp-layout-color3: var(--colab-primary-surface-color, white);\n",
       "                }\n",
       "            </style>\n",
       "            "
      ],
      "text/plain": [
       "<IPython.core.display.HTML object>"
      ]
     },
     "metadata": {},
     "output_type": "display_data"
    }
   ],
   "source": [
    "def collect_points_from_geemap(map_obj, label):\n",
    "    \"\"\"\n",
    "    Collect all drawn point features from a geemap.Map that uses ee.Feature objects,\n",
    "    and return them as a GeoDataFrame with a label.\n",
    "\n",
    "    Parameters:\n",
    "        map_obj (geemap.Map): The interactive map.\n",
    "        label (str): Label to assign to all collected points.\n",
    "\n",
    "    Returns:\n",
    "        GeoDataFrame: With geometry and 'label' columns.\n",
    "    \"\"\"\n",
    "\n",
    "    features = map_obj.draw_features\n",
    "\n",
    "    if not features:\n",
    "        return gpd.GeoDataFrame(columns=[\"geometry\", \"label\"], geometry=\"geometry\")\n",
    "\n",
    "    points = []\n",
    "    for f in features:\n",
    "        try:\n",
    "            geom = f.geometry()  # call the method\n",
    "            if geom.getInfo()[\"type\"] == \"Point\":\n",
    "                coords = geom.coordinates().getInfo()  # [lon, lat]\n",
    "                points.append(Point(coords))\n",
    "        except Exception as e:\n",
    "            print(\"Skipping feature due to error:\", e)\n",
    "\n",
    "    if not points:\n",
    "        return gpd.GeoDataFrame(columns=[\"geometry\", \"label\"], geometry=\"geometry\")\n",
    "\n",
    "    gdf = gpd.GeoDataFrame(geometry=points)\n",
    "    gdf[\"label\"] = label\n",
    "    gdf.set_crs(\"EPSG:4326\", inplace=True)\n",
    "    return gdf\n",
    "\n",
    "def gen_basemap(basemap_url=None, aoi=gpd.GeoDataFrame(), polygons=None):\n",
    "    \"\"\"\n",
    "        Generates a basemap with the specified URL and adds polygons if provided.\n",
    "\n",
    "        Parameters:\n",
    "            basemap_url (str): The URL of the basemap to be used.\n",
    "            polygons (GeoDataFrame, optional): Polygons to be added to the map. Defaults to None.\n",
    "            aoi (GeoDataFrame): The area of interest to be displayed on the map. (can be a set of polygons or a single polygon)\n",
    "        \n",
    "        Returns:\n",
    "            geemap.Map: A geemap map object with the specified basemap and polygons.\n",
    "    \"\"\"\n",
    "    m = geemap.Map()\n",
    "\n",
    "    if not basemap_url:\n",
    "        basemap_url = 'https://mt1.google.com/vt/lyrs=y&x={x}&y={y}&z={z}'\n",
    "        \n",
    "    m.add_basemap(basemap_url, name=\"Google Satellite\", attribution=\"Google\")\n",
    "\n",
    "    # center on aoi\n",
    "    if not aoi.empty:\n",
    "        m.add_gdf(aoi, layer_name=\"AOI\", style={\"color\": \"red\", \"fillColor\": \"red\", \"fillOpacity\": 0.1})\n",
    "        center_points = aoi.geometry.unary_union.centroid.coords[0]\n",
    "        m.setCenter(center_points[0], center_points[1], 10)\n",
    "    \n",
    "    if polygons is not None:\n",
    "        m.add_gdf(polygons, layer_name=\"Polygons\", style={\"color\": \"red\", \"fillColor\": \"red\", \"fillOpacity\": 0.1})\n",
    "    \n",
    "    return m"
   ]
  },
  {
   "cell_type": "code",
   "execution_count": 8,
   "id": "879236a7",
   "metadata": {},
   "outputs": [
    {
     "data": {
      "text/html": [
       "\n",
       "            <style>\n",
       "                .geemap-dark {\n",
       "                    --jp-widgets-color: white;\n",
       "                    --jp-widgets-label-color: white;\n",
       "                    --jp-ui-font-color1: white;\n",
       "                    --jp-layout-color2: #454545;\n",
       "                    background-color: #383838;\n",
       "                }\n",
       "\n",
       "                .geemap-dark .jupyter-button {\n",
       "                    --jp-layout-color3: #383838;\n",
       "                }\n",
       "\n",
       "                .geemap-colab {\n",
       "                    background-color: var(--colab-primary-surface-color, white);\n",
       "                }\n",
       "\n",
       "                .geemap-colab .jupyter-button {\n",
       "                    --jp-layout-color3: var(--colab-primary-surface-color, white);\n",
       "                }\n",
       "            </style>\n",
       "            "
      ],
      "text/plain": [
       "<IPython.core.display.HTML object>"
      ]
     },
     "metadata": {},
     "output_type": "display_data"
    }
   ],
   "source": [
    "# Example of 3 maps for urban, agricultrual, water and waste\n",
    "urban_map = gen_basemap(basemap_url, aoi=chunks)\n",
    "agricultural_map = gen_basemap(basemap_url, aoi=chunks)\n",
    "water_map = gen_basemap(basemap_url, aoi=chunks)\n",
    "wasteland_map = gen_basemap(basemap_url, aoi=chunks)\n",
    "# wasteland_map = geemap.Map()"
   ]
  },
  {
   "cell_type": "code",
   "execution_count": 9,
   "id": "fa3c916a",
   "metadata": {},
   "outputs": [
    {
     "data": {
      "text/html": [
       "\n",
       "            <style>\n",
       "                .geemap-dark {\n",
       "                    --jp-widgets-color: white;\n",
       "                    --jp-widgets-label-color: white;\n",
       "                    --jp-ui-font-color1: white;\n",
       "                    --jp-layout-color2: #454545;\n",
       "                    background-color: #383838;\n",
       "                }\n",
       "\n",
       "                .geemap-dark .jupyter-button {\n",
       "                    --jp-layout-color3: #383838;\n",
       "                }\n",
       "\n",
       "                .geemap-colab {\n",
       "                    background-color: var(--colab-primary-surface-color, white);\n",
       "                }\n",
       "\n",
       "                .geemap-colab .jupyter-button {\n",
       "                    --jp-layout-color3: var(--colab-primary-surface-color, white);\n",
       "                }\n",
       "            </style>\n",
       "            "
      ],
      "text/plain": [
       "<IPython.core.display.HTML object>"
      ]
     },
     "metadata": {},
     "output_type": "display_data"
    },
    {
     "data": {
      "application/vnd.jupyter.widget-view+json": {
       "model_id": "7c335007f5eb484685b339de0be3174e",
       "version_major": 2,
       "version_minor": 0
      },
      "text/plain": [
       "Map(center=[34.22277923307027, 43.77843455433748], controls=(WidgetControl(options=['position', 'transparent_b…"
      ]
     },
     "execution_count": 9,
     "metadata": {},
     "output_type": "execute_result"
    }
   ],
   "source": [
    "urban_map"
   ]
  },
  {
   "cell_type": "code",
   "execution_count": 10,
   "id": "5ddb6019",
   "metadata": {},
   "outputs": [
    {
     "data": {
      "text/html": [
       "\n",
       "            <style>\n",
       "                .geemap-dark {\n",
       "                    --jp-widgets-color: white;\n",
       "                    --jp-widgets-label-color: white;\n",
       "                    --jp-ui-font-color1: white;\n",
       "                    --jp-layout-color2: #454545;\n",
       "                    background-color: #383838;\n",
       "                }\n",
       "\n",
       "                .geemap-dark .jupyter-button {\n",
       "                    --jp-layout-color3: #383838;\n",
       "                }\n",
       "\n",
       "                .geemap-colab {\n",
       "                    background-color: var(--colab-primary-surface-color, white);\n",
       "                }\n",
       "\n",
       "                .geemap-colab .jupyter-button {\n",
       "                    --jp-layout-color3: var(--colab-primary-surface-color, white);\n",
       "                }\n",
       "            </style>\n",
       "            "
      ],
      "text/plain": [
       "<IPython.core.display.HTML object>"
      ]
     },
     "metadata": {},
     "output_type": "display_data"
    },
    {
     "data": {
      "application/vnd.jupyter.widget-view+json": {
       "model_id": "68049a5b29d8423fa226e218b8aefa6d",
       "version_major": 2,
       "version_minor": 0
      },
      "text/plain": [
       "Map(center=[34.22277923307027, 43.77843455433748], controls=(WidgetControl(options=['position', 'transparent_b…"
      ]
     },
     "execution_count": 10,
     "metadata": {},
     "output_type": "execute_result"
    }
   ],
   "source": [
    "agricultural_map"
   ]
  },
  {
   "cell_type": "code",
   "execution_count": 11,
   "id": "c1fa3497",
   "metadata": {},
   "outputs": [
    {
     "data": {
      "text/html": [
       "\n",
       "            <style>\n",
       "                .geemap-dark {\n",
       "                    --jp-widgets-color: white;\n",
       "                    --jp-widgets-label-color: white;\n",
       "                    --jp-ui-font-color1: white;\n",
       "                    --jp-layout-color2: #454545;\n",
       "                    background-color: #383838;\n",
       "                }\n",
       "\n",
       "                .geemap-dark .jupyter-button {\n",
       "                    --jp-layout-color3: #383838;\n",
       "                }\n",
       "\n",
       "                .geemap-colab {\n",
       "                    background-color: var(--colab-primary-surface-color, white);\n",
       "                }\n",
       "\n",
       "                .geemap-colab .jupyter-button {\n",
       "                    --jp-layout-color3: var(--colab-primary-surface-color, white);\n",
       "                }\n",
       "            </style>\n",
       "            "
      ],
      "text/plain": [
       "<IPython.core.display.HTML object>"
      ]
     },
     "metadata": {},
     "output_type": "display_data"
    },
    {
     "data": {
      "application/vnd.jupyter.widget-view+json": {
       "model_id": "88b3e191848a4663a9e60cad0402a05c",
       "version_major": 2,
       "version_minor": 0
      },
      "text/plain": [
       "Map(center=[34.22277923307027, 43.77843455433748], controls=(WidgetControl(options=['position', 'transparent_b…"
      ]
     },
     "execution_count": 11,
     "metadata": {},
     "output_type": "execute_result"
    }
   ],
   "source": [
    "# water_map = water_waste_map\n",
    "water_map"
   ]
  },
  {
   "cell_type": "code",
   "execution_count": 12,
   "id": "17cc6e1c",
   "metadata": {},
   "outputs": [
    {
     "data": {
      "text/html": [
       "\n",
       "            <style>\n",
       "                .geemap-dark {\n",
       "                    --jp-widgets-color: white;\n",
       "                    --jp-widgets-label-color: white;\n",
       "                    --jp-ui-font-color1: white;\n",
       "                    --jp-layout-color2: #454545;\n",
       "                    background-color: #383838;\n",
       "                }\n",
       "\n",
       "                .geemap-dark .jupyter-button {\n",
       "                    --jp-layout-color3: #383838;\n",
       "                }\n",
       "\n",
       "                .geemap-colab {\n",
       "                    background-color: var(--colab-primary-surface-color, white);\n",
       "                }\n",
       "\n",
       "                .geemap-colab .jupyter-button {\n",
       "                    --jp-layout-color3: var(--colab-primary-surface-color, white);\n",
       "                }\n",
       "            </style>\n",
       "            "
      ],
      "text/plain": [
       "<IPython.core.display.HTML object>"
      ]
     },
     "metadata": {},
     "output_type": "display_data"
    },
    {
     "data": {
      "application/vnd.jupyter.widget-view+json": {
       "model_id": "24ac9714e272473f9498ba58dc72369e",
       "version_major": 2,
       "version_minor": 0
      },
      "text/plain": [
       "Map(center=[34.22277923307027, 43.77843455433748], controls=(WidgetControl(options=['position', 'transparent_b…"
      ]
     },
     "execution_count": 12,
     "metadata": {},
     "output_type": "execute_result"
    }
   ],
   "source": [
    "wasteland_map"
   ]
  },
  {
   "cell_type": "code",
   "execution_count": 13,
   "id": "e410f94a",
   "metadata": {},
   "outputs": [
    {
     "data": {
      "text/html": [
       "\n",
       "            <style>\n",
       "                .geemap-dark {\n",
       "                    --jp-widgets-color: white;\n",
       "                    --jp-widgets-label-color: white;\n",
       "                    --jp-ui-font-color1: white;\n",
       "                    --jp-layout-color2: #454545;\n",
       "                    background-color: #383838;\n",
       "                }\n",
       "\n",
       "                .geemap-dark .jupyter-button {\n",
       "                    --jp-layout-color3: #383838;\n",
       "                }\n",
       "\n",
       "                .geemap-colab {\n",
       "                    background-color: var(--colab-primary-surface-color, white);\n",
       "                }\n",
       "\n",
       "                .geemap-colab .jupyter-button {\n",
       "                    --jp-layout-color3: var(--colab-primary-surface-color, white);\n",
       "                }\n",
       "            </style>\n",
       "            "
      ],
      "text/plain": [
       "<IPython.core.display.HTML object>"
      ]
     },
     "metadata": {},
     "output_type": "display_data"
    },
    {
     "data": {
      "application/vnd.jupyter.widget-view+json": {
       "model_id": "6d219b2d02254845ab097ac19a828d67",
       "version_major": 2,
       "version_minor": 0
      },
      "text/plain": [
       "Map(center=[34.22282359393232, 43.778616017576226], controls=(WidgetControl(options=['position', 'transparent_…"
      ]
     },
     "execution_count": 13,
     "metadata": {},
     "output_type": "execute_result"
    }
   ],
   "source": [
    "additional_map = gen_basemap(basemap_url, aoi=chunks)\n",
    "additional_map\n"
   ]
  },
  {
   "cell_type": "code",
   "execution_count": 14,
   "id": "72279f21",
   "metadata": {},
   "outputs": [
    {
     "data": {
      "text/html": [
       "\n",
       "            <style>\n",
       "                .geemap-dark {\n",
       "                    --jp-widgets-color: white;\n",
       "                    --jp-widgets-label-color: white;\n",
       "                    --jp-ui-font-color1: white;\n",
       "                    --jp-layout-color2: #454545;\n",
       "                    background-color: #383838;\n",
       "                }\n",
       "\n",
       "                .geemap-dark .jupyter-button {\n",
       "                    --jp-layout-color3: #383838;\n",
       "                }\n",
       "\n",
       "                .geemap-colab {\n",
       "                    background-color: var(--colab-primary-surface-color, white);\n",
       "                }\n",
       "\n",
       "                .geemap-colab .jupyter-button {\n",
       "                    --jp-layout-color3: var(--colab-primary-surface-color, white);\n",
       "                }\n",
       "            </style>\n",
       "            "
      ],
      "text/plain": [
       "<IPython.core.display.HTML object>"
      ]
     },
     "metadata": {},
     "output_type": "display_data"
    },
    {
     "data": {
      "text/html": [
       "<div>\n",
       "<style scoped>\n",
       "    .dataframe tbody tr th:only-of-type {\n",
       "        vertical-align: middle;\n",
       "    }\n",
       "\n",
       "    .dataframe tbody tr th {\n",
       "        vertical-align: top;\n",
       "    }\n",
       "\n",
       "    .dataframe thead th {\n",
       "        text-align: right;\n",
       "    }\n",
       "</style>\n",
       "<table border=\"1\" class=\"dataframe\">\n",
       "  <thead>\n",
       "    <tr style=\"text-align: right;\">\n",
       "      <th></th>\n",
       "      <th>geometry</th>\n",
       "      <th>label</th>\n",
       "    </tr>\n",
       "  </thead>\n",
       "  <tbody>\n",
       "  </tbody>\n",
       "</table>\n",
       "</div>"
      ],
      "text/plain": [
       "Empty GeoDataFrame\n",
       "Columns: [geometry, label]\n",
       "Index: []"
      ]
     },
     "execution_count": 14,
     "metadata": {},
     "output_type": "execute_result"
    }
   ],
   "source": [
    "additional_points = collect_points_from_geemap(additional_map, label=\"Urban\")\n",
    "additional_points"
   ]
  },
  {
   "cell_type": "code",
   "execution_count": 15,
   "id": "09657f66",
   "metadata": {},
   "outputs": [
    {
     "data": {
      "text/html": [
       "\n",
       "            <style>\n",
       "                .geemap-dark {\n",
       "                    --jp-widgets-color: white;\n",
       "                    --jp-widgets-label-color: white;\n",
       "                    --jp-ui-font-color1: white;\n",
       "                    --jp-layout-color2: #454545;\n",
       "                    background-color: #383838;\n",
       "                }\n",
       "\n",
       "                .geemap-dark .jupyter-button {\n",
       "                    --jp-layout-color3: #383838;\n",
       "                }\n",
       "\n",
       "                .geemap-colab {\n",
       "                    background-color: var(--colab-primary-surface-color, white);\n",
       "                }\n",
       "\n",
       "                .geemap-colab .jupyter-button {\n",
       "                    --jp-layout-color3: var(--colab-primary-surface-color, white);\n",
       "                }\n",
       "            </style>\n",
       "            "
      ],
      "text/plain": [
       "<IPython.core.display.HTML object>"
      ]
     },
     "metadata": {},
     "output_type": "display_data"
    }
   ],
   "source": [
    "# convert to labelled points in GeoDataFrame\n",
    "water_points = collect_points_from_geemap(water_map, label=\"Water\")\n",
    "agricultural_points = collect_points_from_geemap(agricultural_map, label=\"Agricultural\")\n",
    "urban_points = collect_points_from_geemap(urban_map, label=\"Urban\")\n",
    "wasteland_map = collect_points_from_geemap(wasteland_map, label=\"Wasteland\")\n",
    "\n",
    "# merge into one GeoDataFrame\n",
    "points_list = [water_points, agricultural_points, urban_points, wasteland_map]\n",
    "labels = pd.concat(points_list, ignore_index=True)\n"
   ]
  },
  {
   "cell_type": "markdown",
   "id": "d4e15ae6",
   "metadata": {},
   "source": [
    "# Clustering\n",
    "Here we create a Sparse matrix\n",
    "\n",
    "then with the sparse matrix compare and label based on that"
   ]
  },
  {
   "cell_type": "code",
   "execution_count": 16,
   "id": "3bb927e7",
   "metadata": {},
   "outputs": [
    {
     "data": {
      "text/html": [
       "\n",
       "            <style>\n",
       "                .geemap-dark {\n",
       "                    --jp-widgets-color: white;\n",
       "                    --jp-widgets-label-color: white;\n",
       "                    --jp-ui-font-color1: white;\n",
       "                    --jp-layout-color2: #454545;\n",
       "                    background-color: #383838;\n",
       "                }\n",
       "\n",
       "                .geemap-dark .jupyter-button {\n",
       "                    --jp-layout-color3: #383838;\n",
       "                }\n",
       "\n",
       "                .geemap-colab {\n",
       "                    background-color: var(--colab-primary-surface-color, white);\n",
       "                }\n",
       "\n",
       "                .geemap-colab .jupyter-button {\n",
       "                    --jp-layout-color3: var(--colab-primary-surface-color, white);\n",
       "                }\n",
       "            </style>\n",
       "            "
      ],
      "text/plain": [
       "<IPython.core.display.HTML object>"
      ]
     },
     "metadata": {},
     "output_type": "display_data"
    },
    {
     "name": "stdout",
     "output_type": "stream",
     "text": [
      "Found 6 CSV files.\n"
     ]
    },
    {
     "data": {
      "text/plain": [
       "['data/2019.csv']"
      ]
     },
     "execution_count": 16,
     "metadata": {},
     "output_type": "execute_result"
    }
   ],
   "source": [
    "pth = \"data/\"\n",
    "\n",
    "# collect paths for all csv files in the folder\n",
    "paths = []\n",
    "\n",
    "for root, dirs, files in os.walk(pth):\n",
    "    for file in files:\n",
    "        if file.endswith(\".csv\"):\n",
    "            paths.append(os.path.join(root, file))\n",
    "\n",
    "print(f\"Found {len(paths)} CSV files.\")\n",
    "\n",
    "# select 2024 \n",
    "path = [p for p in paths if \"2019\" in p]\n",
    "path\n"
   ]
  },
  {
   "cell_type": "code",
   "execution_count": 17,
   "id": "35a6bd81",
   "metadata": {},
   "outputs": [
    {
     "data": {
      "text/html": [
       "\n",
       "            <style>\n",
       "                .geemap-dark {\n",
       "                    --jp-widgets-color: white;\n",
       "                    --jp-widgets-label-color: white;\n",
       "                    --jp-ui-font-color1: white;\n",
       "                    --jp-layout-color2: #454545;\n",
       "                    background-color: #383838;\n",
       "                }\n",
       "\n",
       "                .geemap-dark .jupyter-button {\n",
       "                    --jp-layout-color3: #383838;\n",
       "                }\n",
       "\n",
       "                .geemap-colab {\n",
       "                    background-color: var(--colab-primary-surface-color, white);\n",
       "                }\n",
       "\n",
       "                .geemap-colab .jupyter-button {\n",
       "                    --jp-layout-color3: var(--colab-primary-surface-color, white);\n",
       "                }\n",
       "            </style>\n",
       "            "
      ],
      "text/plain": [
       "<IPython.core.display.HTML object>"
      ]
     },
     "metadata": {},
     "output_type": "display_data"
    }
   ],
   "source": [
    "def prep_data(dir):\n",
    "    \"\"\"Creates two dataframes from a CSV file, one ready for clustering with additional columns removed and the other with all columns left intact.\"\"\"\n",
    "    df1 = pd.read_csv(dir)\n",
    "    df1 = df1.dropna()\n",
    "    df2_clear = df1.copy()\n",
    "    df2_clear = df2_clear.drop(columns=[\"system:index\", \".geo\"])\n",
    "    df2_clear = df2_clear.set_index(\"file_name\")\n",
    "    df1 = df1.set_index(\"file_name\")\n",
    "    df2_clear = df2_clear.apply(pd.to_numeric, errors='coerce')\n",
    "\n",
    "    return df1, df2_clear\n",
    "\n",
    "df1, df2_clear = prep_data(path[0])\n",
    "\n",
    "mapping = {\n",
    "            None: 0,\n",
    "            np.NaN: 0,\n",
    "            \"NaN\": 0,\n",
    "            \"None\": 0,\n",
    "            \"Water\": 1,\n",
    "            \"Agricultural\": 2,\n",
    "            \"Urban\": 3,\n",
    "            \"Wasteland\": 4,\n",
    "        }"
   ]
  },
  {
   "cell_type": "code",
   "execution_count": 18,
   "id": "535a9636",
   "metadata": {},
   "outputs": [
    {
     "data": {
      "text/html": [
       "\n",
       "            <style>\n",
       "                .geemap-dark {\n",
       "                    --jp-widgets-color: white;\n",
       "                    --jp-widgets-label-color: white;\n",
       "                    --jp-ui-font-color1: white;\n",
       "                    --jp-layout-color2: #454545;\n",
       "                    background-color: #383838;\n",
       "                }\n",
       "\n",
       "                .geemap-dark .jupyter-button {\n",
       "                    --jp-layout-color3: #383838;\n",
       "                }\n",
       "\n",
       "                .geemap-colab {\n",
       "                    background-color: var(--colab-primary-surface-color, white);\n",
       "                }\n",
       "\n",
       "                .geemap-colab .jupyter-button {\n",
       "                    --jp-layout-color3: var(--colab-primary-surface-color, white);\n",
       "                }\n",
       "            </style>\n",
       "            "
      ],
      "text/plain": [
       "<IPython.core.display.HTML object>"
      ]
     },
     "metadata": {},
     "output_type": "display_data"
    }
   ],
   "source": [
    "import cluster as cl "
   ]
  },
  {
   "cell_type": "code",
   "execution_count": null,
   "id": "6bf5374a",
   "metadata": {},
   "outputs": [
    {
     "data": {
      "text/html": [
       "\n",
       "            <style>\n",
       "                .geemap-dark {\n",
       "                    --jp-widgets-color: white;\n",
       "                    --jp-widgets-label-color: white;\n",
       "                    --jp-ui-font-color1: white;\n",
       "                    --jp-layout-color2: #454545;\n",
       "                    background-color: #383838;\n",
       "                }\n",
       "\n",
       "                .geemap-dark .jupyter-button {\n",
       "                    --jp-layout-color3: #383838;\n",
       "                }\n",
       "\n",
       "                .geemap-colab {\n",
       "                    background-color: var(--colab-primary-surface-color, white);\n",
       "                }\n",
       "\n",
       "                .geemap-colab .jupyter-button {\n",
       "                    --jp-layout-color3: var(--colab-primary-surface-color, white);\n",
       "                }\n",
       "            </style>\n",
       "            "
      ],
      "text/plain": [
       "<IPython.core.display.HTML object>"
      ]
     },
     "metadata": {},
     "output_type": "display_data"
    }
   ],
   "source": [
    "cluster = cl.Cluster(chunks, df1, points=labels, mapping=mapping, passes=6)\n",
    "cluster.reload_state(filname_prefix=\"temp_test/test3\", filename_postfix=\"_state\")"
   ]
  },
  {
   "cell_type": "code",
   "execution_count": null,
   "id": "b5763c2d",
   "metadata": {},
   "outputs": [
    {
     "data": {
      "text/html": [
       "\n",
       "            <style>\n",
       "                .geemap-dark {\n",
       "                    --jp-widgets-color: white;\n",
       "                    --jp-widgets-label-color: white;\n",
       "                    --jp-ui-font-color1: white;\n",
       "                    --jp-layout-color2: #454545;\n",
       "                    background-color: #383838;\n",
       "                }\n",
       "\n",
       "                .geemap-dark .jupyter-button {\n",
       "                    --jp-layout-color3: #383838;\n",
       "                }\n",
       "\n",
       "                .geemap-colab {\n",
       "                    background-color: var(--colab-primary-surface-color, white);\n",
       "                }\n",
       "\n",
       "                .geemap-colab .jupyter-button {\n",
       "                    --jp-layout-color3: var(--colab-primary-surface-color, white);\n",
       "                }\n",
       "            </style>\n",
       "            "
      ],
      "text/plain": [
       "<IPython.core.display.HTML object>"
      ]
     },
     "metadata": {},
     "output_type": "display_data"
    },
    {
     "data": {
      "text/html": [
       "<div>\n",
       "<style scoped>\n",
       "    .dataframe tbody tr th:only-of-type {\n",
       "        vertical-align: middle;\n",
       "    }\n",
       "\n",
       "    .dataframe tbody tr th {\n",
       "        vertical-align: top;\n",
       "    }\n",
       "\n",
       "    .dataframe thead th {\n",
       "        text-align: right;\n",
       "    }\n",
       "</style>\n",
       "<table border=\"1\" class=\"dataframe\">\n",
       "  <thead>\n",
       "    <tr style=\"text-align: right;\">\n",
       "      <th></th>\n",
       "      <th>label</th>\n",
       "      <th>system:index</th>\n",
       "      <th>0_B1</th>\n",
       "      <th>0_B11</th>\n",
       "      <th>0_B12</th>\n",
       "      <th>0_B2</th>\n",
       "      <th>0_B3</th>\n",
       "      <th>0_B4</th>\n",
       "      <th>0_B5</th>\n",
       "      <th>0_B6</th>\n",
       "      <th>...</th>\n",
       "      <th>9_B2</th>\n",
       "      <th>9_B3</th>\n",
       "      <th>9_B4</th>\n",
       "      <th>9_B5</th>\n",
       "      <th>9_B6</th>\n",
       "      <th>9_B7</th>\n",
       "      <th>9_B8</th>\n",
       "      <th>9_B8A</th>\n",
       "      <th>9_B9</th>\n",
       "      <th>.geo</th>\n",
       "    </tr>\n",
       "    <tr>\n",
       "      <th>file_name</th>\n",
       "      <th></th>\n",
       "      <th></th>\n",
       "      <th></th>\n",
       "      <th></th>\n",
       "      <th></th>\n",
       "      <th></th>\n",
       "      <th></th>\n",
       "      <th></th>\n",
       "      <th></th>\n",
       "      <th></th>\n",
       "      <th></th>\n",
       "      <th></th>\n",
       "      <th></th>\n",
       "      <th></th>\n",
       "      <th></th>\n",
       "      <th></th>\n",
       "      <th></th>\n",
       "      <th></th>\n",
       "      <th></th>\n",
       "      <th></th>\n",
       "      <th></th>\n",
       "    </tr>\n",
       "  </thead>\n",
       "  <tbody>\n",
       "    <tr>\n",
       "      <th>tile_43997486_34112017_43998137_34112113</th>\n",
       "      <td>None</td>\n",
       "      <td>1_1_1_1_1_1_1_1_1_1_1_1_1_1_1_1_1_1_1_1_1_1_1_...</td>\n",
       "      <td>769.925866</td>\n",
       "      <td>3322.198887</td>\n",
       "      <td>2644.624125</td>\n",
       "      <td>1128.620894</td>\n",
       "      <td>1753.336923</td>\n",
       "      <td>2010.568300</td>\n",
       "      <td>2634.353258</td>\n",
       "      <td>3302.266379</td>\n",
       "      <td>...</td>\n",
       "      <td>1855.620740</td>\n",
       "      <td>2541.523502</td>\n",
       "      <td>3334.350796</td>\n",
       "      <td>3648.235249</td>\n",
       "      <td>3713.545965</td>\n",
       "      <td>3826.787522</td>\n",
       "      <td>3871.171013</td>\n",
       "      <td>3920.213786</td>\n",
       "      <td>3837.507039</td>\n",
       "      <td>{\"type\":\"Polygon\",\"coordinates\":[[[43.99813739...</td>\n",
       "    </tr>\n",
       "    <tr>\n",
       "      <th>tile_44104382_34112843_44105034_34112938</th>\n",
       "      <td>None</td>\n",
       "      <td>1_1_1_1_1_1_1_1_1_1_1_1_1_1_1_1_1_1_1_1_1_1_1_...</td>\n",
       "      <td>298.404905</td>\n",
       "      <td>2157.473569</td>\n",
       "      <td>1582.494005</td>\n",
       "      <td>528.488556</td>\n",
       "      <td>831.356676</td>\n",
       "      <td>934.839237</td>\n",
       "      <td>1352.791826</td>\n",
       "      <td>1881.520708</td>\n",
       "      <td>...</td>\n",
       "      <td>547.670409</td>\n",
       "      <td>801.668174</td>\n",
       "      <td>662.603379</td>\n",
       "      <td>1236.062398</td>\n",
       "      <td>2438.234332</td>\n",
       "      <td>2861.378801</td>\n",
       "      <td>3031.939292</td>\n",
       "      <td>3114.423978</td>\n",
       "      <td>2432.149682</td>\n",
       "      <td>{\"type\":\"Polygon\",\"coordinates\":[[[44.10438435...</td>\n",
       "    </tr>\n",
       "    <tr>\n",
       "      <th>tile_43998136_34112022_43999221_34112122</th>\n",
       "      <td>None</td>\n",
       "      <td>1_1_1_1_1_1_1_1_1_1_1_1_1_1_1_1_1_1_1_1_1_1_1_...</td>\n",
       "      <td>528.454970</td>\n",
       "      <td>2495.875662</td>\n",
       "      <td>1713.649631</td>\n",
       "      <td>640.474810</td>\n",
       "      <td>1152.119767</td>\n",
       "      <td>1171.487171</td>\n",
       "      <td>1786.087047</td>\n",
       "      <td>3059.746338</td>\n",
       "      <td>...</td>\n",
       "      <td>1154.201264</td>\n",
       "      <td>1593.018742</td>\n",
       "      <td>2124.370565</td>\n",
       "      <td>2445.911989</td>\n",
       "      <td>2515.677113</td>\n",
       "      <td>2636.289053</td>\n",
       "      <td>2605.584472</td>\n",
       "      <td>2756.973423</td>\n",
       "      <td>3091.114321</td>\n",
       "      <td>{\"type\":\"Polygon\",\"coordinates\":[[[43.99813739...</td>\n",
       "    </tr>\n",
       "    <tr>\n",
       "      <th>tile_43999220_34112031_44000305_34112130</th>\n",
       "      <td>None</td>\n",
       "      <td>1_1_1_1_1_1_1_1_1_1_1_1_1_1_1_1_1_1_1_1_1_1_1_...</td>\n",
       "      <td>335.551290</td>\n",
       "      <td>2071.815893</td>\n",
       "      <td>1344.805779</td>\n",
       "      <td>429.478019</td>\n",
       "      <td>894.811249</td>\n",
       "      <td>770.613622</td>\n",
       "      <td>1463.251290</td>\n",
       "      <td>2839.394324</td>\n",
       "      <td>...</td>\n",
       "      <td>1018.777621</td>\n",
       "      <td>1394.102079</td>\n",
       "      <td>1854.067183</td>\n",
       "      <td>2060.790668</td>\n",
       "      <td>2105.297921</td>\n",
       "      <td>2202.409155</td>\n",
       "      <td>2225.273773</td>\n",
       "      <td>2299.559797</td>\n",
       "      <td>2382.651482</td>\n",
       "      <td>{\"type\":\"Polygon\",\"coordinates\":[[[43.99922097...</td>\n",
       "    </tr>\n",
       "    <tr>\n",
       "      <th>tile_44000304_34112040_44001389_34112139</th>\n",
       "      <td>None</td>\n",
       "      <td>1_1_1_1_1_1_1_1_1_1_1_1_1_1_1_1_1_1_1_1_1_1_1_...</td>\n",
       "      <td>285.086948</td>\n",
       "      <td>1878.116894</td>\n",
       "      <td>1177.896530</td>\n",
       "      <td>406.417493</td>\n",
       "      <td>840.937113</td>\n",
       "      <td>721.051941</td>\n",
       "      <td>1302.629802</td>\n",
       "      <td>2778.296159</td>\n",
       "      <td>...</td>\n",
       "      <td>1015.020712</td>\n",
       "      <td>1386.387060</td>\n",
       "      <td>1850.829881</td>\n",
       "      <td>2059.086564</td>\n",
       "      <td>2108.126792</td>\n",
       "      <td>2208.764339</td>\n",
       "      <td>2278.053815</td>\n",
       "      <td>2330.043238</td>\n",
       "      <td>2451.489202</td>\n",
       "      <td>{\"type\":\"Polygon\",\"coordinates\":[[[44.00030452...</td>\n",
       "    </tr>\n",
       "  </tbody>\n",
       "</table>\n",
       "<p>5 rows × 147 columns</p>\n",
       "</div>"
      ],
      "text/plain": [
       "                                         label  \\\n",
       "file_name                                        \n",
       "tile_43997486_34112017_43998137_34112113  None   \n",
       "tile_44104382_34112843_44105034_34112938  None   \n",
       "tile_43998136_34112022_43999221_34112122  None   \n",
       "tile_43999220_34112031_44000305_34112130  None   \n",
       "tile_44000304_34112040_44001389_34112139  None   \n",
       "\n",
       "                                                                               system:index  \\\n",
       "file_name                                                                                     \n",
       "tile_43997486_34112017_43998137_34112113  1_1_1_1_1_1_1_1_1_1_1_1_1_1_1_1_1_1_1_1_1_1_1_...   \n",
       "tile_44104382_34112843_44105034_34112938  1_1_1_1_1_1_1_1_1_1_1_1_1_1_1_1_1_1_1_1_1_1_1_...   \n",
       "tile_43998136_34112022_43999221_34112122  1_1_1_1_1_1_1_1_1_1_1_1_1_1_1_1_1_1_1_1_1_1_1_...   \n",
       "tile_43999220_34112031_44000305_34112130  1_1_1_1_1_1_1_1_1_1_1_1_1_1_1_1_1_1_1_1_1_1_1_...   \n",
       "tile_44000304_34112040_44001389_34112139  1_1_1_1_1_1_1_1_1_1_1_1_1_1_1_1_1_1_1_1_1_1_1_...   \n",
       "\n",
       "                                                0_B1        0_B11  \\\n",
       "file_name                                                           \n",
       "tile_43997486_34112017_43998137_34112113  769.925866  3322.198887   \n",
       "tile_44104382_34112843_44105034_34112938  298.404905  2157.473569   \n",
       "tile_43998136_34112022_43999221_34112122  528.454970  2495.875662   \n",
       "tile_43999220_34112031_44000305_34112130  335.551290  2071.815893   \n",
       "tile_44000304_34112040_44001389_34112139  285.086948  1878.116894   \n",
       "\n",
       "                                                0_B12         0_B2  \\\n",
       "file_name                                                            \n",
       "tile_43997486_34112017_43998137_34112113  2644.624125  1128.620894   \n",
       "tile_44104382_34112843_44105034_34112938  1582.494005   528.488556   \n",
       "tile_43998136_34112022_43999221_34112122  1713.649631   640.474810   \n",
       "tile_43999220_34112031_44000305_34112130  1344.805779   429.478019   \n",
       "tile_44000304_34112040_44001389_34112139  1177.896530   406.417493   \n",
       "\n",
       "                                                 0_B3         0_B4  \\\n",
       "file_name                                                            \n",
       "tile_43997486_34112017_43998137_34112113  1753.336923  2010.568300   \n",
       "tile_44104382_34112843_44105034_34112938   831.356676   934.839237   \n",
       "tile_43998136_34112022_43999221_34112122  1152.119767  1171.487171   \n",
       "tile_43999220_34112031_44000305_34112130   894.811249   770.613622   \n",
       "tile_44000304_34112040_44001389_34112139   840.937113   721.051941   \n",
       "\n",
       "                                                 0_B5         0_B6  ...  \\\n",
       "file_name                                                           ...   \n",
       "tile_43997486_34112017_43998137_34112113  2634.353258  3302.266379  ...   \n",
       "tile_44104382_34112843_44105034_34112938  1352.791826  1881.520708  ...   \n",
       "tile_43998136_34112022_43999221_34112122  1786.087047  3059.746338  ...   \n",
       "tile_43999220_34112031_44000305_34112130  1463.251290  2839.394324  ...   \n",
       "tile_44000304_34112040_44001389_34112139  1302.629802  2778.296159  ...   \n",
       "\n",
       "                                                 9_B2         9_B3  \\\n",
       "file_name                                                            \n",
       "tile_43997486_34112017_43998137_34112113  1855.620740  2541.523502   \n",
       "tile_44104382_34112843_44105034_34112938   547.670409   801.668174   \n",
       "tile_43998136_34112022_43999221_34112122  1154.201264  1593.018742   \n",
       "tile_43999220_34112031_44000305_34112130  1018.777621  1394.102079   \n",
       "tile_44000304_34112040_44001389_34112139  1015.020712  1386.387060   \n",
       "\n",
       "                                                 9_B4         9_B5  \\\n",
       "file_name                                                            \n",
       "tile_43997486_34112017_43998137_34112113  3334.350796  3648.235249   \n",
       "tile_44104382_34112843_44105034_34112938   662.603379  1236.062398   \n",
       "tile_43998136_34112022_43999221_34112122  2124.370565  2445.911989   \n",
       "tile_43999220_34112031_44000305_34112130  1854.067183  2060.790668   \n",
       "tile_44000304_34112040_44001389_34112139  1850.829881  2059.086564   \n",
       "\n",
       "                                                 9_B6         9_B7  \\\n",
       "file_name                                                            \n",
       "tile_43997486_34112017_43998137_34112113  3713.545965  3826.787522   \n",
       "tile_44104382_34112843_44105034_34112938  2438.234332  2861.378801   \n",
       "tile_43998136_34112022_43999221_34112122  2515.677113  2636.289053   \n",
       "tile_43999220_34112031_44000305_34112130  2105.297921  2202.409155   \n",
       "tile_44000304_34112040_44001389_34112139  2108.126792  2208.764339   \n",
       "\n",
       "                                                 9_B8        9_B8A  \\\n",
       "file_name                                                            \n",
       "tile_43997486_34112017_43998137_34112113  3871.171013  3920.213786   \n",
       "tile_44104382_34112843_44105034_34112938  3031.939292  3114.423978   \n",
       "tile_43998136_34112022_43999221_34112122  2605.584472  2756.973423   \n",
       "tile_43999220_34112031_44000305_34112130  2225.273773  2299.559797   \n",
       "tile_44000304_34112040_44001389_34112139  2278.053815  2330.043238   \n",
       "\n",
       "                                                 9_B9  \\\n",
       "file_name                                               \n",
       "tile_43997486_34112017_43998137_34112113  3837.507039   \n",
       "tile_44104382_34112843_44105034_34112938  2432.149682   \n",
       "tile_43998136_34112022_43999221_34112122  3091.114321   \n",
       "tile_43999220_34112031_44000305_34112130  2382.651482   \n",
       "tile_44000304_34112040_44001389_34112139  2451.489202   \n",
       "\n",
       "                                                                                       .geo  \n",
       "file_name                                                                                    \n",
       "tile_43997486_34112017_43998137_34112113  {\"type\":\"Polygon\",\"coordinates\":[[[43.99813739...  \n",
       "tile_44104382_34112843_44105034_34112938  {\"type\":\"Polygon\",\"coordinates\":[[[44.10438435...  \n",
       "tile_43998136_34112022_43999221_34112122  {\"type\":\"Polygon\",\"coordinates\":[[[43.99813739...  \n",
       "tile_43999220_34112031_44000305_34112130  {\"type\":\"Polygon\",\"coordinates\":[[[43.99922097...  \n",
       "tile_44000304_34112040_44001389_34112139  {\"type\":\"Polygon\",\"coordinates\":[[[44.00030452...  \n",
       "\n",
       "[5 rows x 147 columns]"
      ]
     },
     "execution_count": 22,
     "metadata": {},
     "output_type": "execute_result"
    }
   ],
   "source": []
  },
  {
   "cell_type": "code",
   "execution_count": null,
   "id": "62965e71",
   "metadata": {},
   "outputs": [
    {
     "data": {
      "text/html": [
       "\n",
       "            <style>\n",
       "                .geemap-dark {\n",
       "                    --jp-widgets-color: white;\n",
       "                    --jp-widgets-label-color: white;\n",
       "                    --jp-ui-font-color1: white;\n",
       "                    --jp-layout-color2: #454545;\n",
       "                    background-color: #383838;\n",
       "                }\n",
       "\n",
       "                .geemap-dark .jupyter-button {\n",
       "                    --jp-layout-color3: #383838;\n",
       "                }\n",
       "\n",
       "                .geemap-colab {\n",
       "                    background-color: var(--colab-primary-surface-color, white);\n",
       "                }\n",
       "\n",
       "                .geemap-colab .jupyter-button {\n",
       "                    --jp-layout-color3: var(--colab-primary-surface-color, white);\n",
       "                }\n",
       "            </style>\n",
       "            "
      ],
      "text/plain": [
       "<IPython.core.display.HTML object>"
      ]
     },
     "metadata": {},
     "output_type": "display_data"
    }
   ],
   "source": [
    "class ts_cluster():\n",
    "\n",
    "    yearly_clusters = []\n",
    "\n",
    "    def __init__(self, ts_point_labels, data_dir, mapping, passes=6):\n",
    "        \"\"\"\n",
    "            Initializes the ts_cluster object with time-series point labels, data directory, mapping, and number of passes.\n",
    "        \"\"\"\n",
    "        self.ts_point_labels = ts_point_labels          # expected labels in format year_start, year_end, label and point geometry \n",
    "        self.data_dir = data_dir                        # expected to have file_dir and year columns in pd.DataFrame format  \n",
    "        self.mapping = mapping                          # mapping for labels to numeric values \n",
    "        self.passes = passes                            # int \n",
    "    \n",
    "\n",
    "    def __create_shared_label_list__(self):\n",
    "        \"\"\"\n",
    "            Creates a list of shared labels acrross ALL time-series points, such that it can act as a base for labels in the clustering process.\n",
    "        \"\"\"\n",
    "\n",
    "        shared_labels = pd.DataFrame(columns=[\"year_start\", \"year_end\", \"label\", \"geometry\"])\n",
    "        non_shared_labels = pd.DataFrame(columns=[\"year_start\", \"year_end\", \"label\", \"geometry\"])\n",
    "\n",
    "        min_year = self.data_dir['year'].min()\n",
    "        max_year = self.data_dir['year'].max()\n",
    "\n",
    "        # if years between (incluside) are in ts_point_labels, then add to shared_labels else add to non_shared_labels\n",
    "        for year in range(min_year, max_year + 1):\n",
    "            if year in self.ts_point_labels['year_start'].values:\n",
    "                shared_labels = shared_labels.append(self.ts_point_labels[self.ts_point_labels['year_start'] == year], ignore_index=True)\n",
    "\n",
    "        # else \n",
    "        non_shared_labels = self.ts_point_labels[~self.ts_point_labels['year_start'].isin(shared_labels['year_start'])]\n",
    "\n",
    "    "
   ]
  }
 ],
 "metadata": {
  "kernelspec": {
   "display_name": "gee",
   "language": "python",
   "name": "python3"
  },
  "language_info": {
   "codemirror_mode": {
    "name": "ipython",
    "version": 3
   },
   "file_extension": ".py",
   "mimetype": "text/x-python",
   "name": "python",
   "nbconvert_exporter": "python",
   "pygments_lexer": "ipython3",
   "version": "3.8.20"
  }
 },
 "nbformat": 4,
 "nbformat_minor": 5
}
