{
 "cells": [
  {
   "cell_type": "code",
   "execution_count": 12,
   "id": "55fa7315",
   "metadata": {},
   "outputs": [
    {
     "data": {
      "text/html": [
       "\n",
       "            <style>\n",
       "                .geemap-dark {\n",
       "                    --jp-widgets-color: white;\n",
       "                    --jp-widgets-label-color: white;\n",
       "                    --jp-ui-font-color1: white;\n",
       "                    --jp-layout-color2: #454545;\n",
       "                    background-color: #383838;\n",
       "                }\n",
       "\n",
       "                .geemap-dark .jupyter-button {\n",
       "                    --jp-layout-color3: #383838;\n",
       "                }\n",
       "\n",
       "                .geemap-colab {\n",
       "                    background-color: var(--colab-primary-surface-color, white);\n",
       "                }\n",
       "\n",
       "                .geemap-colab .jupyter-button {\n",
       "                    --jp-layout-color3: var(--colab-primary-surface-color, white);\n",
       "                }\n",
       "            </style>\n",
       "            "
      ],
      "text/plain": [
       "<IPython.core.display.HTML object>"
      ]
     },
     "metadata": {},
     "output_type": "display_data"
    }
   ],
   "source": [
    "import ee\n",
    "import os\n",
    "import fiona\n",
    "import geemap\n",
    "import pandas as pd\n",
    "import geopandas as gpd\n",
    "import xml.etree.ElementTree as ET"
   ]
  },
  {
   "cell_type": "code",
   "execution_count": 13,
   "id": "6937ae28",
   "metadata": {},
   "outputs": [
    {
     "data": {
      "text/html": [
       "\n",
       "            <style>\n",
       "                .geemap-dark {\n",
       "                    --jp-widgets-color: white;\n",
       "                    --jp-widgets-label-color: white;\n",
       "                    --jp-ui-font-color1: white;\n",
       "                    --jp-layout-color2: #454545;\n",
       "                    background-color: #383838;\n",
       "                }\n",
       "\n",
       "                .geemap-dark .jupyter-button {\n",
       "                    --jp-layout-color3: #383838;\n",
       "                }\n",
       "\n",
       "                .geemap-colab {\n",
       "                    background-color: var(--colab-primary-surface-color, white);\n",
       "                }\n",
       "\n",
       "                .geemap-colab .jupyter-button {\n",
       "                    --jp-layout-color3: var(--colab-primary-surface-color, white);\n",
       "                }\n",
       "            </style>\n",
       "            "
      ],
      "text/plain": [
       "<IPython.core.display.HTML object>"
      ]
     },
     "metadata": {},
     "output_type": "display_data"
    }
   ],
   "source": [
    "# Initialise\n",
    "ee.Authenticate()\n",
    "ee.Initialize(project=\"jameswilliamchamberlain\")"
   ]
  },
  {
   "cell_type": "code",
   "execution_count": 14,
   "id": "b6c51023",
   "metadata": {},
   "outputs": [
    {
     "data": {
      "text/html": [
       "\n",
       "            <style>\n",
       "                .geemap-dark {\n",
       "                    --jp-widgets-color: white;\n",
       "                    --jp-widgets-label-color: white;\n",
       "                    --jp-ui-font-color1: white;\n",
       "                    --jp-layout-color2: #454545;\n",
       "                    background-color: #383838;\n",
       "                }\n",
       "\n",
       "                .geemap-dark .jupyter-button {\n",
       "                    --jp-layout-color3: #383838;\n",
       "                }\n",
       "\n",
       "                .geemap-colab {\n",
       "                    background-color: var(--colab-primary-surface-color, white);\n",
       "                }\n",
       "\n",
       "                .geemap-colab .jupyter-button {\n",
       "                    --jp-layout-color3: var(--colab-primary-surface-color, white);\n",
       "                }\n",
       "            </style>\n",
       "            "
      ],
      "text/plain": [
       "<IPython.core.display.HTML object>"
      ]
     },
     "metadata": {},
     "output_type": "display_data"
    }
   ],
   "source": [
    "# basemap \n",
    "basemap_url = 'https://mt1.google.com/vt/lyrs=y&x={x}&y={y}&z={z}'\n",
    "\n",
    "# centeral point of Samarra \n",
    "df_sites = pd.DataFrame({\n",
    "    \"longitude\": [43.823543],\n",
    "    \"latitude\": [34.340989],\n",
    "    \"name\": [\"Samarra Archaeological City\"],\n",
    "    \"category\": [\"Cultural\"],\n",
    "    \"date inscribed\": [\"2007\"],\n",
    "    \"region\": [\"Arab States\"],\n",
    "    \"url\": [\"https://whc.unesco.org/en/list/276\"],\n",
    "    \"iso\": [[\"IQ\"]]\n",
    "})\n",
    "\n",
    "# Chunks of Samarra Archaeological City \n",
    "with fiona.open(\"chunks_new.shp\") as src:\n",
    "    chunks = gpd.GeoDataFrame.from_features(src, crs=src.crs)"
   ]
  },
  {
   "cell_type": "code",
   "execution_count": 15,
   "id": "fbf05b4c",
   "metadata": {},
   "outputs": [
    {
     "data": {
      "text/html": [
       "\n",
       "            <style>\n",
       "                .geemap-dark {\n",
       "                    --jp-widgets-color: white;\n",
       "                    --jp-widgets-label-color: white;\n",
       "                    --jp-ui-font-color1: white;\n",
       "                    --jp-layout-color2: #454545;\n",
       "                    background-color: #383838;\n",
       "                }\n",
       "\n",
       "                .geemap-dark .jupyter-button {\n",
       "                    --jp-layout-color3: #383838;\n",
       "                }\n",
       "\n",
       "                .geemap-colab {\n",
       "                    background-color: var(--colab-primary-surface-color, white);\n",
       "                }\n",
       "\n",
       "                .geemap-colab .jupyter-button {\n",
       "                    --jp-layout-color3: var(--colab-primary-surface-color, white);\n",
       "                }\n",
       "            </style>\n",
       "            "
      ],
      "text/plain": [
       "<IPython.core.display.HTML object>"
      ]
     },
     "metadata": {},
     "output_type": "display_data"
    },
    {
     "data": {
      "text/html": [
       "<div>\n",
       "<style scoped>\n",
       "    .dataframe tbody tr th:only-of-type {\n",
       "        vertical-align: middle;\n",
       "    }\n",
       "\n",
       "    .dataframe tbody tr th {\n",
       "        vertical-align: top;\n",
       "    }\n",
       "\n",
       "    .dataframe thead th {\n",
       "        text-align: right;\n",
       "    }\n",
       "</style>\n",
       "<table border=\"1\" class=\"dataframe\">\n",
       "  <thead>\n",
       "    <tr style=\"text-align: right;\">\n",
       "      <th></th>\n",
       "      <th>longitude</th>\n",
       "      <th>latitude</th>\n",
       "      <th>name</th>\n",
       "      <th>category</th>\n",
       "      <th>date inscribed</th>\n",
       "      <th>region</th>\n",
       "      <th>url</th>\n",
       "      <th>iso</th>\n",
       "    </tr>\n",
       "  </thead>\n",
       "  <tbody>\n",
       "    <tr>\n",
       "      <th>0</th>\n",
       "      <td>43.823543</td>\n",
       "      <td>34.340989</td>\n",
       "      <td>Samarra Archaeological City</td>\n",
       "      <td>Cultural</td>\n",
       "      <td>2007</td>\n",
       "      <td>Arab States</td>\n",
       "      <td>https://whc.unesco.org/en/list/276</td>\n",
       "      <td>[IQ]</td>\n",
       "    </tr>\n",
       "  </tbody>\n",
       "</table>\n",
       "</div>"
      ],
      "text/plain": [
       "   longitude   latitude                         name  category date inscribed  \\\n",
       "0  43.823543  34.340989  Samarra Archaeological City  Cultural           2007   \n",
       "\n",
       "        region                                 url   iso  \n",
       "0  Arab States  https://whc.unesco.org/en/list/276  [IQ]  "
      ]
     },
     "execution_count": 15,
     "metadata": {},
     "output_type": "execute_result"
    }
   ],
   "source": [
    "df_sites.head()"
   ]
  },
  {
   "cell_type": "code",
   "execution_count": 16,
   "id": "7a2d815c",
   "metadata": {},
   "outputs": [
    {
     "data": {
      "text/html": [
       "\n",
       "            <style>\n",
       "                .geemap-dark {\n",
       "                    --jp-widgets-color: white;\n",
       "                    --jp-widgets-label-color: white;\n",
       "                    --jp-ui-font-color1: white;\n",
       "                    --jp-layout-color2: #454545;\n",
       "                    background-color: #383838;\n",
       "                }\n",
       "\n",
       "                .geemap-dark .jupyter-button {\n",
       "                    --jp-layout-color3: #383838;\n",
       "                }\n",
       "\n",
       "                .geemap-colab {\n",
       "                    background-color: var(--colab-primary-surface-color, white);\n",
       "                }\n",
       "\n",
       "                .geemap-colab .jupyter-button {\n",
       "                    --jp-layout-color3: var(--colab-primary-surface-color, white);\n",
       "                }\n",
       "            </style>\n",
       "            "
      ],
      "text/plain": [
       "<IPython.core.display.HTML object>"
      ]
     },
     "metadata": {},
     "output_type": "display_data"
    },
    {
     "data": {
      "application/vnd.jupyter.widget-view+json": {
       "model_id": "b02c4bd982f34b328844f1d7b7fef713",
       "version_major": 2,
       "version_minor": 0
      },
      "text/plain": [
       "Map(center=[34.340989, 43.823543], controls=(WidgetControl(options=['position', 'transparent_bg'], widget=Sear…"
      ]
     },
     "execution_count": 16,
     "metadata": {},
     "output_type": "execute_result"
    }
   ],
   "source": [
    "m = geemap.Map()\n",
    "\n",
    "if df_sites.empty:\n",
    "    print(\"No sites found for the specified URL.\")\n",
    "else:\n",
    "    m.add_points_from_xy(df_sites, x=\"longitude\", y=\"latitude\", layer_name=\"Sites\")\n",
    "    center_points = df_sites[['longitude', 'latitude']].mean().values\n",
    "    m.setCenter(center_points[0], center_points[1], 10)\n",
    "\n",
    "m.add_basemap(basemap_url, name=\"Google Satellite\", attribution=\"Google\")\n",
    "\n",
    "# add chunks from aoi \n",
    "m.add_gdf(chunks, layer_name=\"AOI\", style={\"color\": \"red\", \"fillColor\": \"red\", \"fillOpacity\": 0.1})\n",
    "\n",
    "m"
   ]
  },
  {
   "cell_type": "code",
   "execution_count": 17,
   "id": "c20283ca",
   "metadata": {},
   "outputs": [
    {
     "data": {
      "text/html": [
       "\n",
       "            <style>\n",
       "                .geemap-dark {\n",
       "                    --jp-widgets-color: white;\n",
       "                    --jp-widgets-label-color: white;\n",
       "                    --jp-ui-font-color1: white;\n",
       "                    --jp-layout-color2: #454545;\n",
       "                    background-color: #383838;\n",
       "                }\n",
       "\n",
       "                .geemap-dark .jupyter-button {\n",
       "                    --jp-layout-color3: #383838;\n",
       "                }\n",
       "\n",
       "                .geemap-colab {\n",
       "                    background-color: var(--colab-primary-surface-color, white);\n",
       "                }\n",
       "\n",
       "                .geemap-colab .jupyter-button {\n",
       "                    --jp-layout-color3: var(--colab-primary-surface-color, white);\n",
       "                }\n",
       "            </style>\n",
       "            "
      ],
      "text/plain": [
       "<IPython.core.display.HTML object>"
      ]
     },
     "metadata": {},
     "output_type": "display_data"
    }
   ],
   "source": [
    "# first polygon \n",
    "first_polygon = chunks.geometry.iloc[0]"
   ]
  },
  {
   "cell_type": "code",
   "execution_count": 18,
   "id": "7b03b9ee",
   "metadata": {},
   "outputs": [
    {
     "data": {
      "text/html": [
       "\n",
       "            <style>\n",
       "                .geemap-dark {\n",
       "                    --jp-widgets-color: white;\n",
       "                    --jp-widgets-label-color: white;\n",
       "                    --jp-ui-font-color1: white;\n",
       "                    --jp-layout-color2: #454545;\n",
       "                    background-color: #383838;\n",
       "                }\n",
       "\n",
       "                .geemap-dark .jupyter-button {\n",
       "                    --jp-layout-color3: #383838;\n",
       "                }\n",
       "\n",
       "                .geemap-colab {\n",
       "                    background-color: var(--colab-primary-surface-color, white);\n",
       "                }\n",
       "\n",
       "                .geemap-colab .jupyter-button {\n",
       "                    --jp-layout-color3: var(--colab-primary-surface-color, white);\n",
       "                }\n",
       "            </style>\n",
       "            "
      ],
      "text/plain": [
       "<IPython.core.display.HTML object>"
      ]
     },
     "metadata": {},
     "output_type": "display_data"
    },
    {
     "name": "stdout",
     "output_type": "stream",
     "text": [
      "Points in the first polygon:\n",
      "{(43.91574412629632, 34.111412926292765), (43.91285150660586, 34.336837086609854), (44.1846103461893, 34.3389484695521), (44.18678011312121, 34.11350662400319)}\n",
      "Distance between the leftmost two centroids: 25007.629068888167 meters\n",
      "Distance between the topmost two centroids: 25007.629068888167 meters\n"
     ]
    }
   ],
   "source": [
    "# create centroids at each four corners of the polygon (NOT BOUNDS)\n",
    "# EXTRACT ALL POINTS\n",
    "points = first_polygon.exterior.coords[:]\n",
    "\n",
    "# drop duplicate points\n",
    "points = set(points)\n",
    "\n",
    "print(\"Points in the first polygon:\"\n",
    "      f\"\\n{points}\")\n",
    "\n",
    "# top most two\n",
    "top_most = sorted(points, key=lambda x: x[1], reverse=True)[:2]\n",
    "\n",
    "# left most two\n",
    "left_most_two = sorted(points, key=lambda x: x[0])[:2]\n",
    "\n",
    "# create ee.Geometry.Point objects for the centroids\n",
    "centroids_left = [ee.Geometry.Point(lon, lat) for lon, lat in left_most_two]\n",
    "centroids_top = [ee.Geometry.Point(lon, lat) for lon, lat in top_most]\n",
    "\n",
    "# add to map\n",
    "m.add_layer(ee.FeatureCollection(centroids_left), {}, \"Centroids Left\")\n",
    "m.add_layer(ee.FeatureCollection(centroids_top), {}, \"Centroids Top\")\n",
    "\n",
    "# get distance between the two centroids\n",
    "distance_left = centroids_left[0].distance(centroids_top[0]).getInfo()\n",
    "print(f\"Distance between the leftmost two centroids: {distance_left} meters\")\n",
    "\n",
    "distance_top = centroids_top[0].distance(centroids_left[0]).getInfo()\n",
    "print(f\"Distance between the topmost two centroids: {distance_top} meters\")\n"
   ]
  },
  {
   "cell_type": "code",
   "execution_count": null,
   "id": "13096b35",
   "metadata": {},
   "outputs": [
    {
     "data": {
      "text/html": [
       "\n",
       "            <style>\n",
       "                .geemap-dark {\n",
       "                    --jp-widgets-color: white;\n",
       "                    --jp-widgets-label-color: white;\n",
       "                    --jp-ui-font-color1: white;\n",
       "                    --jp-layout-color2: #454545;\n",
       "                    background-color: #383838;\n",
       "                }\n",
       "\n",
       "                .geemap-dark .jupyter-button {\n",
       "                    --jp-layout-color3: #383838;\n",
       "                }\n",
       "\n",
       "                .geemap-colab {\n",
       "                    background-color: var(--colab-primary-surface-color, white);\n",
       "                }\n",
       "\n",
       "                .geemap-colab .jupyter-button {\n",
       "                    --jp-layout-color3: var(--colab-primary-surface-color, white);\n",
       "                }\n",
       "            </style>\n",
       "            "
      ],
      "text/plain": [
       "<IPython.core.display.HTML object>"
      ]
     },
     "metadata": {},
     "output_type": "display_data"
    }
   ],
   "source": [
    "def create_subregions(chunks, sift_percentage=0.5):\n",
    "    \"\"\"\n",
    "        Shifts all polygons to 8 positions based on half the length in longitude and latitude, to create subregions - one for each direction from the center.\n",
    "\n",
    "        Assumes aoi contains all similar polygons, and are similar to a square.\n",
    "\n",
    "        Parameters:\n",
    "            aoi (GeoDataFrame): The area of interest containing geometries.\n",
    "            sift_percentage (float): Percentage of the length to shift the center point. Default is 0.5 (50%) for half the length.\n",
    "    \"\"\"\n",
    "\n",
    "    if chunks.empty:\n",
    "        return {}\n",
    "    \n",
    "    first_polygon = chunks.geometry.iloc[0]\n",
    "\n",
    "    # take top two points of the polygon and get the length between them\n",
    "    top_points = first_polygon.exterior.coords[:2]\n",
    "    length_lon = abs(top_points[0][0] - top_points[1][0])\n",
    "\n",
    "    # calculate the shift amount\n",
    "    shift_amount = length_lon * sift_percentage\n",
    "\n",
    "    shift_directions = {\n",
    "        \"left\": (-shift_amount, 0),\n",
    "        \"right\": (shift_amount, 0),\n",
    "        \"up\": (0, shift_amount),\n",
    "        \"down\": (0, -shift_amount),\n",
    "        \"top_left\": (-shift_amount, shift_amount),\n",
    "        \"top_right\": (shift_amount, shift_amount),\n",
    "        \"bottom_left\": (-shift_amount, -shift_amount),\n",
    "        \"bottom_right\": (shift_amount, -shift_amount),\n",
    "    }\n",
    "\n",
    "    subregions = []\n",
    "\n",
    "    # Create subregions by shifting the geometries in all directions\n",
    "    for _, (dx, dy) in shift_directions.items():\n",
    "        gdf_shifted = chunks.copy()\n",
    "        gdf_shifted[\"geometry\"] = gdf_shifted[\"geometry\"].translate(dx, dy)\n",
    "        subregions.append(gdf_shifted)\n",
    "\n",
    "    # Combine all into one GeoDataFrame\n",
    "    subregions = pd.concat(subregions, ignore_index=True)\n",
    "    return gpd.GeoDataFrame(subregions, crs=chunks.crs)\n",
    "\n",
    "def clip(chunks, aoi):\n",
    "    \"\"\"\n",
    "        Clips the chunks or subregions to the area of interest (aoi).\n",
    "\n",
    "        Parameters:\n",
    "            chunks (GeoDataFrame):      The chunks or subregions to be clipped.\n",
    "            aoi (GeoDataFrame):         The area of interest (aoi) to clip the chunks against.\n",
    "    \"\"\"\n",
    "\n",
    "    # clip to aoi \n",
    "    if chunks.empty or aoi.empty:\n",
    "        return gpd.GeoDataFrame(columns=chunks.columns.tolist() + ['direction'], crs=chunks.crs)\n",
    "    clipped = gpd.clip(chunks, aoi)\n",
    "    clipped = clipped[clipped.geometry.notnull()]  # Remove any null geometries\n",
    "\n",
    "    return clipped.reset_index(drop=True)\n",
    "\n",
    "subregions = create_subregions(chunks)\n",
    "subregions = clip(subregions, aoi=chunks.dissolve())\n",
    "\n",
    "# plot as one \n",
    "m.add_gdf(subregions, layer_name=\"Subregions\", style={\"color\": \"blue\", \"fillColor\": \"blue\", \"fillOpacity\": 0.1})"
   ]
  },
  {
   "cell_type": "code",
   "execution_count": null,
   "id": "944ad8f7",
   "metadata": {},
   "outputs": [],
   "source": [
    "# Clustering "
   ]
  }
 ],
 "metadata": {
  "kernelspec": {
   "display_name": "gee",
   "language": "python",
   "name": "python3"
  },
  "language_info": {
   "codemirror_mode": {
    "name": "ipython",
    "version": 3
   },
   "file_extension": ".py",
   "mimetype": "text/x-python",
   "name": "python",
   "nbconvert_exporter": "python",
   "pygments_lexer": "ipython3",
   "version": "3.8.20"
  }
 },
 "nbformat": 4,
 "nbformat_minor": 5
}
