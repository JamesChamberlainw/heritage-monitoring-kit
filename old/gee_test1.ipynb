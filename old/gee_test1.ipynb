{
 "cells": [
  {
   "cell_type": "code",
   "execution_count": 1,
   "id": "9521b851",
   "metadata": {},
   "outputs": [],
   "source": [
    "import ee\n",
    "import geemap\n",
    "import xml.etree.ElementTree as ET\n",
    "import ipywidgets as widgets\n",
    "import pandas as pd \n",
    "from pprint import pprint "
   ]
  },
  {
   "cell_type": "code",
   "execution_count": 2,
   "id": "94d7ba5b",
   "metadata": {},
   "outputs": [
    {
     "data": {
      "text/html": [
       "\n",
       "            <style>\n",
       "                .geemap-dark {\n",
       "                    --jp-widgets-color: white;\n",
       "                    --jp-widgets-label-color: white;\n",
       "                    --jp-ui-font-color1: white;\n",
       "                    --jp-layout-color2: #454545;\n",
       "                    background-color: #383838;\n",
       "                }\n",
       "\n",
       "                .geemap-dark .jupyter-button {\n",
       "                    --jp-layout-color3: #383838;\n",
       "                }\n",
       "\n",
       "                .geemap-colab {\n",
       "                    background-color: var(--colab-primary-surface-color, white);\n",
       "                }\n",
       "\n",
       "                .geemap-colab .jupyter-button {\n",
       "                    --jp-layout-color3: var(--colab-primary-surface-color, white);\n",
       "                }\n",
       "            </style>\n",
       "            "
      ],
      "text/plain": [
       "<IPython.core.display.HTML object>"
      ]
     },
     "metadata": {},
     "output_type": "display_data"
    },
    {
     "data": {
      "text/plain": [
       "True"
      ]
     },
     "execution_count": 2,
     "metadata": {},
     "output_type": "execute_result"
    }
   ],
   "source": [
    "ee.Authenticate()"
   ]
  },
  {
   "cell_type": "code",
   "execution_count": 3,
   "id": "61e359f5",
   "metadata": {},
   "outputs": [
    {
     "data": {
      "text/html": [
       "\n",
       "            <style>\n",
       "                .geemap-dark {\n",
       "                    --jp-widgets-color: white;\n",
       "                    --jp-widgets-label-color: white;\n",
       "                    --jp-ui-font-color1: white;\n",
       "                    --jp-layout-color2: #454545;\n",
       "                    background-color: #383838;\n",
       "                }\n",
       "\n",
       "                .geemap-dark .jupyter-button {\n",
       "                    --jp-layout-color3: #383838;\n",
       "                }\n",
       "\n",
       "                .geemap-colab {\n",
       "                    background-color: var(--colab-primary-surface-color, white);\n",
       "                }\n",
       "\n",
       "                .geemap-colab .jupyter-button {\n",
       "                    --jp-layout-color3: var(--colab-primary-surface-color, white);\n",
       "                }\n",
       "            </style>\n",
       "            "
      ],
      "text/plain": [
       "<IPython.core.display.HTML object>"
      ]
     },
     "metadata": {},
     "output_type": "display_data"
    }
   ],
   "source": [
    "ee.Initialize(project=\"jameswilliamchamberlain\")"
   ]
  },
  {
   "cell_type": "code",
   "execution_count": 4,
   "id": "e72eb163",
   "metadata": {},
   "outputs": [
    {
     "data": {
      "text/html": [
       "\n",
       "            <style>\n",
       "                .geemap-dark {\n",
       "                    --jp-widgets-color: white;\n",
       "                    --jp-widgets-label-color: white;\n",
       "                    --jp-ui-font-color1: white;\n",
       "                    --jp-layout-color2: #454545;\n",
       "                    background-color: #383838;\n",
       "                }\n",
       "\n",
       "                .geemap-dark .jupyter-button {\n",
       "                    --jp-layout-color3: #383838;\n",
       "                }\n",
       "\n",
       "                .geemap-colab {\n",
       "                    background-color: var(--colab-primary-surface-color, white);\n",
       "                }\n",
       "\n",
       "                .geemap-colab .jupyter-button {\n",
       "                    --jp-layout-color3: var(--colab-primary-surface-color, white);\n",
       "                }\n",
       "            </style>\n",
       "            "
      ],
      "text/plain": [
       "<IPython.core.display.HTML object>"
      ]
     },
     "metadata": {},
     "output_type": "display_data"
    }
   ],
   "source": [
    "# collect Samarra Pin\n",
    "\n",
    "# UNESCO World Heritage Sites List xml file \n",
    "tree = ET.parse(\"whs.xml\")\n",
    "root = tree.getroot()\n",
    "\n",
    "data = []\n",
    "\n",
    "for row in root.findall(\"row\"):\n",
    "    site = row.findtext('site')\n",
    "    category = row.findtext('category')\n",
    "    date_inscribed = row.findtext('date_inscribed')\n",
    "    region = row.findtext('region')\n",
    "    url = row.findtext('http_url')\n",
    "    longitude = row.findtext('longitude')\n",
    "    latitude = row.findtext('latitude')\n",
    "    iso = row.findtext('iso_code')\n",
    "    iso = iso.split(',')\n",
    "    data.append([site, category, date_inscribed, region, url, longitude, latitude, iso])\n",
    "\n",
    "df = pd.DataFrame(data, columns=[\"name\", \"category\", \"date inscribed\", \"region\", \"url\", \"longitude\", \"latitude\", \"iso\"])\n",
    "\n",
    "df[\"longitude\"] = pd.to_numeric(df[\"longitude\"], errors='coerce')\n",
    "df[\"latitude\"] = pd.to_numeric(df[\"latitude\"], errors='coerce')\n",
    "\n",
    "# drop empties \n",
    "df = df.dropna(subset=[\"longitude\", \"latitude\"]).reset_index(drop=True) \n",
    "\n",
    "# filter out everything but Samarra \n",
    "target_url = 'https://whc.unesco.org/en/list/276'\n",
    "df_disp = df[df['url'] == target_url]\n",
    "df_disp = df_disp[df_disp['url'] == target_url]\n",
    "df_disp = df_disp.reset_index(drop=True)"
   ]
  },
  {
   "cell_type": "code",
   "execution_count": 5,
   "id": "2d985d2b",
   "metadata": {},
   "outputs": [
    {
     "data": {
      "text/html": [
       "\n",
       "            <style>\n",
       "                .geemap-dark {\n",
       "                    --jp-widgets-color: white;\n",
       "                    --jp-widgets-label-color: white;\n",
       "                    --jp-ui-font-color1: white;\n",
       "                    --jp-layout-color2: #454545;\n",
       "                    background-color: #383838;\n",
       "                }\n",
       "\n",
       "                .geemap-dark .jupyter-button {\n",
       "                    --jp-layout-color3: #383838;\n",
       "                }\n",
       "\n",
       "                .geemap-colab {\n",
       "                    background-color: var(--colab-primary-surface-color, white);\n",
       "                }\n",
       "\n",
       "                .geemap-colab .jupyter-button {\n",
       "                    --jp-layout-color3: var(--colab-primary-surface-color, white);\n",
       "                }\n",
       "            </style>\n",
       "            "
      ],
      "text/plain": [
       "<IPython.core.display.HTML object>"
      ]
     },
     "metadata": {},
     "output_type": "display_data"
    }
   ],
   "source": [
    "m = geemap.Map()\n",
    "m.add_points_from_xy(df_disp, x=\"longitude\", y=\"latitude\", layer_name=\"Sites\")"
   ]
  },
  {
   "cell_type": "code",
   "execution_count": 6,
   "id": "3d73ed51",
   "metadata": {},
   "outputs": [
    {
     "data": {
      "text/html": [
       "\n",
       "            <style>\n",
       "                .geemap-dark {\n",
       "                    --jp-widgets-color: white;\n",
       "                    --jp-widgets-label-color: white;\n",
       "                    --jp-ui-font-color1: white;\n",
       "                    --jp-layout-color2: #454545;\n",
       "                    background-color: #383838;\n",
       "                }\n",
       "\n",
       "                .geemap-dark .jupyter-button {\n",
       "                    --jp-layout-color3: #383838;\n",
       "                }\n",
       "\n",
       "                .geemap-colab {\n",
       "                    background-color: var(--colab-primary-surface-color, white);\n",
       "                }\n",
       "\n",
       "                .geemap-colab .jupyter-button {\n",
       "                    --jp-layout-color3: var(--colab-primary-surface-color, white);\n",
       "                }\n",
       "            </style>\n",
       "            "
      ],
      "text/plain": [
       "<IPython.core.display.HTML object>"
      ]
     },
     "metadata": {},
     "output_type": "display_data"
    }
   ],
   "source": [
    "# util functions and widgets\n",
    "def map_polygon(polygon, collection_name, layer_name, yyyymmdd1=\"2024-01-01\", yyyymmdd2=\"2024-12-29\", num_tasks=10):\n",
    "\n",
    "    collection = ee.ImageCollection(collection_name) \\\n",
    "        .filterDate(yyyymmdd1, yyyymmdd2) \\\n",
    "        .filterBounds(polygon) \\\n",
    "        .filter(ee.Filter.lt(\"CLOUDY_PIXEL_PERCENTAGE\", 20)) \\\n",
    "        .median() \\\n",
    "        .clip(polygon)\n",
    "    \n",
    "    vis = {'min': 0, 'max': 3000, 'bands': ['B4', 'B3', 'B2']}\n",
    "\n",
    "    m.addLayer(collection, vis, layer_name)\n",
    "\n",
    "def draw_rectangles_for_date(date_val, size_deg=1):\n",
    "\n",
    "    regions = []\n",
    "\n",
    "    for _, row in df_disp.iterrows():\n",
    "        lat = row['latitude']\n",
    "        lon = row['longitude']\n",
    "\n",
    "        geometry = ee.Geometry.Rectangle([lon - size_deg/2, lat - size_deg/2, lon + size_deg/2, lat + size_deg/2])\n",
    "        regions.append(geometry)\n",
    "\n",
    "    regions_collection = ee.FeatureCollection(regions)\n",
    "\n",
    "    map_polygon(regions_collection, \"COPERNICUS/S2\", f\"S2 {date_val}\", f\"{date_val}-01-01\", f\"{date_val}-3-31\")\n",
    "\n",
    "def draw_basic(b):\n",
    "    dates = [2025, 2020, 2016]\n",
    "    # dates = [2025, 2024, 2022, 2020, 2018, 2016]\n",
    "    # dates = [2025, 2024, 2023, 2022, 2021, 2020, 2019, 2018, 20217, 2016]\n",
    "\n",
    "    for date in dates:\n",
    "        draw_rectangles_for_date(date)\n",
    "\n",
    "def draw_selected(b):\n",
    "\n",
    "    if m.draw_features is None:\n",
    "        raise ValueError(\"Error: no roi\")\n",
    "    \n",
    "    # roi = m.draw_last_feature.geometry()\n",
    "    roi = ee.FeatureCollection(m.draw_features)\n",
    "\n",
    "    year_start_val = int(date_slider.value)\n",
    "    month_start_val = int(month_slider.value)\n",
    "    time_frame_val = int(time_frame_slider.value)\n",
    "\n",
    "    month_end_val = month_start_val + time_frame_val\n",
    "    year_overflow = 0\n",
    "    if month_end_val > 12:\n",
    "        month_end_val -= 12\n",
    "        year_overflow = 1\n",
    "\n",
    "    yyyymm_start = f\"{year_start_val}-{month_start_val}\"\n",
    "    yyyymm_end = f\"{year_start_val + year_overflow}-{month_end_val}\"\n",
    "    \n",
    "    map_polygon(roi, \"COPERNICUS/S2_HARMONIZED\", yyyymmdd1=yyyymm_start, yyyymmdd2=yyyymm_end, layer_name=f\"S2 {yyyymm_start} to {yyyymm_end}\")\n",
    "\n",
    "# Define Sliders \n",
    "date_slider = widgets.SelectionSlider(\n",
    "    options=[str(year) for year in range(2016, 2026)],\n",
    "    value='2020',\n",
    "    description='Date:',\n",
    "    disabled=False,\n",
    "    continuous_update=False,\n",
    "    orientation='horizontal',\n",
    "    readout=True\n",
    ")\n",
    "\n",
    "month_slider = widgets.SelectionSlider(\n",
    "    options=[str(month) for month in range(1, 13)],\n",
    "    value='1',\n",
    "    description='Month:',\n",
    "    disabled=False,\n",
    "    continuous_update=False,\n",
    "    orientation='horizontal',\n",
    "    readout=True\n",
    ")\n",
    "\n",
    "time_frame_slider = widgets.SelectionSlider(\n",
    "    options=[str(month) for month in range(1, 13)],\n",
    "    value='3',\n",
    "    description='timeframe:',\n",
    "    disabled=False,\n",
    "    continuous_update=False,\n",
    "    orientation='horizontal',\n",
    "    readout=True\n",
    ")\n"
   ]
  },
  {
   "cell_type": "code",
   "execution_count": 7,
   "id": "eb1b198b",
   "metadata": {},
   "outputs": [
    {
     "data": {
      "text/html": [
       "\n",
       "            <style>\n",
       "                .geemap-dark {\n",
       "                    --jp-widgets-color: white;\n",
       "                    --jp-widgets-label-color: white;\n",
       "                    --jp-ui-font-color1: white;\n",
       "                    --jp-layout-color2: #454545;\n",
       "                    background-color: #383838;\n",
       "                }\n",
       "\n",
       "                .geemap-dark .jupyter-button {\n",
       "                    --jp-layout-color3: #383838;\n",
       "                }\n",
       "\n",
       "                .geemap-colab {\n",
       "                    background-color: var(--colab-primary-surface-color, white);\n",
       "                }\n",
       "\n",
       "                .geemap-colab .jupyter-button {\n",
       "                    --jp-layout-color3: var(--colab-primary-surface-color, white);\n",
       "                }\n",
       "            </style>\n",
       "            "
      ],
      "text/plain": [
       "<IPython.core.display.HTML object>"
      ]
     },
     "metadata": {},
     "output_type": "display_data"
    },
    {
     "data": {
      "application/vnd.jupyter.widget-view+json": {
       "model_id": "d4c5f4e2b2c54fba9b81ff1a86522daa",
       "version_major": 2,
       "version_minor": 0
      },
      "text/plain": [
       "HBox(children=(SelectionSlider(continuous_update=False, description='Date:', index=4, options=('2016', '2017',…"
      ]
     },
     "metadata": {},
     "output_type": "display_data"
    },
    {
     "data": {
      "application/vnd.jupyter.widget-view+json": {
       "model_id": "a9df55d61d2b450d90d6c6192110b835",
       "version_major": 2,
       "version_minor": 0
      },
      "text/plain": [
       "Map(center=[0, 0], controls=(WidgetControl(options=['position', 'transparent_bg'], widget=SearchDataGUI(childr…"
      ]
     },
     "execution_count": 7,
     "metadata": {},
     "output_type": "execute_result"
    }
   ],
   "source": [
    "render_btn = widgets.Button(description=\"Draw Selected Date Layer\", position=\"bottomright\") \n",
    "draw_btn = widgets.Button(description=\"Draw Pins Areas 3yrs\", position=\"bottomright\")\n",
    "\n",
    "widget_draw = widgets.VBox([draw_btn, render_btn])\n",
    "\n",
    "m.add_widget(widget_draw, position=\"bottomright\")\n",
    "\n",
    "display(widgets.HBox([date_slider, month_slider, time_frame_slider, render_btn]))\n",
    "render_btn.on_click(draw_selected)\n",
    "draw_btn.on_click(draw_basic)\n",
    "\n",
    "m"
   ]
  },
  {
   "cell_type": "code",
   "execution_count": 8,
   "id": "a2778ced",
   "metadata": {},
   "outputs": [
    {
     "data": {
      "text/html": [
       "\n",
       "            <style>\n",
       "                .geemap-dark {\n",
       "                    --jp-widgets-color: white;\n",
       "                    --jp-widgets-label-color: white;\n",
       "                    --jp-ui-font-color1: white;\n",
       "                    --jp-layout-color2: #454545;\n",
       "                    background-color: #383838;\n",
       "                }\n",
       "\n",
       "                .geemap-dark .jupyter-button {\n",
       "                    --jp-layout-color3: #383838;\n",
       "                }\n",
       "\n",
       "                .geemap-colab {\n",
       "                    background-color: var(--colab-primary-surface-color, white);\n",
       "                }\n",
       "\n",
       "                .geemap-colab .jupyter-button {\n",
       "                    --jp-layout-color3: var(--colab-primary-surface-color, white);\n",
       "                }\n",
       "            </style>\n",
       "            "
      ],
      "text/plain": [
       "<IPython.core.display.HTML object>"
      ]
     },
     "metadata": {},
     "output_type": "display_data"
    }
   ],
   "source": [
    "# show a GEE polygon above \n",
    "# load from asset \n",
    "# asset_id = https://code.earthengine.google.com/?asset=projects/jameswilliamchamberlain/assets/test/test_samarra_polygon_01\n",
    "asset_polygon = ee.FeatureCollection(\"projects/jameswilliamchamberlain/assets/test/test_samarra_polygon_01\")\n",
    "\n",
    "# add the polygon to the map\n",
    "m.addLayer(asset_polygon, {}, \"Samarra Polygon\")    \n"
   ]
  },
  {
   "cell_type": "markdown",
   "id": "b06267c3",
   "metadata": {},
   "source": [
    "# Useful Links \n",
    "\n",
    "[Google Earth Engine Editor](https://code.earthengine.google.com/)\n",
    "\n",
    "[GEE Tasks (Bulk cancel mode)](https://code.earthengine.google.com/tasks)"
   ]
  },
  {
   "cell_type": "code",
   "execution_count": 9,
   "id": "1d69f477",
   "metadata": {},
   "outputs": [
    {
     "data": {
      "text/html": [
       "\n",
       "            <style>\n",
       "                .geemap-dark {\n",
       "                    --jp-widgets-color: white;\n",
       "                    --jp-widgets-label-color: white;\n",
       "                    --jp-ui-font-color1: white;\n",
       "                    --jp-layout-color2: #454545;\n",
       "                    background-color: #383838;\n",
       "                }\n",
       "\n",
       "                .geemap-dark .jupyter-button {\n",
       "                    --jp-layout-color3: #383838;\n",
       "                }\n",
       "\n",
       "                .geemap-colab {\n",
       "                    background-color: var(--colab-primary-surface-color, white);\n",
       "                }\n",
       "\n",
       "                .geemap-colab .jupyter-button {\n",
       "                    --jp-layout-color3: var(--colab-primary-surface-color, white);\n",
       "                }\n",
       "            </style>\n",
       "            "
      ],
      "text/plain": [
       "<IPython.core.display.HTML object>"
      ]
     },
     "metadata": {},
     "output_type": "display_data"
    }
   ],
   "source": [
    "def export_to_gee(polygon, folder_name=\"test\", name=\"polygon_test\"):\n",
    "    \"\"\"\n",
    "        Exports tiles to GEE asset\n",
    "\n",
    "        Args:\n",
    "            polygon (ee.Geometry): The polygon to export. (Note: must be a single ee.Geometry)\n",
    "            folder_name (str): The folder name in GEE where the asset will be stored.\n",
    "            name (str): The name of the asset.\n",
    "    \"\"\"\n",
    "\n",
    "    task = ee.batch.Export.table.toAsset(\n",
    "        collection=ee.FeatureCollection([polygon]),\n",
    "        description=name,\n",
    "        assetId=f\"projects/jameswilliamchamberlain/assets/{folder_name}/{name}\"\n",
    "    )\n",
    "\n",
    "    task.start()\n",
    "\n",
    "    # this id can be used to reference specifc tasks rather than needing to check each individual task \n",
    "    return task.status()['id'] "
   ]
  },
  {
   "cell_type": "code",
   "execution_count": 10,
   "id": "10618acd",
   "metadata": {},
   "outputs": [
    {
     "data": {
      "text/html": [
       "\n",
       "            <style>\n",
       "                .geemap-dark {\n",
       "                    --jp-widgets-color: white;\n",
       "                    --jp-widgets-label-color: white;\n",
       "                    --jp-ui-font-color1: white;\n",
       "                    --jp-layout-color2: #454545;\n",
       "                    background-color: #383838;\n",
       "                }\n",
       "\n",
       "                .geemap-dark .jupyter-button {\n",
       "                    --jp-layout-color3: #383838;\n",
       "                }\n",
       "\n",
       "                .geemap-colab {\n",
       "                    background-color: var(--colab-primary-surface-color, white);\n",
       "                }\n",
       "\n",
       "                .geemap-colab .jupyter-button {\n",
       "                    --jp-layout-color3: var(--colab-primary-surface-color, white);\n",
       "                }\n",
       "            </style>\n",
       "            "
      ],
      "text/plain": [
       "<IPython.core.display.HTML object>"
      ]
     },
     "metadata": {},
     "output_type": "display_data"
    }
   ],
   "source": [
    "# from tile import tile \n",
    "\n",
    "# tiler = tile()\n",
    "# tiler.version()\n",
    "\n",
    "# year_start = 2017\n",
    "# year_end = 2025\n",
    "# month_step = 1\n",
    "\n",
    "\n",
    "# # polygon \n",
    "# polygon = m.draw_last_feature.geometry() if m.draw_features else None\n",
    "# export_id = None\n",
    "\n",
    "# if polygon is not None:\n",
    "#     print(f\"Polygon: {polygon.getInfo()}\")\n",
    "\n",
    "#     # save to gee\n",
    "#     export_id = export_to_gee(polygon, folder_name=\"test\", name=\"test_samarra_polygon_01\")\n",
    "\n",
    "#     print(f\"Exported polygon to GEE asset: {export_id}\")\n",
    "\n",
    "# else:\n",
    "#     raise ValueError(\"Please draw a polygon on the map above or import your own polygon in place of #polygon defined above.\")"
   ]
  },
  {
   "cell_type": "code",
   "execution_count": 11,
   "id": "89b70aca",
   "metadata": {},
   "outputs": [
    {
     "data": {
      "text/html": [
       "\n",
       "            <style>\n",
       "                .geemap-dark {\n",
       "                    --jp-widgets-color: white;\n",
       "                    --jp-widgets-label-color: white;\n",
       "                    --jp-ui-font-color1: white;\n",
       "                    --jp-layout-color2: #454545;\n",
       "                    background-color: #383838;\n",
       "                }\n",
       "\n",
       "                .geemap-dark .jupyter-button {\n",
       "                    --jp-layout-color3: #383838;\n",
       "                }\n",
       "\n",
       "                .geemap-colab {\n",
       "                    background-color: var(--colab-primary-surface-color, white);\n",
       "                }\n",
       "\n",
       "                .geemap-colab .jupyter-button {\n",
       "                    --jp-layout-color3: var(--colab-primary-surface-color, white);\n",
       "                }\n",
       "            </style>\n",
       "            "
      ],
      "text/plain": [
       "<IPython.core.display.HTML object>"
      ]
     },
     "metadata": {},
     "output_type": "display_data"
    }
   ],
   "source": [
    "# check status \n",
    "def check_task_status(task_id):\n",
    "    \"\"\"\n",
    "        Check the status of a GEE task by its ID\n",
    "    \"\"\"\n",
    "    status = ee.data.getTaskStatus(task_id) # depricated but easier to work with!!  \n",
    "    # print(f\"Task ID: {task_id} status is {status[0]['state']}\")\n",
    "\n",
    "    return status\n",
    "\n",
    "# check_task_status(task_id=export_id)"
   ]
  },
  {
   "cell_type": "code",
   "execution_count": 5,
   "id": "cb69bebf",
   "metadata": {},
   "outputs": [],
   "source": [
    "import ee\n",
    "# ee.Authenticate()\n",
    "ee.Initialize(project=\"jameswilliamchamberlain\")\n",
    "\n",
    "def export_s2_with_ndvi_to_drive_from_asset(\n",
    "    asset_path,\n",
    "    start_date,\n",
    "    end_date,\n",
    "    filename=f\"s2_ndvi_\",\n",
    "    folder=\"exported_assets\"\n",
    "):\n",
    "    # Load polygon from asset\n",
    "    region = ee.FeatureCollection(asset_path).geometry()\n",
    "\n",
    "    # Load and process Sentinel-2 imagery\n",
    "    # 2018 onward seems to have a diffenrt cloud mask - so its detecting colouds before thtat that do not exist for some reason so have to lower the cloud percentage threshold\n",
    "    # s2 = ee.ImageCollection(\"COPERNICUS/S2_SR\") \\\n",
    "    #     .filterDate(start_date, end_date) \\\n",
    "    #     .filter(ee.Filter.lt('CLOUDY_PIXEL_PERCENTAGE', 10)) \\\n",
    "    #     .filterBounds(region) \\\n",
    "    #     .median()\n",
    "    \n",
    "    s2 = ee.ImageCollection(\"COPERNICUS/S2_SR_HARMONIZED\") \\\n",
    "        .filterDate(start_date, end_date) \\\n",
    "        .filterBounds(region) \\\n",
    "        .filter(ee.Filter.lt('CLOUDY_PIXEL_PERCENTAGE', 10)) \\\n",
    "        .median()\n",
    "    \n",
    "\n",
    "    # Compute NDVI\n",
    "    # shourtcut fn https://developers.google.com/earth-engine/tutorials/tutorial_api_06\n",
    "    ndvi = s2.normalizedDifference(['B8', 'B4']).rename('NDVI')\n",
    "    image_with_ndvi = s2.addBands(ndvi).toFloat()\n",
    "\n",
    "    # Create export task to Drive\n",
    "    task = ee.batch.Export.image.toDrive(\n",
    "        image=s2,\n",
    "        description=filename,\n",
    "        folder=folder,\n",
    "        fileNamePrefix=filename,\n",
    "        region=region.bounds().getInfo()['coordinates'],\n",
    "        scale=10,\n",
    "        maxPixels=1e13,\n",
    "        fileFormat='GeoTIFF'\n",
    "    )\n",
    "\n",
    "    task.start()\n",
    "    return task.status()['id']\n",
    "\n",
    "\n",
    "# TEST \n",
    "\n",
    "# task_id = export_s2_with_ndvi_to_drive_from_asset(\n",
    "#     asset_path=\"projects/jameswilliamchamberlain/assets/test/test_samarra_polygon_01\",\n",
    "#     start_date=\"2020-01-01\",\n",
    "#     end_date=\"2020-02-29\",\n",
    "#     filename=\"s2_ndvi_samarra\",\n",
    "#     folder=\"samarra_exports\"\n",
    "# )"
   ]
  },
  {
   "cell_type": "code",
   "execution_count": 13,
   "id": "b983487d",
   "metadata": {},
   "outputs": [
    {
     "data": {
      "text/html": [
       "\n",
       "            <style>\n",
       "                .geemap-dark {\n",
       "                    --jp-widgets-color: white;\n",
       "                    --jp-widgets-label-color: white;\n",
       "                    --jp-ui-font-color1: white;\n",
       "                    --jp-layout-color2: #454545;\n",
       "                    background-color: #383838;\n",
       "                }\n",
       "\n",
       "                .geemap-dark .jupyter-button {\n",
       "                    --jp-layout-color3: #383838;\n",
       "                }\n",
       "\n",
       "                .geemap-colab {\n",
       "                    background-color: var(--colab-primary-surface-color, white);\n",
       "                }\n",
       "\n",
       "                .geemap-colab .jupyter-button {\n",
       "                    --jp-layout-color3: var(--colab-primary-surface-color, white);\n",
       "                }\n",
       "            </style>\n",
       "            "
      ],
      "text/plain": [
       "<IPython.core.display.HTML object>"
      ]
     },
     "metadata": {},
     "output_type": "display_data"
    }
   ],
   "source": [
    "# check_task_status(task_id=task_id)\n",
    "\n",
    "# raise ValueError(\"BREAKS\")"
   ]
  },
  {
   "cell_type": "code",
   "execution_count": 6,
   "id": "83e2c3a4",
   "metadata": {},
   "outputs": [
    {
     "name": "stdout",
     "output_type": "stream",
     "text": [
      "Start: 2016-01-01, End: 2016-01-31\n",
      "Start: 2016-02-01, End: 2016-02-29\n",
      "Start: 2016-03-01, End: 2016-03-31\n",
      "Start: 2016-04-01, End: 2016-04-30\n",
      "Start: 2016-05-01, End: 2016-05-31\n",
      "Start: 2016-06-01, End: 2016-06-30\n",
      "Start: 2016-07-01, End: 2016-07-31\n",
      "Start: 2016-08-01, End: 2016-08-31\n",
      "Start: 2016-09-01, End: 2016-09-30\n",
      "Start: 2016-10-01, End: 2016-10-31\n",
      "Start: 2016-11-01, End: 2016-11-30\n",
      "Start: 2016-12-01, End: 2016-12-31\n",
      "Start: 2017-01-01, End: 2017-01-31\n",
      "Start: 2017-02-01, End: 2017-02-28\n",
      "Start: 2017-03-01, End: 2017-03-31\n",
      "Start: 2017-04-01, End: 2017-04-30\n",
      "Start: 2017-05-01, End: 2017-05-31\n",
      "Start: 2017-06-01, End: 2017-06-30\n",
      "Start: 2017-07-01, End: 2017-07-31\n",
      "Start: 2017-08-01, End: 2017-08-31\n",
      "Start: 2017-09-01, End: 2017-09-30\n",
      "Start: 2017-10-01, End: 2017-10-31\n",
      "Start: 2017-11-01, End: 2017-11-30\n",
      "Start: 2017-12-01, End: 2017-12-31\n",
      "Start: 2018-01-01, End: 2018-01-31\n",
      "Start: 2018-02-01, End: 2018-02-28\n",
      "Start: 2018-03-01, End: 2018-03-31\n",
      "Start: 2018-04-01, End: 2018-04-30\n",
      "Start: 2018-05-01, End: 2018-05-31\n",
      "Start: 2018-06-01, End: 2018-06-30\n",
      "Start: 2018-07-01, End: 2018-07-31\n",
      "Start: 2018-08-01, End: 2018-08-31\n",
      "Start: 2018-09-01, End: 2018-09-30\n",
      "Start: 2018-10-01, End: 2018-10-31\n",
      "Start: 2018-11-01, End: 2018-11-30\n",
      "Start: 2018-12-01, End: 2018-12-31\n",
      "Start: 2019-01-01, End: 2019-01-31\n",
      "Start: 2019-02-01, End: 2019-02-28\n",
      "Start: 2019-03-01, End: 2019-03-31\n",
      "Start: 2019-04-01, End: 2019-04-30\n",
      "Start: 2019-05-01, End: 2019-05-31\n",
      "Start: 2019-06-01, End: 2019-06-30\n",
      "Start: 2019-07-01, End: 2019-07-31\n",
      "Start: 2019-08-01, End: 2019-08-31\n",
      "Start: 2019-09-01, End: 2019-09-30\n",
      "Start: 2019-10-01, End: 2019-10-31\n",
      "Start: 2019-11-01, End: 2019-11-30\n",
      "Start: 2019-12-01, End: 2019-12-31\n",
      "Start: 2020-01-01, End: 2020-01-31\n",
      "Start: 2020-02-01, End: 2020-02-29\n",
      "Start: 2020-03-01, End: 2020-03-31\n",
      "Start: 2020-04-01, End: 2020-04-30\n",
      "Start: 2020-05-01, End: 2020-05-31\n",
      "Start: 2020-06-01, End: 2020-06-30\n",
      "Start: 2020-07-01, End: 2020-07-31\n",
      "Start: 2020-08-01, End: 2020-08-31\n",
      "Start: 2020-09-01, End: 2020-09-30\n",
      "Start: 2020-10-01, End: 2020-10-31\n",
      "Start: 2020-11-01, End: 2020-11-30\n",
      "Start: 2020-12-01, End: 2020-12-31\n",
      "Start: 2021-01-01, End: 2021-01-31\n",
      "Start: 2021-02-01, End: 2021-02-28\n",
      "Start: 2021-03-01, End: 2021-03-31\n",
      "Start: 2021-04-01, End: 2021-04-30\n",
      "Start: 2021-05-01, End: 2021-05-31\n",
      "Start: 2021-06-01, End: 2021-06-30\n",
      "Start: 2021-07-01, End: 2021-07-31\n",
      "Start: 2021-08-01, End: 2021-08-31\n",
      "Start: 2021-09-01, End: 2021-09-30\n",
      "Start: 2021-10-01, End: 2021-10-31\n",
      "Start: 2021-11-01, End: 2021-11-30\n",
      "Start: 2021-12-01, End: 2021-12-31\n",
      "Start: 2022-01-01, End: 2022-01-31\n",
      "Start: 2022-02-01, End: 2022-02-28\n",
      "Start: 2022-03-01, End: 2022-03-31\n",
      "Start: 2022-04-01, End: 2022-04-30\n",
      "Start: 2022-05-01, End: 2022-05-31\n",
      "Start: 2022-06-01, End: 2022-06-30\n",
      "Start: 2022-07-01, End: 2022-07-31\n",
      "Start: 2022-08-01, End: 2022-08-31\n",
      "Start: 2022-09-01, End: 2022-09-30\n",
      "Start: 2022-10-01, End: 2022-10-31\n",
      "Start: 2022-11-01, End: 2022-11-30\n",
      "Start: 2022-12-01, End: 2022-12-31\n",
      "Start: 2023-01-01, End: 2023-01-31\n",
      "Start: 2023-02-01, End: 2023-02-28\n",
      "Start: 2023-03-01, End: 2023-03-31\n",
      "Start: 2023-04-01, End: 2023-04-30\n",
      "Start: 2023-05-01, End: 2023-05-31\n",
      "Start: 2023-06-01, End: 2023-06-30\n",
      "Start: 2023-07-01, End: 2023-07-31\n",
      "Start: 2023-08-01, End: 2023-08-31\n",
      "Start: 2023-09-01, End: 2023-09-30\n",
      "Start: 2023-10-01, End: 2023-10-31\n",
      "Start: 2023-11-01, End: 2023-11-30\n",
      "Start: 2023-12-01, End: 2023-12-31\n",
      "Start: 2024-01-01, End: 2024-01-31\n",
      "Start: 2024-02-01, End: 2024-02-29\n",
      "Start: 2024-03-01, End: 2024-03-31\n",
      "Start: 2024-04-01, End: 2024-04-30\n",
      "Start: 2024-05-01, End: 2024-05-31\n",
      "Start: 2024-06-01, End: 2024-06-30\n",
      "Start: 2024-07-01, End: 2024-07-31\n",
      "Start: 2024-08-01, End: 2024-08-31\n",
      "Start: 2024-09-01, End: 2024-09-30\n",
      "Start: 2024-10-01, End: 2024-10-31\n",
      "Start: 2024-11-01, End: 2024-11-30\n",
      "Start: 2024-12-01, End: 2024-12-31\n",
      "Start: 2025-01-01, End: 2025-01-31\n",
      "Start: 2025-02-01, End: 2025-02-28\n",
      "Start: 2025-03-01, End: 2025-03-31\n",
      "Start: 2025-04-01, End: 2025-04-30\n",
      "Start: 2025-05-01, End: 2025-05-31\n",
      "Start: 2025-06-01, End: 2025-06-30\n",
      "Start: 2025-07-01, End: 2025-07-31\n",
      "Start: 2025-08-01, End: 2025-08-31\n",
      "Start: 2025-09-01, End: 2025-09-30\n",
      "Start: 2025-10-01, End: 2025-10-31\n",
      "Start: 2025-11-01, End: 2025-11-30\n",
      "Start: 2025-12-01, End: 2025-12-31\n"
     ]
    }
   ],
   "source": [
    "# get start and end date for each month 2017 to present \n",
    "\n",
    "from datetime import datetime, timedelta\n",
    "\n",
    "def get_month_start_end(year, month):\n",
    "    \"\"\"\n",
    "        Get the start and end date for a given month and year.\n",
    "    \"\"\"\n",
    "    start_date = datetime(year, month, 1)\n",
    "    if month == 12:\n",
    "        end_date = datetime(year + 1, 1, 1) - timedelta(days=1)\n",
    "    else:\n",
    "        end_date = datetime(year, month + 1, 1) - timedelta(days=1)\n",
    "\n",
    "    return start_date.strftime('%Y-%m-%d'), end_date.strftime('%Y-%m-%d')\n",
    "\n",
    "def get_monthly_date_ranges(start_year, end_year):\n",
    "    \"\"\"\n",
    "        Get a list of start and end dates for each month from start_year to end_year.\n",
    "    \"\"\"\n",
    "    date_ranges = []\n",
    "    for year in range(start_year, end_year + 1):\n",
    "        for month in range(1, 13):\n",
    "            start_date, end_date = get_month_start_end(year, month)\n",
    "            date_ranges.append((start_date, end_date))\n",
    "    return date_ranges\n",
    "\n",
    "# Get monthly date ranges from 2017 to present\n",
    "# monthly_date_ranges = get_monthly_date_ranges(2017, datetime.now().year)\n",
    "monthly_date_ranges = get_monthly_date_ranges(2016, 2025)\n",
    "\n",
    "# Print the date ranges\n",
    "for start_date, end_date in monthly_date_ranges:\n",
    "    print(f\"Start: {start_date}, End: {end_date}\")"
   ]
  },
  {
   "cell_type": "code",
   "execution_count": 9,
   "id": "7fbc4d28",
   "metadata": {},
   "outputs": [],
   "source": [
    "# Asset Directory\n",
    "asset_dir = \"projects/jameswilliamchamberlain/assets/test/test_samarra_polygon_01\"\n",
    "\n",
    "task_ids = []\n",
    "\n",
    "for start_date, end_date in monthly_date_ranges:\n",
    "    task_id = export_s2_with_ndvi_to_drive_from_asset(\n",
    "        asset_path=asset_dir,\n",
    "        start_date=start_date,\n",
    "        end_date=end_date,\n",
    "        filename=f\"s2_ndvi_samarra_{start_date}_{end_date}\",\n",
    "        folder=\"samarra_exports_l2_neu\"\n",
    "    )\n",
    "    task_ids.append(task_id)"
   ]
  },
  {
   "cell_type": "code",
   "execution_count": null,
   "id": "5d140443",
   "metadata": {},
   "outputs": [
    {
     "data": {
      "text/html": [
       "\n",
       "            <style>\n",
       "                .geemap-dark {\n",
       "                    --jp-widgets-color: white;\n",
       "                    --jp-widgets-label-color: white;\n",
       "                    --jp-ui-font-color1: white;\n",
       "                    --jp-layout-color2: #454545;\n",
       "                    background-color: #383838;\n",
       "                }\n",
       "\n",
       "                .geemap-dark .jupyter-button {\n",
       "                    --jp-layout-color3: #383838;\n",
       "                }\n",
       "\n",
       "                .geemap-colab {\n",
       "                    background-color: var(--colab-primary-surface-color, white);\n",
       "                }\n",
       "\n",
       "                .geemap-colab .jupyter-button {\n",
       "                    --jp-layout-color3: var(--colab-primary-surface-color, white);\n",
       "                }\n",
       "            </style>\n",
       "            "
      ],
      "text/plain": [
       "<IPython.core.display.HTML object>"
      ]
     },
     "metadata": {},
     "output_type": "display_data"
    },
    {
     "name": "stdout",
     "output_type": "stream",
     "text": [
      "Task LNL2J2SD5O6FBBKQIV6CBVIM failed. 24 tasks remaining.\n",
      "Task PM5O7SYFSOKWHLFMSA7CNTNE failed. 23 tasks remaining.\n",
      "Task M72Z7XWNTE2ZSKJKFNI7OXQB failed. 22 tasks remaining.\n",
      "Task 3DQG5AGD3K2J5RGJN4EF72BK failed. 21 tasks remaining.\n",
      "Task JJ5MXXWW7WMAEJMQQI6WGINJ failed. 20 tasks remaining.\n",
      "Task 6O46QDNL6T3OECXRKV5Q2MWV failed. 19 tasks remaining.\n",
      "Task VX26X3FH2FTFXXELKJAIL26W failed. 18 tasks remaining.\n",
      "Task X253AFFTGMGD6F5GDXI444EA failed. 17 tasks remaining.\n",
      "Task N5UTPO3MSJ5OW62LPY2LVXWI failed. 16 tasks remaining.\n",
      "Task CS5EN6MBKWXYGR3DBOD2R5QN failed. 15 tasks remaining.\n",
      "Task 6TUFDPK6O6NDETPLMF4KD3E2 failed. 14 tasks remaining.\n"
     ]
    }
   ],
   "source": [
    "import time\n",
    "\n",
    "failed_tasks = []\n",
    "\n",
    "while len(task_ids) is not []:\n",
    "    for task_id in task_ids:\n",
    "        status = check_task_status(task_id=task_id)[0]\n",
    "\n",
    "        if status['state'] == 'COMPLETED':\n",
    "            print(f\"Task {task_id} completed successfully. {len(task_ids)} tasks remaining.\")\n",
    "            task_ids.remove(task_id)\n",
    "        elif status['state'] == 'FAILED' or status['state'] == 'CANCELLED' or status['state'] == 'CANCELING':\n",
    "            print(f\"Task {task_id} failed. {len(task_ids)} tasks remaining.\")\n",
    "            failed_tasks.append(task_id)\n",
    "            task_ids.remove(task_id)\n",
    "    time.sleep(120) # wait 2 min "
   ]
  },
  {
   "cell_type": "code",
   "execution_count": null,
   "id": "94b9afa5",
   "metadata": {},
   "outputs": [],
   "source": [
    "print(len(task_ids), \"tasks failed to complete.\")"
   ]
  },
  {
   "cell_type": "code",
   "execution_count": null,
   "id": "649d0e91",
   "metadata": {},
   "outputs": [],
   "source": [
    "print(task_ids[0])"
   ]
  }
 ],
 "metadata": {
  "kernelspec": {
   "display_name": "gee",
   "language": "python",
   "name": "python3"
  },
  "language_info": {
   "codemirror_mode": {
    "name": "ipython",
    "version": 3
   },
   "file_extension": ".py",
   "mimetype": "text/x-python",
   "name": "python",
   "nbconvert_exporter": "python",
   "pygments_lexer": "ipython3",
   "version": "3.8.20"
  }
 },
 "nbformat": 4,
 "nbformat_minor": 5
}
