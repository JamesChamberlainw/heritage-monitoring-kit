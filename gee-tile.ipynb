{
 "cells": [
  {
   "cell_type": "code",
   "execution_count": null,
   "metadata": {},
   "outputs": [],
   "source": [
    "import ee\n",
    "import geemap\n",
    "import time\n"
   ]
  },
  {
   "cell_type": "code",
   "execution_count": null,
   "metadata": {},
   "outputs": [],
   "source": [
    "# ee.Authenticate()\n",
    "ee.Initialize()"
   ]
  },
  {
   "cell_type": "code",
   "execution_count": null,
   "metadata": {},
   "outputs": [
    {
     "name": "stdout",
     "output_type": "stream",
     "text": [
      "Started task: tile_30.000_30.000_30.250_30.250\n",
      "Started task: tile_30.250_30.000_30.500_30.250\n",
      "Started task: tile_30.500_30.000_30.750_30.250\n",
      "Started task: tile_30.750_30.000_31.000_30.250\n",
      "Started task: tile_31.000_30.000_31.250_30.250\n",
      "Started task: tile_31.250_30.000_31.500_30.250\n",
      "Started task: tile_30.000_30.250_30.250_30.500\n",
      "Started task: tile_30.250_30.250_30.500_30.500\n",
      "Started task: tile_30.500_30.250_30.750_30.500\n",
      "Started task: tile_30.750_30.250_31.000_30.500\n",
      "Started task: tile_31.000_30.250_31.250_30.500\n",
      "Started task: tile_31.250_30.250_31.500_30.500\n",
      "Started task: tile_30.000_30.500_30.250_30.750\n",
      "Started task: tile_30.250_30.500_30.500_30.750\n",
      "Started task: tile_30.500_30.500_30.750_30.750\n",
      "Started task: tile_30.750_30.500_31.000_30.750\n",
      "Started task: tile_31.000_30.500_31.250_30.750\n",
      "Started task: tile_31.250_30.500_31.500_30.750\n",
      "Started task: tile_30.000_30.750_30.250_31.000\n",
      "Started task: tile_30.250_30.750_30.500_31.000\n",
      "Started task: tile_30.500_30.750_30.750_31.000\n",
      "Started task: tile_30.750_30.750_31.000_31.000\n",
      "Started task: tile_31.000_30.750_31.250_31.000\n",
      "Started task: tile_31.250_30.750_31.500_31.000\n"
     ]
    }
   ],
   "source": [
    "roi = ee.Geometry.BBox(30, 30, 31.333, 30.99)\n",
    "\n",
    "Map = geemap.Map(center=[30.5, 30.5], zoom=8)\n",
    "\n",
    "grid_width = 0.25\n",
    "grid_height = 0.25\n",
    "\n",
    "start = \"2025-01-01\"\n",
    "end = \"2025-02-28\"\n",
    "\n",
    "composite_image = (\n",
    "    ee.ImageCollection(\"COPERNICUS/S2_HARMONIZED\")\n",
    "    .filterDate(start, end)\n",
    "    .filterBounds(roi)\n",
    "    .filter(ee.Filter.lt(\"CLOUDY_PIXEL_PERCENTAGE\", 20))\n",
    "    .median()\n",
    "    .clip(roi)\n",
    "    .select(['B4', 'B3', 'B2'])\n",
    ")\n",
    "\n",
    "def make_fishnet(region, dx, dy, image):\n",
    "    coords = region.bounds().coordinates().get(0)\n",
    "    coords = ee.List(coords)\n",
    "\n",
    "    xmin = ee.Number(ee.List(coords.get(0)).get(0))\n",
    "    ymin = ee.Number(ee.List(coords.get(0)).get(1))\n",
    "    xmax = ee.Number(ee.List(coords.get(2)).get(0))\n",
    "    ymax = ee.Number(ee.List(coords.get(2)).get(1))\n",
    "\n",
    "    x_cells = xmax.subtract(xmin).divide(dx).ceil()\n",
    "    y_cells = ymax.subtract(ymin).divide(dy).ceil()\n",
    "\n",
    "    def create_row(j):\n",
    "        j = ee.Number(j)\n",
    "        y1 = ymin.add(j.multiply(dy))\n",
    "        y2 = y1.add(dy)\n",
    "\n",
    "        def create_cell(i):\n",
    "            i = ee.Number(i)\n",
    "            x1 = xmin.add(i.multiply(dx))\n",
    "            x2 = x1.add(dx)\n",
    "            rect = ee.Geometry.Rectangle([x1, y1, x2, y2])\n",
    "            tile_img = image.clip(rect)\n",
    "\n",
    "            file_name = ee.String('tile_') \\\n",
    "                .cat(x1.format('%.3f')).cat('_') \\\n",
    "                .cat(y1.format('%.3f')).cat('_') \\\n",
    "                .cat(x2.format('%.3f')).cat('_') \\\n",
    "                .cat(y2.format('%.3f'))\n",
    "\n",
    "            return ee.Feature(rect, {'file_name': file_name})\n",
    "\n",
    "        return ee.List.sequence(0, x_cells.subtract(1)).map(create_cell)\n",
    "\n",
    "    grid = ee.List.sequence(0, y_cells.subtract(1)).map(lambda j: create_row(j)).flatten()\n",
    "    return ee.FeatureCollection(grid)\n",
    "\n",
    "fishnet = make_fishnet(roi, grid_width, grid_height, composite_image)\n",
    "\n",
    "features = fishnet.getInfo()['features']\n",
    "\n",
    "for feature in features:\n",
    "    geom = ee.Geometry(feature['geometry'])\n",
    "    file_name = feature['properties']['file_name']\n",
    "\n",
    "    task = ee.batch.Export.image.toDrive(\n",
    "        image=composite_image.clip(geom),\n",
    "        description=file_name,\n",
    "        folder='S2_tiles',\n",
    "        fileNamePrefix=file_name,\n",
    "        region=geom,\n",
    "        scale=10,\n",
    "        maxPixels=1e13,\n",
    "        fileFormat='GeoTIFF'\n",
    "    )\n",
    "    task.start()\n",
    "    print(f\"Started task: {file_name}\")\n",
    "    time.sleep(1) "
   ]
  },
  {
   "cell_type": "code",
   "execution_count": null,
   "metadata": {},
   "outputs": [
    {
     "data": {
      "text/html": [
       "\n",
       "            <style>\n",
       "                .geemap-dark {\n",
       "                    --jp-widgets-color: white;\n",
       "                    --jp-widgets-label-color: white;\n",
       "                    --jp-ui-font-color1: white;\n",
       "                    --jp-layout-color2: #454545;\n",
       "                    background-color: #383838;\n",
       "                }\n",
       "\n",
       "                .geemap-dark .jupyter-button {\n",
       "                    --jp-layout-color3: #383838;\n",
       "                }\n",
       "\n",
       "                .geemap-colab {\n",
       "                    background-color: var(--colab-primary-surface-color, white);\n",
       "                }\n",
       "\n",
       "                .geemap-colab .jupyter-button {\n",
       "                    --jp-layout-color3: var(--colab-primary-surface-color, white);\n",
       "                }\n",
       "            </style>\n",
       "            "
      ],
      "text/plain": [
       "<IPython.core.display.HTML object>"
      ]
     },
     "metadata": {},
     "output_type": "display_data"
    },
    {
     "data": {
      "application/vnd.jupyter.widget-view+json": {
       "model_id": "e72b434b528046859faa1e4a941c496a",
       "version_major": 2,
       "version_minor": 0
      },
      "text/plain": [
       "Map(center=[30.5, 30.5], controls=(WidgetControl(options=['position', 'transparent_bg'], widget=SearchDataGUI(…"
      ]
     },
     "execution_count": 2,
     "metadata": {},
     "output_type": "execute_result"
    }
   ],
   "source": [
    "Map.addLayer(fishnet.style(**{'color': 'blue', 'fillColor': '00000000'}), {}, \"Fishnet Grid\")\n",
    "Map.addLayer(roi, {\"color\": \"red\"}, \"ROI\")\n",
    "Map.addLayer(\n",
    "    composite_image,\n",
    "    {\n",
    "        'bands': ['B4', 'B3', 'B2'],  # RGB\n",
    "        'min': 0,\n",
    "        'max': 3000,\n",
    "        'gamma': 1.3 \n",
    "    },\n",
    "    'S2 Composite (2025)'\n",
    ") \n",
    "Map"
   ]
  }
 ],
 "metadata": {
  "kernelspec": {
   "display_name": "Python 3",
   "language": "python",
   "name": "python3"
  },
  "language_info": {
   "codemirror_mode": {
    "name": "ipython",
    "version": 3
   },
   "file_extension": ".py",
   "mimetype": "text/x-python",
   "name": "python",
   "nbconvert_exporter": "python",
   "pygments_lexer": "ipython3",
   "version": "3.8.20"
  }
 },
 "nbformat": 4,
 "nbformat_minor": 2
}
