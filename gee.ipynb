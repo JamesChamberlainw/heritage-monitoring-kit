{
 "cells": [
  {
   "cell_type": "code",
   "execution_count": 1,
   "metadata": {},
   "outputs": [],
   "source": [
    "import ee\n",
    "import geemap\n",
    "import xml.etree.ElementTree as ET\n",
    "import ipywidgets as widgets\n",
    "import pandas as pd \n",
    "from pprint import pprint "
   ]
  },
  {
   "cell_type": "code",
   "execution_count": 2,
   "metadata": {},
   "outputs": [
    {
     "data": {
      "text/html": [
       "\n",
       "            <style>\n",
       "                .geemap-dark {\n",
       "                    --jp-widgets-color: white;\n",
       "                    --jp-widgets-label-color: white;\n",
       "                    --jp-ui-font-color1: white;\n",
       "                    --jp-layout-color2: #454545;\n",
       "                    background-color: #383838;\n",
       "                }\n",
       "\n",
       "                .geemap-dark .jupyter-button {\n",
       "                    --jp-layout-color3: #383838;\n",
       "                }\n",
       "\n",
       "                .geemap-colab {\n",
       "                    background-color: var(--colab-primary-surface-color, white);\n",
       "                }\n",
       "\n",
       "                .geemap-colab .jupyter-button {\n",
       "                    --jp-layout-color3: var(--colab-primary-surface-color, white);\n",
       "                }\n",
       "            </style>\n",
       "            "
      ],
      "text/plain": [
       "<IPython.core.display.HTML object>"
      ]
     },
     "metadata": {},
     "output_type": "display_data"
    }
   ],
   "source": [
    "ee.Authenticate() \n",
    "ee.Initialize()"
   ]
  },
  {
   "cell_type": "code",
   "execution_count": 3,
   "metadata": {},
   "outputs": [
    {
     "data": {
      "text/html": [
       "\n",
       "            <style>\n",
       "                .geemap-dark {\n",
       "                    --jp-widgets-color: white;\n",
       "                    --jp-widgets-label-color: white;\n",
       "                    --jp-ui-font-color1: white;\n",
       "                    --jp-layout-color2: #454545;\n",
       "                    background-color: #383838;\n",
       "                }\n",
       "\n",
       "                .geemap-dark .jupyter-button {\n",
       "                    --jp-layout-color3: #383838;\n",
       "                }\n",
       "\n",
       "                .geemap-colab {\n",
       "                    background-color: var(--colab-primary-surface-color, white);\n",
       "                }\n",
       "\n",
       "                .geemap-colab .jupyter-button {\n",
       "                    --jp-layout-color3: var(--colab-primary-surface-color, white);\n",
       "                }\n",
       "            </style>\n",
       "            "
      ],
      "text/plain": [
       "<IPython.core.display.HTML object>"
      ]
     },
     "metadata": {},
     "output_type": "display_data"
    }
   ],
   "source": [
    "# UNESCO World Heritage Sites List xml file \n",
    "tree = ET.parse(\"whs.xml\")\n",
    "root = tree.getroot()\n",
    "\n",
    "data = []\n",
    "\n",
    "for row in root.findall(\"row\"):\n",
    "    site = row.findtext('site')\n",
    "    category = row.findtext('category')\n",
    "    date_inscribed = row.findtext('date_inscribed')\n",
    "    region = row.findtext('region')\n",
    "    url = row.findtext('http_url')\n",
    "    longitude = row.findtext('longitude')\n",
    "    latitude = row.findtext('latitude')\n",
    "    iso = row.findtext('iso_code')\n",
    "    iso = iso.split(',')\n",
    "    data.append([site, category, date_inscribed, region, url, longitude, latitude, iso])\n",
    "\n",
    "df = pd.DataFrame(data, columns=[\"name\", \"category\", \"date inscribed\", \"region\", \"url\", \"longitude\", \"latitude\", \"iso\"])\n",
    "\n",
    "df[\"longitude\"] = pd.to_numeric(df[\"longitude\"], errors='coerce')\n",
    "df[\"latitude\"] = pd.to_numeric(df[\"latitude\"], errors='coerce')"
   ]
  },
  {
   "cell_type": "code",
   "execution_count": 4,
   "metadata": {},
   "outputs": [
    {
     "data": {
      "text/html": [
       "\n",
       "            <style>\n",
       "                .geemap-dark {\n",
       "                    --jp-widgets-color: white;\n",
       "                    --jp-widgets-label-color: white;\n",
       "                    --jp-ui-font-color1: white;\n",
       "                    --jp-layout-color2: #454545;\n",
       "                    background-color: #383838;\n",
       "                }\n",
       "\n",
       "                .geemap-dark .jupyter-button {\n",
       "                    --jp-layout-color3: #383838;\n",
       "                }\n",
       "\n",
       "                .geemap-colab {\n",
       "                    background-color: var(--colab-primary-surface-color, white);\n",
       "                }\n",
       "\n",
       "                .geemap-colab .jupyter-button {\n",
       "                    --jp-layout-color3: var(--colab-primary-surface-color, white);\n",
       "                }\n",
       "            </style>\n",
       "            "
      ],
      "text/plain": [
       "<IPython.core.display.HTML object>"
      ]
     },
     "metadata": {},
     "output_type": "display_data"
    }
   ],
   "source": [
    "df = df[df['category'] != 'Natural'] "
   ]
  },
  {
   "cell_type": "code",
   "execution_count": 5,
   "metadata": {},
   "outputs": [
    {
     "data": {
      "text/html": [
       "\n",
       "            <style>\n",
       "                .geemap-dark {\n",
       "                    --jp-widgets-color: white;\n",
       "                    --jp-widgets-label-color: white;\n",
       "                    --jp-ui-font-color1: white;\n",
       "                    --jp-layout-color2: #454545;\n",
       "                    background-color: #383838;\n",
       "                }\n",
       "\n",
       "                .geemap-dark .jupyter-button {\n",
       "                    --jp-layout-color3: #383838;\n",
       "                }\n",
       "\n",
       "                .geemap-colab {\n",
       "                    background-color: var(--colab-primary-surface-color, white);\n",
       "                }\n",
       "\n",
       "                .geemap-colab .jupyter-button {\n",
       "                    --jp-layout-color3: var(--colab-primary-surface-color, white);\n",
       "                }\n",
       "            </style>\n",
       "            "
      ],
      "text/plain": [
       "<IPython.core.display.HTML object>"
      ]
     },
     "metadata": {},
     "output_type": "display_data"
    }
   ],
   "source": [
    "# df[[\"longitude\", \"latitude\"]]\n",
    "df = df.dropna(subset=[\"longitude\", \"latitude\"]).reset_index(drop=True)"
   ]
  },
  {
   "cell_type": "code",
   "execution_count": 6,
   "metadata": {},
   "outputs": [
    {
     "data": {
      "text/html": [
       "\n",
       "            <style>\n",
       "                .geemap-dark {\n",
       "                    --jp-widgets-color: white;\n",
       "                    --jp-widgets-label-color: white;\n",
       "                    --jp-ui-font-color1: white;\n",
       "                    --jp-layout-color2: #454545;\n",
       "                    background-color: #383838;\n",
       "                }\n",
       "\n",
       "                .geemap-dark .jupyter-button {\n",
       "                    --jp-layout-color3: #383838;\n",
       "                }\n",
       "\n",
       "                .geemap-colab {\n",
       "                    background-color: var(--colab-primary-surface-color, white);\n",
       "                }\n",
       "\n",
       "                .geemap-colab .jupyter-button {\n",
       "                    --jp-layout-color3: var(--colab-primary-surface-color, white);\n",
       "                }\n",
       "            </style>\n",
       "            "
      ],
      "text/plain": [
       "<IPython.core.display.HTML object>"
      ]
     },
     "metadata": {},
     "output_type": "display_data"
    }
   ],
   "source": [
    "df_disp = df # default \n",
    "\n",
    "# regions\n",
    "iberia = {\"es\", \"pt\", \"ad\"}\n",
    "balkans = {\"bg\", \"ro\", \"rs\", \"hr\", \"si\", \"ba\", \"me\", \"gr\", \"al\"} \n",
    "centeral = {\"pl\", \"de\", \"he\", \"ch\", \"at\", \"cz\", \"sk\"}\n",
    "levant = {\"il\", \"jo\", \"sy\", \"lb\", 'ps'}\n",
    "fertile_crescent = {\"il\", \"jo\", \"sy\", \"lb\", 'iq', 'eg', 'ps'}\n",
    "middle_east = {\"il\", \"jo\", \"sy\", \"lb\", 'iq', 'eg', 'sa', 'bh', 'qa', 'ae', 'om', 'ye', 'ir', 'tr', 'ps'}\n",
    "caucasus = {'ge', 'az', 'am'}\n",
    "stepp_countries = {'tm', 'uz', 'tm', 'kz', 'kg', 'tj'}\n",
    "indian_subcontinent = {'af', 'pk', 'in', 'np', 'bd', 'lk'}\n",
    "north_africa = {'ma', 'dz', 'tn', 'ly', 'eg'}\n",
    "horn_africa = {'er', 'et'}\n",
    "egypt = {'eg', 'sd', 'il', 'ps'} # old egypt\n",
    "british_isles = {'gb', 'ie'}\n",
    "\n",
    "target_iso = {'iq', 'ir'}\n",
    "df_disp = df[df['iso'].apply(lambda iso_list: bool(set(iso_list) & target_iso))]\n",
    "df_disp = df_disp.reset_index(drop=True)"
   ]
  },
  {
   "cell_type": "code",
   "execution_count": 7,
   "metadata": {},
   "outputs": [
    {
     "data": {
      "text/html": [
       "\n",
       "            <style>\n",
       "                .geemap-dark {\n",
       "                    --jp-widgets-color: white;\n",
       "                    --jp-widgets-label-color: white;\n",
       "                    --jp-ui-font-color1: white;\n",
       "                    --jp-layout-color2: #454545;\n",
       "                    background-color: #383838;\n",
       "                }\n",
       "\n",
       "                .geemap-dark .jupyter-button {\n",
       "                    --jp-layout-color3: #383838;\n",
       "                }\n",
       "\n",
       "                .geemap-colab {\n",
       "                    background-color: var(--colab-primary-surface-color, white);\n",
       "                }\n",
       "\n",
       "                .geemap-colab .jupyter-button {\n",
       "                    --jp-layout-color3: var(--colab-primary-surface-color, white);\n",
       "                }\n",
       "            </style>\n",
       "            "
      ],
      "text/plain": [
       "<IPython.core.display.HTML object>"
      ]
     },
     "metadata": {},
     "output_type": "display_data"
    }
   ],
   "source": [
    "# very slow to load all \n",
    "# m = geemap.Map()\n",
    "# m.add_points_from_xy(df_disp, x=\"longitude\", y=\"latitude\", layer_name=\"Sites\")\n",
    "# m"
   ]
  },
  {
   "cell_type": "code",
   "execution_count": 7,
   "metadata": {},
   "outputs": [
    {
     "data": {
      "text/html": [
       "\n",
       "            <style>\n",
       "                .geemap-dark {\n",
       "                    --jp-widgets-color: white;\n",
       "                    --jp-widgets-label-color: white;\n",
       "                    --jp-ui-font-color1: white;\n",
       "                    --jp-layout-color2: #454545;\n",
       "                    background-color: #383838;\n",
       "                }\n",
       "\n",
       "                .geemap-dark .jupyter-button {\n",
       "                    --jp-layout-color3: #383838;\n",
       "                }\n",
       "\n",
       "                .geemap-colab {\n",
       "                    background-color: var(--colab-primary-surface-color, white);\n",
       "                }\n",
       "\n",
       "                .geemap-colab .jupyter-button {\n",
       "                    --jp-layout-color3: var(--colab-primary-surface-color, white);\n",
       "                }\n",
       "            </style>\n",
       "            "
      ],
      "text/plain": [
       "<IPython.core.display.HTML object>"
      ]
     },
     "metadata": {},
     "output_type": "display_data"
    },
    {
     "data": {
      "application/vnd.jupyter.widget-view+json": {
       "model_id": "e21f8f93da084dac8ab9a038baba4fb8",
       "version_major": 2,
       "version_minor": 0
      },
      "text/plain": [
       "HBox(children=(SelectionSlider(continuous_update=False, description='Date:', index=4, options=('2016', '2017',…"
      ]
     },
     "metadata": {},
     "output_type": "display_data"
    },
    {
     "data": {
      "application/vnd.jupyter.widget-view+json": {
       "model_id": "d26968f5dc624793ad9a3b7422dd8c59",
       "version_major": 2,
       "version_minor": 0
      },
      "text/plain": [
       "Map(center=[0, 0], controls=(WidgetControl(options=['position', 'transparent_bg'], widget=SearchDataGUI(childr…"
      ]
     },
     "execution_count": 7,
     "metadata": {},
     "output_type": "execute_result"
    }
   ],
   "source": [
    "m = geemap.Map()\n",
    "m.add_points_from_xy(df_disp, x=\"longitude\", y=\"latitude\", layer_name=\"Sites\")\n",
    "\n",
    "def map_polygon(polygon, collection_name, layer_name, yyyymmdd1=\"2024-01-01\", yyyymmdd2=\"2024-12-29\", num_tasks=10):\n",
    "\n",
    "    collection = ee.ImageCollection(collection_name) \\\n",
    "        .filterDate(yyyymmdd1, yyyymmdd2) \\\n",
    "        .filterBounds(polygon) \\\n",
    "        .filter(ee.Filter.lt(\"CLOUDY_PIXEL_PERCENTAGE\", 20)) \\\n",
    "        .median() \\\n",
    "        .clip(polygon)\n",
    "    \n",
    "    vis = {'min': 0, 'max': 3000, 'bands': ['B4', 'B3', 'B2']}\n",
    "\n",
    "    m.addLayer(collection, vis, layer_name)\n",
    "\n",
    "def draw_rectangles_for_date(date_val, size_deg=1):\n",
    "\n",
    "    regions = []\n",
    "\n",
    "    for _, row in df_disp.iterrows():\n",
    "        lat = row['latitude']\n",
    "        lon = row['longitude']\n",
    "\n",
    "        geometry = ee.Geometry.Rectangle([lon - size_deg/2, lat - size_deg/2, lon + size_deg/2, lat + size_deg/2])\n",
    "        regions.append(geometry)\n",
    "\n",
    "    regions_collection = ee.FeatureCollection(regions)\n",
    "\n",
    "    map_polygon(regions_collection, \"COPERNICUS/S2_HARMONIZED\", f\"S2 {date_val}\", f\"{date_val}-01-01\", f\"{date_val}-3-31\")\n",
    "\n",
    "    \n",
    "def draw_basic(b):\n",
    "    dates = [2025, 2020, 2016]\n",
    "    # dates = [2025, 2024, 2022, 2020, 2018, 2016]\n",
    "    # dates = [2025, 2024, 2023, 2022, 2021, 2020, 2019, 2018, 20217, 2016]\n",
    "\n",
    "    for date in dates:\n",
    "        draw_rectangles_for_date(date)\n",
    "\n",
    "def draw_selected(b):\n",
    "\n",
    "    if m.draw_features is None:\n",
    "        raise ValueError(\"Error: no roi\")\n",
    "    \n",
    "    # roi = m.draw_last_feature.geometry()\n",
    "    roi = ee.FeatureCollection(m.draw_features)\n",
    "\n",
    "    year_start_val = int(date_slider.value)\n",
    "    month_start_val = int(month_slider.value)\n",
    "    time_frame_val = int(time_frame_slider.value)\n",
    "\n",
    "    month_end_val = month_start_val + time_frame_val\n",
    "    year_overflow = 0\n",
    "    if month_end_val > 12:\n",
    "        month_end_val -= 12\n",
    "        year_overflow = 1\n",
    "\n",
    "    yyyymm_start = f\"{year_start_val}-{month_start_val}\"\n",
    "    yyyymm_end = f\"{year_start_val + year_overflow}-{month_end_val}\"\n",
    "    \n",
    "    map_polygon(roi, \"COPERNICUS/S2_HARMONIZED\", yyyymmdd1=yyyymm_start, yyyymmdd2=yyyymm_end, layer_name=f\"S2 {yyyymm_start} to {yyyymm_end}\")\n",
    "\n",
    "date_slider = widgets.SelectionSlider(\n",
    "    options=[str(year) for year in range(2016, 2026)],\n",
    "    value='2020',\n",
    "    description='Date:',\n",
    "    disabled=False,\n",
    "    continuous_update=False,\n",
    "    orientation='horizontal',\n",
    "    readout=True\n",
    ")\n",
    "\n",
    "month_slider = widgets.SelectionSlider(\n",
    "    options=[str(month) for month in range(1, 13)],\n",
    "    value='1',\n",
    "    description='Month:',\n",
    "    disabled=False,\n",
    "    continuous_update=False,\n",
    "    orientation='horizontal',\n",
    "    readout=True\n",
    ")\n",
    "\n",
    "time_frame_slider = widgets.SelectionSlider(\n",
    "    options=[str(month) for month in range(1, 13)],\n",
    "    value='3',\n",
    "    description='timeframe:',\n",
    "    disabled=False,\n",
    "    continuous_update=False,\n",
    "    orientation='horizontal',\n",
    "    readout=True\n",
    ")\n",
    "\n",
    "render_btn = widgets.Button(description=\"Draw Selected Date Layer\", position=\"bottomright\")\n",
    "draw_btn = widgets.Button(description=\"Draw Pins Areas 3yrs\", position=\"bottomright\")\n",
    "\n",
    "bottom_right_widget = widgets.VBox([draw_btn, render_btn])\n",
    "\n",
    "m.add_widget(bottom_right_widget, position=\"bottomright\")\n",
    "\n",
    "display(widgets.HBox([date_slider, month_slider, time_frame_slider, render_btn]))\n",
    "render_btn.on_click(draw_selected)\n",
    "draw_btn.on_click(draw_basic)\n",
    "\n",
    "m"
   ]
  },
  {
   "cell_type": "markdown",
   "metadata": {},
   "source": [
    "Samarra Archaeological City\n",
    "\n",
    "https://whc.unesco.org/en/list/276/documents/   -  Samarra Archaeological City \"Maps and Plans\" 2007 file \n"
   ]
  },
  {
   "cell_type": "code",
   "execution_count": null,
   "metadata": {},
   "outputs": [],
   "source": [
    "# COPERNICUS/S2_HARMONIZED     \n",
    "# COPERNICUS/S2\n",
    "# etc"
   ]
  },
  {
   "cell_type": "code",
   "execution_count": 8,
   "metadata": {},
   "outputs": [
    {
     "data": {
      "text/html": [
       "\n",
       "            <style>\n",
       "                .geemap-dark {\n",
       "                    --jp-widgets-color: white;\n",
       "                    --jp-widgets-label-color: white;\n",
       "                    --jp-ui-font-color1: white;\n",
       "                    --jp-layout-color2: #454545;\n",
       "                    background-color: #383838;\n",
       "                }\n",
       "\n",
       "                .geemap-dark .jupyter-button {\n",
       "                    --jp-layout-color3: #383838;\n",
       "                }\n",
       "\n",
       "                .geemap-colab {\n",
       "                    background-color: var(--colab-primary-surface-color, white);\n",
       "                }\n",
       "\n",
       "                .geemap-colab .jupyter-button {\n",
       "                    --jp-layout-color3: var(--colab-primary-surface-color, white);\n",
       "                }\n",
       "            </style>\n",
       "            "
      ],
      "text/plain": [
       "<IPython.core.display.HTML object>"
      ]
     },
     "metadata": {},
     "output_type": "display_data"
    }
   ],
   "source": [
    "# TODO: combine so that I can use tiled system to render quicker as rendering a full country is painfully slow \n",
    "\n",
    "# add Iraq full country \n",
    "lisb =  ee.FeatureCollection('USDOS/LSIB_SIMPLE/2017')\n",
    "# print(lisb.first().getInfo()['properties'])\n",
    "iraq = lisb.filter(ee.Filter.eq('country_co', 'IZ'))\n",
    "romania = lisb.filter(ee.Filter.eq('country_co', 'RO'))\n",
    "# m.addLayer(iraq, {}, \"Iraq\") # outline Iraq\n",
    "map_polygon(romania.geometry(), \"COPERNICUS/S2_HARMONIZED\", \"Iraq S2-Haromised 2024\", \"2024-01-01\", \"2024-12-31\")"
   ]
  },
  {
   "cell_type": "markdown",
   "metadata": {},
   "source": [
    "# Useful Links \n",
    "\n",
    "[Google Earth Engine Editor](https://code.earthengine.google.com/)\n",
    "\n",
    "[GEE Tasks (Bulk cancel mode)](https://code.earthengine.google.com/tasks)"
   ]
  }
 ],
 "metadata": {
  "kernelspec": {
   "display_name": "Python 3",
   "language": "python",
   "name": "python3"
  },
  "language_info": {
   "codemirror_mode": {
    "name": "ipython",
    "version": 3
   },
   "file_extension": ".py",
   "mimetype": "text/x-python",
   "name": "python",
   "nbconvert_exporter": "python",
   "pygments_lexer": "ipython3",
   "version": "3.8.20"
  }
 },
 "nbformat": 4,
 "nbformat_minor": 2
}
