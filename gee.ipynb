{
 "cells": [
  {
   "cell_type": "code",
   "execution_count": 11,
   "metadata": {},
   "outputs": [
    {
     "data": {
      "text/html": [
       "\n",
       "            <style>\n",
       "                .geemap-dark {\n",
       "                    --jp-widgets-color: white;\n",
       "                    --jp-widgets-label-color: white;\n",
       "                    --jp-ui-font-color1: white;\n",
       "                    --jp-layout-color2: #454545;\n",
       "                    background-color: #383838;\n",
       "                }\n",
       "\n",
       "                .geemap-dark .jupyter-button {\n",
       "                    --jp-layout-color3: #383838;\n",
       "                }\n",
       "\n",
       "                .geemap-colab {\n",
       "                    background-color: var(--colab-primary-surface-color, white);\n",
       "                }\n",
       "\n",
       "                .geemap-colab .jupyter-button {\n",
       "                    --jp-layout-color3: var(--colab-primary-surface-color, white);\n",
       "                }\n",
       "            </style>\n",
       "            "
      ],
      "text/plain": [
       "<IPython.core.display.HTML object>"
      ]
     },
     "metadata": {},
     "output_type": "display_data"
    }
   ],
   "source": [
    "import ee\n",
    "import geemap\n",
    "import xml.etree.ElementTree as ET\n",
    "import ipywidgets as widgets\n",
    "import pandas as pd \n",
    "from pprint import pprint "
   ]
  },
  {
   "cell_type": "code",
   "execution_count": 12,
   "metadata": {},
   "outputs": [
    {
     "data": {
      "text/html": [
       "\n",
       "            <style>\n",
       "                .geemap-dark {\n",
       "                    --jp-widgets-color: white;\n",
       "                    --jp-widgets-label-color: white;\n",
       "                    --jp-ui-font-color1: white;\n",
       "                    --jp-layout-color2: #454545;\n",
       "                    background-color: #383838;\n",
       "                }\n",
       "\n",
       "                .geemap-dark .jupyter-button {\n",
       "                    --jp-layout-color3: #383838;\n",
       "                }\n",
       "\n",
       "                .geemap-colab {\n",
       "                    background-color: var(--colab-primary-surface-color, white);\n",
       "                }\n",
       "\n",
       "                .geemap-colab .jupyter-button {\n",
       "                    --jp-layout-color3: var(--colab-primary-surface-color, white);\n",
       "                }\n",
       "            </style>\n",
       "            "
      ],
      "text/plain": [
       "<IPython.core.display.HTML object>"
      ]
     },
     "metadata": {},
     "output_type": "display_data"
    }
   ],
   "source": [
    "ee.Authenticate() \n",
    "ee.Initialize(project=\"jameswilliamchamberlain\")"
   ]
  },
  {
   "cell_type": "code",
   "execution_count": 13,
   "metadata": {},
   "outputs": [
    {
     "data": {
      "text/html": [
       "\n",
       "            <style>\n",
       "                .geemap-dark {\n",
       "                    --jp-widgets-color: white;\n",
       "                    --jp-widgets-label-color: white;\n",
       "                    --jp-ui-font-color1: white;\n",
       "                    --jp-layout-color2: #454545;\n",
       "                    background-color: #383838;\n",
       "                }\n",
       "\n",
       "                .geemap-dark .jupyter-button {\n",
       "                    --jp-layout-color3: #383838;\n",
       "                }\n",
       "\n",
       "                .geemap-colab {\n",
       "                    background-color: var(--colab-primary-surface-color, white);\n",
       "                }\n",
       "\n",
       "                .geemap-colab .jupyter-button {\n",
       "                    --jp-layout-color3: var(--colab-primary-surface-color, white);\n",
       "                }\n",
       "            </style>\n",
       "            "
      ],
      "text/plain": [
       "<IPython.core.display.HTML object>"
      ]
     },
     "metadata": {},
     "output_type": "display_data"
    }
   ],
   "source": [
    "# UNESCO World Heritage Sites List xml file \n",
    "tree = ET.parse(\"whs.xml\")\n",
    "root = tree.getroot()\n",
    "\n",
    "data = []\n",
    "\n",
    "for row in root.findall(\"row\"):\n",
    "    site = row.findtext('site')\n",
    "    category = row.findtext('category')\n",
    "    date_inscribed = row.findtext('date_inscribed')\n",
    "    region = row.findtext('region')\n",
    "    url = row.findtext('http_url')\n",
    "    longitude = row.findtext('longitude')\n",
    "    latitude = row.findtext('latitude')\n",
    "    iso = row.findtext('iso_code')\n",
    "    iso = iso.split(',')\n",
    "    data.append([site, category, date_inscribed, region, url, longitude, latitude, iso])\n",
    "\n",
    "df = pd.DataFrame(data, columns=[\"name\", \"category\", \"date inscribed\", \"region\", \"url\", \"longitude\", \"latitude\", \"iso\"])\n",
    "\n",
    "df[\"longitude\"] = pd.to_numeric(df[\"longitude\"], errors='coerce')\n",
    "df[\"latitude\"] = pd.to_numeric(df[\"latitude\"], errors='coerce')"
   ]
  },
  {
   "cell_type": "code",
   "execution_count": 14,
   "metadata": {},
   "outputs": [
    {
     "data": {
      "text/html": [
       "\n",
       "            <style>\n",
       "                .geemap-dark {\n",
       "                    --jp-widgets-color: white;\n",
       "                    --jp-widgets-label-color: white;\n",
       "                    --jp-ui-font-color1: white;\n",
       "                    --jp-layout-color2: #454545;\n",
       "                    background-color: #383838;\n",
       "                }\n",
       "\n",
       "                .geemap-dark .jupyter-button {\n",
       "                    --jp-layout-color3: #383838;\n",
       "                }\n",
       "\n",
       "                .geemap-colab {\n",
       "                    background-color: var(--colab-primary-surface-color, white);\n",
       "                }\n",
       "\n",
       "                .geemap-colab .jupyter-button {\n",
       "                    --jp-layout-color3: var(--colab-primary-surface-color, white);\n",
       "                }\n",
       "            </style>\n",
       "            "
      ],
      "text/plain": [
       "<IPython.core.display.HTML object>"
      ]
     },
     "metadata": {},
     "output_type": "display_data"
    }
   ],
   "source": [
    "df = df[df['category'] != 'Natural'] "
   ]
  },
  {
   "cell_type": "code",
   "execution_count": 15,
   "metadata": {},
   "outputs": [
    {
     "data": {
      "text/html": [
       "\n",
       "            <style>\n",
       "                .geemap-dark {\n",
       "                    --jp-widgets-color: white;\n",
       "                    --jp-widgets-label-color: white;\n",
       "                    --jp-ui-font-color1: white;\n",
       "                    --jp-layout-color2: #454545;\n",
       "                    background-color: #383838;\n",
       "                }\n",
       "\n",
       "                .geemap-dark .jupyter-button {\n",
       "                    --jp-layout-color3: #383838;\n",
       "                }\n",
       "\n",
       "                .geemap-colab {\n",
       "                    background-color: var(--colab-primary-surface-color, white);\n",
       "                }\n",
       "\n",
       "                .geemap-colab .jupyter-button {\n",
       "                    --jp-layout-color3: var(--colab-primary-surface-color, white);\n",
       "                }\n",
       "            </style>\n",
       "            "
      ],
      "text/plain": [
       "<IPython.core.display.HTML object>"
      ]
     },
     "metadata": {},
     "output_type": "display_data"
    }
   ],
   "source": [
    "# df[[\"longitude\", \"latitude\"]]\n",
    "df = df.dropna(subset=[\"longitude\", \"latitude\"]).reset_index(drop=True)"
   ]
  },
  {
   "cell_type": "code",
   "execution_count": 16,
   "metadata": {},
   "outputs": [
    {
     "data": {
      "text/html": [
       "\n",
       "            <style>\n",
       "                .geemap-dark {\n",
       "                    --jp-widgets-color: white;\n",
       "                    --jp-widgets-label-color: white;\n",
       "                    --jp-ui-font-color1: white;\n",
       "                    --jp-layout-color2: #454545;\n",
       "                    background-color: #383838;\n",
       "                }\n",
       "\n",
       "                .geemap-dark .jupyter-button {\n",
       "                    --jp-layout-color3: #383838;\n",
       "                }\n",
       "\n",
       "                .geemap-colab {\n",
       "                    background-color: var(--colab-primary-surface-color, white);\n",
       "                }\n",
       "\n",
       "                .geemap-colab .jupyter-button {\n",
       "                    --jp-layout-color3: var(--colab-primary-surface-color, white);\n",
       "                }\n",
       "            </style>\n",
       "            "
      ],
      "text/plain": [
       "<IPython.core.display.HTML object>"
      ]
     },
     "metadata": {},
     "output_type": "display_data"
    }
   ],
   "source": [
    "df_disp = df # default \n",
    "\n",
    "# regions\n",
    "iberia = {\"es\", \"pt\", \"ad\"}\n",
    "balkans = {\"bg\", \"ro\", \"rs\", \"hr\", \"si\", \"ba\", \"me\", \"gr\", \"al\"} \n",
    "centeral = {\"pl\", \"de\", \"he\", \"ch\", \"at\", \"cz\", \"sk\"}\n",
    "levant = {\"il\", \"jo\", \"sy\", \"lb\", 'ps'}\n",
    "fertile_crescent = {\"il\", \"jo\", \"sy\", \"lb\", 'iq', 'eg', 'ps'}\n",
    "middle_east = {\"il\", \"jo\", \"sy\", \"lb\", 'iq', 'eg', 'sa', 'bh', 'qa', 'ae', 'om', 'ye', 'ir', 'tr', 'ps'}\n",
    "caucasus = {'ge', 'az', 'am'}\n",
    "stepp_countries = {'tm', 'uz', 'tm', 'kz', 'kg', 'tj'}\n",
    "indian_subcontinent = {'af', 'pk', 'in', 'np', 'bd', 'lk'}\n",
    "north_africa = {'ma', 'dz', 'tn', 'ly', 'eg'}\n",
    "horn_africa = {'er', 'et'}\n",
    "egypt = {'eg', 'sd', 'il', 'ps'} # old egypt\n",
    "british_isles = {'gb', 'ie'}\n",
    "\n",
    "target_iso = {'iq'}\n",
    "target_url = 'https://whc.unesco.org/en/list/276'\n",
    "df_disp = df[df['iso'].apply(lambda iso_list: bool(set(iso_list) & target_iso))]\n",
    "df_disp = df_disp[df_disp['url'] == target_url]\n",
    "df_disp = df_disp.reset_index(drop=True)"
   ]
  },
  {
   "cell_type": "code",
   "execution_count": 17,
   "metadata": {},
   "outputs": [
    {
     "data": {
      "text/html": [
       "\n",
       "            <style>\n",
       "                .geemap-dark {\n",
       "                    --jp-widgets-color: white;\n",
       "                    --jp-widgets-label-color: white;\n",
       "                    --jp-ui-font-color1: white;\n",
       "                    --jp-layout-color2: #454545;\n",
       "                    background-color: #383838;\n",
       "                }\n",
       "\n",
       "                .geemap-dark .jupyter-button {\n",
       "                    --jp-layout-color3: #383838;\n",
       "                }\n",
       "\n",
       "                .geemap-colab {\n",
       "                    background-color: var(--colab-primary-surface-color, white);\n",
       "                }\n",
       "\n",
       "                .geemap-colab .jupyter-button {\n",
       "                    --jp-layout-color3: var(--colab-primary-surface-color, white);\n",
       "                }\n",
       "            </style>\n",
       "            "
      ],
      "text/plain": [
       "<IPython.core.display.HTML object>"
      ]
     },
     "metadata": {},
     "output_type": "display_data"
    }
   ],
   "source": [
    "# # Samarra Archaeological City\n",
    "# target = {\"http://whc.unesco.org/en/list/276\"}\n",
    "# df_disp = df[df['url'].apply(lambda url_list: bool(set(url_list) & target))]\n",
    "# df_disp = df.reset_index(drop=True)"
   ]
  },
  {
   "cell_type": "code",
   "execution_count": null,
   "metadata": {},
   "outputs": [],
   "source": []
  },
  {
   "cell_type": "code",
   "execution_count": 18,
   "metadata": {},
   "outputs": [
    {
     "data": {
      "text/html": [
       "\n",
       "            <style>\n",
       "                .geemap-dark {\n",
       "                    --jp-widgets-color: white;\n",
       "                    --jp-widgets-label-color: white;\n",
       "                    --jp-ui-font-color1: white;\n",
       "                    --jp-layout-color2: #454545;\n",
       "                    background-color: #383838;\n",
       "                }\n",
       "\n",
       "                .geemap-dark .jupyter-button {\n",
       "                    --jp-layout-color3: #383838;\n",
       "                }\n",
       "\n",
       "                .geemap-colab {\n",
       "                    background-color: var(--colab-primary-surface-color, white);\n",
       "                }\n",
       "\n",
       "                .geemap-colab .jupyter-button {\n",
       "                    --jp-layout-color3: var(--colab-primary-surface-color, white);\n",
       "                }\n",
       "            </style>\n",
       "            "
      ],
      "text/plain": [
       "<IPython.core.display.HTML object>"
      ]
     },
     "metadata": {},
     "output_type": "display_data"
    },
    {
     "data": {
      "application/vnd.jupyter.widget-view+json": {
       "model_id": "78ce143bbb44477eaa5d0814e69709ce",
       "version_major": 2,
       "version_minor": 0
      },
      "text/plain": [
       "HBox(children=(SelectionSlider(continuous_update=False, description='Date:', index=4, options=('2016', '2017',…"
      ]
     },
     "metadata": {},
     "output_type": "display_data"
    },
    {
     "data": {
      "application/vnd.jupyter.widget-view+json": {
       "model_id": "9523ec0e01644fcc956595a1a4e58bf6",
       "version_major": 2,
       "version_minor": 0
      },
      "text/plain": [
       "Map(center=[0, 0], controls=(WidgetControl(options=['position', 'transparent_bg'], widget=SearchDataGUI(childr…"
      ]
     },
     "execution_count": 18,
     "metadata": {},
     "output_type": "execute_result"
    }
   ],
   "source": [
    "m = geemap.Map()\n",
    "m.add_points_from_xy(df_disp, x=\"longitude\", y=\"latitude\", layer_name=\"Sites\")\n",
    "\n",
    "def map_polygon(polygon, collection_name, layer_name, yyyymmdd1=\"2024-01-01\", yyyymmdd2=\"2024-12-29\", num_tasks=10):\n",
    "\n",
    "    collection = ee.ImageCollection(collection_name) \\\n",
    "        .filterDate(yyyymmdd1, yyyymmdd2) \\\n",
    "        .filterBounds(polygon) \\\n",
    "        .filter(ee.Filter.lt(\"CLOUDY_PIXEL_PERCENTAGE\", 20)) \\\n",
    "        .median() \\\n",
    "        .clip(polygon)\n",
    "    \n",
    "    vis = {'min': 0, 'max': 3000, 'bands': ['B4', 'B3', 'B2']}\n",
    "\n",
    "    m.addLayer(collection, vis, layer_name)\n",
    "\n",
    "def draw_rectangles_for_date(date_val, size_deg=1):\n",
    "\n",
    "    regions = []\n",
    "\n",
    "    for _, row in df_disp.iterrows():\n",
    "        lat = row['latitude']\n",
    "        lon = row['longitude']\n",
    "\n",
    "        geometry = ee.Geometry.Rectangle([lon - size_deg/2, lat - size_deg/2, lon + size_deg/2, lat + size_deg/2])\n",
    "        regions.append(geometry)\n",
    "\n",
    "    regions_collection = ee.FeatureCollection(regions)\n",
    "\n",
    "    map_polygon(regions_collection, \"COPERNICUS/S2_HARMONIZED\", f\"S2 {date_val}\", f\"{date_val}-01-01\", f\"{date_val}-3-31\")\n",
    "\n",
    "def draw_basic(b):\n",
    "    dates = [2025, 2020, 2016]\n",
    "    # dates = [2025, 2024, 2022, 2020, 2018, 2016]\n",
    "    # dates = [2025, 2024, 2023, 2022, 2021, 2020, 2019, 2018, 20217, 2016]\n",
    "\n",
    "    for date in dates:\n",
    "        draw_rectangles_for_date(date)\n",
    "\n",
    "def draw_selected(b):\n",
    "\n",
    "    if m.draw_features is None:\n",
    "        raise ValueError(\"Error: no roi\")\n",
    "    \n",
    "    # roi = m.draw_last_feature.geometry()\n",
    "    roi = ee.FeatureCollection(m.draw_features)\n",
    "\n",
    "    year_start_val = int(date_slider.value)\n",
    "    month_start_val = int(month_slider.value)\n",
    "    time_frame_val = int(time_frame_slider.value)\n",
    "\n",
    "    month_end_val = month_start_val + time_frame_val\n",
    "    year_overflow = 0\n",
    "    if month_end_val > 12:\n",
    "        month_end_val -= 12\n",
    "        year_overflow = 1\n",
    "\n",
    "    yyyymm_start = f\"{year_start_val}-{month_start_val}\"\n",
    "    yyyymm_end = f\"{year_start_val + year_overflow}-{month_end_val}\"\n",
    "    \n",
    "    map_polygon(roi, \"COPERNICUS/S2_HARMONIZED\", yyyymmdd1=yyyymm_start, yyyymmdd2=yyyymm_end, layer_name=f\"S2 {yyyymm_start} to {yyyymm_end}\")\n",
    "\n",
    "date_slider = widgets.SelectionSlider(\n",
    "    options=[str(year) for year in range(2016, 2026)],\n",
    "    value='2020',\n",
    "    description='Date:',\n",
    "    disabled=False,\n",
    "    continuous_update=False,\n",
    "    orientation='horizontal',\n",
    "    readout=True\n",
    ")\n",
    "\n",
    "month_slider = widgets.SelectionSlider(\n",
    "    options=[str(month) for month in range(1, 13)],\n",
    "    value='1',\n",
    "    description='Month:',\n",
    "    disabled=False,\n",
    "    continuous_update=False,\n",
    "    orientation='horizontal',\n",
    "    readout=True\n",
    ")\n",
    "\n",
    "time_frame_slider = widgets.SelectionSlider(\n",
    "    options=[str(month) for month in range(1, 13)],\n",
    "    value='3',\n",
    "    description='timeframe:',\n",
    "    disabled=False,\n",
    "    continuous_update=False,\n",
    "    orientation='horizontal',\n",
    "    readout=True\n",
    ")\n",
    "\n",
    "def create_s2_aligned_fishnet(region, tile_size_m=20, chunk_size=500):\n",
    "    \"\"\"\n",
    "        tile region aligned to the S2 projection. \n",
    "\n",
    "        TODO: add warning message on run that sometimes tiling fails and that can be seen as a full tile with a single polygon in it, that will need to be-rerun \n",
    "\n",
    "        Args:\n",
    "            region (ee.Geometry):   Region Of Interest (ROI) to tile \n",
    "            tile_size_m (int):      Tile size (meters)                                      Default: 50x50m \n",
    "            chunk_size (int):       With in tiles generated per chunk (max)                 Default: 500 (note: 1000 is generally safe for 50x50m but has issues on lower resolutions for some reason)\n",
    "\n",
    "        Returns:\n",
    "            list:                   List of ee.FeatureCollection tiles\n",
    "    \"\"\"\n",
    "    def name_tile(f):\n",
    "        \n",
    "        coords = ee.List(f.geometry().bounds().coordinates().get(0))\n",
    "\n",
    "        ll = ee.List(coords.get(0))  # lower-left\n",
    "        ur = ee.List(coords.get(2))  # upper-right\n",
    "\n",
    "        lon_min = ee.Number(ll.get(0)).multiply(1e6).round().toInt() # .round().multiply(1e6).toInt()\n",
    "        lat_min = ee.Number(ll.get(1)).multiply(1e6).round().toInt() # .round().multiply(1e6).toInt()\n",
    "        lon_max = ee.Number(ur.get(0)).multiply(1e6).round().toInt() # .round().multiply(1e6).toInt()\n",
    "        lat_max = ee.Number(ur.get(1)).multiply(1e6).round().toInt() # .round().multiply(1e6).toInt()\n",
    "\n",
    "        file_name = ee.String('tile_') \\\n",
    "            .cat(lon_min.format('%06d')).cat('_') \\\n",
    "            .cat(lat_min.format('%06d')).cat('_') \\\n",
    "            .cat(lon_max.format('%06d')).cat('_') \\\n",
    "            .cat(lat_max.format('%06d'))\n",
    "\n",
    "        return f.set('file_name', file_name)\n",
    "\n",
    "    def net(sub_region, tile_size_meters):\n",
    "        \"\"\"\n",
    "            Create a fishnet of tiles aligned to the S2 projection. \n",
    "            \n",
    "            This is purely a subfunction to allow for chunking of the region if nessuary else it can cause issues with ee.reduceToVectors and geemap\n",
    "        \"\"\"\n",
    "        # TODO: this could be made simpler by just using the projection \n",
    "        # TODO: ... future issue for making this a re-usable function for other projects / projections \n",
    "        s2 = ee.ImageCollection(\"COPERNICUS/S2\") \\\n",
    "            .filterBounds(sub_region) \\\n",
    "            .filterDate(\"2024-01-01\", \"2024-12-30\") \\\n",
    "            .first()\n",
    "\n",
    "        projection = s2.select(\"B4\").projection()\n",
    "        px_coords = ee.Image.pixelCoordinates(projection)\n",
    "\n",
    "        tile_px = tile_size_meters // 10  # 50/10 = 5px by 5px (50mx50m)\n",
    "\n",
    "        # split \n",
    "        tile_ids = px_coords.select(\"x\").divide(tile_px).floor() \\\n",
    "            .multiply(1e6).add(px_coords.select(\"y\").divide(tile_px).floor()) \\\n",
    "            .toInt()\n",
    "        \n",
    "        # create a fishnet aligned to S2 projection\n",
    "        fishnet = tile_ids.reduceToVectors(\n",
    "            geometry=sub_region,\n",
    "            geometryType='polygon',\n",
    "            scale=10,\n",
    "            bestEffort=True,\n",
    "            maxPixels=1e13,\n",
    "        )\n",
    "\n",
    "        # add relevant ids to each (future file name for each polygon)\n",
    "        fishnet = fishnet.map(name_tile)\n",
    "\n",
    "        return fishnet\n",
    "\n",
    "    # need to fishnet the region into larger chunks to then beable to properly tile else it will fail\n",
    "    chunks = net(region, tile_size_meters=(tile_size_m * chunk_size)) # chunk_size^2 is total num features in each chunk (100, 500 and 1000 works well (tested))\n",
    "\n",
    "    fishnet_tiles = []\n",
    "    for i in range(chunks.size().getInfo()):\n",
    "        chunk = ee.Feature(chunks.toList(1, i).get(0))\n",
    "        chunk_tiles = net(chunk.geometry(), tile_size_meters=tile_size_m) \n",
    "\n",
    "        # TODO: drop edge tiles \n",
    "        fishnet_tiles.append(chunk_tiles)\n",
    "\n",
    "    return fishnet_tiles\n",
    "\n",
    "tiles = None\n",
    "\n",
    "# Tiling \n",
    "def create_tiles(b):\n",
    "    global tiles\n",
    "\n",
    "    if m.draw_features is None:\n",
    "        raise ValueError(\"Error: no roi\")\n",
    "\n",
    "    roi = m.draw_last_feature.geometry()\n",
    "\n",
    "    fishnet_list = create_s2_aligned_fishnet(roi, tile_size_m=50, chunk_size=100) # TODO: test chunk_size !!!\n",
    "    \n",
    "    tiles = fishnet_list\n",
    "\n",
    "\n",
    "def save_tiles(b, dir=\"chunk.shp\"):\n",
    "    if tiles is None:\n",
    "        raise ValueError(\"Error: no tiles\")\n",
    "    \n",
    "    for i in range(len(tiles)):\n",
    "        geemap.ee_to_shp(tiles[i], dir.replace(\".shp\", f\"_{i+1}.shp\"))\n",
    "\n",
    "def show_tiles(b):\n",
    "    if tiles is None:\n",
    "        raise ValueError(\"Error: no tiles\")\n",
    "    \n",
    "    for i in range(len(tiles)):\n",
    "        fishnet = ee.FeatureCollection(tiles[i])\n",
    "        m.addLayer(fishnet, {}, f\"Chunk {i+1}\")\n",
    "\n",
    "# Tile Region \n",
    "tile_btn = widgets.Button(description=\"Create Tiles\", position=\"bottomright\")\n",
    "tile_btn.on_click(create_tiles)\n",
    "save_tiles_btn = widgets.Button(description=\"Save Tiles\", position=\"bottomright\")\n",
    "save_tiles_btn.on_click(save_tiles)\n",
    "widget_tiles = widgets.VBox([tile_btn, save_tiles_btn])\n",
    "m.add_widget(widget_tiles, position=\"bottomright\")\n",
    "\n",
    "# Show Tiles \n",
    "show_tiles_btn = widgets.Button(description=\"Show Tiles\", position=\"bottomright\")\n",
    "show_tiles_btn.on_click(show_tiles)\n",
    "m.add_widget(show_tiles_btn, position=\"bottomright\")\n",
    "\n",
    "# old \n",
    "render_btn = widgets.Button(description=\"Draw Selected Date Layer\", position=\"bottomright\") \n",
    "draw_btn = widgets.Button(description=\"Draw Pins Areas 3yrs\", position=\"bottomright\")\n",
    "\n",
    "widget_draw = widgets.VBox([draw_btn, render_btn])\n",
    "\n",
    "m.add_widget(widget_draw, position=\"bottomright\")\n",
    "\n",
    "display(widgets.HBox([date_slider, month_slider, time_frame_slider, render_btn]))\n",
    "render_btn.on_click(draw_selected)\n",
    "draw_btn.on_click(draw_basic)\n",
    "\n",
    "m"
   ]
  },
  {
   "cell_type": "markdown",
   "metadata": {},
   "source": [
    "Samarra Archaeological City\n",
    "\n",
    "https://whc.unesco.org/en/list/276/documents/   -  Samarra Archaeological City \"Maps and Plans\" 2007 file \n"
   ]
  },
  {
   "cell_type": "code",
   "execution_count": 22,
   "metadata": {},
   "outputs": [
    {
     "data": {
      "text/html": [
       "\n",
       "            <style>\n",
       "                .geemap-dark {\n",
       "                    --jp-widgets-color: white;\n",
       "                    --jp-widgets-label-color: white;\n",
       "                    --jp-ui-font-color1: white;\n",
       "                    --jp-layout-color2: #454545;\n",
       "                    background-color: #383838;\n",
       "                }\n",
       "\n",
       "                .geemap-dark .jupyter-button {\n",
       "                    --jp-layout-color3: #383838;\n",
       "                }\n",
       "\n",
       "                .geemap-colab {\n",
       "                    background-color: var(--colab-primary-surface-color, white);\n",
       "                }\n",
       "\n",
       "                .geemap-colab .jupyter-button {\n",
       "                    --jp-layout-color3: var(--colab-primary-surface-color, white);\n",
       "                }\n",
       "            </style>\n",
       "            "
      ],
      "text/plain": [
       "<IPython.core.display.HTML object>"
      ]
     },
     "metadata": {},
     "output_type": "display_data"
    },
    {
     "ename": "EEException",
     "evalue": "Collection query aborted after accumulating over 5000 elements.",
     "output_type": "error",
     "traceback": [
      "\u001b[1;31m---------------------------------------------------------------------------\u001b[0m",
      "\u001b[1;31mHttpError\u001b[0m                                 Traceback (most recent call last)",
      "File \u001b[1;32mc:\\Users\\jwcha\\.conda\\envs\\gee\\lib\\site-packages\\ee\\data.py:406\u001b[0m, in \u001b[0;36m_execute_cloud_call\u001b[1;34m(call, num_retries)\u001b[0m\n\u001b[0;32m    405\u001b[0m \u001b[38;5;28;01mtry\u001b[39;00m:\n\u001b[1;32m--> 406\u001b[0m   \u001b[38;5;28;01mreturn\u001b[39;00m \u001b[43mcall\u001b[49m\u001b[38;5;241;43m.\u001b[39;49m\u001b[43mexecute\u001b[49m\u001b[43m(\u001b[49m\u001b[43mnum_retries\u001b[49m\u001b[38;5;241;43m=\u001b[39;49m\u001b[43mnum_retries\u001b[49m\u001b[43m)\u001b[49m\n\u001b[0;32m    407\u001b[0m \u001b[38;5;28;01mexcept\u001b[39;00m googleapiclient\u001b[38;5;241m.\u001b[39merrors\u001b[38;5;241m.\u001b[39mHttpError \u001b[38;5;28;01mas\u001b[39;00m e:\n",
      "File \u001b[1;32mc:\\Users\\jwcha\\.conda\\envs\\gee\\lib\\site-packages\\googleapiclient\\_helpers.py:130\u001b[0m, in \u001b[0;36mpositional.<locals>.positional_decorator.<locals>.positional_wrapper\u001b[1;34m(*args, **kwargs)\u001b[0m\n\u001b[0;32m    129\u001b[0m         logger\u001b[38;5;241m.\u001b[39mwarning(message)\n\u001b[1;32m--> 130\u001b[0m \u001b[38;5;28;01mreturn\u001b[39;00m \u001b[43mwrapped\u001b[49m\u001b[43m(\u001b[49m\u001b[38;5;241;43m*\u001b[39;49m\u001b[43margs\u001b[49m\u001b[43m,\u001b[49m\u001b[43m \u001b[49m\u001b[38;5;241;43m*\u001b[39;49m\u001b[38;5;241;43m*\u001b[39;49m\u001b[43mkwargs\u001b[49m\u001b[43m)\u001b[49m\n",
      "File \u001b[1;32mc:\\Users\\jwcha\\.conda\\envs\\gee\\lib\\site-packages\\googleapiclient\\http.py:938\u001b[0m, in \u001b[0;36mHttpRequest.execute\u001b[1;34m(self, http, num_retries)\u001b[0m\n\u001b[0;32m    937\u001b[0m \u001b[38;5;28;01mif\u001b[39;00m resp\u001b[38;5;241m.\u001b[39mstatus \u001b[38;5;241m>\u001b[39m\u001b[38;5;241m=\u001b[39m \u001b[38;5;241m300\u001b[39m:\n\u001b[1;32m--> 938\u001b[0m     \u001b[38;5;28;01mraise\u001b[39;00m HttpError(resp, content, uri\u001b[38;5;241m=\u001b[39m\u001b[38;5;28mself\u001b[39m\u001b[38;5;241m.\u001b[39muri)\n\u001b[0;32m    939\u001b[0m \u001b[38;5;28;01mreturn\u001b[39;00m \u001b[38;5;28mself\u001b[39m\u001b[38;5;241m.\u001b[39mpostproc(resp, content)\n",
      "\u001b[1;31mHttpError\u001b[0m: <HttpError 400 when requesting https://earthengine.googleapis.com/v1/projects/jameswilliamchamberlain/value:compute?prettyPrint=false&alt=json returned \"Collection query aborted after accumulating over 5000 elements.\". Details: \"Collection query aborted after accumulating over 5000 elements.\">",
      "\nDuring handling of the above exception, another exception occurred:\n",
      "\u001b[1;31mEEException\u001b[0m                               Traceback (most recent call last)",
      "Cell \u001b[1;32mIn[22], line 1\u001b[0m\n\u001b[1;32m----> 1\u001b[0m \u001b[38;5;28mprint\u001b[39m(\u001b[43mtiles\u001b[49m\u001b[43m[\u001b[49m\u001b[38;5;241;43m0\u001b[39;49m\u001b[43m]\u001b[49m\u001b[38;5;241;43m.\u001b[39;49m\u001b[43mgetInfo\u001b[49m\u001b[43m(\u001b[49m\u001b[43m)\u001b[49m)\n",
      "File \u001b[1;32mc:\\Users\\jwcha\\.conda\\envs\\gee\\lib\\site-packages\\ee\\collection.py:560\u001b[0m, in \u001b[0;36mCollection.getInfo\u001b[1;34m(self)\u001b[0m\n\u001b[0;32m    547\u001b[0m \u001b[38;5;28;01mdef\u001b[39;00m \u001b[38;5;21mgetInfo\u001b[39m(\u001b[38;5;28mself\u001b[39m) \u001b[38;5;241m-\u001b[39m\u001b[38;5;241m>\u001b[39m Optional[Any]:\n\u001b[0;32m    548\u001b[0m \u001b[38;5;250m  \u001b[39m\u001b[38;5;124;03m\"\"\"Returns all the known information about this collection.\u001b[39;00m\n\u001b[0;32m    549\u001b[0m \n\u001b[0;32m    550\u001b[0m \u001b[38;5;124;03m  This function makes a REST call to to retrieve all the known information\u001b[39;00m\n\u001b[1;32m   (...)\u001b[0m\n\u001b[0;32m    558\u001b[0m \u001b[38;5;124;03m         properties.\u001b[39;00m\n\u001b[0;32m    559\u001b[0m \u001b[38;5;124;03m  \"\"\"\u001b[39;00m\n\u001b[1;32m--> 560\u001b[0m   \u001b[38;5;28;01mreturn\u001b[39;00m \u001b[38;5;28;43msuper\u001b[39;49m\u001b[43m(\u001b[49m\u001b[43m)\u001b[49m\u001b[38;5;241;43m.\u001b[39;49m\u001b[43mgetInfo\u001b[49m\u001b[43m(\u001b[49m\u001b[43m)\u001b[49m\n",
      "File \u001b[1;32mc:\\Users\\jwcha\\.conda\\envs\\gee\\lib\\site-packages\\ee\\computedobject.py:107\u001b[0m, in \u001b[0;36mComputedObject.getInfo\u001b[1;34m(self)\u001b[0m\n\u001b[0;32m    101\u001b[0m \u001b[38;5;28;01mdef\u001b[39;00m \u001b[38;5;21mgetInfo\u001b[39m(\u001b[38;5;28mself\u001b[39m) \u001b[38;5;241m-\u001b[39m\u001b[38;5;241m>\u001b[39m Optional[Any]:\n\u001b[0;32m    102\u001b[0m \u001b[38;5;250m  \u001b[39m\u001b[38;5;124;03m\"\"\"Fetch and return information about this object.\u001b[39;00m\n\u001b[0;32m    103\u001b[0m \n\u001b[0;32m    104\u001b[0m \u001b[38;5;124;03m  Returns:\u001b[39;00m\n\u001b[0;32m    105\u001b[0m \u001b[38;5;124;03m    The object can evaluate to anything.\u001b[39;00m\n\u001b[0;32m    106\u001b[0m \u001b[38;5;124;03m  \"\"\"\u001b[39;00m\n\u001b[1;32m--> 107\u001b[0m   \u001b[38;5;28;01mreturn\u001b[39;00m \u001b[43mdata\u001b[49m\u001b[38;5;241;43m.\u001b[39;49m\u001b[43mcomputeValue\u001b[49m\u001b[43m(\u001b[49m\u001b[38;5;28;43mself\u001b[39;49m\u001b[43m)\u001b[49m\n",
      "File \u001b[1;32mc:\\Users\\jwcha\\.conda\\envs\\gee\\lib\\site-packages\\ee\\data.py:1126\u001b[0m, in \u001b[0;36mcomputeValue\u001b[1;34m(obj)\u001b[0m\n\u001b[0;32m   1123\u001b[0m body \u001b[38;5;241m=\u001b[39m {\u001b[38;5;124m'\u001b[39m\u001b[38;5;124mexpression\u001b[39m\u001b[38;5;124m'\u001b[39m: serializer\u001b[38;5;241m.\u001b[39mencode(obj, for_cloud_api\u001b[38;5;241m=\u001b[39m\u001b[38;5;28;01mTrue\u001b[39;00m)}\n\u001b[0;32m   1124\u001b[0m _maybe_populate_workload_tag(body)\n\u001b[1;32m-> 1126\u001b[0m \u001b[38;5;28;01mreturn\u001b[39;00m \u001b[43m_execute_cloud_call\u001b[49m\u001b[43m(\u001b[49m\n\u001b[0;32m   1127\u001b[0m \u001b[43m    \u001b[49m\u001b[43m_get_cloud_projects\u001b[49m\u001b[43m(\u001b[49m\u001b[43m)\u001b[49m\n\u001b[0;32m   1128\u001b[0m \u001b[43m    \u001b[49m\u001b[38;5;241;43m.\u001b[39;49m\u001b[43mvalue\u001b[49m\u001b[43m(\u001b[49m\u001b[43m)\u001b[49m\n\u001b[0;32m   1129\u001b[0m \u001b[43m    \u001b[49m\u001b[38;5;241;43m.\u001b[39;49m\u001b[43mcompute\u001b[49m\u001b[43m(\u001b[49m\u001b[43mbody\u001b[49m\u001b[38;5;241;43m=\u001b[39;49m\u001b[43mbody\u001b[49m\u001b[43m,\u001b[49m\u001b[43m \u001b[49m\u001b[43mproject\u001b[49m\u001b[38;5;241;43m=\u001b[39;49m\u001b[43m_get_projects_path\u001b[49m\u001b[43m(\u001b[49m\u001b[43m)\u001b[49m\u001b[43m,\u001b[49m\u001b[43m \u001b[49m\u001b[43mprettyPrint\u001b[49m\u001b[38;5;241;43m=\u001b[39;49m\u001b[38;5;28;43;01mFalse\u001b[39;49;00m\u001b[43m)\u001b[49m\n\u001b[0;32m   1130\u001b[0m \u001b[43m\u001b[49m\u001b[43m)\u001b[49m[\u001b[38;5;124m'\u001b[39m\u001b[38;5;124mresult\u001b[39m\u001b[38;5;124m'\u001b[39m]\n",
      "File \u001b[1;32mc:\\Users\\jwcha\\.conda\\envs\\gee\\lib\\site-packages\\ee\\data.py:408\u001b[0m, in \u001b[0;36m_execute_cloud_call\u001b[1;34m(call, num_retries)\u001b[0m\n\u001b[0;32m    406\u001b[0m   \u001b[38;5;28;01mreturn\u001b[39;00m call\u001b[38;5;241m.\u001b[39mexecute(num_retries\u001b[38;5;241m=\u001b[39mnum_retries)\n\u001b[0;32m    407\u001b[0m \u001b[38;5;28;01mexcept\u001b[39;00m googleapiclient\u001b[38;5;241m.\u001b[39merrors\u001b[38;5;241m.\u001b[39mHttpError \u001b[38;5;28;01mas\u001b[39;00m e:\n\u001b[1;32m--> 408\u001b[0m   \u001b[38;5;28;01mraise\u001b[39;00m _translate_cloud_exception(e)\n",
      "\u001b[1;31mEEException\u001b[0m: Collection query aborted after accumulating over 5000 elements."
     ]
    }
   ],
   "source": [
    "print(tiles[0].getInfo())"
   ]
  },
  {
   "cell_type": "code",
   "execution_count": null,
   "metadata": {},
   "outputs": [
    {
     "data": {
      "text/html": [
       "\n",
       "            <style>\n",
       "                .geemap-dark {\n",
       "                    --jp-widgets-color: white;\n",
       "                    --jp-widgets-label-color: white;\n",
       "                    --jp-ui-font-color1: white;\n",
       "                    --jp-layout-color2: #454545;\n",
       "                    background-color: #383838;\n",
       "                }\n",
       "\n",
       "                .geemap-dark .jupyter-button {\n",
       "                    --jp-layout-color3: #383838;\n",
       "                }\n",
       "\n",
       "                .geemap-colab {\n",
       "                    background-color: var(--colab-primary-surface-color, white);\n",
       "                }\n",
       "\n",
       "                .geemap-colab .jupyter-button {\n",
       "                    --jp-layout-color3: var(--colab-primary-surface-color, white);\n",
       "                }\n",
       "            </style>\n",
       "            "
      ],
      "text/plain": [
       "<IPython.core.display.HTML object>"
      ]
     },
     "metadata": {},
     "output_type": "display_data"
    },
    {
     "ename": "NameError",
     "evalue": "name 'chunk_name' is not defined",
     "output_type": "error",
     "traceback": [
      "\u001b[1;31m---------------------------------------------------------------------------\u001b[0m",
      "\u001b[1;31mNameError\u001b[0m                                 Traceback (most recent call last)",
      "Cell \u001b[1;32mIn[25], line 35\u001b[0m\n\u001b[0;32m     32\u001b[0m             \u001b[38;5;28mprint\u001b[39m(\u001b[38;5;124mf\u001b[39m\u001b[38;5;124m\"\u001b[39m\u001b[38;5;124mWaiting for active tasks to reduce below 70 Active tasks: \u001b[39m\u001b[38;5;132;01m{\u001b[39;00mactive\u001b[38;5;132;01m}\u001b[39;00m\u001b[38;5;124m\"\u001b[39m)\n\u001b[0;32m     33\u001b[0m             time\u001b[38;5;241m.\u001b[39msleep(\u001b[38;5;241m60\u001b[39m)\n\u001b[1;32m---> 35\u001b[0m \u001b[43mexport_tiles_to_gee\u001b[49m\u001b[43m(\u001b[49m\u001b[43mtiles\u001b[49m\u001b[43m)\u001b[49m\n",
      "Cell \u001b[1;32mIn[25], line 22\u001b[0m, in \u001b[0;36mexport_tiles_to_gee\u001b[1;34m(tiles)\u001b[0m\n\u001b[0;32m     17\u001b[0m \u001b[38;5;66;03m# enumerate through each tile and give respective chunk name \u001b[39;00m\n\u001b[0;32m     18\u001b[0m \u001b[38;5;28;01mfor\u001b[39;00m i, tile \u001b[38;5;129;01min\u001b[39;00m \u001b[38;5;28menumerate\u001b[39m(tiles):\n\u001b[0;32m     19\u001b[0m     \u001b[38;5;66;03m# chunk_name = f\"chunk_{i+1}\"\u001b[39;00m\n\u001b[0;32m     20\u001b[0m     task \u001b[38;5;241m=\u001b[39m ee\u001b[38;5;241m.\u001b[39mbatch\u001b[38;5;241m.\u001b[39mExport\u001b[38;5;241m.\u001b[39mtable\u001b[38;5;241m.\u001b[39mtoAsset(\n\u001b[0;32m     21\u001b[0m         collection\u001b[38;5;241m=\u001b[39mtile,\n\u001b[1;32m---> 22\u001b[0m         description\u001b[38;5;241m=\u001b[39m\u001b[38;5;124mf\u001b[39m\u001b[38;5;124m\"\u001b[39m\u001b[38;5;124mchunk_\u001b[39m\u001b[38;5;132;01m{\u001b[39;00mchunk_name\u001b[38;5;132;01m}\u001b[39;00m\u001b[38;5;124m\"\u001b[39m,\n\u001b[0;32m     23\u001b[0m         \u001b[38;5;66;03m# assetId=f\"users/jameswilliamchamberlain/tiles/{chunk_name}\"\u001b[39;00m\n\u001b[0;32m     24\u001b[0m         assetId\u001b[38;5;241m=\u001b[39m\u001b[38;5;124mf\u001b[39m\u001b[38;5;124m\"\u001b[39m\u001b[38;5;124mprojects/jameswilliamchamberlain/assets/chunks/chunk_\u001b[39m\u001b[38;5;132;01m{\u001b[39;00mi\u001b[38;5;241m+\u001b[39m\u001b[38;5;241m1\u001b[39m\u001b[38;5;132;01m}\u001b[39;00m\u001b[38;5;124m\"\u001b[39m\n\u001b[0;32m     25\u001b[0m     )\n\u001b[0;32m     27\u001b[0m     task\u001b[38;5;241m.\u001b[39mstart()\n\u001b[0;32m     29\u001b[0m     active \u001b[38;5;241m=\u001b[39m count_active_tasks()\n",
      "\u001b[1;31mNameError\u001b[0m: name 'chunk_name' is not defined"
     ]
    }
   ],
   "source": [
    "# export tasks for tiles with file_name \n",
    "import time\n",
    "\n",
    "def count_active_tasks():\n",
    "    \"\"\"\n",
    "        Counts the number of active tasks in GEE\n",
    "    \"\"\"\n",
    "    tasks = ee.batch.Task.list()\n",
    "    active_tasks = [task for task in tasks if task.status()['state'] == 'RUNNING']\n",
    "    return len(active_tasks)\n",
    "\n",
    "def export_tiles_to_gee(tiles):\n",
    "    \"\"\"\n",
    "        Exports tiles to GEE asset\n",
    "    \"\"\"\n",
    "\n",
    "    # enumerate through each tile and give respective chunk name \n",
    "    for i, tile in enumerate(tiles):\n",
    "        # chunk_name = f\"chunk_{i+1}\"\n",
    "        task = ee.batch.Export.table.toAsset(\n",
    "            collection=tile,\n",
    "            description=f\"chunk_{i+1}\",\n",
    "            # assetId=f\"users/jameswilliamchamberlain/tiles/{chunk_name}\"\n",
    "            assetId=f\"projects/jameswilliamchamberlain/assets/chunks/chunk_{i+1}\"\n",
    "        )\n",
    "\n",
    "        task.start()\n",
    "\n",
    "        active = count_active_tasks()\n",
    "\n",
    "        while active > 70:\n",
    "            print(f\"Waiting for active tasks to reduce below 70 Active tasks: {active}\")\n",
    "            time.sleep(60)\n",
    "\n",
    "export_tiles_to_gee(tiles)"
   ]
  },
  {
   "cell_type": "code",
   "execution_count": null,
   "metadata": {},
   "outputs": [
    {
     "data": {
      "text/html": [
       "\n",
       "            <style>\n",
       "                .geemap-dark {\n",
       "                    --jp-widgets-color: white;\n",
       "                    --jp-widgets-label-color: white;\n",
       "                    --jp-ui-font-color1: white;\n",
       "                    --jp-layout-color2: #454545;\n",
       "                    background-color: #383838;\n",
       "                }\n",
       "\n",
       "                .geemap-dark .jupyter-button {\n",
       "                    --jp-layout-color3: #383838;\n",
       "                }\n",
       "\n",
       "                .geemap-colab {\n",
       "                    background-color: var(--colab-primary-surface-color, white);\n",
       "                }\n",
       "\n",
       "                .geemap-colab .jupyter-button {\n",
       "                    --jp-layout-color3: var(--colab-primary-surface-color, white);\n",
       "                }\n",
       "            </style>\n",
       "            "
      ],
      "text/plain": [
       "<IPython.core.display.HTML object>"
      ]
     },
     "metadata": {},
     "output_type": "display_data"
    }
   ],
   "source": [
    "# COPERNICUS/S2_HARMONIZED     \n",
    "# COPERNICUS/S2\n",
    "# etc"
   ]
  },
  {
   "cell_type": "code",
   "execution_count": null,
   "metadata": {},
   "outputs": [
    {
     "data": {
      "text/html": [
       "\n",
       "            <style>\n",
       "                .geemap-dark {\n",
       "                    --jp-widgets-color: white;\n",
       "                    --jp-widgets-label-color: white;\n",
       "                    --jp-ui-font-color1: white;\n",
       "                    --jp-layout-color2: #454545;\n",
       "                    background-color: #383838;\n",
       "                }\n",
       "\n",
       "                .geemap-dark .jupyter-button {\n",
       "                    --jp-layout-color3: #383838;\n",
       "                }\n",
       "\n",
       "                .geemap-colab {\n",
       "                    background-color: var(--colab-primary-surface-color, white);\n",
       "                }\n",
       "\n",
       "                .geemap-colab .jupyter-button {\n",
       "                    --jp-layout-color3: var(--colab-primary-surface-color, white);\n",
       "                }\n",
       "            </style>\n",
       "            "
      ],
      "text/plain": [
       "<IPython.core.display.HTML object>"
      ]
     },
     "metadata": {},
     "output_type": "display_data"
    }
   ],
   "source": [
    "# TODO: combine so that I can use tiled system to render quicker as rendering a full country is painfully slow \n",
    "\n",
    "# add Iraq full country \n",
    "lisb =  ee.FeatureCollection('USDOS/LSIB_SIMPLE/2017')\n",
    "# print(lisb.first().getInfo()['properties'])\n",
    "iraq = lisb.filter(ee.Filter.eq('country_co', 'IZ'))\n",
    "romania = lisb.filter(ee.Filter.eq('country_co', 'RO'))\n",
    "# m.addLayer(iraq, {}, \"Iraq\") # outline Iraq\n",
    "map_polygon(romania.geometry(), \"COPERNICUS/S2_HARMONIZED\", \"Iraq S2-Haromised 2024\", \"2024-01-01\", \"2024-12-31\")"
   ]
  },
  {
   "cell_type": "markdown",
   "metadata": {},
   "source": [
    "# Useful Links \n",
    "\n",
    "[Google Earth Engine Editor](https://code.earthengine.google.com/)\n",
    "\n",
    "[GEE Tasks (Bulk cancel mode)](https://code.earthengine.google.com/tasks)"
   ]
  },
  {
   "cell_type": "code",
   "execution_count": null,
   "metadata": {},
   "outputs": [
    {
     "data": {
      "text/html": [
       "\n",
       "            <style>\n",
       "                .geemap-dark {\n",
       "                    --jp-widgets-color: white;\n",
       "                    --jp-widgets-label-color: white;\n",
       "                    --jp-ui-font-color1: white;\n",
       "                    --jp-layout-color2: #454545;\n",
       "                    background-color: #383838;\n",
       "                }\n",
       "\n",
       "                .geemap-dark .jupyter-button {\n",
       "                    --jp-layout-color3: #383838;\n",
       "                }\n",
       "\n",
       "                .geemap-colab {\n",
       "                    background-color: var(--colab-primary-surface-color, white);\n",
       "                }\n",
       "\n",
       "                .geemap-colab .jupyter-button {\n",
       "                    --jp-layout-color3: var(--colab-primary-surface-color, white);\n",
       "                }\n",
       "            </style>\n",
       "            "
      ],
      "text/plain": [
       "<IPython.core.display.HTML object>"
      ]
     },
     "metadata": {},
     "output_type": "display_data"
    }
   ],
   "source": [
    "# import ee\n",
    "\n",
    "# ee.Initialize(project=\"jameswilliamchamberlain\")\n",
    "\n",
    "# import ipygee as ui\n",
    "# import tqdm  # you can avoid using this if you want\n",
    "\n",
    "# TM = ui.TaskManager()\n",
    "# TM\n",
    "\n",
    "# # Select the tasks you want to cancel, then:\n",
    "\n",
    "# for task in tqdm.tqdm(TM.selected_tasks()):\n",
    "#     task.cancel()"
   ]
  }
 ],
 "metadata": {
  "kernelspec": {
   "display_name": "gee",
   "language": "python",
   "name": "python3"
  },
  "language_info": {
   "codemirror_mode": {
    "name": "ipython",
    "version": 3
   },
   "file_extension": ".py",
   "mimetype": "text/x-python",
   "name": "python",
   "nbconvert_exporter": "python",
   "pygments_lexer": "ipython3",
   "version": "3.8.20"
  }
 },
 "nbformat": 4,
 "nbformat_minor": 2
}
