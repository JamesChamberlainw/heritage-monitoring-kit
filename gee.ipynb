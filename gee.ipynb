{
 "cells": [
  {
   "cell_type": "code",
   "execution_count": 1,
   "metadata": {},
   "outputs": [],
   "source": [
    "import ee\n",
    "import geemap\n",
    "import xml.etree.ElementTree as ET\n",
    "import ipywidgets as widgets\n",
    "import pandas as pd \n",
    "from pprint import pprint "
   ]
  },
  {
   "cell_type": "code",
   "execution_count": 2,
   "metadata": {},
   "outputs": [
    {
     "data": {
      "text/html": [
       "\n",
       "            <style>\n",
       "                .geemap-dark {\n",
       "                    --jp-widgets-color: white;\n",
       "                    --jp-widgets-label-color: white;\n",
       "                    --jp-ui-font-color1: white;\n",
       "                    --jp-layout-color2: #454545;\n",
       "                    background-color: #383838;\n",
       "                }\n",
       "\n",
       "                .geemap-dark .jupyter-button {\n",
       "                    --jp-layout-color3: #383838;\n",
       "                }\n",
       "\n",
       "                .geemap-colab {\n",
       "                    background-color: var(--colab-primary-surface-color, white);\n",
       "                }\n",
       "\n",
       "                .geemap-colab .jupyter-button {\n",
       "                    --jp-layout-color3: var(--colab-primary-surface-color, white);\n",
       "                }\n",
       "            </style>\n",
       "            "
      ],
      "text/plain": [
       "<IPython.core.display.HTML object>"
      ]
     },
     "metadata": {},
     "output_type": "display_data"
    }
   ],
   "source": [
    "ee.Authenticate() \n",
    "ee.Initialize(project=\"jameswilliamchamberlain\")"
   ]
  },
  {
   "cell_type": "code",
   "execution_count": 3,
   "metadata": {},
   "outputs": [
    {
     "data": {
      "text/html": [
       "\n",
       "            <style>\n",
       "                .geemap-dark {\n",
       "                    --jp-widgets-color: white;\n",
       "                    --jp-widgets-label-color: white;\n",
       "                    --jp-ui-font-color1: white;\n",
       "                    --jp-layout-color2: #454545;\n",
       "                    background-color: #383838;\n",
       "                }\n",
       "\n",
       "                .geemap-dark .jupyter-button {\n",
       "                    --jp-layout-color3: #383838;\n",
       "                }\n",
       "\n",
       "                .geemap-colab {\n",
       "                    background-color: var(--colab-primary-surface-color, white);\n",
       "                }\n",
       "\n",
       "                .geemap-colab .jupyter-button {\n",
       "                    --jp-layout-color3: var(--colab-primary-surface-color, white);\n",
       "                }\n",
       "            </style>\n",
       "            "
      ],
      "text/plain": [
       "<IPython.core.display.HTML object>"
      ]
     },
     "metadata": {},
     "output_type": "display_data"
    }
   ],
   "source": [
    "# UNESCO World Heritage Sites List xml file \n",
    "tree = ET.parse(\"whs.xml\")\n",
    "root = tree.getroot()\n",
    "\n",
    "data = []\n",
    "\n",
    "for row in root.findall(\"row\"):\n",
    "    site = row.findtext('site')\n",
    "    category = row.findtext('category')\n",
    "    date_inscribed = row.findtext('date_inscribed')\n",
    "    region = row.findtext('region')\n",
    "    url = row.findtext('http_url')\n",
    "    longitude = row.findtext('longitude')\n",
    "    latitude = row.findtext('latitude')\n",
    "    iso = row.findtext('iso_code')\n",
    "    iso = iso.split(',')\n",
    "    data.append([site, category, date_inscribed, region, url, longitude, latitude, iso])\n",
    "\n",
    "df = pd.DataFrame(data, columns=[\"name\", \"category\", \"date inscribed\", \"region\", \"url\", \"longitude\", \"latitude\", \"iso\"])\n",
    "\n",
    "df[\"longitude\"] = pd.to_numeric(df[\"longitude\"], errors='coerce')\n",
    "df[\"latitude\"] = pd.to_numeric(df[\"latitude\"], errors='coerce')"
   ]
  },
  {
   "cell_type": "code",
   "execution_count": 4,
   "metadata": {},
   "outputs": [
    {
     "data": {
      "text/html": [
       "\n",
       "            <style>\n",
       "                .geemap-dark {\n",
       "                    --jp-widgets-color: white;\n",
       "                    --jp-widgets-label-color: white;\n",
       "                    --jp-ui-font-color1: white;\n",
       "                    --jp-layout-color2: #454545;\n",
       "                    background-color: #383838;\n",
       "                }\n",
       "\n",
       "                .geemap-dark .jupyter-button {\n",
       "                    --jp-layout-color3: #383838;\n",
       "                }\n",
       "\n",
       "                .geemap-colab {\n",
       "                    background-color: var(--colab-primary-surface-color, white);\n",
       "                }\n",
       "\n",
       "                .geemap-colab .jupyter-button {\n",
       "                    --jp-layout-color3: var(--colab-primary-surface-color, white);\n",
       "                }\n",
       "            </style>\n",
       "            "
      ],
      "text/plain": [
       "<IPython.core.display.HTML object>"
      ]
     },
     "metadata": {},
     "output_type": "display_data"
    }
   ],
   "source": [
    "df = df[df['category'] != 'Natural'] "
   ]
  },
  {
   "cell_type": "code",
   "execution_count": 5,
   "metadata": {},
   "outputs": [
    {
     "data": {
      "text/html": [
       "\n",
       "            <style>\n",
       "                .geemap-dark {\n",
       "                    --jp-widgets-color: white;\n",
       "                    --jp-widgets-label-color: white;\n",
       "                    --jp-ui-font-color1: white;\n",
       "                    --jp-layout-color2: #454545;\n",
       "                    background-color: #383838;\n",
       "                }\n",
       "\n",
       "                .geemap-dark .jupyter-button {\n",
       "                    --jp-layout-color3: #383838;\n",
       "                }\n",
       "\n",
       "                .geemap-colab {\n",
       "                    background-color: var(--colab-primary-surface-color, white);\n",
       "                }\n",
       "\n",
       "                .geemap-colab .jupyter-button {\n",
       "                    --jp-layout-color3: var(--colab-primary-surface-color, white);\n",
       "                }\n",
       "            </style>\n",
       "            "
      ],
      "text/plain": [
       "<IPython.core.display.HTML object>"
      ]
     },
     "metadata": {},
     "output_type": "display_data"
    }
   ],
   "source": [
    "# df[[\"longitude\", \"latitude\"]]\n",
    "df = df.dropna(subset=[\"longitude\", \"latitude\"]).reset_index(drop=True)"
   ]
  },
  {
   "cell_type": "code",
   "execution_count": 6,
   "metadata": {},
   "outputs": [
    {
     "data": {
      "text/html": [
       "\n",
       "            <style>\n",
       "                .geemap-dark {\n",
       "                    --jp-widgets-color: white;\n",
       "                    --jp-widgets-label-color: white;\n",
       "                    --jp-ui-font-color1: white;\n",
       "                    --jp-layout-color2: #454545;\n",
       "                    background-color: #383838;\n",
       "                }\n",
       "\n",
       "                .geemap-dark .jupyter-button {\n",
       "                    --jp-layout-color3: #383838;\n",
       "                }\n",
       "\n",
       "                .geemap-colab {\n",
       "                    background-color: var(--colab-primary-surface-color, white);\n",
       "                }\n",
       "\n",
       "                .geemap-colab .jupyter-button {\n",
       "                    --jp-layout-color3: var(--colab-primary-surface-color, white);\n",
       "                }\n",
       "            </style>\n",
       "            "
      ],
      "text/plain": [
       "<IPython.core.display.HTML object>"
      ]
     },
     "metadata": {},
     "output_type": "display_data"
    }
   ],
   "source": [
    "df_disp = df # default \n",
    "\n",
    "# regions\n",
    "iberia = {\"es\", \"pt\", \"ad\"}\n",
    "balkans = {\"bg\", \"ro\", \"rs\", \"hr\", \"si\", \"ba\", \"me\", \"gr\", \"al\"} \n",
    "centeral = {\"pl\", \"de\", \"he\", \"ch\", \"at\", \"cz\", \"sk\"}\n",
    "levant = {\"il\", \"jo\", \"sy\", \"lb\", 'ps'}\n",
    "fertile_crescent = {\"il\", \"jo\", \"sy\", \"lb\", 'iq', 'eg', 'ps'}\n",
    "middle_east = {\"il\", \"jo\", \"sy\", \"lb\", 'iq', 'eg', 'sa', 'bh', 'qa', 'ae', 'om', 'ye', 'ir', 'tr', 'ps'}\n",
    "caucasus = {'ge', 'az', 'am'}\n",
    "stepp_countries = {'tm', 'uz', 'tm', 'kz', 'kg', 'tj'}\n",
    "indian_subcontinent = {'af', 'pk', 'in', 'np', 'bd', 'lk'}\n",
    "north_africa = {'ma', 'dz', 'tn', 'ly', 'eg'}\n",
    "horn_africa = {'er', 'et'}\n",
    "egypt = {'eg', 'sd', 'il', 'ps'} # old egypt\n",
    "british_isles = {'gb', 'ie'}\n",
    "\n",
    "target_iso = {'iq'}\n",
    "target_url = 'https://whc.unesco.org/en/list/276'\n",
    "df_disp = df[df['iso'].apply(lambda iso_list: bool(set(iso_list) & target_iso))]\n",
    "df_disp = df_disp[df_disp['url'] == target_url]\n",
    "df_disp = df_disp.reset_index(drop=True)"
   ]
  },
  {
   "cell_type": "code",
   "execution_count": 7,
   "metadata": {},
   "outputs": [
    {
     "data": {
      "text/html": [
       "\n",
       "            <style>\n",
       "                .geemap-dark {\n",
       "                    --jp-widgets-color: white;\n",
       "                    --jp-widgets-label-color: white;\n",
       "                    --jp-ui-font-color1: white;\n",
       "                    --jp-layout-color2: #454545;\n",
       "                    background-color: #383838;\n",
       "                }\n",
       "\n",
       "                .geemap-dark .jupyter-button {\n",
       "                    --jp-layout-color3: #383838;\n",
       "                }\n",
       "\n",
       "                .geemap-colab {\n",
       "                    background-color: var(--colab-primary-surface-color, white);\n",
       "                }\n",
       "\n",
       "                .geemap-colab .jupyter-button {\n",
       "                    --jp-layout-color3: var(--colab-primary-surface-color, white);\n",
       "                }\n",
       "            </style>\n",
       "            "
      ],
      "text/plain": [
       "<IPython.core.display.HTML object>"
      ]
     },
     "metadata": {},
     "output_type": "display_data"
    }
   ],
   "source": [
    "# # Samarra Archaeological City\n",
    "# target = {\"http://whc.unesco.org/en/list/276\"}\n",
    "# df_disp = df[df['url'].apply(lambda url_list: bool(set(url_list) & target))]\n",
    "# df_disp = df.reset_index(drop=True)"
   ]
  },
  {
   "cell_type": "code",
   "execution_count": null,
   "metadata": {},
   "outputs": [],
   "source": []
  },
  {
   "cell_type": "code",
   "execution_count": 15,
   "metadata": {},
   "outputs": [
    {
     "data": {
      "text/html": [
       "\n",
       "            <style>\n",
       "                .geemap-dark {\n",
       "                    --jp-widgets-color: white;\n",
       "                    --jp-widgets-label-color: white;\n",
       "                    --jp-ui-font-color1: white;\n",
       "                    --jp-layout-color2: #454545;\n",
       "                    background-color: #383838;\n",
       "                }\n",
       "\n",
       "                .geemap-dark .jupyter-button {\n",
       "                    --jp-layout-color3: #383838;\n",
       "                }\n",
       "\n",
       "                .geemap-colab {\n",
       "                    background-color: var(--colab-primary-surface-color, white);\n",
       "                }\n",
       "\n",
       "                .geemap-colab .jupyter-button {\n",
       "                    --jp-layout-color3: var(--colab-primary-surface-color, white);\n",
       "                }\n",
       "            </style>\n",
       "            "
      ],
      "text/plain": [
       "<IPython.core.display.HTML object>"
      ]
     },
     "metadata": {},
     "output_type": "display_data"
    },
    {
     "data": {
      "application/vnd.jupyter.widget-view+json": {
       "model_id": "7eee460b2d194b77a6583a058bcc8c69",
       "version_major": 2,
       "version_minor": 0
      },
      "text/plain": [
       "HBox(children=(SelectionSlider(continuous_update=False, description='Date:', index=4, options=('2016', '2017',…"
      ]
     },
     "metadata": {},
     "output_type": "display_data"
    },
    {
     "data": {
      "application/vnd.jupyter.widget-view+json": {
       "model_id": "f64f656dad1f49bb8379bb1ef4e91f62",
       "version_major": 2,
       "version_minor": 0
      },
      "text/plain": [
       "Map(center=[0, 0], controls=(WidgetControl(options=['position', 'transparent_bg'], widget=SearchDataGUI(childr…"
      ]
     },
     "execution_count": 15,
     "metadata": {},
     "output_type": "execute_result"
    },
    {
     "ename": "AttributeError",
     "evalue": "'NoneType' object has no attribute 'geometry'",
     "output_type": "error",
     "traceback": [
      "\u001b[1;31m---------------------------------------------------------------------------\u001b[0m",
      "\u001b[1;31mAttributeError\u001b[0m                            Traceback (most recent call last)",
      "Cell \u001b[1;32mIn[15], line 166\u001b[0m, in \u001b[0;36mcreate_tiles\u001b[1;34m(b)\u001b[0m\n\u001b[0;32m    163\u001b[0m \u001b[38;5;28;01mif\u001b[39;00m m\u001b[38;5;241m.\u001b[39mdraw_features \u001b[38;5;129;01mis\u001b[39;00m \u001b[38;5;28;01mNone\u001b[39;00m:\n\u001b[0;32m    164\u001b[0m     \u001b[38;5;28;01mraise\u001b[39;00m \u001b[38;5;167;01mValueError\u001b[39;00m(\u001b[38;5;124m\"\u001b[39m\u001b[38;5;124mError: no roi\u001b[39m\u001b[38;5;124m\"\u001b[39m)\n\u001b[1;32m--> 166\u001b[0m roi \u001b[38;5;241m=\u001b[39m \u001b[43mm\u001b[49m\u001b[38;5;241;43m.\u001b[39;49m\u001b[43mdraw_last_feature\u001b[49m\u001b[38;5;241;43m.\u001b[39;49m\u001b[43mgeometry\u001b[49m()\n\u001b[0;32m    168\u001b[0m fishnet_list \u001b[38;5;241m=\u001b[39m create_s2_aligned_fishnet(roi, tile_size_m\u001b[38;5;241m=\u001b[39m\u001b[38;5;241m50\u001b[39m)\n\u001b[0;32m    170\u001b[0m tiles \u001b[38;5;241m=\u001b[39m fishnet_list\n",
      "\u001b[1;31mAttributeError\u001b[0m: 'NoneType' object has no attribute 'geometry'"
     ]
    }
   ],
   "source": [
    "m = geemap.Map()\n",
    "m.add_points_from_xy(df_disp, x=\"longitude\", y=\"latitude\", layer_name=\"Sites\")\n",
    "\n",
    "def map_polygon(polygon, collection_name, layer_name, yyyymmdd1=\"2024-01-01\", yyyymmdd2=\"2024-12-29\", num_tasks=10):\n",
    "\n",
    "    collection = ee.ImageCollection(collection_name) \\\n",
    "        .filterDate(yyyymmdd1, yyyymmdd2) \\\n",
    "        .filterBounds(polygon) \\\n",
    "        .filter(ee.Filter.lt(\"CLOUDY_PIXEL_PERCENTAGE\", 20)) \\\n",
    "        .median() \\\n",
    "        .clip(polygon)\n",
    "    \n",
    "    vis = {'min': 0, 'max': 3000, 'bands': ['B4', 'B3', 'B2']}\n",
    "\n",
    "    m.addLayer(collection, vis, layer_name)\n",
    "\n",
    "def draw_rectangles_for_date(date_val, size_deg=1):\n",
    "\n",
    "    regions = []\n",
    "\n",
    "    for _, row in df_disp.iterrows():\n",
    "        lat = row['latitude']\n",
    "        lon = row['longitude']\n",
    "\n",
    "        geometry = ee.Geometry.Rectangle([lon - size_deg/2, lat - size_deg/2, lon + size_deg/2, lat + size_deg/2])\n",
    "        regions.append(geometry)\n",
    "\n",
    "    regions_collection = ee.FeatureCollection(regions)\n",
    "\n",
    "    map_polygon(regions_collection, \"COPERNICUS/S2_HARMONIZED\", f\"S2 {date_val}\", f\"{date_val}-01-01\", f\"{date_val}-3-31\")\n",
    "\n",
    "def draw_basic(b):\n",
    "    dates = [2025, 2020, 2016]\n",
    "    # dates = [2025, 2024, 2022, 2020, 2018, 2016]\n",
    "    # dates = [2025, 2024, 2023, 2022, 2021, 2020, 2019, 2018, 20217, 2016]\n",
    "\n",
    "    for date in dates:\n",
    "        draw_rectangles_for_date(date)\n",
    "\n",
    "def draw_selected(b):\n",
    "\n",
    "    if m.draw_features is None:\n",
    "        raise ValueError(\"Error: no roi\")\n",
    "    \n",
    "    # roi = m.draw_last_feature.geometry()\n",
    "    roi = ee.FeatureCollection(m.draw_features)\n",
    "\n",
    "    year_start_val = int(date_slider.value)\n",
    "    month_start_val = int(month_slider.value)\n",
    "    time_frame_val = int(time_frame_slider.value)\n",
    "\n",
    "    month_end_val = month_start_val + time_frame_val\n",
    "    year_overflow = 0\n",
    "    if month_end_val > 12:\n",
    "        month_end_val -= 12\n",
    "        year_overflow = 1\n",
    "\n",
    "    yyyymm_start = f\"{year_start_val}-{month_start_val}\"\n",
    "    yyyymm_end = f\"{year_start_val + year_overflow}-{month_end_val}\"\n",
    "    \n",
    "    map_polygon(roi, \"COPERNICUS/S2_HARMONIZED\", yyyymmdd1=yyyymm_start, yyyymmdd2=yyyymm_end, layer_name=f\"S2 {yyyymm_start} to {yyyymm_end}\")\n",
    "\n",
    "date_slider = widgets.SelectionSlider(\n",
    "    options=[str(year) for year in range(2016, 2026)],\n",
    "    value='2020',\n",
    "    description='Date:',\n",
    "    disabled=False,\n",
    "    continuous_update=False,\n",
    "    orientation='horizontal',\n",
    "    readout=True\n",
    ")\n",
    "\n",
    "month_slider = widgets.SelectionSlider(\n",
    "    options=[str(month) for month in range(1, 13)],\n",
    "    value='1',\n",
    "    description='Month:',\n",
    "    disabled=False,\n",
    "    continuous_update=False,\n",
    "    orientation='horizontal',\n",
    "    readout=True\n",
    ")\n",
    "\n",
    "time_frame_slider = widgets.SelectionSlider(\n",
    "    options=[str(month) for month in range(1, 13)],\n",
    "    value='3',\n",
    "    description='timeframe:',\n",
    "    disabled=False,\n",
    "    continuous_update=False,\n",
    "    orientation='horizontal',\n",
    "    readout=True\n",
    ")\n",
    "\n",
    "def create_s2_aligned_fishnet(region, tile_size_m=50):\n",
    "\n",
    "    def name_tile(f):\n",
    "        coords = ee.List(f.geometry().bounds().coordinates().get(0))\n",
    "\n",
    "        ll = ee.List(coords.get(0))  # lower-left\n",
    "        ur = ee.List(coords.get(2))  # upper-right\n",
    "\n",
    "        lon_min = ee.Number(ll.get(0)).multiply(1e6).round().toInt() # .round().multiply(1e6).toInt()\n",
    "        lat_min = ee.Number(ll.get(1)).multiply(1e6).round().toInt() # .round().multiply(1e6).toInt()\n",
    "        lon_max = ee.Number(ur.get(0)).multiply(1e6).round().toInt() # .round().multiply(1e6).toInt()\n",
    "        lat_max = ee.Number(ur.get(1)).multiply(1e6).round().toInt() # .round().multiply(1e6).toInt()\n",
    "\n",
    "        file_name = ee.String('tile_') \\\n",
    "            .cat(lon_min.format('%06d')).cat('_') \\\n",
    "            .cat(lat_min.format('%06d')).cat('_') \\\n",
    "            .cat(lon_max.format('%06d')).cat('_') \\\n",
    "            .cat(lat_max.format('%06d'))\n",
    "\n",
    "        return f.set('file_name', file_name)\n",
    "\n",
    "        # return f.set('file_name', ee.String('tile_').cat(ee.Number(f.get('tile_id')).format('%08d')))\n",
    "\n",
    "    def net(sub_region, tile_size_m=50):\n",
    "        s2 = ee.ImageCollection(\"COPERNICUS/S2\") \\\n",
    "            .filterBounds(sub_region) \\\n",
    "            .filterDate(\"2024-01-01\", \"2024-12-30\") \\\n",
    "            .first()\n",
    "\n",
    "        projection = s2.select(\"B4\").projection()\n",
    "        px_coords = ee.Image.pixelCoordinates(projection)\n",
    "\n",
    "        tile_px = tile_size_m // 10  # 50/10 = 5px (50mx50m)\n",
    "\n",
    "        tile_ids = px_coords.select(\"x\").divide(tile_px).floor() \\\n",
    "            .multiply(1e6).add(px_coords.select(\"y\").divide(tile_px).floor()) \\\n",
    "            .toInt()\n",
    "        \n",
    "\n",
    "        fishnet = tile_ids.reduceToVectors(\n",
    "            geometry=sub_region,\n",
    "            geometryType='polygon',\n",
    "            scale=10,\n",
    "            bestEffort=True,\n",
    "            maxPixels=1e13,\n",
    "        )\n",
    "\n",
    "        fishnet = fishnet.map(name_tile)\n",
    "\n",
    "        return fishnet\n",
    "\n",
    "    # need to fishnet the region into larger chunks to then beable to properly tile else it will fail\n",
    "    chunks = net(region, tile_size_m=tile_size_m * 100)\n",
    "\n",
    "    fishnet_tiles = []\n",
    "    for i in range(chunks.size().getInfo()):\n",
    "        chunk = ee.Feature(chunks.toList(1, i).get(0))\n",
    "        chunk_tiles = net(chunk.geometry(), tile_size_m=tile_size_m)\n",
    "\n",
    "        # drop edge tiles \n",
    "        fishnet_tiles.append(chunk_tiles)\n",
    "\n",
    "    return fishnet_tiles\n",
    "\n",
    "tiles = None\n",
    "\n",
    "# Tiling \n",
    "def create_tiles(b):\n",
    "    global tiles\n",
    "\n",
    "    if m.draw_features is None:\n",
    "        raise ValueError(\"Error: no roi\")\n",
    "\n",
    "    roi = m.draw_last_feature.geometry()\n",
    "\n",
    "    fishnet_list = create_s2_aligned_fishnet(roi, tile_size_m=50)\n",
    "    \n",
    "    tiles = fishnet_list\n",
    "    \n",
    "    # for i in range(len(fishnet_list)):\n",
    "    #     fishnet = ee.FeatureCollection(fishnet_list[i])\n",
    "    #     m.addLayer(fishnet, {}, f\"Chunk {i+1}\")\n",
    "\n",
    "\n",
    "def save_tiles(b, dir=\"chunk.shp\"):\n",
    "    if tiles is None:\n",
    "        raise ValueError(\"Error: no tiles\")\n",
    "    \n",
    "    for i in range(len(tiles)):\n",
    "        geemap.ee_to_shp(tiles[i], dir.replace(\".shp\", f\"_{i+1}.shp\"))\n",
    "\n",
    "def show_tiles(b):\n",
    "    if tiles is None:\n",
    "        raise ValueError(\"Error: no tiles\")\n",
    "    \n",
    "    for i in range(len(tiles)):\n",
    "        fishnet = ee.FeatureCollection(tiles[i])\n",
    "        m.addLayer(fishnet, {}, f\"Chunk {i+1}\")\n",
    "\n",
    "# Tile Region \n",
    "tile_btn = widgets.Button(description=\"Create Tiles\", position=\"bottomright\")\n",
    "tile_btn.on_click(create_tiles)\n",
    "save_tiles_btn = widgets.Button(description=\"Save Tiles\", position=\"bottomright\")\n",
    "save_tiles_btn.on_click(save_tiles)\n",
    "widget_tiles = widgets.VBox([tile_btn, save_tiles_btn])\n",
    "m.add_widget(widget_tiles, position=\"bottomright\")\n",
    "\n",
    "# Show Tiles \n",
    "show_tiles_btn = widgets.Button(description=\"Show Tiles\", position=\"bottomright\")\n",
    "show_tiles_btn.on_click(show_tiles)\n",
    "m.add_widget(show_tiles_btn, position=\"bottomright\")\n",
    "\n",
    "# old \n",
    "render_btn = widgets.Button(description=\"Draw Selected Date Layer\", position=\"bottomright\") \n",
    "draw_btn = widgets.Button(description=\"Draw Pins Areas 3yrs\", position=\"bottomright\")\n",
    "\n",
    "widget_draw = widgets.VBox([draw_btn, render_btn])\n",
    "\n",
    "m.add_widget(widget_draw, position=\"bottomright\")\n",
    "\n",
    "display(widgets.HBox([date_slider, month_slider, time_frame_slider, render_btn]))\n",
    "render_btn.on_click(draw_selected)\n",
    "draw_btn.on_click(draw_basic)\n",
    "\n",
    "m"
   ]
  },
  {
   "cell_type": "markdown",
   "metadata": {},
   "source": [
    "Samarra Archaeological City\n",
    "\n",
    "https://whc.unesco.org/en/list/276/documents/   -  Samarra Archaeological City \"Maps and Plans\" 2007 file \n"
   ]
  },
  {
   "cell_type": "code",
   "execution_count": 10,
   "metadata": {},
   "outputs": [
    {
     "data": {
      "text/html": [
       "\n",
       "            <style>\n",
       "                .geemap-dark {\n",
       "                    --jp-widgets-color: white;\n",
       "                    --jp-widgets-label-color: white;\n",
       "                    --jp-ui-font-color1: white;\n",
       "                    --jp-layout-color2: #454545;\n",
       "                    background-color: #383838;\n",
       "                }\n",
       "\n",
       "                .geemap-dark .jupyter-button {\n",
       "                    --jp-layout-color3: #383838;\n",
       "                }\n",
       "\n",
       "                .geemap-colab {\n",
       "                    background-color: var(--colab-primary-surface-color, white);\n",
       "                }\n",
       "\n",
       "                .geemap-colab .jupyter-button {\n",
       "                    --jp-layout-color3: var(--colab-primary-surface-color, white);\n",
       "                }\n",
       "            </style>\n",
       "            "
      ],
      "text/plain": [
       "<IPython.core.display.HTML object>"
      ]
     },
     "metadata": {},
     "output_type": "display_data"
    },
    {
     "name": "stdout",
     "output_type": "stream",
     "text": [
      "{'type': 'FeatureCollection', 'columns': {'count': 'Long<0, 4294967295>', 'file_name': 'String', 'label': 'Integer', 'system:index': 'String'}, 'features': [{'type': 'Feature', 'geometry': {'geodesic': False, 'type': 'Polygon', 'coordinates': [[[43.87585145270111, 34.209170518125525], [43.87585504470461, 34.2089000119744], [43.87596357644433, 34.20890100666993], [43.87595998478219, 34.20917151283004], [43.87585145270111, 34.209170518125525]]]}, 'id': '+9644+1414', 'properties': {'count': 3, 'file_name': 'tile_43875851_34208900_43875964_34209172', 'label': 1928000282}}, {'type': 'Feature', 'geometry': {'geodesic': False, 'type': 'Polygon', 'coordinates': [[[43.87585504470461, 34.2089000119744], [43.87586103127529, 34.208449168365235], [43.8759695624311, 34.20845016305178], [43.87596357644433, 34.20890100666993], [43.87585504470461, 34.2089000119744]]]}, 'id': '+9644+1419', 'properties': {'count': 5, 'file_name': 'tile_43875855_34208449_43875970_34208901', 'label': 1928000283}}, {'type': 'Feature', 'geometry': {'geodesic': False, 'type': 'Polygon', 'coordinates': [[[43.87586103127529, 34.208449168365235], [43.87586701770224, 34.20799832472911], [43.87597554829212, 34.20799931938871], [43.8759695624311, 34.20845016305178], [43.87586103127529, 34.208449168365235]]]}, 'id': '+9644+1424', 'properties': {'count': 5, 'file_name': 'tile_43875861_34207998_43875976_34208450', 'label': 1928000284}}, {'type': 'Feature', 'geometry': {'geodesic': False, 'type': 'Polygon', 'coordinates': [[[43.87586701770224, 34.20799832472911], [43.87587300400343, 34.20754748104808], [43.8759815340094, 34.207548475698694], [43.87597554829212, 34.20799931938871], [43.87586701770224, 34.20799832472911]]]}, 'id': '+9644+1429', 'properties': {'count': 5, 'file_name': 'tile_43875867_34207547_43875982_34207999', 'label': 1928000285}}, {'type': 'Feature', 'geometry': {'geodesic': False, 'type': 'Polygon', 'coordinates': [[[43.87587300400343, 34.20754748104808], [43.875878990178855, 34.2070966373401], [43.87598751960092, 34.207097631972744], [43.8759815340094, 34.207548475698694], [43.87587300400343, 34.20754748104808]]]}, 'id': '+9644+1434', 'properties': {'count': 5, 'file_name': 'tile_43875873_34207097_43875988_34207548', 'label': 1928000286}}, {'type': 'Feature', 'geometry': {'geodesic': False, 'type': 'Polygon', 'coordinates': [[[43.875878990178855, 34.2070966373401], [43.87588497621055, 34.20664579359618], [43.87599350505769, 34.20664678821087], [43.87598751960092, 34.207097631972744], [43.875878990178855, 34.2070966373401]]]}, 'id': '+9644+1439', 'properties': {'count': 5, 'file_name': 'tile_43875879_34206646_43875994_34207098', 'label': 1928000287}}, {'type': 'Feature', 'geometry': {'geodesic': False, 'type': 'Polygon', 'coordinates': [[[43.87588497621055, 34.20664579359618], [43.8758909621075, 34.206194949816336], [43.8759994903887, 34.206195944413054], [43.87599350505769, 34.20664678821087], [43.87588497621055, 34.20664579359618]]]}, 'id': '+9644+1444', 'properties': {'count': 5, 'file_name': 'tile_43875885_34206195_43875999_34206647', 'label': 1928000288}}, {'type': 'Feature', 'geometry': {'geodesic': False, 'type': 'Polygon', 'coordinates': [[[43.8758909621075, 34.206194949816336], [43.87589694787868, 34.20574410600954], [43.87600547557597, 34.20574510058829], [43.8759994903887, 34.206195944413054], [43.8758909621075, 34.206194949816336]]]}, 'id': '+9644+1449', 'properties': {'count': 5, 'file_name': 'tile_43875891_34205744_43876005_34206196', 'label': 1928000289}}, {'type': 'Feature', 'geometry': {'geodesic': False, 'type': 'Polygon', 'coordinates': [[[43.87589694787868, 34.20574410600954], [43.875902933515114, 34.205293262157824], [43.876011460637486, 34.20529425671861], [43.87600547557597, 34.20574510058829], [43.87589694787868, 34.20574410600954]]]}, 'id': '+9644+1454', 'properties': {'count': 5, 'file_name': 'tile_43875897_34205293_43876011_34205745', 'label': 1928000290}}, {'type': 'Feature', 'geometry': {'geodesic': False, 'type': 'Polygon', 'coordinates': [[[43.875902933515114, 34.205293262157824], [43.8759089190168, 34.20484241827916], [43.87601744556425, 34.20484341282198], [43.876011460637486, 34.20529425671861], [43.875902933515114, 34.205293262157824]]]}, 'id': '+9644+1459', 'properties': {'count': 5, 'file_name': 'tile_43875903_34204842_43876017_34205294', 'label': 1928000291}}, {'type': 'Feature', 'geometry': {'geodesic': False, 'type': 'Polygon', 'coordinates': [[[43.8759089190168, 34.20484241827916], [43.87591490439272, 34.204391574364564], [43.87602343035627, 34.20439256888942], [43.87601744556425, 34.20484341282198], [43.8759089190168, 34.20484241827916]]]}, 'id': '+9644+1464', 'properties': {'count': 5, 'file_name': 'tile_43875909_34204392_43876023_34204843', 'label': 1928000292}}, {'type': 'Feature', 'geometry': {'geodesic': False, 'type': 'Polygon', 'coordinates': [[[43.87591490439272, 34.204391574364564], [43.875920889624915, 34.20394073041404], [43.87602941501354, 34.203941724929905], [43.87602343035627, 34.20439256888942], [43.87591490439272, 34.204391574364564]]]}, 'id': '+9644+1469', 'properties': {'count': 5, 'file_name': 'tile_43875915_34203941_43876029_34204393', 'label': 1928000293}}, {'type': 'Feature', 'geometry': {'geodesic': False, 'type': 'Polygon', 'coordinates': [[[43.875920889624915, 34.20394073041404], [43.87592687473135, 34.203489886427576], [43.876035399536065, 34.20349088092548], [43.87602941501354, 34.203941724929905], [43.875920889624915, 34.20394073041404]]]}, 'id': '+9644+1474', 'properties': {'count': 5, 'file_name': 'tile_43875921_34203490_43876035_34203942', 'label': 1928000294}}, {'type': 'Feature', 'geometry': {'geodesic': False, 'type': 'Polygon', 'coordinates': [[[43.87582313837828, 34.20312821664528], [43.875824335473226, 34.20303804783542], [43.87604138393283, 34.2030400368941], [43.876035399536065, 34.20349088092548], [43.87592687473135, 34.203489886427576], [43.87593166271588, 34.20312921122404], [43.87582313837828, 34.20312821664528]]]}, 'id': '+9644+1479', 'properties': {'count': 6, 'file_name': 'tile_43875823_34203038_43876041_34203491', 'label': 1928000295}}, {'type': 'Feature', 'geometry': {'geodesic': False, 'type': 'Polygon', 'coordinates': [[[43.875824335473226, 34.20303804783542], [43.87583032089407, 34.20258720380404], [43.87604736819484, 34.20258919282679], [43.87604138393283, 34.2030400368941], [43.875824335473226, 34.20303804783542]]]}, 'id': '+9644+1484', 'properties': {'count': 10, 'file_name': 'tile_43875824_34202587_43876047_34203040', 'label': 1928000296}}, {'type': 'Feature', 'geometry': {'geodesic': False, 'type': 'Polygon', 'coordinates': [[[43.87595998478219, 34.20917151283004], [43.87596357644433, 34.20890100666993], [43.87650623521476, 34.208905978719265], [43.87650264529536, 34.20917648492429], [43.87595998478219, 34.20917151283004]]]}, 'id': '+9649+1414', 'properties': {'count': 15, 'file_name': 'tile_43875960_34208901_43876506_34209176', 'label': 1929000282}}, {'type': 'Feature', 'geometry': {'geodesic': False, 'type': 'Polygon', 'coordinates': [[[43.87596357644433, 34.20890100666993], [43.8759695624311, 34.20845016305178], [43.87651221831795, 34.208455135011285], [43.87650623521476, 34.208905978719265], [43.87596357644433, 34.20890100666993]]]}, 'id': '+9649+1419', 'properties': {'count': 25, 'file_name': 'tile_43875964_34208450_43876512_34208906', 'label': 1929000283}}, {'type': 'Feature', 'geometry': {'geodesic': False, 'type': 'Polygon', 'coordinates': [[[43.8759695624311, 34.20845016305178], [43.87597554829212, 34.20799931938871], [43.87651820128639, 34.208004291267365], [43.87651221831795, 34.208455135011285], [43.8759695624311, 34.20845016305178]]]}, 'id': '+9649+1424', 'properties': {'count': 25, 'file_name': 'tile_43875970_34207999_43876518_34208455', 'label': 1929000284}}, {'type': 'Feature', 'geometry': {'geodesic': False, 'type': 'Polygon', 'coordinates': [[[43.87597554829212, 34.20799931938871], [43.8759815340094, 34.207548475698694], [43.87652418412008, 34.2075534474965], [43.87651820128639, 34.208004291267365], [43.87597554829212, 34.20799931938871]]]}, 'id': '+9649+1429', 'properties': {'count': 25, 'file_name': 'tile_43875976_34207548_43876524_34208004', 'label': 1929000285}}, {'type': 'Feature', 'geometry': {'geodesic': False, 'type': 'Polygon', 'coordinates': [[[43.8759815340094, 34.207548475698694], [43.87598751960092, 34.207097631972744], [43.876530166828005, 34.207102603680724], [43.87652418412008, 34.2075534474965], [43.8759815340094, 34.207548475698694]]]}, 'id': '+9649+1434', 'properties': {'count': 25, 'file_name': 'tile_43875982_34207098_43876530_34207553', 'label': 1929000286}}, {'type': 'Feature', 'geometry': {'geodesic': False, 'type': 'Polygon', 'coordinates': [[[43.87598751960092, 34.207097631972744], [43.87599350505769, 34.20664678821087], [43.8765361493922, 34.20665175983799], [43.876530166828005, 34.207102603680724], [43.87598751960092, 34.207097631972744]]]}, 'id': '+9649+1439', 'properties': {'count': 25, 'file_name': 'tile_43875988_34206647_43876536_34207103', 'label': 1929000287}}, {'type': 'Feature', 'geometry': {'geodesic': False, 'type': 'Polygon', 'coordinates': [[[43.87599350505769, 34.20664678821087], [43.8759994903887, 34.206195944413054], [43.87654213183064, 34.20620091595933], [43.8765361493922, 34.20665175983799], [43.87599350505769, 34.20664678821087]]]}, 'id': '+9649+1444', 'properties': {'count': 25, 'file_name': 'tile_43875994_34206196_43876542_34206652', 'label': 1929000288}}, {'type': 'Feature', 'geometry': {'geodesic': False, 'type': 'Polygon', 'coordinates': [[[43.8759994903887, 34.206195944413054], [43.87600547557597, 34.20574510058829], [43.87654811413432, 34.20575007204473], [43.87654213183064, 34.20620091595933], [43.8759994903887, 34.206195944413054]]]}, 'id': '+9649+1449', 'properties': {'count': 25, 'file_name': 'tile_43875999_34205745_43876548_34206201', 'label': 1929000289}}, {'type': 'Feature', 'geometry': {'geodesic': False, 'type': 'Polygon', 'coordinates': [[[43.87600547557597, 34.20574510058829], [43.876011460637486, 34.20529425671861], [43.87655409630326, 34.205299228094205], [43.87654811413432, 34.20575007204473], [43.87600547557597, 34.20574510058829]]]}, 'id': '+9649+1454', 'properties': {'count': 25, 'file_name': 'tile_43876005_34205294_43876554_34205750', 'label': 1929000290}}, {'type': 'Feature', 'geometry': {'geodesic': False, 'type': 'Polygon', 'coordinates': [[[43.876011460637486, 34.20529425671861], [43.87601744556425, 34.20484341282198], [43.87656007834644, 34.20484838411673], [43.87655409630326, 34.205299228094205], [43.876011460637486, 34.20529425671861]]]}, 'id': '+9649+1459', 'properties': {'count': 25, 'file_name': 'tile_43876011_34204843_43876560_34205299', 'label': 1929000291}}, {'type': 'Feature', 'geometry': {'geodesic': False, 'type': 'Polygon', 'coordinates': [[[43.87601744556425, 34.20484341282198], [43.87602343035627, 34.20439256888942], [43.87656606024588, 34.204397540103315], [43.87656007834644, 34.20484838411673], [43.87601744556425, 34.20484341282198]]]}, 'id': '+9649+1464', 'properties': {'count': 25, 'file_name': 'tile_43876017_34204393_43876566_34204848', 'label': 1929000292}}, {'type': 'Feature', 'geometry': {'geodesic': False, 'type': 'Polygon', 'coordinates': [[[43.87602343035627, 34.20439256888942], [43.87602941501354, 34.203941724929905], [43.87657204201955, 34.203946696053976], [43.87656606024588, 34.204397540103315], [43.87602343035627, 34.20439256888942]]]}, 'id': '+9649+1469', 'properties': {'count': 25, 'file_name': 'tile_43876023_34203942_43876572_34204398', 'label': 1929000293}}, {'type': 'Feature', 'geometry': {'geodesic': False, 'type': 'Polygon', 'coordinates': [[[43.87602941501354, 34.203941724929905], [43.876035399536065, 34.20349088092548], [43.87657802365849, 34.2034958519687], [43.87657204201955, 34.203946696053976], [43.87602941501354, 34.203941724929905]]]}, 'id': '+9649+1474', 'properties': {'count': 25, 'file_name': 'tile_43876029_34203491_43876578_34203947', 'label': 1929000294}}, {'type': 'Feature', 'geometry': {'geodesic': False, 'type': 'Polygon', 'coordinates': [[[43.876035399536065, 34.20349088092548], [43.87604138393283, 34.2030400368941], [43.87658400516267, 34.20304500784749], [43.87657802365849, 34.2034958519687], [43.876035399536065, 34.20349088092548]]]}, 'id': '+9649+1479', 'properties': {'count': 25, 'file_name': 'tile_43876035_34203040_43876584_34203496', 'label': 1929000295}}, {'type': 'Feature', 'geometry': {'geodesic': False, 'type': 'Polygon', 'coordinates': [[[43.87604138393283, 34.2030400368941], [43.87604736819484, 34.20258919282679], [43.87658998653211, 34.20259416369933], [43.87658400516267, 34.20304500784749], [43.87604138393283, 34.2030400368941]]]}, 'id': '+9649+1484', 'properties': {'count': 25, 'file_name': 'tile_43876041_34202589_43876590_34203045', 'label': 1929000296}}, {'type': 'Feature', 'geometry': {'geodesic': False, 'type': 'Polygon', 'coordinates': [[[43.87650264529536, 34.20917648492429], [43.87650623521476, 34.208905978719265], [43.87704889412894, 34.208910948361115], [43.877045305934296, 34.20918145462004], [43.87650264529536, 34.20917648492429]]]}, 'id': '+9654+1414', 'properties': {'count': 15, 'file_name': 'tile_43876503_34208906_43877049_34209181', 'label': 1930000282}}, {'type': 'Feature', 'geometry': {'geodesic': False, 'type': 'Polygon', 'coordinates': [[[43.87650623521476, 34.208905978719265], [43.87651221831795, 34.208455135011285], [43.87705487433955, 34.20846010457228], [43.87704889412894, 34.208910948361115], [43.87650623521476, 34.208905978719265]]]}, 'id': '+9654+1419', 'properties': {'count': 25, 'file_name': 'tile_43876506_34208455_43877055_34208911', 'label': 1930000283}}, {'type': 'Feature', 'geometry': {'geodesic': False, 'type': 'Polygon', 'coordinates': [[[43.87651221831795, 34.208455135011285], [43.87651820128639, 34.208004291267365], [43.87706085441541, 34.20800926074752], [43.87705487433955, 34.20846010457228], [43.87651221831795, 34.208455135011285]]]}, 'id': '+9654+1424', 'properties': {'count': 25, 'file_name': 'tile_43876512_34208004_43877061_34208460', 'label': 1930000284}}, {'type': 'Feature', 'geometry': {'geodesic': False, 'type': 'Polygon', 'coordinates': [[[43.87651820128639, 34.208004291267365], [43.87652418412008, 34.2075534474965], [43.87706683436551, 34.20755841688682], [43.87706085441541, 34.20800926074752], [43.87651820128639, 34.208004291267365]]]}, 'id': '+9654+1429', 'properties': {'count': 25, 'file_name': 'tile_43876518_34207553_43877067_34208009', 'label': 1930000285}}, {'type': 'Feature', 'geometry': {'geodesic': False, 'type': 'Polygon', 'coordinates': [[[43.87652418412008, 34.2075534474965], [43.876530166828005, 34.207102603680724], [43.87707281418086, 34.20710757299019], [43.87706683436551, 34.20755841688682], [43.87652418412008, 34.2075534474965]]]}, 'id': '+9654+1434', 'properties': {'count': 25, 'file_name': 'tile_43876524_34207103_43877073_34207558', 'label': 1930000286}}, {'type': 'Feature', 'geometry': {'geodesic': False, 'type': 'Polygon', 'coordinates': [[[43.876530166828005, 34.207102603680724], [43.8765361493922, 34.20665175983799], [43.877078793861465, 34.206656729066616], [43.87707281418086, 34.20710757299019], [43.876530166828005, 34.207102603680724]]]}, 'id': '+9654+1439', 'properties': {'count': 25, 'file_name': 'tile_43876530_34206652_43877079_34207108', 'label': 1930000287}}, {'type': 'Feature', 'geometry': {'geodesic': False, 'type': 'Polygon', 'coordinates': [[[43.8765361493922, 34.20665175983799], [43.87654213183064, 34.20620091595933], [43.877084773407326, 34.20620588509812], [43.877078793861465, 34.206656729066616], [43.8765361493922, 34.20665175983799]]]}, 'id': '+9654+1444', 'properties': {'count': 25, 'file_name': 'tile_43876536_34206201_43877085_34206657', 'label': 1930000288}}, {'type': 'Feature', 'geometry': {'geodesic': False, 'type': 'Polygon', 'coordinates': [[[43.87654213183064, 34.20620091595933], [43.87654811413432, 34.20575007204473], [43.877090752827414, 34.20575504110268], [43.877084773407326, 34.20620588509812], [43.87654213183064, 34.20620091595933]]]}, 'id': '+9654+1449', 'properties': {'count': 25, 'file_name': 'tile_43876542_34205750_43877091_34206206', 'label': 1930000289}}, {'type': 'Feature', 'geometry': {'geodesic': False, 'type': 'Polygon', 'coordinates': [[[43.87654811413432, 34.20575007204473], [43.87655409630326, 34.205299228094205], [43.87709673210378, 34.2053041970713], [43.877090752827414, 34.20575504110268], [43.87654811413432, 34.20575007204473]]]}, 'id': '+9654+1454', 'properties': {'count': 25, 'file_name': 'tile_43876548_34205299_43877097_34205755', 'label': 1930000290}}, {'type': 'Feature', 'geometry': {'geodesic': False, 'type': 'Polygon', 'coordinates': [[[43.87655409630326, 34.205299228094205], [43.87656007834644, 34.20484838411673], [43.87710271125438, 34.20485335301297], [43.87709673210378, 34.2053041970713], [43.87655409630326, 34.205299228094205]]]}, 'id': '+9654+1459', 'properties': {'count': 25, 'file_name': 'tile_43876554_34204848_43877103_34205304', 'label': 1930000291}}, {'type': 'Feature', 'geometry': {'geodesic': False, 'type': 'Polygon', 'coordinates': [[[43.87656007834644, 34.20484838411673], [43.87656606024588, 34.204397540103315], [43.87710869027023, 34.20440250890973], [43.87710271125438, 34.20485335301297], [43.87656007834644, 34.20484838411673]]]}, 'id': '+9654+1464', 'properties': {'count': 25, 'file_name': 'tile_43876560_34204398_43877109_34204853', 'label': 1930000292}}, {'type': 'Feature', 'geometry': {'geodesic': False, 'type': 'Polygon', 'coordinates': [[[43.87656606024588, 34.204397540103315], [43.87657204201955, 34.203946696053976], [43.877114669160314, 34.20395166477954], [43.87710869027023, 34.20440250890973], [43.87656606024588, 34.204397540103315]]]}, 'id': '+9654+1469', 'properties': {'count': 25, 'file_name': 'tile_43876566_34203947_43877115_34204403', 'label': 1930000293}}, {'type': 'Feature', 'geometry': {'geodesic': False, 'type': 'Polygon', 'coordinates': [[[43.87657204201955, 34.203946696053976], [43.87657802365849, 34.2034958519687], [43.87712064790667, 34.20350082061342], [43.877114669160314, 34.20395166477954], [43.87657204201955, 34.203946696053976]]]}, 'id': '+9654+1474', 'properties': {'count': 25, 'file_name': 'tile_43876572_34203496_43877121_34203952', 'label': 1930000294}}, {'type': 'Feature', 'geometry': {'geodesic': False, 'type': 'Polygon', 'coordinates': [[[43.87657802365849, 34.2034958519687], [43.87658400516267, 34.20304500784749], [43.877126626527264, 34.203049976411364], [43.87712064790667, 34.20350082061342], [43.87657802365849, 34.2034958519687]]]}, 'id': '+9654+1479', 'properties': {'count': 25, 'file_name': 'tile_43876578_34203045_43877127_34203501', 'label': 1930000295}}, {'type': 'Feature', 'geometry': {'geodesic': False, 'type': 'Polygon', 'coordinates': [[[43.87658400516267, 34.20304500784749], [43.87658998653211, 34.20259416369933], [43.87713260501311, 34.202599132173376], [43.877126626527264, 34.203049976411364], [43.87658400516267, 34.20304500784749]]]}, 'id': '+9654+1484', 'properties': {'count': 25, 'file_name': 'tile_43876584_34202594_43877133_34203050', 'label': 1930000296}}, {'type': 'Feature', 'geometry': {'geodesic': False, 'type': 'Polygon', 'coordinates': [[[43.877045305934296, 34.20918145462004], [43.87704889412894, 34.208910948361115], [43.87759155316887, 34.208915915613446], [43.877587966707985, 34.20918642191729], [43.877045305934296, 34.20918145462004]]]}, 'id': '+9659+1414', 'properties': {'count': 15, 'file_name': 'tile_43877045_34208911_43877592_34209186', 'label': 1931000282}}, {'type': 'Feature', 'geometry': {'geodesic': False, 'type': 'Polygon', 'coordinates': [[[43.87704889412894, 34.208910948361115], [43.87705487433955, 34.20846010457228], [43.87759753049589, 34.20846507173478], [43.87759155316887, 34.208915915613446], [43.87704889412894, 34.208910948361115]]]}, 'id': '+9659+1419', 'properties': {'count': 25, 'file_name': 'tile_43877049_34208460_43877598_34208916', 'label': 1931000283}}, {'type': 'Feature', 'geometry': {'geodesic': False, 'type': 'Polygon', 'coordinates': [[[43.87705487433955, 34.20846010457228], [43.87706085441541, 34.20800926074752], [43.877603507679176, 34.20801422782917], [43.87759753049589, 34.20846507173478], [43.87705487433955, 34.20846010457228]]]}, 'id': '+9659+1424', 'properties': {'count': 25, 'file_name': 'tile_43877055_34208009_43877604_34208465', 'label': 1931000284}}, {'type': 'Feature', 'geometry': {'geodesic': False, 'type': 'Polygon', 'coordinates': [[[43.87706085441541, 34.20800926074752], [43.87706683436551, 34.20755841688682], [43.87760948474568, 34.20756338387864], [43.877603507679176, 34.20801422782917], [43.87706085441541, 34.20800926074752]]]}, 'id': '+9659+1429', 'properties': {'count': 25, 'file_name': 'tile_43877061_34207558_43877609_34208014', 'label': 1931000285}}, {'type': 'Feature', 'geometry': {'geodesic': False, 'type': 'Polygon', 'coordinates': [[[43.87706683436551, 34.20755841688682], [43.87707281418086, 34.20710757299019], [43.87761546166846, 34.20711253990116], [43.87760948474568, 34.20756338387864], [43.87706683436551, 34.20755841688682]]]}, 'id': '+9659+1434', 'properties': {'count': 25, 'file_name': 'tile_43877067_34207108_43877615_34207563', 'label': 1931000286}}, {'type': 'Feature', 'geometry': {'geodesic': False, 'type': 'Polygon', 'coordinates': [[[43.87707281418086, 34.20710757299019], [43.877078793861465, 34.206656729066616], [43.877621438456494, 34.206661695896734], [43.87761546166846, 34.20711253990116], [43.87707281418086, 34.20710757299019]]]}, 'id': '+9659+1439', 'properties': {'count': 25, 'file_name': 'tile_43877073_34206657_43877621_34207113', 'label': 1931000287}}, {'type': 'Feature', 'geometry': {'geodesic': False, 'type': 'Polygon', 'coordinates': [[[43.877078793861465, 34.206656729066616], [43.877084773407326, 34.20620588509812], [43.87762741511876, 34.206210851847395], [43.877621438456494, 34.206661695896734], [43.877078793861465, 34.206656729066616]]]}, 'id': '+9659+1444', 'properties': {'count': 25, 'file_name': 'tile_43877079_34206206_43877627_34206662', 'label': 1931000288}}, {'type': 'Feature', 'geometry': {'geodesic': False, 'type': 'Polygon', 'coordinates': [[[43.877084773407326, 34.20620588509812], [43.877090752827414, 34.20575504110268], [43.87763339164628, 34.205760007762116], [43.87762741511876, 34.206210851847395], [43.877084773407326, 34.20620588509812]]]}, 'id': '+9659+1449', 'properties': {'count': 25, 'file_name': 'tile_43877085_34205755_43877633_34206211', 'label': 1931000289}}, {'type': 'Feature', 'geometry': {'geodesic': False, 'type': 'Polygon', 'coordinates': [[[43.877090752827414, 34.20575504110268], [43.87709673210378, 34.2053041970713], [43.87763936803905, 34.20530916364989], [43.87763339164628, 34.205760007762116], [43.877090752827414, 34.20575504110268]]]}, 'id': '+9659+1454', 'properties': {'count': 25, 'file_name': 'tile_43877091_34205304_43877639_34205760', 'label': 1931000290}}, {'type': 'Feature', 'geometry': {'geodesic': False, 'type': 'Polygon', 'coordinates': [[[43.87709673210378, 34.2053041970713], [43.87710271125438, 34.20485335301297], [43.87764534430605, 34.20485831950174], [43.87763936803905, 34.20530916364989], [43.87709673210378, 34.2053041970713]]]}, 'id': '+9659+1459', 'properties': {'count': 25, 'file_name': 'tile_43877097_34204853_43877645_34205309', 'label': 1931000291}}, {'type': 'Feature', 'geometry': {'geodesic': False, 'type': 'Polygon', 'coordinates': [[[43.87710271125438, 34.20485335301297], [43.87710869027023, 34.20440250890973], [43.87765132042933, 34.204407475317645], [43.87764534430605, 34.20485831950174], [43.87710271125438, 34.20485335301297]]]}, 'id': '+9659+1464', 'properties': {'count': 25, 'file_name': 'tile_43877103_34204403_43877651_34204858', 'label': 1931000292}}, {'type': 'Feature', 'geometry': {'geodesic': False, 'type': 'Polygon', 'coordinates': [[[43.87710869027023, 34.20440250890973], [43.877114669160314, 34.20395166477954], [43.87765729642684, 34.20395663110661], [43.87765132042933, 34.204407475317645], [43.87710869027023, 34.20440250890973]]]}, 'id': '+9659+1469', 'properties': {'count': 25, 'file_name': 'tile_43877109_34203952_43877657_34204407', 'label': 1931000293}}, {'type': 'Feature', 'geometry': {'geodesic': False, 'type': 'Polygon', 'coordinates': [[[43.877114669160314, 34.20395166477954], [43.87712064790667, 34.20350082061342], [43.8776632722896, 34.20350578685065], [43.87765729642684, 34.20395663110661], [43.877114669160314, 34.20395166477954]]]}, 'id': '+9659+1474', 'properties': {'count': 25, 'file_name': 'tile_43877115_34203501_43877663_34203957', 'label': 1931000294}}, {'type': 'Feature', 'geometry': {'geodesic': False, 'type': 'Polygon', 'coordinates': [[[43.87712064790667, 34.20350082061342], [43.877126626527264, 34.203049976411364], [43.877669248026606, 34.203054942567746], [43.8776632722896, 34.20350578685065], [43.87712064790667, 34.20350082061342]]]}, 'id': '+9659+1479', 'properties': {'count': 25, 'file_name': 'tile_43877121_34203050_43877669_34203506', 'label': 1931000295}}, {'type': 'Feature', 'geometry': {'geodesic': False, 'type': 'Polygon', 'coordinates': [[[43.877126626527264, 34.203049976411364], [43.87713260501311, 34.202599132173376], [43.877675223619875, 34.20260409824891], [43.877669248026606, 34.203054942567746], [43.877126626527264, 34.203049976411364]]]}, 'id': '+9659+1484', 'properties': {'count': 25, 'file_name': 'tile_43877127_34202599_43877675_34203055', 'label': 1931000296}}, {'type': 'Feature', 'geometry': {'geodesic': False, 'type': 'Polygon', 'coordinates': [[[43.877587966707985, 34.20918642191729], [43.87759155316887, 34.208915915613446], [43.878134212343554, 34.20892088045829], [43.878130627616414, 34.20919138681603], [43.877587966707985, 34.20918642191729]]]}, 'id': '+9664+1414', 'properties': {'count': 15, 'file_name': 'tile_43877588_34208916_43878134_34209191', 'label': 1932000282}}, {'type': 'Feature', 'geometry': {'geodesic': False, 'type': 'Polygon', 'coordinates': [[[43.87759155316887, 34.208915915613446], [43.87759753049589, 34.20846507173478], [43.878140186778, 34.208470036498774], [43.878134212343554, 34.20892088045829], [43.87759155316887, 34.208915915613446]]]}, 'id': '+9664+1419', 'properties': {'count': 25, 'file_name': 'tile_43877592_34208465_43878140_34208921', 'label': 1932000283}}, {'type': 'Feature', 'geometry': {'geodesic': False, 'type': 'Polygon', 'coordinates': [[[43.87759753049589, 34.20846507173478], [43.877603507679176, 34.20801422782917], [43.878146161077694, 34.208019192503336], [43.878140186778, 34.208470036498774], [43.87759753049589, 34.20846507173478]]]}, 'id': '+9664+1424', 'properties': {'count': 25, 'file_name': 'tile_43877598_34208014_43878146_34208470', 'label': 1932000284}}, {'type': 'Feature', 'geometry': {'geodesic': False, 'type': 'Polygon', 'coordinates': [[[43.877603507679176, 34.20801422782917], [43.87760948474568, 34.20756338387864], [43.878152135251625, 34.20756834848094], [43.878146161077694, 34.208019192503336], [43.877603507679176, 34.20801422782917]]]}, 'id': '+9664+1429', 'properties': {'count': 25, 'file_name': 'tile_43877604_34207563_43878152_34208019', 'label': 1932000285}}, {'type': 'Feature', 'geometry': {'geodesic': False, 'type': 'Polygon', 'coordinates': [[[43.87760948474568, 34.20756338387864], [43.87761546166846, 34.20711253990116], [43.87815810929081, 34.20711750441363], [43.878152135251625, 34.20756834848094], [43.87760948474568, 34.20756338387864]]]}, 'id': '+9664+1434', 'properties': {'count': 25, 'file_name': 'tile_43877609_34207113_43878158_34207568', 'label': 1932000286}}, {'type': 'Feature', 'geometry': {'geodesic': False, 'type': 'Polygon', 'coordinates': [[[43.87761546166846, 34.20711253990116], [43.877621438456494, 34.206661695896734], [43.87816408319525, 34.20666666031937], [43.87815810929081, 34.20711750441363], [43.87761546166846, 34.20711253990116]]]}, 'id': '+9664+1439', 'properties': {'count': 25, 'file_name': 'tile_43877615_34206662_43878164_34207118', 'label': 1932000287}}, {'type': 'Feature', 'geometry': {'geodesic': False, 'type': 'Polygon', 'coordinates': [[[43.877621438456494, 34.206661695896734], [43.87762741511876, 34.206210851847395], [43.87817005696494, 34.20621581618918], [43.87816408319525, 34.20666666031937], [43.877621438456494, 34.206661695896734]]]}, 'id': '+9664+1444', 'properties': {'count': 25, 'file_name': 'tile_43877621_34206211_43878170_34206667', 'label': 1932000288}}, {'type': 'Feature', 'geometry': {'geodesic': False, 'type': 'Polygon', 'coordinates': [[[43.87762741511876, 34.206210851847395], [43.87763339164628, 34.205760007762116], [43.87817603059988, 34.205764972023054], [43.87817005696494, 34.20621581618918], [43.87762741511876, 34.206210851847395]]]}, 'id': '+9664+1449', 'properties': {'count': 25, 'file_name': 'tile_43877627_34205760_43878176_34206216', 'label': 1932000289}}, {'type': 'Feature', 'geometry': {'geodesic': False, 'type': 'Polygon', 'coordinates': [[[43.87763339164628, 34.205760007762116], [43.87763936803905, 34.20530916364989], [43.87818200410906, 34.205314127829986], [43.87817603059988, 34.205764972023054], [43.87763339164628, 34.205760007762116]]]}, 'id': '+9664+1454', 'properties': {'count': 25, 'file_name': 'tile_43877633_34205309_43878182_34205765', 'label': 1932000290}}, {'type': 'Feature', 'geometry': {'geodesic': False, 'type': 'Polygon', 'coordinates': [[[43.87763936803905, 34.20530916364989], [43.87764534430605, 34.20485831950174], [43.87818797748349, 34.20486328360098], [43.87818200410906, 34.205314127829986], [43.87763936803905, 34.20530916364989]]]}, 'id': '+9664+1459', 'properties': {'count': 25, 'file_name': 'tile_43877639_34204858_43878188_34205314', 'label': 1932000291}}, {'type': 'Feature', 'geometry': {'geodesic': False, 'type': 'Polygon', 'coordinates': [[[43.87764534430605, 34.20485831950174], [43.87765132042933, 34.204407475317645], [43.87819395072317, 34.20441243933604], [43.87818797748349, 34.20486328360098], [43.87764534430605, 34.20485831950174]]]}, 'id': '+9664+1464', 'properties': {'count': 25, 'file_name': 'tile_43877645_34204407_43878194_34204863', 'label': 1932000292}}, {'type': 'Feature', 'geometry': {'geodesic': False, 'type': 'Polygon', 'coordinates': [[[43.87765132042933, 34.204407475317645], [43.87765729642684, 34.20395663110661], [43.878199923837094, 34.20396159503517], [43.87819395072317, 34.20441243933604], [43.87765132042933, 34.204407475317645]]]}, 'id': '+9664+1469', 'properties': {'count': 25, 'file_name': 'tile_43877651_34203957_43878200_34204412', 'label': 1932000293}}, {'type': 'Feature', 'geometry': {'geodesic': False, 'type': 'Polygon', 'coordinates': [[[43.87765729642684, 34.20395663110661], [43.8776632722896, 34.20350578685065], [43.87820589680728, 34.20351075069836], [43.878199923837094, 34.20396159503517], [43.87765729642684, 34.20395663110661]]]}, 'id': '+9664+1474', 'properties': {'count': 25, 'file_name': 'tile_43877657_34203506_43878206_34203962', 'label': 1932000294}}, {'type': 'Feature', 'geometry': {'geodesic': False, 'type': 'Polygon', 'coordinates': [[[43.8776632722896, 34.20350578685065], [43.877669248026606, 34.203054942567746], [43.87821186965171, 34.20305990632563], [43.87820589680728, 34.20351075069836], [43.8776632722896, 34.20350578685065]]]}, 'id': '+9664+1479', 'properties': {'count': 25, 'file_name': 'tile_43877663_34203055_43878212_34203511', 'label': 1932000295}}, {'type': 'Feature', 'geometry': {'geodesic': False, 'type': 'Polygon', 'coordinates': [[[43.877669248026606, 34.203054942567746], [43.877675223619875, 34.20260409824891], [43.87821784236139, 34.20260906192595], [43.87821186965171, 34.20305990632563], [43.877669248026606, 34.203054942567746]]]}, 'id': '+9664+1484', 'properties': {'count': 25, 'file_name': 'tile_43877669_34202604_43878218_34203060', 'label': 1932000296}}, {'type': 'Feature', 'geometry': {'geodesic': False, 'type': 'Polygon', 'coordinates': [[[43.878130627616414, 34.20919138681603], [43.878134212343554, 34.20892088045829], [43.878676871644004, 34.208925842904634], [43.87867328865959, 34.209196349307284], [43.878130627616414, 34.20919138681603]]]}, 'id': '+9669+1414', 'properties': {'count': 15, 'file_name': 'tile_43878131_34208921_43878677_34209196', 'label': 1933000282}}, {'type': 'Feature', 'geometry': {'geodesic': False, 'type': 'Polygon', 'coordinates': [[[43.878134212343554, 34.20892088045829], [43.878140186778, 34.208470036498774], [43.87868284319485, 34.20847499886427], [43.878676871644004, 34.208925842904634], [43.878134212343554, 34.20892088045829]]]}, 'id': '+9669+1419', 'properties': {'count': 25, 'file_name': 'tile_43878134_34208470_43878683_34208926', 'label': 1933000283}}, {'type': 'Feature', 'geometry': {'geodesic': False, 'type': 'Polygon', 'coordinates': [[[43.878140186778, 34.208470036498774], [43.878146161077694, 34.208019192503336], [43.87868881461096, 34.208024154779], [43.87868284319485, 34.20847499886427], [43.878140186778, 34.208470036498774]]]}, 'id': '+9669+1424', 'properties': {'count': 25, 'file_name': 'tile_43878140_34208019_43878689_34208475', 'label': 1933000284}}, {'type': 'Feature', 'geometry': {'geodesic': False, 'type': 'Polygon', 'coordinates': [[[43.878146161077694, 34.208019192503336], [43.878152135251625, 34.20756834848094], [43.878694785892314, 34.207573310675755], [43.87868881461096, 34.208024154779], [43.878146161077694, 34.208019192503336]]]}, 'id': '+9669+1429', 'properties': {'count': 25, 'file_name': 'tile_43878146_34207568_43878695_34208024', 'label': 1933000285}}, {'type': 'Feature', 'geometry': {'geodesic': False, 'type': 'Polygon', 'coordinates': [[[43.878152135251625, 34.20756834848094], [43.87815810929081, 34.20711750441363], [43.87870075703892, 34.2071224665276], [43.878694785892314, 34.207573310675755], [43.878152135251625, 34.20756834848094]]]}, 'id': '+9669+1434', 'properties': {'count': 25, 'file_name': 'tile_43878152_34207118_43878701_34207573', 'label': 1933000286}}, {'type': 'Feature', 'geometry': {'geodesic': False, 'type': 'Polygon', 'coordinates': [[[43.87815810929081, 34.20711750441363], [43.87816408319525, 34.20666666031937], [43.87870672805977, 34.20667162235249], [43.87870075703892, 34.2071224665276], [43.87815810929081, 34.20711750441363]]]}, 'id': '+9669+1439', 'properties': {'count': 25, 'file_name': 'tile_43878158_34206667_43878707_34207122', 'label': 1933000287}}, {'type': 'Feature', 'geometry': {'geodesic': False, 'type': 'Polygon', 'coordinates': [[[43.87816408319525, 34.20666666031937], [43.87817005696494, 34.20621581618918], [43.87871269894587, 34.20622077813247], [43.87870672805977, 34.20667162235249], [43.87816408319525, 34.20666666031937]]]}, 'id': '+9669+1444', 'properties': {'count': 25, 'file_name': 'tile_43878164_34206216_43878713_34206672', 'label': 1933000288}}, {'type': 'Feature', 'geometry': {'geodesic': False, 'type': 'Polygon', 'coordinates': [[[43.87817005696494, 34.20621581618918], [43.87817603059988, 34.205764972023054], [43.878718669697214, 34.2057699338855], [43.87871269894587, 34.20622077813247], [43.87817005696494, 34.20621581618918]]]}, 'id': '+9669+1449', 'properties': {'count': 25, 'file_name': 'tile_43878170_34205765_43878719_34206221', 'label': 1933000289}}, {'type': 'Feature', 'geometry': {'geodesic': False, 'type': 'Polygon', 'coordinates': [[[43.87817603059988, 34.205764972023054], [43.87818200410906, 34.205314127829986], [43.87872464031382, 34.20531908961158], [43.878718669697214, 34.2057699338855], [43.87817603059988, 34.205764972023054]]]}, 'id': '+9669+1454', 'properties': {'count': 25, 'file_name': 'tile_43878176_34205314_43878725_34205770', 'label': 1933000290}}, {'type': 'Feature', 'geometry': {'geodesic': False, 'type': 'Polygon', 'coordinates': [[[43.87818200410906, 34.205314127829986], [43.87818797748349, 34.20486328360098], [43.87873061079568, 34.20486824529274], [43.87872464031382, 34.20531908961158], [43.87818200410906, 34.205314127829986]]]}, 'id': '+9669+1459', 'properties': {'count': 25, 'file_name': 'tile_43878182_34204863_43878731_34205319', 'label': 1933000291}}, {'type': 'Feature', 'geometry': {'geodesic': False, 'type': 'Polygon', 'coordinates': [[[43.87818797748349, 34.20486328360098], [43.87819395072317, 34.20441243933604], [43.87873658115177, 34.20441740093797], [43.87873061079568, 34.20486824529274], [43.87818797748349, 34.20486328360098]]]}, 'id': '+9669+1464', 'properties': {'count': 25, 'file_name': 'tile_43878188_34204412_43878737_34204868', 'label': 1933000292}}, {'type': 'Feature', 'geometry': {'geodesic': False, 'type': 'Polygon', 'coordinates': [[[43.87819395072317, 34.20441243933604], [43.878199923837094, 34.20396159503517], [43.878742551373115, 34.203966556556246], [43.87873658115177, 34.20441740093797], [43.87819395072317, 34.20441243933604]]]}, 'id': '+9669+1469', 'properties': {'count': 25, 'file_name': 'tile_43878194_34203962_43878743_34204417', 'label': 1933000293}}, {'type': 'Feature', 'geometry': {'geodesic': False, 'type': 'Polygon', 'coordinates': [[[43.878199923837094, 34.20396159503517], [43.87820589680728, 34.20351075069836], [43.87874852145971, 34.203515712138596], [43.878742551373115, 34.203966556556246], [43.878199923837094, 34.20396159503517]]]}, 'id': '+9669+1474', 'properties': {'count': 25, 'file_name': 'tile_43878200_34203511_43878749_34203967', 'label': 1933000294}}, {'type': 'Feature', 'geometry': {'geodesic': False, 'type': 'Polygon', 'coordinates': [[[43.87820589680728, 34.20351075069836], [43.87821186965171, 34.20305990632563], [43.87875449141156, 34.203064867685015], [43.87874852145971, 34.203515712138596], [43.87820589680728, 34.20351075069836]]]}, 'id': '+9669+1479', 'properties': {'count': 25, 'file_name': 'tile_43878206_34203060_43878754_34203516', 'label': 1933000295}}, {'type': 'Feature', 'geometry': {'geodesic': False, 'type': 'Polygon', 'coordinates': [[[43.87821186965171, 34.20305990632563], [43.87821784236139, 34.20260906192595], [43.87876046123765, 34.202614023204475], [43.87875449141156, 34.203064867685015], [43.87821186965171, 34.20305990632563]]]}, 'id': '+9669+1484', 'properties': {'count': 25, 'file_name': 'tile_43878212_34202609_43878760_34203065', 'label': 1933000296}}, {'type': 'Feature', 'geometry': {'geodesic': False, 'type': 'Polygon', 'coordinates': [[[43.87867328865959, 34.209196349307284], [43.878676871644004, 34.208925842904634], [43.87921953108818, 34.20893080294349], [43.879215949828534, 34.209201309409025], [43.87867328865959, 34.209196349307284]]]}, 'id': '+9674+1414', 'properties': {'count': 15, 'file_name': 'tile_43878673_34208926_43879220_34209201', 'label': 1934000282}}, {'type': 'Feature', 'geometry': {'geodesic': False, 'type': 'Polygon', 'coordinates': [[[43.878676871644004, 34.208925842904634], [43.87868284319485, 34.20847499886427], [43.879225499746454, 34.20847995882228], [43.87921953108818, 34.20893080294349], [43.878676871644004, 34.208925842904634]]]}, 'id': '+9674+1419', 'properties': {'count': 25, 'file_name': 'tile_43878677_34208475_43879225_34208931', 'label': 1934000283}}, {'type': 'Feature', 'geometry': {'geodesic': False, 'type': 'Polygon', 'coordinates': [[[43.87868284319485, 34.20847499886427], [43.87868881461096, 34.208024154779], [43.879231468269985, 34.20802911466514], [43.879225499746454, 34.20847995882228], [43.87868284319485, 34.20847499886427]]]}, 'id': '+9674+1424', 'properties': {'count': 25, 'file_name': 'tile_43878683_34208024_43879231_34208480', 'label': 1934000284}}, {'type': 'Feature', 'geometry': {'geodesic': False, 'type': 'Polygon', 'coordinates': [[[43.87868881461096, 34.208024154779], [43.878694785892314, 34.207573310675755], [43.87923743666775, 34.20757827047207], [43.879231468269985, 34.20802911466514], [43.87868881461096, 34.208024154779]]]}, 'id': '+9674+1429', 'properties': {'count': 25, 'file_name': 'tile_43878689_34207573_43879237_34208029', 'label': 1934000285}}, {'type': 'Feature', 'geometry': {'geodesic': False, 'type': 'Polygon', 'coordinates': [[[43.878694785892314, 34.207573310675755], [43.87870075703892, 34.2071224665276], [43.87924340493077, 34.20712742624306], [43.87923743666775, 34.20757827047207], [43.878694785892314, 34.207573310675755]]]}, 'id': '+9674+1434', 'properties': {'count': 25, 'file_name': 'tile_43878695_34207122_43879243_34207578', 'label': 1934000286}}, {'type': 'Feature', 'geometry': {'geodesic': False, 'type': 'Polygon', 'coordinates': [[[43.87870075703892, 34.2071224665276], [43.87870672805977, 34.20667162235249], [43.87924937305904, 34.20667658197812], [43.87924340493077, 34.20712742624306], [43.87870075703892, 34.2071224665276]]]}, 'id': '+9674+1439', 'properties': {'count': 25, 'file_name': 'tile_43878701_34206672_43879249_34207127', 'label': 1934000287}}, {'type': 'Feature', 'geometry': {'geodesic': False, 'type': 'Polygon', 'coordinates': [[[43.87870672805977, 34.20667162235249], [43.87871269894587, 34.20622077813247], [43.879255341052556, 34.20622573767725], [43.87924937305904, 34.20667658197812], [43.87870672805977, 34.20667162235249]]]}, 'id': '+9674+1444', 'properties': {'count': 25, 'file_name': 'tile_43878707_34206221_43879255_34206677', 'label': 1934000288}}, {'type': 'Feature', 'geometry': {'geodesic': False, 'type': 'Polygon', 'coordinates': [[[43.87871269894587, 34.20622077813247], [43.878718669697214, 34.2057699338855], [43.87926130891133, 34.205774893349435], [43.879255341052556, 34.20622573767725], [43.87871269894587, 34.20622077813247]]]}, 'id': '+9674+1449', 'properties': {'count': 25, 'file_name': 'tile_43878713_34205770_43879261_34206226', 'label': 1934000289}}, {'type': 'Feature', 'geometry': {'geodesic': False, 'type': 'Polygon', 'coordinates': [[[43.878718669697214, 34.2057699338855], [43.87872464031382, 34.20531908961158], [43.87926727664435, 34.20532404898568], [43.87926130891133, 34.205774893349435], [43.878718669697214, 34.2057699338855]]]}, 'id': '+9674+1454', 'properties': {'count': 25, 'file_name': 'tile_43878719_34205319_43879267_34205775', 'label': 1934000290}}, {'type': 'Feature', 'geometry': {'geodesic': False, 'type': 'Polygon', 'coordinates': [[[43.87872464031382, 34.20531908961158], [43.87873061079568, 34.20486824529274], [43.87927324424261, 34.204873204585994], [43.87926727664435, 34.20532404898568], [43.87872464031382, 34.20531908961158]]]}, 'id': '+9674+1459', 'properties': {'count': 25, 'file_name': 'tile_43878725_34204868_43879273_34205324', 'label': 1934000291}}, {'type': 'Feature', 'geometry': {'geodesic': False, 'type': 'Polygon', 'coordinates': [[[43.87873061079568, 34.20486824529274], [43.87873658115177, 34.20441740093797], [43.87927921170613, 34.204422360150375], [43.87927324424261, 34.204873204585994], [43.87873061079568, 34.20486824529274]]]}, 'id': '+9674+1464', 'properties': {'count': 25, 'file_name': 'tile_43878731_34204417_43879279_34204873', 'label': 1934000292}}, {'type': 'Feature', 'geometry': {'geodesic': False, 'type': 'Polygon', 'coordinates': [[[43.87873658115177, 34.20441740093797], [43.878742551373115, 34.203966556556246], [43.879285179043876, 34.203971515687805], [43.87927921170613, 34.204422360150375], [43.87873658115177, 34.20441740093797]]]}, 'id': '+9674+1469', 'properties': {'count': 25, 'file_name': 'tile_43878737_34203967_43879285_34204422', 'label': 1934000293}}, {'type': 'Feature', 'geometry': {'geodesic': False, 'type': 'Polygon', 'coordinates': [[[43.878742551373115, 34.203966556556246], [43.87874852145971, 34.203515712138596], [43.879291146237904, 34.20352067118931], [43.879285179043876, 34.203971515687805], [43.878742551373115, 34.203966556556246]]]}, 'id': '+9674+1474', 'properties': {'count': 25, 'file_name': 'tile_43878743_34203516_43879291_34203972', 'label': 1934000294}}, {'type': 'Feature', 'geometry': {'geodesic': False, 'type': 'Polygon', 'coordinates': [[[43.87874852145971, 34.203515712138596], [43.87875449141156, 34.203064867685015], [43.87929711330616, 34.203069826645894], [43.879291146237904, 34.20352067118931], [43.87874852145971, 34.203515712138596]]]}, 'id': '+9674+1479', 'properties': {'count': 25, 'file_name': 'tile_43878749_34203065_43879297_34203521', 'label': 1934000295}}, {'type': 'Feature', 'geometry': {'geodesic': False, 'type': 'Polygon', 'coordinates': [[[43.87875449141156, 34.203064867685015], [43.87876046123765, 34.202614023204475], [43.879303080239666, 34.20261898208451], [43.87929711330616, 34.203069826645894], [43.87875449141156, 34.203064867685015]]]}, 'id': '+9674+1484', 'properties': {'count': 25, 'file_name': 'tile_43878754_34202614_43879303_34203070', 'label': 1934000296}}, {'type': 'Feature', 'geometry': {'geodesic': False, 'type': 'Polygon', 'coordinates': [[[43.879215949828534, 34.209201309409025], [43.87921953108818, 34.20893080294349], [43.87976219065812, 34.20893576059283], [43.879758611132225, 34.20920626710328], [43.879215949828534, 34.209201309409025]]]}, 'id': '+9679+1414', 'properties': {'count': 15, 'file_name': 'tile_43879216_34208931_43879762_34209206', 'label': 1935000282}}, {'type': 'Feature', 'geometry': {'geodesic': False, 'type': 'Polygon', 'coordinates': [[[43.87921953108818, 34.20893080294349], [43.879225499746454, 34.20847995882228], [43.8797681564328, 34.20848491638179], [43.87976219065812, 34.20893576059283], [43.87921953108818, 34.20893080294349]]]}, 'id': '+9679+1419', 'properties': {'count': 25, 'file_name': 'tile_43879220_34208480_43879768_34208936', 'label': 1935000283}}, {'type': 'Feature', 'geometry': {'geodesic': False, 'type': 'Polygon', 'coordinates': [[[43.879225499746454, 34.20847995882228], [43.879231468269985, 34.20802911466514], [43.87977412206376, 34.2080340721438], [43.8797681564328, 34.20848491638179], [43.879225499746454, 34.20847995882228]]]}, 'id': '+9679+1424', 'properties': {'count': 25, 'file_name': 'tile_43879225_34208029_43879774_34208485', 'label': 1935000284}}, {'type': 'Feature', 'geometry': {'geodesic': False, 'type': 'Polygon', 'coordinates': [[[43.879231468269985, 34.20802911466514], [43.87923743666775, 34.20757827047207], [43.879780087568946, 34.207583227860894], [43.87977412206376, 34.2080340721438], [43.879231468269985, 34.20802911466514]]]}, 'id': '+9679+1429', 'properties': {'count': 25, 'file_name': 'tile_43879231_34207578_43879780_34208034', 'label': 1935000285}}, {'type': 'Feature', 'geometry': {'geodesic': False, 'type': 'Polygon', 'coordinates': [[[43.87923743666775, 34.20757827047207], [43.87924340493077, 34.20712742624306], [43.879786052948376, 34.20713238355104], [43.879780087568946, 34.207583227860894], [43.87923743666775, 34.20757827047207]]]}, 'id': '+9679+1434', 'properties': {'count': 25, 'file_name': 'tile_43879237_34207127_43879786_34207583', 'label': 1935000286}}, {'type': 'Feature', 'geometry': {'geodesic': False, 'type': 'Polygon', 'coordinates': [[[43.87924340493077, 34.20712742624306], [43.87924937305904, 34.20667658197812], [43.87979201818407, 34.206681539205256], [43.879786052948376, 34.20713238355104], [43.87924340493077, 34.20712742624306]]]}, 'id': '+9679+1439', 'properties': {'count': 25, 'file_name': 'tile_43879243_34206677_43879792_34207132', 'label': 1935000287}}, {'type': 'Feature', 'geometry': {'geodesic': False, 'type': 'Polygon', 'coordinates': [[[43.87924937305904, 34.20667658197812], [43.879255341052556, 34.20622573767725], [43.879797983294, 34.20623069482354], [43.87979201818407, 34.206681539205256], [43.87924937305904, 34.20667658197812]]]}, 'id': '+9679+1444', 'properties': {'count': 25, 'file_name': 'tile_43879249_34206226_43879798_34206682', 'label': 1935000288}}, {'type': 'Feature', 'geometry': {'geodesic': False, 'type': 'Polygon', 'coordinates': [[[43.879255341052556, 34.20622573767725], [43.87926130891133, 34.205774893349435], [43.879803948269185, 34.205779850414864], [43.879797983294, 34.20623069482354], [43.879255341052556, 34.20622573767725]]]}, 'id': '+9679+1449', 'properties': {'count': 25, 'file_name': 'tile_43879255_34205775_43879804_34206231', 'label': 1935000289}}, {'type': 'Feature', 'geometry': {'geodesic': False, 'type': 'Polygon', 'coordinates': [[[43.87926130891133, 34.205774893349435], [43.87926727664435, 34.20532404898568], [43.87980991310962, 34.20532900596128], [43.879803948269185, 34.205779850414864], [43.87926130891133, 34.205774893349435]]]}, 'id': '+9679+1454', 'properties': {'count': 25, 'file_name': 'tile_43879261_34205324_43879810_34205780', 'label': 1935000290}}, {'type': 'Feature', 'geometry': {'geodesic': False, 'type': 'Polygon', 'coordinates': [[[43.87926727664435, 34.20532404898568], [43.87927324424261, 34.204873204585994], [43.87981587782429, 34.20487816148075], [43.87980991310962, 34.20532900596128], [43.87926727664435, 34.20532404898568]]]}, 'id': '+9679+1459', 'properties': {'count': 25, 'file_name': 'tile_43879267_34204873_43879816_34205329', 'label': 1935000291}}, {'type': 'Feature', 'geometry': {'geodesic': False, 'type': 'Polygon', 'coordinates': [[[43.87927324424261, 34.204873204585994], [43.87927921170613, 34.204422360150375], [43.87982184239523, 34.204427316964285], [43.87981587782429, 34.20487816148075], [43.87927324424261, 34.204873204585994]]]}, 'id': '+9679+1464', 'properties': {'count': 25, 'file_name': 'tile_43879273_34204422_43879822_34204878', 'label': 1935000292}}, {'type': 'Feature', 'geometry': {'geodesic': False, 'type': 'Polygon', 'coordinates': [[[43.87927921170613, 34.204422360150375], [43.879285179043876, 34.203971515687805], [43.87982780684041, 34.20397647241188], [43.87982184239523, 34.204427316964285], [43.87927921170613, 34.204422360150375]]]}, 'id': '+9679+1469', 'properties': {'count': 25, 'file_name': 'tile_43879279_34203972_43879828_34204427', 'label': 1935000293}}, {'type': 'Feature', 'geometry': {'geodesic': False, 'type': 'Polygon', 'coordinates': [[[43.879285179043876, 34.203971515687805], [43.879291146237904, 34.20352067118931], [43.879833771159824, 34.20352562783253], [43.87982780684041, 34.20397647241188], [43.879285179043876, 34.203971515687805]]]}, 'id': '+9679+1474', 'properties': {'count': 25, 'file_name': 'tile_43879285_34203521_43879834_34203976', 'label': 1935000294}}, {'type': 'Feature', 'geometry': {'geodesic': False, 'type': 'Polygon', 'coordinates': [[[43.879291146237904, 34.20352067118931], [43.87929711330616, 34.203069826645894], [43.8798397353355, 34.20307478320827], [43.879833771159824, 34.20352562783253], [43.879291146237904, 34.20352067118931]]]}, 'id': '+9679+1479', 'properties': {'count': 25, 'file_name': 'tile_43879291_34203070_43879840_34203526', 'label': 1935000295}}, {'type': 'Feature', 'geometry': {'geodesic': False, 'type': 'Polygon', 'coordinates': [[[43.87929711330616, 34.203069826645894], [43.879303080239666, 34.20261898208451], [43.87984569938542, 34.20262393855705], [43.8798397353355, 34.20307478320827], [43.87929711330616, 34.203069826645894]]]}, 'id': '+9679+1484', 'properties': {'count': 25, 'file_name': 'tile_43879297_34202619_43879846_34203075', 'label': 1935000296}}, {'type': 'Feature', 'geometry': {'geodesic': False, 'type': 'Polygon', 'coordinates': [[[43.879303080239666, 34.20261898208451], [43.87930427361559, 34.20252881316684], [43.87984689217744, 34.202533769621425], [43.87984569938542, 34.20262393855705], [43.879303080239666, 34.20261898208451]]]}, 'id': '+9679+1485', 'properties': {'count': 5, 'file_name': 'tile_43879303_34202529_43879847_34202624', 'label': 1935000297}}, {'type': 'Feature', 'geometry': {'geodesic': False, 'type': 'Polygon', 'coordinates': [[[43.879758611132225, 34.20920626710328], [43.87976219065812, 34.20893576059283], [43.88030485036281, 34.208940715834686], [43.88030127257066, 34.209211222399034], [43.879758611132225, 34.20920626710328]]]}, 'id': '+9684+1414', 'properties': {'count': 15, 'file_name': 'tile_43879759_34208936_43880305_34209211', 'label': 1936000282}}, {'type': 'Feature', 'geometry': {'geodesic': False, 'type': 'Polygon', 'coordinates': [[[43.87976219065812, 34.20893576059283], [43.8797681564328, 34.20848491638179], [43.88031081324492, 34.208489871542795], [43.88030485036281, 34.208940715834686], [43.87976219065812, 34.20893576059283]]]}, 'id': '+9684+1419', 'properties': {'count': 25, 'file_name': 'tile_43879762_34208485_43880311_34208941', 'label': 1936000283}}, {'type': 'Feature', 'geometry': {'geodesic': False, 'type': 'Polygon', 'coordinates': [[[43.8797681564328, 34.20848491638179], [43.87977412206376, 34.2080340721438], [43.88031677599228, 34.20803902721497], [43.88031081324492, 34.208489871542795], [43.8797681564328, 34.20848491638179]]]}, 'id': '+9684+1424', 'properties': {'count': 25, 'file_name': 'tile_43879768_34208034_43880317_34208490', 'label': 1936000284}}, {'type': 'Feature', 'geometry': {'geodesic': False, 'type': 'Polygon', 'coordinates': [[[43.87977412206376, 34.2080340721438], [43.879780087568946, 34.207583227860894], [43.88032273861388, 34.207588182860206], [43.88031677599228, 34.20803902721497], [43.87977412206376, 34.2080340721438]]]}, 'id': '+9684+1429', 'properties': {'count': 25, 'file_name': 'tile_43879774_34207583_43880323_34208039', 'label': 1936000285}}, {'type': 'Feature', 'geometry': {'geodesic': False, 'type': 'Polygon', 'coordinates': [[[43.879780087568946, 34.207583227860894], [43.879786052948376, 34.20713238355104], [43.88032870110073, 34.20713733846052], [43.88032273861388, 34.207588182860206], [43.879780087568946, 34.207583227860894]]]}, 'id': '+9684+1434', 'properties': {'count': 25, 'file_name': 'tile_43879780_34207132_43880329_34207588', 'label': 1936000286}}, {'type': 'Feature', 'geometry': {'geodesic': False, 'type': 'Polygon', 'coordinates': [[[43.879786052948376, 34.20713238355104], [43.87979201818407, 34.206681539205256], [43.88033466345283, 34.20668649403388], [43.88032870110073, 34.20713733846052], [43.879786052948376, 34.20713238355104]]]}, 'id': '+9684+1439', 'properties': {'count': 25, 'file_name': 'tile_43879786_34206682_43880335_34207137', 'label': 1936000287}}, {'type': 'Feature', 'geometry': {'geodesic': False, 'type': 'Polygon', 'coordinates': [[[43.87979201818407, 34.206681539205256], [43.879797983294, 34.20623069482354], [43.880340625670186, 34.20623564957132], [43.88033466345283, 34.20668649403388], [43.87979201818407, 34.206681539205256]]]}, 'id': '+9684+1444', 'properties': {'count': 25, 'file_name': 'tile_43879792_34206231_43880341_34206686', 'label': 1936000288}}, {'type': 'Feature', 'geometry': {'geodesic': False, 'type': 'Polygon', 'coordinates': [[[43.879797983294, 34.20623069482354], [43.879803948269185, 34.205779850414864], [43.8803465877528, 34.20578480507282], [43.880340625670186, 34.20623564957132], [43.879797983294, 34.20623069482354]]]}, 'id': '+9684+1449', 'properties': {'count': 25, 'file_name': 'tile_43879798_34205780_43880347_34206236', 'label': 1936000289}}, {'type': 'Feature', 'geometry': {'geodesic': False, 'type': 'Polygon', 'coordinates': [[[43.879803948269185, 34.205779850414864], [43.87980991310962, 34.20532900596128], [43.880352549709635, 34.20533396053838], [43.8803465877528, 34.20578480507282], [43.879803948269185, 34.205779850414864]]]}, 'id': '+9684+1454', 'properties': {'count': 25, 'file_name': 'tile_43879804_34205329_43880353_34205785', 'label': 1936000290}}, {'type': 'Feature', 'geometry': {'geodesic': False, 'type': 'Polygon', 'coordinates': [[[43.87980991310962, 34.20532900596128], [43.87981587782429, 34.20487816148075], [43.88035851153173, 34.204883115977005], [43.880352549709635, 34.20533396053838], [43.87980991310962, 34.20532900596128]]]}, 'id': '+9684+1459', 'properties': {'count': 25, 'file_name': 'tile_43879810_34204878_43880359_34205334', 'label': 1936000291}}, {'type': 'Feature', 'geometry': {'geodesic': False, 'type': 'Polygon', 'coordinates': [[[43.87981587782429, 34.20487816148075], [43.87982184239523, 34.204427316964285], [43.88036447321908, 34.20443227137969], [43.88035851153173, 34.204883115977005], [43.87981587782429, 34.20487816148075]]]}, 'id': '+9684+1464', 'properties': {'count': 25, 'file_name': 'tile_43879816_34204427_43880364_34204883', 'label': 1936000292}}, {'type': 'Feature', 'geometry': {'geodesic': False, 'type': 'Polygon', 'coordinates': [[[43.87982184239523, 34.204427316964285], [43.87982780684041, 34.20397647241188], [43.880370434780666, 34.20398142674644], [43.88036447321908, 34.20443227137969], [43.87982184239523, 34.204427316964285]]]}, 'id': '+9684+1469', 'properties': {'count': 25, 'file_name': 'tile_43879822_34203976_43880370_34204432', 'label': 1936000293}}, {'type': 'Feature', 'geometry': {'geodesic': False, 'type': 'Polygon', 'coordinates': [[[43.87982780684041, 34.20397647241188], [43.879833771159824, 34.20352562783253], [43.88037639620751, 34.203530582077256], [43.880370434780666, 34.20398142674644], [43.87982780684041, 34.20397647241188]]]}, 'id': '+9684+1474', 'properties': {'count': 25, 'file_name': 'tile_43879828_34203526_43880376_34203981', 'label': 1936000294}}, {'type': 'Feature', 'geometry': {'geodesic': False, 'type': 'Polygon', 'coordinates': [[[43.879833771159824, 34.20352562783253], [43.8798397353355, 34.20307478320827], [43.8803823574996, 34.20307973737214], [43.88037639620751, 34.203530582077256], [43.879833771159824, 34.20352562783253]]]}, 'id': '+9684+1479', 'properties': {'count': 25, 'file_name': 'tile_43879834_34203075_43880382_34203531', 'label': 1936000295}}, {'type': 'Feature', 'geometry': {'geodesic': False, 'type': 'Polygon', 'coordinates': [[[43.8798397353355, 34.20307478320827], [43.87984569938542, 34.20262393855705], [43.88038831865694, 34.202628892640085], [43.8803823574996, 34.20307973737214], [43.8798397353355, 34.20307478320827]]]}, 'id': '+9684+1484', 'properties': {'count': 25, 'file_name': 'tile_43879840_34202624_43880388_34203080', 'label': 1936000296}}, {'type': 'Feature', 'geometry': {'geodesic': False, 'type': 'Polygon', 'coordinates': [[[43.87984569938542, 34.20262393855705], [43.87984689217744, 34.202533769621425], [43.88038951087404, 34.20253872368649], [43.88038831865694, 34.202628892640085], [43.87984569938542, 34.20262393855705]]]}, 'id': '+9684+1485', 'properties': {'count': 5, 'file_name': 'tile_43879846_34202534_43880390_34202629', 'label': 1936000297}}, {'type': 'Feature', 'geometry': {'geodesic': False, 'type': 'Polygon', 'coordinates': [[[43.88030127257066, 34.209211222399034], [43.88030485036281, 34.208940715834686], [43.880847510202244, 34.20894566868702], [43.88084393414385, 34.20921617529629], [43.88030127257066, 34.209211222399034]]]}, 'id': '+9689+1414', 'properties': {'count': 15, 'file_name': 'tile_43880301_34208941_43880848_34209216', 'label': 1937000282}}, {'type': 'Feature', 'geometry': {'geodesic': False, 'type': 'Polygon', 'coordinates': [[[43.88030485036281, 34.208940715834686], [43.88031081324492, 34.208489871542795], [43.88085347019178, 34.2084948243053], [43.880847510202244, 34.20894566868702], [43.88030485036281, 34.208940715834686]]]}, 'id': '+9689+1419', 'properties': {'count': 25, 'file_name': 'tile_43880305_34208490_43880853_34208946', 'label': 1937000283}}, {'type': 'Feature', 'geometry': {'geodesic': False, 'type': 'Polygon', 'coordinates': [[[43.88031081324492, 34.208489871542795], [43.88031677599228, 34.20803902721497], [43.88085943005555, 34.20804397989663], [43.88085347019178, 34.2084948243053], [43.88031081324492, 34.208489871542795]]]}, 'id': '+9689+1424', 'properties': {'count': 25, 'file_name': 'tile_43880311_34208039_43880859_34208495', 'label': 1937000284}}, {'type': 'Feature', 'geometry': {'geodesic': False, 'type': 'Polygon', 'coordinates': [[[43.88031677599228, 34.20803902721497], [43.88032273861388, 34.207588182860206], [43.880865389784574, 34.20759313545203], [43.88085943005555, 34.20804397989663], [43.88031677599228, 34.20803902721497]]]}, 'id': '+9689+1429', 'properties': {'count': 25, 'file_name': 'tile_43880317_34207588_43880865_34208044', 'label': 1937000285}}, {'type': 'Feature', 'geometry': {'geodesic': False, 'type': 'Polygon', 'coordinates': [[[43.88032273861388, 34.207588182860206], [43.88032870110073, 34.20713733846052], [43.88087134937884, 34.2071422909715], [43.880865389784574, 34.20759313545203], [43.88032273861388, 34.207588182860206]]]}, 'id': '+9689+1434', 'properties': {'count': 25, 'file_name': 'tile_43880323_34207137_43880871_34207593', 'label': 1937000286}}, {'type': 'Feature', 'geometry': {'geodesic': False, 'type': 'Polygon', 'coordinates': [[[43.88032870110073, 34.20713733846052], [43.88033466345283, 34.20668649403388], [43.88087730884736, 34.20669144646401], [43.88087134937884, 34.2071422909715], [43.88032870110073, 34.20713733846052]]]}, 'id': '+9689+1439', 'properties': {'count': 25, 'file_name': 'tile_43880329_34206686_43880877_34207142', 'label': 1937000287}}, {'type': 'Feature', 'geometry': {'geodesic': False, 'type': 'Polygon', 'coordinates': [[[43.88033466345283, 34.20668649403388], [43.880340625670186, 34.20623564957132], [43.88088326818112, 34.2062406019206], [43.88087730884736, 34.20669144646401], [43.88033466345283, 34.20668649403388]]]}, 'id': '+9689+1444', 'properties': {'count': 25, 'file_name': 'tile_43880335_34206236_43880883_34206691', 'label': 1937000288}}, {'type': 'Feature', 'geometry': {'geodesic': False, 'type': 'Polygon', 'coordinates': [[[43.880340625670186, 34.20623564957132], [43.8803465877528, 34.20578480507282], [43.88088922738014, 34.20578975733226], [43.88088326818112, 34.2062406019206], [43.880340625670186, 34.20623564957132]]]}, 'id': '+9689+1449', 'properties': {'count': 25, 'file_name': 'tile_43880341_34205785_43880889_34206241', 'label': 1937000289}}, {'type': 'Feature', 'geometry': {'geodesic': False, 'type': 'Polygon', 'coordinates': [[[43.8803465877528, 34.20578480507282], [43.880352549709635, 34.20533396053838], [43.880895186444405, 34.20533891271698], [43.88088922738014, 34.20578975733226], [43.8803465877528, 34.20578480507282]]]}, 'id': '+9689+1454', 'properties': {'count': 25, 'file_name': 'tile_43880347_34205334_43880895_34205790', 'label': 1937000290}}, {'type': 'Feature', 'geometry': {'geodesic': False, 'type': 'Polygon', 'coordinates': [[[43.880352549709635, 34.20533396053838], [43.88035851153173, 34.204883115977005], [43.880901145373926, 34.20488806807475], [43.880895186444405, 34.20533891271698], [43.880352549709635, 34.20533396053838]]]}, 'id': '+9689+1459', 'properties': {'count': 25, 'file_name': 'tile_43880353_34204883_43880901_34205339', 'label': 1937000291}}, {'type': 'Feature', 'geometry': {'geodesic': False, 'type': 'Polygon', 'coordinates': [[[43.88035851153173, 34.204883115977005], [43.88036447321908, 34.20443227137969], [43.88090710417768, 34.20443722338761], [43.880901145373926, 34.20488806807475], [43.88035851153173, 34.204883115977005]]]}, 'id': '+9689+1464', 'properties': {'count': 25, 'file_name': 'tile_43880359_34204432_43880907_34204888', 'label': 1937000292}}, {'type': 'Feature', 'geometry': {'geodesic': False, 'type': 'Polygon', 'coordinates': [[[43.88036447321908, 34.20443227137969], [43.880370434780666, 34.20398142674644], [43.880913062846695, 34.20398637867351], [43.88090710417768, 34.20443722338761], [43.88036447321908, 34.20443227137969]]]}, 'id': '+9689+1469', 'properties': {'count': 25, 'file_name': 'tile_43880364_34203981_43880913_34204437', 'label': 1937000293}}, {'type': 'Feature', 'geometry': {'geodesic': False, 'type': 'Polygon', 'coordinates': [[[43.880370434780666, 34.20398142674644], [43.88037639620751, 34.203530582077256], [43.880919021380954, 34.20353553392348], [43.880913062846695, 34.20398637867351], [43.880370434780666, 34.20398142674644]]]}, 'id': '+9689+1474', 'properties': {'count': 25, 'file_name': 'tile_43880370_34203531_43880919_34203986', 'label': 1937000294}}, {'type': 'Feature', 'geometry': {'geodesic': False, 'type': 'Polygon', 'coordinates': [[[43.88037639620751, 34.203530582077256], [43.8803823574996, 34.20307973737214], [43.880924979789455, 34.20308468913752], [43.880919021380954, 34.20353553392348], [43.88037639620751, 34.203530582077256]]]}, 'id': '+9689+1479', 'properties': {'count': 25, 'file_name': 'tile_43880376_34203080_43880925_34203536', 'label': 1937000295}}, {'type': 'Feature', 'geometry': {'geodesic': False, 'type': 'Polygon', 'coordinates': [[[43.8803823574996, 34.20307973737214], [43.88038831865694, 34.202628892640085], [43.88093093806321, 34.20263384431563], [43.880924979789455, 34.20308468913752], [43.8803823574996, 34.20307973737214]]]}, 'id': '+9689+1484', 'properties': {'count': 25, 'file_name': 'tile_43880382_34202629_43880931_34203085', 'label': 1937000296}}, {'type': 'Feature', 'geometry': {'geodesic': False, 'type': 'Polygon', 'coordinates': [[[43.88038831865694, 34.202628892640085], [43.88038951087404, 34.20253872368649], [43.8809321296964, 34.20254367534406], [43.88093093806321, 34.20263384431563], [43.88038831865694, 34.202628892640085]]]}, 'id': '+9689+1485', 'properties': {'count': 5, 'file_name': 'tile_43880388_34202539_43880932_34202634', 'label': 1937000297}}, {'type': 'Feature', 'geometry': {'geodesic': False, 'type': 'Polygon', 'coordinates': [[[43.88084393414385, 34.20921617529629], [43.880847510202244, 34.20894566868702], [43.88139017016745, 34.20895061913187], [43.8813865958428, 34.20922112578605], [43.88084393414385, 34.20921617529629]]]}, 'id': '+9694+1414', 'properties': {'count': 15, 'file_name': 'tile_43880844_34208946_43881390_34209221', 'label': 1938000282}}, {'type': 'Feature', 'geometry': {'geodesic': False, 'type': 'Polygon', 'coordinates': [[[43.880847510202244, 34.20894566868702], [43.88085347019178, 34.2084948243053], [43.88139612727339, 34.2084997746693], [43.88139017016745, 34.20895061913187], [43.880847510202244, 34.20894566868702]]]}, 'id': '+9694+1419', 'properties': {'count': 25, 'file_name': 'tile_43880848_34208495_43881396_34208951', 'label': 1938000283}}, {'type': 'Feature', 'geometry': {'geodesic': False, 'type': 'Polygon', 'coordinates': [[[43.88085347019178, 34.2084948243053], [43.88085943005555, 34.20804397989663], [43.881402084244584, 34.208048930179785], [43.88139612727339, 34.2084997746693], [43.88085347019178, 34.2084948243053]]]}, 'id': '+9694+1424', 'properties': {'count': 25, 'file_name': 'tile_43880853_34208044_43881402_34208500', 'label': 1938000284}}, {'type': 'Feature', 'geometry': {'geodesic': False, 'type': 'Polygon', 'coordinates': [[[43.88085943005555, 34.20804397989663], [43.880865389784574, 34.20759313545203], [43.88140804109001, 34.20759808564535], [43.881402084244584, 34.208048930179785], [43.88085943005555, 34.20804397989663]]]}, 'id': '+9694+1429', 'properties': {'count': 25, 'file_name': 'tile_43880859_34207593_43881408_34208049', 'label': 1938000285}}, {'type': 'Feature', 'geometry': {'geodesic': False, 'type': 'Polygon', 'coordinates': [[[43.880865389784574, 34.20759313545203], [43.88087134937884, 34.2071422909715], [43.88141399780069, 34.207147241083966], [43.88140804109001, 34.20759808564535], [43.880865389784574, 34.20759313545203]]]}, 'id': '+9694+1434', 'properties': {'count': 25, 'file_name': 'tile_43880865_34207142_43881414_34207598', 'label': 1938000286}}, {'type': 'Feature', 'geometry': {'geodesic': False, 'type': 'Polygon', 'coordinates': [[[43.88087134937884, 34.2071422909715], [43.88087730884736, 34.20669144646401], [43.88141995437663, 34.20669639649564], [43.88141399780069, 34.207147241083966], [43.88087134937884, 34.2071422909715]]]}, 'id': '+9694+1439', 'properties': {'count': 25, 'file_name': 'tile_43880871_34206691_43881420_34207147', 'label': 1938000287}}, {'type': 'Feature', 'geometry': {'geodesic': False, 'type': 'Polygon', 'coordinates': [[[43.88087730884736, 34.20669144646401], [43.88088326818112, 34.2062406019206], [43.88142591081782, 34.20624555186239], [43.88141995437663, 34.20669639649564], [43.88087730884736, 34.20669144646401]]]}, 'id': '+9694+1444', 'properties': {'count': 25, 'file_name': 'tile_43880877_34206241_43881426_34206696', 'label': 1938000288}}, {'type': 'Feature', 'geometry': {'geodesic': False, 'type': 'Polygon', 'coordinates': [[[43.88088326818112, 34.2062406019206], [43.88088922738014, 34.20578975733226], [43.88143186712426, 34.205794707202195], [43.88142591081782, 34.20624555186239], [43.88088326818112, 34.2062406019206]]]}, 'id': '+9694+1449', 'properties': {'count': 25, 'file_name': 'tile_43880883_34205790_43881432_34206246', 'label': 1938000289}}, {'type': 'Feature', 'geometry': {'geodesic': False, 'type': 'Polygon', 'coordinates': [[[43.88088922738014, 34.20578975733226], [43.880895186444405, 34.20533891271698], [43.881437823304935, 34.20534386249708], [43.88143186712426, 34.205794707202195], [43.88088922738014, 34.20578975733226]]]}, 'id': '+9694+1454', 'properties': {'count': 25, 'file_name': 'tile_43880889_34205339_43881438_34205795', 'label': 1938000290}}, {'type': 'Feature', 'geometry': {'geodesic': False, 'type': 'Polygon', 'coordinates': [[[43.880895186444405, 34.20533891271698], [43.880901145373926, 34.20488806807475], [43.88144377935087, 34.204893017765016], [43.881437823304935, 34.20534386249708], [43.880895186444405, 34.20533891271698]]]}, 'id': '+9694+1459', 'properties': {'count': 25, 'file_name': 'tile_43880895_34204888_43881444_34205344', 'label': 1938000291}}, {'type': 'Feature', 'geometry': {'geodesic': False, 'type': 'Polygon', 'coordinates': [[[43.880901145373926, 34.20488806807475], [43.88090710417768, 34.20443722338761], [43.881449735262045, 34.20444217299703], [43.88144377935087, 34.204893017765016], [43.880901145373926, 34.20488806807475]]]}, 'id': '+9694+1464', 'properties': {'count': 25, 'file_name': 'tile_43880901_34204437_43881450_34204893', 'label': 1938000292}}, {'type': 'Feature', 'geometry': {'geodesic': False, 'type': 'Polygon', 'coordinates': [[[43.88090710417768, 34.20443722338761], [43.880913062846695, 34.20398637867351], [43.881455691047464, 34.20399132820208], [43.881449735262045, 34.20444217299703], [43.88090710417768, 34.20443722338761]]]}, 'id': '+9694+1469', 'properties': {'count': 25, 'file_name': 'tile_43880907_34203986_43881456_34204442', 'label': 1938000293}}, {'type': 'Feature', 'geometry': {'geodesic': False, 'type': 'Polygon', 'coordinates': [[[43.880913062846695, 34.20398637867351], [43.880919021380954, 34.20353553392348], [43.881461646698135, 34.20354048336222], [43.881455691047464, 34.20399132820208], [43.880913062846695, 34.20398637867351]]]}, 'id': '+9694+1474', 'properties': {'count': 25, 'file_name': 'tile_43880913_34203536_43881462_34203991', 'label': 1938000294}}, {'type': 'Feature', 'geometry': {'geodesic': False, 'type': 'Polygon', 'coordinates': [[[43.880919021380954, 34.20353553392348], [43.880924979789455, 34.20308468913752], [43.88146760221406, 34.203089638495406], [43.881461646698135, 34.20354048336222], [43.880919021380954, 34.20353553392348]]]}, 'id': '+9694+1479', 'properties': {'count': 25, 'file_name': 'tile_43880919_34203085_43881468_34203540', 'label': 1938000295}}, {'type': 'Feature', 'geometry': {'geodesic': False, 'type': 'Polygon', 'coordinates': [[[43.880924979789455, 34.20308468913752], [43.88093093806321, 34.20263384431563], [43.881473557595235, 34.20263879359267], [43.88146760221406, 34.203089638495406], [43.880924979789455, 34.20308468913752]]]}, 'id': '+9694+1484', 'properties': {'count': 25, 'file_name': 'tile_43880925_34202634_43881474_34203090', 'label': 1938000296}}, {'type': 'Feature', 'geometry': {'geodesic': False, 'type': 'Polygon', 'coordinates': [[[43.88093093806321, 34.20263384431563], [43.8809321296964, 34.20254367534406], [43.88147474866249, 34.20254862461212], [43.881473557595235, 34.20263879359267], [43.88093093806321, 34.20263384431563]]]}, 'id': '+9694+1485', 'properties': {'count': 5, 'file_name': 'tile_43880931_34202544_43881475_34202639', 'label': 1938000297}}, {'type': 'Feature', 'geometry': {'geodesic': False, 'type': 'Polygon', 'coordinates': [[[43.8813865958428, 34.20922112578605], [43.88139017016745, 34.20895061913187], [43.88193283027638, 34.20895556717822], [43.88192925767649, 34.2092260738863], [43.8813865958428, 34.20922112578605]]]}, 'id': '+9699+1414', 'properties': {'count': 15, 'file_name': 'tile_43881387_34208951_43881933_34209226', 'label': 1939000282}}, {'type': 'Feature', 'geometry': {'geodesic': False, 'type': 'Polygon', 'coordinates': [[[43.88139017016745, 34.20895061913187], [43.88139612727339, 34.2084997746693], [43.88193878448974, 34.2085047226348], [43.88193283027638, 34.20895556717822], [43.88139017016745, 34.20895061913187]]]}, 'id': '+9699+1419', 'properties': {'count': 25, 'file_name': 'tile_43881390_34208500_43881939_34208956', 'label': 1939000283}}, {'type': 'Feature', 'geometry': {'geodesic': False, 'type': 'Polygon', 'coordinates': [[[43.88139612727339, 34.2084997746693], [43.881402084244584, 34.208048930179785], [43.881944738577346, 34.20805387805545], [43.88193878448974, 34.2085047226348], [43.88139612727339, 34.2084997746693]]]}, 'id': '+9699+1424', 'properties': {'count': 25, 'file_name': 'tile_43881396_34208049_43881945_34208505', 'label': 1939000284}}, {'type': 'Feature', 'geometry': {'geodesic': False, 'type': 'Polygon', 'coordinates': [[[43.881402084244584, 34.208048930179785], [43.88140804109001, 34.20759808564535], [43.881950692530204, 34.20760303344915], [43.881944738577346, 34.20805387805545], [43.881402084244584, 34.208048930179785]]]}, 'id': '+9699+1429', 'properties': {'count': 25, 'file_name': 'tile_43881402_34207598_43881951_34208054', 'label': 1939000285}}, {'type': 'Feature', 'geometry': {'geodesic': False, 'type': 'Polygon', 'coordinates': [[[43.88140804109001, 34.20759808564535], [43.88141399780069, 34.207147241083966], [43.88195664634831, 34.20715218879794], [43.881950692530204, 34.20760303344915], [43.88140804109001, 34.20759808564535]]]}, 'id': '+9699+1434', 'properties': {'count': 25, 'file_name': 'tile_43881408_34207147_43881957_34207603', 'label': 1939000286}}, {'type': 'Feature', 'geometry': {'geodesic': False, 'type': 'Polygon', 'coordinates': [[[43.88141399780069, 34.207147241083966], [43.88141995437663, 34.20669639649564], [43.88196260003167, 34.20670134411978], [43.88195664634831, 34.20715218879794], [43.88141399780069, 34.207147241083966]]]}, 'id': '+9699+1439', 'properties': {'count': 25, 'file_name': 'tile_43881414_34206696_43881963_34207152', 'label': 1939000287}}, {'type': 'Feature', 'geometry': {'geodesic': False, 'type': 'Polygon', 'coordinates': [[[43.88141995437663, 34.20669639649564], [43.88142591081782, 34.20624555186239], [43.88196855358927, 34.206250499405684], [43.88196260003167, 34.20670134411978], [43.88141995437663, 34.20669639649564]]]}, 'id': '+9699+1444', 'properties': {'count': 25, 'file_name': 'tile_43881420_34206246_43881969_34206701', 'label': 1939000288}}, {'type': 'Feature', 'geometry': {'geodesic': False, 'type': 'Polygon', 'coordinates': [[[43.88142591081782, 34.20624555186239], [43.88143186712426, 34.205794707202195], [43.88197450701211, 34.20579965466464], [43.88196855358927, 34.206250499405684], [43.88142591081782, 34.20624555186239]]]}, 'id': '+9699+1449', 'properties': {'count': 25, 'file_name': 'tile_43881426_34205795_43881975_34206250', 'label': 1939000289}}, {'type': 'Feature', 'geometry': {'geodesic': False, 'type': 'Polygon', 'coordinates': [[[43.88143186712426, 34.205794707202195], [43.881437823304935, 34.20534386249708], [43.88198046030021, 34.20534880987868], [43.88197450701211, 34.20579965466464], [43.88143186712426, 34.205794707202195]]]}, 'id': '+9699+1454', 'properties': {'count': 25, 'file_name': 'tile_43881432_34205344_43881980_34205800', 'label': 1939000290}}, {'type': 'Feature', 'geometry': {'geodesic': False, 'type': 'Polygon', 'coordinates': [[[43.881437823304935, 34.20534386249708], [43.88144377935087, 34.204893017765016], [43.88198641346255, 34.20489796506577], [43.88198046030021, 34.20534880987868], [43.881437823304935, 34.20534386249708]]]}, 'id': '+9699+1459', 'properties': {'count': 25, 'file_name': 'tile_43881438_34204893_43881986_34205349', 'label': 1939000291}}, {'type': 'Feature', 'geometry': {'geodesic': False, 'type': 'Polygon', 'coordinates': [[[43.88144377935087, 34.204893017765016], [43.881449735262045, 34.20444217299703], [43.881992366490145, 34.20444712021692], [43.88198641346255, 34.20489796506577], [43.88144377935087, 34.204893017765016]]]}, 'id': '+9699+1464', 'properties': {'count': 25, 'file_name': 'tile_43881444_34204442_43881992_34204898', 'label': 1939000292}}, {'type': 'Feature', 'geometry': {'geodesic': False, 'type': 'Polygon', 'coordinates': [[[43.881449735262045, 34.20444217299703], [43.881455691047464, 34.20399132820208], [43.88199831938299, 34.203996275332145], [43.881992366490145, 34.20444712021692], [43.881449735262045, 34.20444217299703]]]}, 'id': '+9699+1469', 'properties': {'count': 25, 'file_name': 'tile_43881450_34203991_43881998_34204447', 'label': 1939000293}}, {'type': 'Feature', 'geometry': {'geodesic': False, 'type': 'Polygon', 'coordinates': [[[43.881455691047464, 34.20399132820208], [43.881461646698135, 34.20354048336222], [43.88200427214108, 34.20354543041144], [43.88199831938299, 34.203996275332145], [43.881455691047464, 34.20399132820208]]]}, 'id': '+9699+1474', 'properties': {'count': 25, 'file_name': 'tile_43881456_34203540_43882004_34203996', 'label': 1939000294}}, {'type': 'Feature', 'geometry': {'geodesic': False, 'type': 'Polygon', 'coordinates': [[[43.881461646698135, 34.20354048336222], [43.88146760221406, 34.203089638495406], [43.88201022477341, 34.20309458546378], [43.88200427214108, 34.20354543041144], [43.881461646698135, 34.20354048336222]]]}, 'id': '+9699+1479', 'properties': {'count': 25, 'file_name': 'tile_43881462_34203090_43882010_34203545', 'label': 1939000295}}, {'type': 'Feature', 'geometry': {'geodesic': False, 'type': 'Polygon', 'coordinates': [[[43.88146760221406, 34.203089638495406], [43.881473557595235, 34.20263879359267], [43.882016177271, 34.20264374047121], [43.88201022477341, 34.20309458546378], [43.88146760221406, 34.203089638495406]]]}, 'id': '+9699+1484', 'properties': {'count': 25, 'file_name': 'tile_43881468_34202639_43882016_34203095', 'label': 1939000296}}, {'type': 'Feature', 'geometry': {'geodesic': False, 'type': 'Polygon', 'coordinates': [[[43.881473557595235, 34.20263879359267], [43.88147474866249, 34.20254862461212], [43.882017367754344, 34.20255357147269], [43.882016177271, 34.20264374047121], [43.881473557595235, 34.20263879359267]]]}, 'id': '+9699+1485', 'properties': {'count': 5, 'file_name': 'tile_43881474_34202549_43882017_34202644', 'label': 1939000297}}, {'type': 'Feature', 'geometry': {'geodesic': False, 'type': 'Polygon', 'coordinates': [[[43.88192925767649, 34.2092260738863], [43.88193283027638, 34.20895556717822], [43.88247549051107, 34.208960512817086], [43.882471919644935, 34.209231019579065], [43.88192925767649, 34.2092260738863]]]}, 'id': '+9704+1414', 'properties': {'count': 15, 'file_name': 'tile_43881929_34208956_43882475_34209231', 'label': 1940000282}}, {'type': 'Feature', 'geometry': {'geodesic': False, 'type': 'Polygon', 'coordinates': [[[43.88193283027638, 34.20895556717822], [43.88193878448974, 34.2085047226348], [43.882481441831864, 34.20850966819282], [43.88247549051107, 34.208960512817086], [43.88193283027638, 34.20895556717822]]]}, 'id': '+9704+1419', 'properties': {'count': 25, 'file_name': 'tile_43881933_34208505_43882481_34208961', 'label': 1940000283}}, {'type': 'Feature', 'geometry': {'geodesic': False, 'type': 'Polygon', 'coordinates': [[[43.88193878448974, 34.2085047226348], [43.881944738577346, 34.20805387805545], [43.88248739303587, 34.208058823532625], [43.882481441831864, 34.20850966819282], [43.88193878448974, 34.2085047226348]]]}, 'id': '+9704+1424', 'properties': {'count': 25, 'file_name': 'tile_43881939_34208054_43882487_34208510', 'label': 1940000284}}, {'type': 'Feature', 'geometry': {'geodesic': False, 'type': 'Polygon', 'coordinates': [[[43.881944738577346, 34.20805387805545], [43.881950692530204, 34.20760303344915], [43.882493344096154, 34.20760797883649], [43.88248739303587, 34.208058823532625], [43.881944738577346, 34.20805387805545]]]}, 'id': '+9704+1429', 'properties': {'count': 25, 'file_name': 'tile_43881945_34207603_43882493_34208059', 'label': 1940000285}}, {'type': 'Feature', 'geometry': {'geodesic': False, 'type': 'Polygon', 'coordinates': [[[43.881950692530204, 34.20760303344915], [43.88195664634831, 34.20715218879794], [43.88249929503067, 34.207157134113416], [43.882493344096154, 34.20760797883649], [43.881950692530204, 34.20760303344915]]]}, 'id': '+9704+1434', 'properties': {'count': 25, 'file_name': 'tile_43881951_34207152_43882499_34207608', 'label': 1940000286}}, {'type': 'Feature', 'geometry': {'geodesic': False, 'type': 'Polygon', 'coordinates': [[[43.88195664634831, 34.20715218879794], [43.88196260003167, 34.20670134411978], [43.88250524583044, 34.2067062893544], [43.88249929503067, 34.207157134113416], [43.88195664634831, 34.20715218879794]]]}, 'id': '+9704+1439', 'properties': {'count': 25, 'file_name': 'tile_43881957_34206701_43882505_34207157', 'label': 1940000287}}, {'type': 'Feature', 'geometry': {'geodesic': False, 'type': 'Polygon', 'coordinates': [[[43.88196260003167, 34.20670134411978], [43.88196855358927, 34.206250499405684], [43.88251119649546, 34.20625544455047], [43.88250524583044, 34.2067062893544], [43.88196260003167, 34.20670134411978]]]}, 'id': '+9704+1444', 'properties': {'count': 25, 'file_name': 'tile_43881963_34206250_43882511_34206706', 'label': 1940000288}}, {'type': 'Feature', 'geometry': {'geodesic': False, 'type': 'Polygon', 'coordinates': [[[43.88196855358927, 34.206250499405684], [43.88197450701211, 34.20579965466464], [43.88251714702573, 34.2058045997196], [43.88251119649546, 34.20625544455047], [43.88196855358927, 34.206250499405684]]]}, 'id': '+9704+1449', 'properties': {'count': 25, 'file_name': 'tile_43881969_34205800_43882517_34206255', 'label': 1940000289}}, {'type': 'Feature', 'geometry': {'geodesic': False, 'type': 'Polygon', 'coordinates': [[[43.88197450701211, 34.20579965466464], [43.88198046030021, 34.20534880987868], [43.88252309743024, 34.20535375486177], [43.88251714702573, 34.2058045997196], [43.88197450701211, 34.20579965466464]]]}, 'id': '+9704+1454', 'properties': {'count': 25, 'file_name': 'tile_43881975_34205349_43882523_34205805', 'label': 1940000290}}, {'type': 'Feature', 'geometry': {'geodesic': False, 'type': 'Polygon', 'coordinates': [[[43.88198046030021, 34.20534880987868], [43.88198641346255, 34.20489796506577], [43.882529047700004, 34.20490290995903], [43.88252309743024, 34.20535375486177], [43.88198046030021, 34.20534880987868]]]}, 'id': '+9704+1459', 'properties': {'count': 25, 'file_name': 'tile_43881980_34204898_43882529_34205354', 'label': 1940000291}}, {'type': 'Feature', 'geometry': {'geodesic': False, 'type': 'Polygon', 'coordinates': [[[43.88198641346255, 34.20489796506577], [43.881992366490145, 34.20444712021692], [43.882534997835016, 34.204452065029336], [43.882529047700004, 34.20490290995903], [43.88198641346255, 34.20489796506577]]]}, 'id': '+9704+1464', 'properties': {'count': 25, 'file_name': 'tile_43881986_34204447_43882535_34204903', 'label': 1940000292}}, {'type': 'Feature', 'geometry': {'geodesic': False, 'type': 'Polygon', 'coordinates': [[[43.881992366490145, 34.20444712021692], [43.88199831938299, 34.203996275332145], [43.88254094784427, 34.20400122006371], [43.882534997835016, 34.204452065029336], [43.881992366490145, 34.20444712021692]]]}, 'id': '+9704+1469', 'properties': {'count': 25, 'file_name': 'tile_43881992_34203996_43882541_34204452', 'label': 1940000293}}, {'type': 'Feature', 'geometry': {'geodesic': False, 'type': 'Polygon', 'coordinates': [[[43.88199831938299, 34.203996275332145], [43.88200427214108, 34.20354543041144], [43.88254689771877, 34.20355037506216], [43.88254094784427, 34.20400122006371], [43.88199831938299, 34.203996275332145]]]}, 'id': '+9704+1474', 'properties': {'count': 25, 'file_name': 'tile_43881998_34203545_43882547_34204001', 'label': 1940000294}}, {'type': 'Feature', 'geometry': {'geodesic': False, 'type': 'Polygon', 'coordinates': [[[43.88200427214108, 34.20354543041144], [43.88201022477341, 34.20309458546378], [43.88255284745853, 34.203099530024666], [43.88254689771877, 34.20355037506216], [43.88200427214108, 34.20354543041144]]]}, 'id': '+9704+1479', 'properties': {'count': 25, 'file_name': 'tile_43882004_34203095_43882553_34203550', 'label': 1940000295}}, {'type': 'Feature', 'geometry': {'geodesic': False, 'type': 'Polygon', 'coordinates': [[[43.88201022477341, 34.20309458546378], [43.882016177271, 34.20264374047121], [43.88255879707252, 34.20264868495124], [43.88255284745853, 34.203099530024666], [43.88201022477341, 34.20309458546378]]]}, 'id': '+9704+1484', 'properties': {'count': 25, 'file_name': 'tile_43882010_34202644_43882559_34203100', 'label': 1940000296}}, {'type': 'Feature', 'geometry': {'geodesic': False, 'type': 'Polygon', 'coordinates': [[[43.882016177271, 34.20264374047121], [43.882017367754344, 34.20255357147269], [43.88255998697196, 34.20255851593476], [43.88255879707252, 34.20264868495124], [43.882016177271, 34.20264374047121]]]}, 'id': '+9704+1485', 'properties': {'count': 5, 'file_name': 'tile_43882016_34202554_43882560_34202649', 'label': 1940000297}}, {'type': 'Feature', 'geometry': {'geodesic': False, 'type': 'Polygon', 'coordinates': [[[43.882471919644935, 34.209231019579065], [43.88247549051107, 34.208960512817086], [43.88301815087153, 34.20896545606643], [43.88301458174813, 34.20923596287333], [43.882471919644935, 34.209231019579065]]]}, 'id': '+9709+1414', 'properties': {'count': 15, 'file_name': 'tile_43882472_34208961_43883018_34209236', 'label': 1941000282}}, {'type': 'Feature', 'geometry': {'geodesic': False, 'type': 'Polygon', 'coordinates': [[[43.88247549051107, 34.208960512817086], [43.882481441831864, 34.20850966819282], [43.883024099317716, 34.208514611352335], [43.88301815087153, 34.20896545606643], [43.88247549051107, 34.208960512817086]]]}, 'id': '+9709+1419', 'properties': {'count': 25, 'file_name': 'tile_43882475_34208510_43883024_34208965', 'label': 1941000283}}, {'type': 'Feature', 'geometry': {'geodesic': False, 'type': 'Polygon', 'coordinates': [[[43.882481441831864, 34.20850966819282], [43.88248739303587, 34.208058823532625], [43.88303004762017, 34.20806376661129], [43.883024099317716, 34.208514611352335], [43.882481441831864, 34.20850966819282]]]}, 'id': '+9709+1424', 'properties': {'count': 25, 'file_name': 'tile_43882481_34208059_43883030_34208515', 'label': 1941000284}}, {'type': 'Feature', 'geometry': {'geodesic': False, 'type': 'Polygon', 'coordinates': [[[43.88248739303587, 34.208058823532625], [43.882493344096154, 34.20760797883649], [43.88303599579685, 34.20761292183431], [43.88303004762017, 34.20806376661129], [43.88248739303587, 34.208058823532625]]]}, 'id': '+9709+1429', 'properties': {'count': 25, 'file_name': 'tile_43882487_34207608_43883036_34208064', 'label': 1941000285}}, {'type': 'Feature', 'geometry': {'geodesic': False, 'type': 'Polygon', 'coordinates': [[[43.882493344096154, 34.20760797883649], [43.88249929503067, 34.207157134113416], [43.88304194383879, 34.2071620770214], [43.88303599579685, 34.20761292183431], [43.882493344096154, 34.20760797883649]]]}, 'id': '+9709+1434', 'properties': {'count': 25, 'file_name': 'tile_43882493_34207157_43883042_34207613', 'label': 1941000286}}, {'type': 'Feature', 'geometry': {'geodesic': False, 'type': 'Polygon', 'coordinates': [[[43.88249929503067, 34.207157134113416], [43.88250524583044, 34.2067062893544], [43.88304789175497, 34.20671123218154], [43.88304194383879, 34.2071620770214], [43.88249929503067, 34.207157134113416]]]}, 'id': '+9709+1439', 'properties': {'count': 25, 'file_name': 'tile_43882499_34206706_43883048_34207162', 'label': 1941000287}}, {'type': 'Feature', 'geometry': {'geodesic': False, 'type': 'Polygon', 'coordinates': [[[43.88250524583044, 34.2067062893544], [43.88251119649546, 34.20625544455047], [43.88305383952741, 34.206260387296766], [43.88304789175497, 34.20671123218154], [43.88250524583044, 34.2067062893544]]]}, 'id': '+9709+1444', 'properties': {'count': 25, 'file_name': 'tile_43882505_34206255_43883054_34206711', 'label': 1941000288}}, {'type': 'Feature', 'geometry': {'geodesic': False, 'type': 'Polygon', 'coordinates': [[[43.88251119649546, 34.20625544455047], [43.88251714702573, 34.2058045997196], [43.8830597871741, 34.20580954238504], [43.88305383952741, 34.206260387296766], [43.88251119649546, 34.20625544455047]]]}, 'id': '+9709+1449', 'properties': {'count': 25, 'file_name': 'tile_43882511_34205805_43883060_34206260', 'label': 1941000289}}, {'type': 'Feature', 'geometry': {'geodesic': False, 'type': 'Polygon', 'coordinates': [[[43.88251714702573, 34.2058045997196], [43.88252309743024, 34.20535375486177], [43.883065734695016, 34.205358697437376], [43.8830597871741, 34.20580954238504], [43.88251714702573, 34.2058045997196]]]}, 'id': '+9709+1454', 'properties': {'count': 25, 'file_name': 'tile_43882517_34205354_43883066_34205810', 'label': 1941000290}}, {'type': 'Feature', 'geometry': {'geodesic': False, 'type': 'Polygon', 'coordinates': [[[43.88252309743024, 34.20535375486177], [43.882529047700004, 34.20490290995903], [43.8830716820722, 34.204907852453786], [43.883065734695016, 34.205358697437376], [43.88252309743024, 34.20535375486177]]]}, 'id': '+9709+1459', 'properties': {'count': 25, 'file_name': 'tile_43882523_34204903_43883072_34205359', 'label': 1941000291}}, {'type': 'Feature', 'geometry': {'geodesic': False, 'type': 'Polygon', 'coordinates': [[[43.882529047700004, 34.20490290995903], [43.882534997835016, 34.204452065029336], [43.88307762932362, 34.204457007443246], [43.8830716820722, 34.204907852453786], [43.882529047700004, 34.20490290995903]]]}, 'id': '+9709+1464', 'properties': {'count': 25, 'file_name': 'tile_43882529_34204452_43883078_34204908', 'label': 1941000292}}, {'type': 'Feature', 'geometry': {'geodesic': False, 'type': 'Polygon', 'coordinates': [[[43.882534997835016, 34.204452065029336], [43.88254094784427, 34.20400122006371], [43.8830835764403, 34.20400616238779], [43.88307762932362, 34.204457007443246], [43.882534997835016, 34.204452065029336]]]}, 'id': '+9709+1469', 'properties': {'count': 25, 'file_name': 'tile_43882535_34204001_43883084_34204457', 'label': 1941000293}}, {'type': 'Feature', 'geometry': {'geodesic': False, 'type': 'Polygon', 'coordinates': [[[43.88254094784427, 34.20400122006371], [43.88254689771877, 34.20355037506216], [43.88308952343121, 34.20355531730539], [43.8830835764403, 34.20400616238779], [43.88254094784427, 34.20400122006371]]]}, 'id': '+9709+1474', 'properties': {'count': 25, 'file_name': 'tile_43882541_34203550_43883090_34204006', 'label': 1941000294}}, {'type': 'Feature', 'geometry': {'geodesic': False, 'type': 'Polygon', 'coordinates': [[[43.88254689771877, 34.20355037506216], [43.88255284745853, 34.203099530024666], [43.88309547027839, 34.20310447218705], [43.88308952343121, 34.20355531730539], [43.88254689771877, 34.20355037506216]]]}, 'id': '+9709+1479', 'properties': {'count': 25, 'file_name': 'tile_43882547_34203100_43883095_34203555', 'label': 1941000295}}, {'type': 'Feature', 'geometry': {'geodesic': False, 'type': 'Polygon', 'coordinates': [[[43.88255284745853, 34.203099530024666], [43.88255879707252, 34.20264868495124], [43.88310141699981, 34.20265362703278], [43.88309547027839, 34.20310447218705], [43.88255284745853, 34.203099530024666]]]}, 'id': '+9709+1484', 'properties': {'count': 25, 'file_name': 'tile_43882553_34202649_43883101_34203104', 'label': 1941000296}}, {'type': 'Feature', 'geometry': {'geodesic': False, 'type': 'Polygon', 'coordinates': [[[43.88255879707252, 34.20264868495124], [43.88255998697196, 34.20255851593476], [43.88310260633331, 34.20256345799833], [43.88310141699981, 34.20265362703278], [43.88255879707252, 34.20264868495124]]]}, 'id': '+9709+1485', 'properties': {'count': 5, 'file_name': 'tile_43882559_34202559_43883103_34202654', 'label': 1941000297}}, {'type': 'Feature', 'geometry': {'geodesic': False, 'type': 'Polygon', 'coordinates': [[[43.88301458174813, 34.20923596287333], [43.88301815087153, 34.20896545606643], [43.88356081137572, 34.20897039690829], [43.88355724397708, 34.209240903769086], [43.88301458174813, 34.20923596287333]]]}, 'id': '+9714+1414', 'properties': {'count': 15, 'file_name': 'tile_43883015_34208965_43883561_34209241', 'label': 1942000282}}, {'type': 'Feature', 'geometry': {'geodesic': False, 'type': 'Polygon', 'coordinates': [[[43.88301815087153, 34.20896545606643], [43.883024099317716, 34.208514611352335], [43.883566756920345, 34.208519552122326], [43.88356081137572, 34.20897039690829], [43.88301815087153, 34.20896545606643]]]}, 'id': '+9714+1419', 'properties': {'count': 25, 'file_name': 'tile_43883018_34208515_43883567_34208970', 'label': 1942000283}}, {'type': 'Feature', 'geometry': {'geodesic': False, 'type': 'Polygon', 'coordinates': [[[43.883024099317716, 34.208514611352335], [43.88303004762017, 34.20806376661129], [43.88357270233921, 34.20806870729145], [43.883566756920345, 34.208519552122326], [43.883024099317716, 34.208514611352335]]]}, 'id': '+9714+1424', 'properties': {'count': 25, 'file_name': 'tile_43883024_34208064_43883573_34208520', 'label': 1942000284}}, {'type': 'Feature', 'geometry': {'geodesic': False, 'type': 'Polygon', 'coordinates': [[[43.88303004762017, 34.20806376661129], [43.88303599579685, 34.20761292183431], [43.8835786476323, 34.20761786243362], [43.88357270233921, 34.20806870729145], [43.88303004762017, 34.20806376661129]]]}, 'id': '+9714+1429', 'properties': {'count': 25, 'file_name': 'tile_43883030_34207613_43883579_34208069', 'label': 1942000285}}, {'type': 'Feature', 'geometry': {'geodesic': False, 'type': 'Polygon', 'coordinates': [[[43.88303599579685, 34.20761292183431], [43.88304194383879, 34.2071620770214], [43.883584592781666, 34.20716701753987], [43.8835786476323, 34.20761786243362], [43.88303599579685, 34.20761292183431]]]}, 'id': '+9714+1434', 'properties': {'count': 25, 'file_name': 'tile_43883036_34207162_43883585_34207618', 'label': 1942000286}}, {'type': 'Feature', 'geometry': {'geodesic': False, 'type': 'Polygon', 'coordinates': [[[43.88304194383879, 34.2071620770214], [43.88304789175497, 34.20671123218154], [43.88359053780527, 34.20671617261017], [43.883584592781666, 34.20716701753987], [43.88304194383879, 34.2071620770214]]]}, 'id': '+9714+1439', 'properties': {'count': 25, 'file_name': 'tile_43883042_34206711_43883591_34207167', 'label': 1942000287}}, {'type': 'Feature', 'geometry': {'geodesic': False, 'type': 'Polygon', 'coordinates': [[[43.88304789175497, 34.20671123218154], [43.88305383952741, 34.206260387296766], [43.883596482703105, 34.20626532764455], [43.88359053780527, 34.20671617261017], [43.88304789175497, 34.20671123218154]]]}, 'id': '+9714+1444', 'properties': {'count': 25, 'file_name': 'tile_43883048_34206260_43883596_34206716', 'label': 1942000288}}, {'type': 'Feature', 'geometry': {'geodesic': False, 'type': 'Polygon', 'coordinates': [[[43.88305383952741, 34.206260387296766], [43.8830597871741, 34.20580954238504], [43.883602427457205, 34.205814482651974], [43.883596482703105, 34.20626532764455], [43.88305383952741, 34.206260387296766]]]}, 'id': '+9714+1449', 'properties': {'count': 25, 'file_name': 'tile_43883054_34205810_43883602_34206265', 'label': 1942000289}}, {'type': 'Feature', 'geometry': {'geodesic': False, 'type': 'Polygon', 'coordinates': [[[43.8830597871741, 34.20580954238504], [43.883065734695016, 34.205358697437376], [43.883608372085554, 34.20536363761449], [43.883602427457205, 34.205814482651974], [43.8830597871741, 34.20580954238504]]]}, 'id': '+9714+1454', 'properties': {'count': 25, 'file_name': 'tile_43883060_34205359_43883608_34205814', 'label': 1942000290}}, {'type': 'Feature', 'geometry': {'geodesic': False, 'type': 'Polygon', 'coordinates': [[[43.883065734695016, 34.205358697437376], [43.8830716820722, 34.204907852453786], [43.88361431657915, 34.20491279255005], [43.883608372085554, 34.20536363761449], [43.883065734695016, 34.205358697437376]]]}, 'id': '+9714+1459', 'properties': {'count': 25, 'file_name': 'tile_43883066_34204908_43883614_34205364', 'label': 1942000291}}, {'type': 'Feature', 'geometry': {'geodesic': False, 'type': 'Polygon', 'coordinates': [[[43.8830716820722, 34.204907852453786], [43.88307762932362, 34.204457007443246], [43.883620260937995, 34.20446194745866], [43.88361431657915, 34.20491279255005], [43.8830716820722, 34.204907852453786]]]}, 'id': '+9714+1464', 'properties': {'count': 25, 'file_name': 'tile_43883072_34204457_43883620_34204913', 'label': 1942000292}}, {'type': 'Feature', 'geometry': {'geodesic': False, 'type': 'Polygon', 'coordinates': [[[43.88307762932362, 34.204457007443246], [43.8830835764403, 34.20400616238779], [43.883626205171076, 34.204011102322355], [43.883620260937995, 34.20446194745866], [43.88307762932362, 34.204457007443246]]]}, 'id': '+9714+1469', 'properties': {'count': 25, 'file_name': 'tile_43883078_34204006_43883626_34204462', 'label': 1942000293}}, {'type': 'Feature', 'geometry': {'geodesic': False, 'type': 'Polygon', 'coordinates': [[[43.8830835764403, 34.20400616238779], [43.88308952343121, 34.20355531730539], [43.88363214926941, 34.203560257150116], [43.883626205171076, 34.204011102322355], [43.8830835764403, 34.20400616238779]]]}, 'id': '+9714+1474', 'properties': {'count': 25, 'file_name': 'tile_43883084_34203555_43883632_34204011', 'label': 1942000294}}, {'type': 'Feature', 'geometry': {'geodesic': False, 'type': 'Polygon', 'coordinates': [[[43.88308952343121, 34.20355531730539], [43.88309547027839, 34.20310447218705], [43.883638093233, 34.20310941195093], [43.88363214926941, 34.203560257150116], [43.88308952343121, 34.20355531730539]]]}, 'id': '+9714+1479', 'properties': {'count': 25, 'file_name': 'tile_43883090_34203104_43883638_34203560', 'label': 1942000295}}, {'type': 'Feature', 'geometry': {'geodesic': False, 'type': 'Polygon', 'coordinates': [[[43.88309547027839, 34.20310447218705], [43.88310141699981, 34.20265362703278], [43.88364403707082, 34.20265856671581], [43.883638093233, 34.20310941195093], [43.88309547027839, 34.20310447218705]]]}, 'id': '+9714+1484', 'properties': {'count': 25, 'file_name': 'tile_43883095_34202654_43883644_34203109', 'label': 1942000296}}, {'type': 'Feature', 'geometry': {'geodesic': False, 'type': 'Polygon', 'coordinates': [[[43.88310141699981, 34.20265362703278], [43.88310260633331, 34.20256345799833], [43.88364522582042, 34.2025683976634], [43.88364403707082, 34.20265856671581], [43.88310141699981, 34.20265362703278]]]}, 'id': '+9714+1485', 'properties': {'count': 5, 'file_name': 'tile_43883101_34202563_43883645_34202659', 'label': 1942000297}}, {'type': 'Feature', 'geometry': {'geodesic': False, 'type': 'Polygon', 'coordinates': [[[43.88355724397708, 34.209240903769086], [43.88356081137572, 34.20897039690829], [43.88410347200568, 34.208975335351646], [43.884099906340786, 34.20924584226634], [43.88355724397708, 34.209240903769086]]]}, 'id': '+9719+1414', 'properties': {'count': 15, 'file_name': 'tile_43883557_34208970_43884103_34209246', 'label': 1943000282}}, {'type': 'Feature', 'geometry': {'geodesic': False, 'type': 'Polygon', 'coordinates': [[[43.88356081137572, 34.20897039690829], [43.883566756920345, 34.208519552122326], [43.8841094146667, 34.20852449048484], [43.88410347200568, 34.208975335351646], [43.88356081137572, 34.20897039690829]]]}, 'id': '+9719+1419', 'properties': {'count': 25, 'file_name': 'tile_43883561_34208520_43884109_34208975', 'label': 1943000283}}, {'type': 'Feature', 'geometry': {'geodesic': False, 'type': 'Polygon', 'coordinates': [[[43.883566756920345, 34.208519552122326], [43.88357270233921, 34.20806870729145], [43.88411535719299, 34.208073645573116], [43.8841094146667, 34.20852449048484], [43.883566756920345, 34.208519552122326]]]}, 'id': '+9719+1424', 'properties': {'count': 25, 'file_name': 'tile_43883567_34208069_43884115_34208524', 'label': 1943000284}}, {'type': 'Feature', 'geometry': {'geodesic': False, 'type': 'Polygon', 'coordinates': [[[43.88357270233921, 34.20806870729145], [43.8835786476323, 34.20761786243362], [43.88412129959351, 34.20762280062546], [43.88411535719299, 34.208073645573116], [43.88357270233921, 34.20806870729145]]]}, 'id': '+9719+1429', 'properties': {'count': 25, 'file_name': 'tile_43883573_34207618_43884121_34208074', 'label': 1943000285}}, {'type': 'Feature', 'geometry': {'geodesic': False, 'type': 'Polygon', 'coordinates': [[[43.8835786476323, 34.20761786243362], [43.883584592781666, 34.20716701753987], [43.88412724185928, 34.20717195565085], [43.88412129959351, 34.20762280062546], [43.8835786476323, 34.20761786243362]]]}, 'id': '+9719+1434', 'properties': {'count': 25, 'file_name': 'tile_43883579_34207167_43884127_34207623', 'label': 1943000286}}, {'type': 'Feature', 'geometry': {'geodesic': False, 'type': 'Polygon', 'coordinates': [[[43.883584592781666, 34.20716701753987], [43.88359053780527, 34.20671617261017], [43.884133183999296, 34.20672111064031], [43.88412724185928, 34.20717195565085], [43.883584592781666, 34.20716701753987]]]}, 'id': '+9719+1439', 'properties': {'count': 25, 'file_name': 'tile_43883585_34206716_43884133_34207172', 'label': 1943000287}}, {'type': 'Feature', 'geometry': {'geodesic': False, 'type': 'Polygon', 'coordinates': [[[43.88359053780527, 34.20671617261017], [43.883596482703105, 34.20626532764455], [43.884139126004555, 34.20627026559384], [43.884133183999296, 34.20672111064031], [43.88359053780527, 34.20671617261017]]]}, 'id': '+9719+1444', 'properties': {'count': 25, 'file_name': 'tile_43883591_34206265_43884139_34206721', 'label': 1943000288}}, {'type': 'Feature', 'geometry': {'geodesic': False, 'type': 'Polygon', 'coordinates': [[[43.883596482703105, 34.20626532764455], [43.883602427457205, 34.205814482651974], [43.88414506787507, 34.20581942051143], [43.884139126004555, 34.20627026559384], [43.883596482703105, 34.20626532764455]]]}, 'id': '+9719+1449', 'properties': {'count': 25, 'file_name': 'tile_43883596_34205814_43884145_34206270', 'label': 1943000289}}, {'type': 'Feature', 'geometry': {'geodesic': False, 'type': 'Polygon', 'coordinates': [[[43.883602427457205, 34.205814482651974], [43.883608372085554, 34.20536363761449], [43.88415100961083, 34.205368575402076], [43.88414506787507, 34.20581942051143], [43.883602427457205, 34.205814482651974]]]}, 'id': '+9719+1454', 'properties': {'count': 25, 'file_name': 'tile_43883602_34205364_43884151_34205819', 'label': 1943000290}}, {'type': 'Feature', 'geometry': {'geodesic': False, 'type': 'Polygon', 'coordinates': [[[43.883608372085554, 34.20536363761449], [43.88361431657915, 34.20491279255005], [43.88415695121186, 34.20491773024781], [43.88415100961083, 34.205368575402076], [43.883608372085554, 34.20536363761449]]]}, 'id': '+9719+1459', 'properties': {'count': 25, 'file_name': 'tile_43883608_34204913_43884157_34205369', 'label': 1943000291}}, {'type': 'Feature', 'geometry': {'geodesic': False, 'type': 'Polygon', 'coordinates': [[[43.88361431657915, 34.20491279255005], [43.883620260937995, 34.20446194745866], [43.88416289268711, 34.20446688506659], [43.88415695121186, 34.20491773024781], [43.88361431657915, 34.20491279255005]]]}, 'id': '+9719+1464', 'properties': {'count': 25, 'file_name': 'tile_43883614_34204462_43884163_34204918', 'label': 1943000292}}, {'type': 'Feature', 'geometry': {'geodesic': False, 'type': 'Polygon', 'coordinates': [[[43.883620260937995, 34.20446194745866], [43.883626205171076, 34.204011102322355], [43.8841688340366, 34.204016039849435], [43.88416289268711, 34.20446688506659], [43.883620260937995, 34.20446194745866]]]}, 'id': '+9719+1469', 'properties': {'count': 25, 'file_name': 'tile_43883620_34204011_43884169_34204467', 'label': 1943000293}}, {'type': 'Feature', 'geometry': {'geodesic': False, 'type': 'Polygon', 'coordinates': [[[43.883626205171076, 34.204011102322355], [43.88363214926941, 34.203560257150116], [43.884174775242364, 34.20356519460533], [43.8841688340366, 34.204016039849435], [43.883626205171076, 34.204011102322355]]]}, 'id': '+9719+1474', 'properties': {'count': 25, 'file_name': 'tile_43883626_34203560_43884175_34204016', 'label': 1943000294}}, {'type': 'Feature', 'geometry': {'geodesic': False, 'type': 'Polygon', 'coordinates': [[[43.88363214926941, 34.203560257150116], [43.883638093233, 34.20310941195093], [43.88418071632236, 34.203114349316316], [43.884174775242364, 34.20356519460533], [43.88363214926941, 34.203560257150116]]]}, 'id': '+9719+1479', 'properties': {'count': 25, 'file_name': 'tile_43883632_34203109_43884181_34203565', 'label': 1943000295}}, {'type': 'Feature', 'geometry': {'geodesic': False, 'type': 'Polygon', 'coordinates': [[[43.883638093233, 34.20310941195093], [43.88364403707082, 34.20265856671581], [43.88418665726761, 34.20266350400035], [43.88418071632236, 34.203114349316316], [43.883638093233, 34.20310941195093]]]}, 'id': '+9719+1484', 'properties': {'count': 25, 'file_name': 'tile_43883638_34202659_43884187_34203114', 'label': 1943000296}}, {'type': 'Feature', 'geometry': {'geodesic': False, 'type': 'Polygon', 'coordinates': [[[43.88364403707082, 34.20265856671581], [43.88364522582042, 34.2025683976634], [43.884187845442284, 34.202573334929966], [43.88418665726761, 34.20266350400035], [43.88364403707082, 34.20265856671581]]]}, 'id': '+9719+1485', 'properties': {'count': 5, 'file_name': 'tile_43883644_34202568_43884188_34202664', 'label': 1943000297}}, {'type': 'Feature', 'geometry': {'geodesic': False, 'type': 'Polygon', 'coordinates': [[[43.884099906340786, 34.20924584226634], [43.88410347200568, 34.208975335351646], [43.88464613277038, 34.208980271396506], [43.88464256883923, 34.209250778356115], [43.884099906340786, 34.20924584226634]]]}, 'id': '+9724+1414', 'properties': {'count': 15, 'file_name': 'tile_43884100_34208975_43884646_34209251', 'label': 1944000282}}, {'type': 'Feature', 'geometry': {'geodesic': False, 'type': 'Polygon', 'coordinates': [[[43.88410347200568, 34.208975335351646], [43.8841094146667, 34.20852449048484], [43.884652072538834, 34.20852942643986], [43.88464613277038, 34.208980271396506], [43.88410347200568, 34.208975335351646]]]}, 'id': '+9724+1419', 'properties': {'count': 25, 'file_name': 'tile_43884103_34208524_43884652_34208980', 'label': 1944000283}}, {'type': 'Feature', 'geometry': {'geodesic': False, 'type': 'Polygon', 'coordinates': [[[43.8841094146667, 34.20852449048484], [43.88411535719299, 34.208073645573116], [43.884658012181525, 34.20807858144729], [43.884652072538834, 34.20852942643986], [43.8841094146667, 34.20852449048484]]]}, 'id': '+9724+1424', 'properties': {'count': 25, 'file_name': 'tile_43884109_34208074_43884658_34208529', 'label': 1944000284}}, {'type': 'Feature', 'geometry': {'geodesic': False, 'type': 'Polygon', 'coordinates': [[[43.88411535719299, 34.208073645573116], [43.88412129959351, 34.20762280062546], [43.88466395168947, 34.20762773642777], [43.884658012181525, 34.20807858144729], [43.88411535719299, 34.208073645573116]]]}, 'id': '+9724+1429', 'properties': {'count': 25, 'file_name': 'tile_43884115_34207623_43884664_34208079', 'label': 1944000285}}, {'type': 'Feature', 'geometry': {'geodesic': False, 'type': 'Polygon', 'coordinates': [[[43.88412129959351, 34.20762280062546], [43.88412724185928, 34.20717195565085], [43.88466989107165, 34.207176891363325], [43.88466395168947, 34.20762773642777], [43.88412129959351, 34.20762280062546]]]}, 'id': '+9724+1434', 'properties': {'count': 25, 'file_name': 'tile_43884121_34207172_43884670_34207628', 'label': 1944000286}}, {'type': 'Feature', 'geometry': {'geodesic': False, 'type': 'Polygon', 'coordinates': [[[43.88412724185928, 34.20717195565085], [43.884133183999296, 34.20672111064031], [43.88467583031908, 34.20672604627194], [43.88466989107165, 34.207176891363325], [43.88412724185928, 34.20717195565085]]]}, 'id': '+9724+1439', 'properties': {'count': 25, 'file_name': 'tile_43884127_34206721_43884676_34207177', 'label': 1944000287}}, {'type': 'Feature', 'geometry': {'geodesic': False, 'type': 'Polygon', 'coordinates': [[[43.884133183999296, 34.20672111064031], [43.884139126004555, 34.20627026559384], [43.88468176943177, 34.20627520113563], [43.88467583031908, 34.20672604627194], [43.884133183999296, 34.20672111064031]]]}, 'id': '+9724+1444', 'properties': {'count': 25, 'file_name': 'tile_43884133_34206270_43884682_34206726', 'label': 1944000288}}, {'type': 'Feature', 'geometry': {'geodesic': False, 'type': 'Polygon', 'coordinates': [[[43.884139126004555, 34.20627026559384], [43.88414506787507, 34.20581942051143], [43.884687708418696, 34.20582435597238], [43.88468176943177, 34.20627520113563], [43.884139126004555, 34.20627026559384]]]}, 'id': '+9724+1449', 'properties': {'count': 25, 'file_name': 'tile_43884139_34205819_43884688_34206275', 'label': 1944000289}}, {'type': 'Feature', 'geometry': {'geodesic': False, 'type': 'Polygon', 'coordinates': [[[43.88414506787507, 34.20581942051143], [43.88415100961083, 34.205368575402076], [43.884693647270865, 34.20537351078218], [43.884687708418696, 34.20582435597238], [43.88414506787507, 34.20581942051143]]]}, 'id': '+9724+1454', 'properties': {'count': 25, 'file_name': 'tile_43884145_34205369_43884694_34205824', 'label': 1944000290}}, {'type': 'Feature', 'geometry': {'geodesic': False, 'type': 'Polygon', 'coordinates': [[[43.88415100961083, 34.205368575402076], [43.88415695121186, 34.20491773024781], [43.884699585988294, 34.20492266554706], [43.884693647270865, 34.20537351078218], [43.88415100961083, 34.205368575402076]]]}, 'id': '+9724+1459', 'properties': {'count': 25, 'file_name': 'tile_43884151_34204918_43884700_34205374', 'label': 1944000291}}, {'type': 'Feature', 'geometry': {'geodesic': False, 'type': 'Polygon', 'coordinates': [[[43.88415695121186, 34.20491773024781], [43.88416289268711, 34.20446688506659], [43.884705524570975, 34.204471820284994], [43.884699585988294, 34.20492266554706], [43.88415695121186, 34.20491773024781]]]}, 'id': '+9724+1464', 'properties': {'count': 25, 'file_name': 'tile_43884157_34204467_43884706_34204923', 'label': 1944000292}}, {'type': 'Feature', 'geometry': {'geodesic': False, 'type': 'Polygon', 'coordinates': [[[43.88416289268711, 34.20446688506659], [43.8841688340366, 34.204016039849435], [43.88471146302789, 34.20402097498699], [43.884705524570975, 34.204471820284994], [43.88416289268711, 34.20446688506659]]]}, 'id': '+9724+1469', 'properties': {'count': 25, 'file_name': 'tile_43884163_34204016_43884711_34204472', 'label': 1944000293}}, {'type': 'Feature', 'geometry': {'geodesic': False, 'type': 'Polygon', 'coordinates': [[[43.8841688340366, 34.204016039849435], [43.884174775242364, 34.20356519460533], [43.88471740135006, 34.20357012965306], [43.88471146302789, 34.20402097498699], [43.8841688340366, 34.204016039849435]]]}, 'id': '+9724+1474', 'properties': {'count': 25, 'file_name': 'tile_43884169_34203565_43884717_34204021', 'label': 1944000294}}, {'type': 'Feature', 'geometry': {'geodesic': False, 'type': 'Polygon', 'coordinates': [[[43.884174775242364, 34.20356519460533], [43.88418071632236, 34.203114349316316], [43.88472333953748, 34.20311928428319], [43.88471740135006, 34.20357012965306], [43.884174775242364, 34.20356519460533]]]}, 'id': '+9724+1479', 'properties': {'count': 25, 'file_name': 'tile_43884175_34203114_43884723_34203570', 'label': 1944000295}}, {'type': 'Feature', 'geometry': {'geodesic': False, 'type': 'Polygon', 'coordinates': [[[43.88418071632236, 34.203114349316316], [43.88418665726761, 34.20266350400035], [43.88472927759914, 34.20266843887739], [43.88472333953748, 34.20311928428319], [43.88418071632236, 34.203114349316316]]]}, 'id': '+9724+1484', 'properties': {'count': 25, 'file_name': 'tile_43884181_34202664_43884729_34203119', 'label': 1944000296}}, {'type': 'Feature', 'geometry': {'geodesic': False, 'type': 'Polygon', 'coordinates': [[[43.88418665726761, 34.20266350400035], [43.884187845442284, 34.202573334929966], [43.88473046519889, 34.20257826979803], [43.88472927759914, 34.20266843887739], [43.88418665726761, 34.20266350400035]]]}, 'id': '+9724+1485', 'properties': {'count': 5, 'file_name': 'tile_43884187_34202573_43884730_34202668', 'label': 1944000297}}, {'type': 'Feature', 'geometry': {'geodesic': False, 'type': 'Polygon', 'coordinates': [[[43.88464256883923, 34.209250778356115], [43.88464613277038, 34.208980271396506], [43.8847546649323, 34.20898125832161], [43.8847511013515, 34.209251765290205], [43.88464256883923, 34.209250778356115]]]}, 'id': '+9725+1414', 'properties': {'count': 3, 'file_name': 'tile_43884643_34208980_43884755_34209252', 'label': 1945000282}}, {'type': 'Feature', 'geometry': {'geodesic': False, 'type': 'Polygon', 'coordinates': [[[43.88464613277038, 34.208980271396506], [43.884652072538834, 34.20852942643986], [43.88476060413482, 34.208530413347], [43.8847546649323, 34.20898125832161], [43.88464613277038, 34.208980271396506]]]}, 'id': '+9725+1419', 'properties': {'count': 5, 'file_name': 'tile_43884646_34208529_43884761_34208981', 'label': 1945000283}}, {'type': 'Feature', 'geometry': {'geodesic': False, 'type': 'Polygon', 'coordinates': [[[43.884652072538834, 34.20852942643986], [43.884658012181525, 34.20807858144729], [43.88476654319361, 34.20807956833646], [43.88476060413482, 34.208530413347], [43.884652072538834, 34.20852942643986]]]}, 'id': '+9725+1424', 'properties': {'count': 5, 'file_name': 'tile_43884652_34208079_43884767_34208530', 'label': 1945000284}}, {'type': 'Feature', 'geometry': {'geodesic': False, 'type': 'Polygon', 'coordinates': [[[43.884658012181525, 34.20807858144729], [43.88466395168947, 34.20762773642777], [43.88477248212663, 34.207628723298974], [43.88476654319361, 34.20807956833646], [43.884658012181525, 34.20807858144729]]]}, 'id': '+9725+1429', 'properties': {'count': 5, 'file_name': 'tile_43884658_34207628_43884772_34208080', 'label': 1945000285}}, {'type': 'Feature', 'geometry': {'geodesic': False, 'type': 'Polygon', 'coordinates': [[[43.88466395168947, 34.20762773642777], [43.88466989107165, 34.207176891363325], [43.884778420933884, 34.20717787821657], [43.88477248212663, 34.207628723298974], [43.88466395168947, 34.20762773642777]]]}, 'id': '+9725+1434', 'properties': {'count': 5, 'file_name': 'tile_43884664_34207177_43884778_34207629', 'label': 1945000286}}, {'type': 'Feature', 'geometry': {'geodesic': False, 'type': 'Polygon', 'coordinates': [[[43.88466989107165, 34.207176891363325], [43.88467583031908, 34.20672604627194], [43.88478435959742, 34.206727033107214], [43.884778420933884, 34.20717787821657], [43.88466989107165, 34.207176891363325]]]}, 'id': '+9725+1439', 'properties': {'count': 5, 'file_name': 'tile_43884670_34206726_43884784_34207178', 'label': 1945000287}}, {'type': 'Feature', 'geometry': {'geodesic': False, 'type': 'Polygon', 'coordinates': [[[43.88467583031908, 34.20672604627194], [43.88468176943177, 34.20627520113563], [43.88479029813518, 34.206276187961926], [43.88478435959742, 34.206727033107214], [43.88467583031908, 34.20672604627194]]]}, 'id': '+9725+1444', 'properties': {'count': 5, 'file_name': 'tile_43884676_34206275_43884790_34206727', 'label': 1945000288}}, {'type': 'Feature', 'geometry': {'geodesic': False, 'type': 'Polygon', 'coordinates': [[[43.88468176943177, 34.20627520113563], [43.884687708418696, 34.20582435597238], [43.8847962365382, 34.205825342780706], [43.88479029813518, 34.206276187961926], [43.88468176943177, 34.20627520113563]]]}, 'id': '+9725+1449', 'properties': {'count': 5, 'file_name': 'tile_43884682_34205824_43884796_34206276', 'label': 1945000289}}, {'type': 'Feature', 'geometry': {'geodesic': False, 'type': 'Polygon', 'coordinates': [[[43.884687708418696, 34.20582435597238], [43.884693647270865, 34.20537351078218], [43.88480217481545, 34.205374497563554], [43.8847962365382, 34.205825342780706], [43.884687708418696, 34.20582435597238]]]}, 'id': '+9725+1454', 'properties': {'count': 5, 'file_name': 'tile_43884688_34205374_43884802_34205825', 'label': 1945000290}}, {'type': 'Feature', 'geometry': {'geodesic': False, 'type': 'Polygon', 'coordinates': [[[43.884693647270865, 34.20537351078218], [43.884699585988294, 34.20492266554706], [43.884808112957955, 34.20492365231945], [43.88480217481545, 34.205374497563554], [43.884693647270865, 34.20537351078218]]]}, 'id': '+9725+1459', 'properties': {'count': 5, 'file_name': 'tile_43884694_34204923_43884808_34205374', 'label': 1945000291}}, {'type': 'Feature', 'geometry': {'geodesic': False, 'type': 'Polygon', 'coordinates': [[[43.884699585988294, 34.20492266554706], [43.884705524570975, 34.204471820284994], [43.884814050965716, 34.204472807039416], [43.884808112957955, 34.20492365231945], [43.884699585988294, 34.20492266554706]]]}, 'id': '+9725+1464', 'properties': {'count': 5, 'file_name': 'tile_43884700_34204472_43884814_34204924', 'label': 1945000292}}, {'type': 'Feature', 'geometry': {'geodesic': False, 'type': 'Polygon', 'coordinates': [[[43.884705524570975, 34.204471820284994], [43.88471146302789, 34.20402097498699], [43.88481998883873, 34.20402196172345], [43.884814050965716, 34.204472807039416], [43.884705524570975, 34.204471820284994]]]}, 'id': '+9725+1469', 'properties': {'count': 5, 'file_name': 'tile_43884706_34204021_43884820_34204473', 'label': 1945000293}}, {'type': 'Feature', 'geometry': {'geodesic': False, 'type': 'Polygon', 'coordinates': [[[43.88471146302789, 34.20402097498699], [43.88471740135006, 34.20357012965306], [43.884825926585975, 34.20357111637155], [43.88481998883873, 34.20402196172345], [43.88471146302789, 34.20402097498699]]]}, 'id': '+9725+1474', 'properties': {'count': 5, 'file_name': 'tile_43884711_34203570_43884826_34204022', 'label': 1945000294}}, {'type': 'Feature', 'geometry': {'geodesic': False, 'type': 'Polygon', 'coordinates': [[[43.88471740135006, 34.20357012965306], [43.88472333953748, 34.20311928428319], [43.884831864198475, 34.20312027098372], [43.884825926585975, 34.20357111637155], [43.88471740135006, 34.20357012965306]]]}, 'id': '+9725+1479', 'properties': {'count': 5, 'file_name': 'tile_43884717_34203119_43884832_34203571', 'label': 1945000295}}, {'type': 'Feature', 'geometry': {'geodesic': False, 'type': 'Polygon', 'coordinates': [[[43.88472333953748, 34.20311928428319], [43.88472927759914, 34.20266843887739], [43.88483780167623, 34.202669425568935], [43.884831864198475, 34.20312027098372], [43.88472333953748, 34.20311928428319]]]}, 'id': '+9725+1484', 'properties': {'count': 5, 'file_name': 'tile_43884723_34202668_43884838_34203120', 'label': 1945000296}}, {'type': 'Feature', 'geometry': {'geodesic': False, 'type': 'Polygon', 'coordinates': [[[43.88472927759914, 34.20266843887739], [43.88473046519889, 34.20257826979803], [43.8848389891592, 34.20257925648059], [43.88483780167623, 34.202669425568935], [43.88472927759914, 34.20266843887739]]]}, 'id': '+9725+1485', 'properties': {'count': 1, 'file_name': 'tile_43884729_34202578_43884839_34202669', 'label': 1945000297}}]}\n"
     ]
    }
   ],
   "source": [
    "print(tiles[0].getInfo())"
   ]
  },
  {
   "cell_type": "code",
   "execution_count": null,
   "metadata": {},
   "outputs": [
    {
     "data": {
      "text/html": [
       "\n",
       "            <style>\n",
       "                .geemap-dark {\n",
       "                    --jp-widgets-color: white;\n",
       "                    --jp-widgets-label-color: white;\n",
       "                    --jp-ui-font-color1: white;\n",
       "                    --jp-layout-color2: #454545;\n",
       "                    background-color: #383838;\n",
       "                }\n",
       "\n",
       "                .geemap-dark .jupyter-button {\n",
       "                    --jp-layout-color3: #383838;\n",
       "                }\n",
       "\n",
       "                .geemap-colab {\n",
       "                    background-color: var(--colab-primary-surface-color, white);\n",
       "                }\n",
       "\n",
       "                .geemap-colab .jupyter-button {\n",
       "                    --jp-layout-color3: var(--colab-primary-surface-color, white);\n",
       "                }\n",
       "            </style>\n",
       "            "
      ],
      "text/plain": [
       "<IPython.core.display.HTML object>"
      ]
     },
     "metadata": {},
     "output_type": "display_data"
    }
   ],
   "source": [
    "# COPERNICUS/S2_HARMONIZED     \n",
    "# COPERNICUS/S2\n",
    "# etc"
   ]
  },
  {
   "cell_type": "code",
   "execution_count": null,
   "metadata": {},
   "outputs": [
    {
     "data": {
      "text/html": [
       "\n",
       "            <style>\n",
       "                .geemap-dark {\n",
       "                    --jp-widgets-color: white;\n",
       "                    --jp-widgets-label-color: white;\n",
       "                    --jp-ui-font-color1: white;\n",
       "                    --jp-layout-color2: #454545;\n",
       "                    background-color: #383838;\n",
       "                }\n",
       "\n",
       "                .geemap-dark .jupyter-button {\n",
       "                    --jp-layout-color3: #383838;\n",
       "                }\n",
       "\n",
       "                .geemap-colab {\n",
       "                    background-color: var(--colab-primary-surface-color, white);\n",
       "                }\n",
       "\n",
       "                .geemap-colab .jupyter-button {\n",
       "                    --jp-layout-color3: var(--colab-primary-surface-color, white);\n",
       "                }\n",
       "            </style>\n",
       "            "
      ],
      "text/plain": [
       "<IPython.core.display.HTML object>"
      ]
     },
     "metadata": {},
     "output_type": "display_data"
    }
   ],
   "source": [
    "# TODO: combine so that I can use tiled system to render quicker as rendering a full country is painfully slow \n",
    "\n",
    "# add Iraq full country \n",
    "lisb =  ee.FeatureCollection('USDOS/LSIB_SIMPLE/2017')\n",
    "# print(lisb.first().getInfo()['properties'])\n",
    "iraq = lisb.filter(ee.Filter.eq('country_co', 'IZ'))\n",
    "romania = lisb.filter(ee.Filter.eq('country_co', 'RO'))\n",
    "# m.addLayer(iraq, {}, \"Iraq\") # outline Iraq\n",
    "map_polygon(romania.geometry(), \"COPERNICUS/S2_HARMONIZED\", \"Iraq S2-Haromised 2024\", \"2024-01-01\", \"2024-12-31\")"
   ]
  },
  {
   "cell_type": "markdown",
   "metadata": {},
   "source": [
    "# Useful Links \n",
    "\n",
    "[Google Earth Engine Editor](https://code.earthengine.google.com/)\n",
    "\n",
    "[GEE Tasks (Bulk cancel mode)](https://code.earthengine.google.com/tasks)"
   ]
  },
  {
   "cell_type": "code",
   "execution_count": null,
   "metadata": {},
   "outputs": [
    {
     "data": {
      "text/html": [
       "\n",
       "            <style>\n",
       "                .geemap-dark {\n",
       "                    --jp-widgets-color: white;\n",
       "                    --jp-widgets-label-color: white;\n",
       "                    --jp-ui-font-color1: white;\n",
       "                    --jp-layout-color2: #454545;\n",
       "                    background-color: #383838;\n",
       "                }\n",
       "\n",
       "                .geemap-dark .jupyter-button {\n",
       "                    --jp-layout-color3: #383838;\n",
       "                }\n",
       "\n",
       "                .geemap-colab {\n",
       "                    background-color: var(--colab-primary-surface-color, white);\n",
       "                }\n",
       "\n",
       "                .geemap-colab .jupyter-button {\n",
       "                    --jp-layout-color3: var(--colab-primary-surface-color, white);\n",
       "                }\n",
       "            </style>\n",
       "            "
      ],
      "text/plain": [
       "<IPython.core.display.HTML object>"
      ]
     },
     "metadata": {},
     "output_type": "display_data"
    },
    {
     "ename": "NameError",
     "evalue": "name 'ui' is not defined",
     "output_type": "error",
     "traceback": [
      "\u001b[1;31m---------------------------------------------------------------------------\u001b[0m",
      "\u001b[1;31mNameError\u001b[0m                                 Traceback (most recent call last)",
      "Cell \u001b[1;32mIn[13], line 8\u001b[0m\n\u001b[0;32m      5\u001b[0m \u001b[38;5;66;03m# import ipygee as ui\u001b[39;00m\n\u001b[0;32m      6\u001b[0m \u001b[38;5;28;01mimport\u001b[39;00m\u001b[38;5;250m \u001b[39m\u001b[38;5;21;01mtqdm\u001b[39;00m  \u001b[38;5;66;03m# you can avoid using this if you want\u001b[39;00m\n\u001b[1;32m----> 8\u001b[0m TM \u001b[38;5;241m=\u001b[39m \u001b[43mui\u001b[49m\u001b[38;5;241m.\u001b[39mTaskManager()\n\u001b[0;32m      9\u001b[0m TM\n\u001b[0;32m     11\u001b[0m \u001b[38;5;66;03m# Select the tasks you want to cancel, then:\u001b[39;00m\n",
      "\u001b[1;31mNameError\u001b[0m: name 'ui' is not defined"
     ]
    }
   ],
   "source": [
    "import ee\n",
    "\n",
    "ee.Initialize(project=\"jameswilliamchamberlain\")\n",
    "\n",
    "import ipygee as ui\n",
    "import tqdm  # you can avoid using this if you want\n",
    "\n",
    "TM = ui.TaskManager()\n",
    "TM\n",
    "\n",
    "# Select the tasks you want to cancel, then:\n",
    "\n",
    "for task in tqdm.tqdm(TM.selected_tasks()):\n",
    "    task.cancel()"
   ]
  }
 ],
 "metadata": {
  "kernelspec": {
   "display_name": "gee",
   "language": "python",
   "name": "python3"
  },
  "language_info": {
   "codemirror_mode": {
    "name": "ipython",
    "version": 3
   },
   "file_extension": ".py",
   "mimetype": "text/x-python",
   "name": "python",
   "nbconvert_exporter": "python",
   "pygments_lexer": "ipython3",
   "version": "3.10.17"
  }
 },
 "nbformat": 4,
 "nbformat_minor": 2
}
