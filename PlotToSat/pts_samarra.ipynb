{
 "cells": [
  {
   "cell_type": "markdown",
   "metadata": {},
   "source": [
    "# Samarra Archelogical City PlotToSat Collection Notebook 2017-2025 \n",
    "File based on `PlotToSat_test3_shp 1.ipyb`\n",
    "\n",
    "Useful Links:\n",
    "[Google Earth Engine Task Manager](https://code.earthengine.google.com/tasks)"
   ]
  },
  {
   "cell_type": "code",
   "execution_count": null,
   "metadata": {},
   "outputs": [],
   "source": [
    "import ee\n",
    "\n",
    "ee.Authenticate()\n",
    "ee.Initialize(project=\"jameswilliamchamberlain\")"
   ]
  },
  {
   "cell_type": "code",
   "execution_count": null,
   "metadata": {},
   "outputs": [],
   "source": [
    "# import all the necessary libraries\n",
    "# from authentication import authenticated# # authenticate()\n",
    "\n",
    "%run PlotToSat.ipynb"
   ]
  },
  {
   "cell_type": "code",
   "execution_count": null,
   "metadata": {},
   "outputs": [],
   "source": [
    "# Define study region\n",
    "countries = ee.FeatureCollection('USDOS/LSIB_SIMPLE/2017')\n",
    "polygon = countries.filter(ee.Filter.eq('country_na', 'Iraq'))"
   ]
  },
  {
   "cell_type": "code",
   "execution_count": null,
   "metadata": {
    "tags": [
     "parameters"
    ]
   },
   "outputs": [],
   "source": [
    "# These will be overwritten by Paper (using \"parameters\" tag on cell)\n",
    "\n",
    "# define region of interest\n",
    "shp = {\n",
    "   \"shpfilename\"        : \"projects/jameswilliamchamberlain/assets/activechunks_06/chunk_1\",\n",
    "   \"polygonKeyColumn\"   : \"file_name\" # column that ids of polygons are stored\n",
    "}\n",
    "# Specify the year of interest\n",
    "year = 2025       # 2017 to 2025 inclusive works - 2016, 2015 do not work, then further back does not exist. - comment made 12/06/2025 \n",
    "asset_index = 1   # 1 for chunk_1, 2 for chunk_2, etc. \n"
   ]
  },
  {
   "cell_type": "code",
   "execution_count": null,
   "metadata": {},
   "outputs": [],
   "source": [
    "# Create an instance of the Manager\n",
    "myPlotToSat = PlotToSat(polygon,shp,year) \n",
    "\n",
    "# Reduce number of polygons process at each GEE request because polygons tends to be bigger than plots\n",
    "myPlotToSat.setSampling(300)\n",
    "\n",
    "output_path = f\"Samarra_{year}_chunk_{asset_index}\"\n",
    "# output_path = \"recomputed_indices\"\n",
    "\n",
    "# Add Earth Observation Collections of interest\n",
    "# myPlotToSat.addCollection(\"sentinel-1\", False) \n",
    "myPlotToSat.addCollection(\"sentinel-2\", 50) # 50% cloud coverage \n",
    "\n",
    "# Select bands to be processed (only working for Sentinel-2)\n",
    "# selectedBands = ['B1', 'B2', 'B3', 'B4', 'B5', 'B6', 'B7', 'B8', 'B8A', 'B9', 'B10', 'B11', 'B12']\n",
    "# myPlotToSat.selectBands(\"sentinel-2\", selectedBands)\n",
    "#myPlotToSat.selectBands(\"sentinel-1\", ['VHAsc'])\n",
    " \n",
    "# selected indices to be processed (only working for Sentinel-2)\n",
    " \n",
    "from indices import INDEX_NAMES\n",
    "\n",
    "selectedIndices = INDEX_NAMES # ['ndvi']\n",
    "# selectedIndices = ['ireci', 'vi',]\n",
    "myPlotToSat.selectIndices(\"sentinel-2\",selectedIndices)\n",
    "\n",
    "# print all the available indices (WORK IN PROGRESS)\n",
    "#myPlotToSat.availableIndices(\"sentinel-2\")# TO DO : FIX\n",
    "# selected indices to be processed \n",
    "\n",
    "# By default the system exports both mean and std\n",
    "# Here the user can choose what to be exported\n",
    "myPlotToSat.exportStd(False)\n",
    "myPlotToSat.exportMean(True) \n",
    "\n",
    "# Definition and exportation of all outputs\n",
    "myPlotToSat.exportFeatures(output_path, \"feature_vectors_S2\")\t\n",
    "\n",
    "# Run on a specific subset of data\n",
    "# myPlotToSat.exprtFeaturesMinMax(output_path, \"feature_vectors_S2\", 300, 599)\t\n"
   ]
  }
 ],
 "metadata": {
  "kernelspec": {
   "display_name": "gee",
   "language": "python",
   "name": "python3"
  },
  "language_info": {
   "codemirror_mode": {
    "name": "ipython",
    "version": 3
   },
   "file_extension": ".py",
   "mimetype": "text/x-python",
   "name": "python",
   "nbconvert_exporter": "python",
   "pygments_lexer": "ipython3",
   "version": "3.8.20"
  },
  "orig_nbformat": 4
 },
 "nbformat": 4,
 "nbformat_minor": 2
}
